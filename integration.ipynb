{
 "cells": [
  {
   "cell_type": "code",
   "execution_count": 1,
   "id": "9ec0f3b8-5846-4375-b533-0486c52a0cd3",
   "metadata": {},
   "outputs": [],
   "source": [
    "%load_ext autoreload\n",
    "%autoreload 2"
   ]
  },
  {
   "cell_type": "code",
   "execution_count": 2,
   "id": "9ca6d344-d81d-442b-a8f9-1dce4fdecea9",
   "metadata": {},
   "outputs": [],
   "source": [
    "import matplotlib.pyplot as plt\n",
    "import numpy as np\n",
    "\n",
    "from scipy import special, stats, optimize, integrate\n",
    "\n",
    "from mpmath import *\n",
    "\n",
    "from code.python.mpmath_integration import quad_phi"
   ]
  },
  {
   "cell_type": "code",
   "execution_count": 1374,
   "id": "b804648c-8014-49a2-bdcb-d4eb52fa0660",
   "metadata": {},
   "outputs": [
    {
     "data": {
      "text/plain": [
       "(-1201, 8.660254037844386)"
      ]
     },
     "execution_count": 1374,
     "metadata": {},
     "output_type": "execute_result"
    }
   ],
   "source": [
    "alpha = 10.005\n",
    "beta = 0.0025\n",
    "mu = 0.25\n",
    "delta = 0.1\n",
    "x = -0.5\n",
    "\n",
    "x = -1200\n",
    "alpha = 1\n",
    "beta = -1/2\n",
    "mu = 1\n",
    "delta = 10\n",
    "\n",
    "gamma = np.sqrt(alpha**2 - beta**2)\n",
    "\n",
    "x -mu, gamma * delta"
   ]
  },
  {
   "cell_type": "markdown",
   "id": "e00fde74-1e5b-4c5d-93f2-4e2f959d56d0",
   "metadata": {},
   "source": [
    "#### 1. Estimate truncation N"
   ]
  },
  {
   "cell_type": "code",
   "execution_count": 1375,
   "id": "bcaf085a-be05-4d46-ab6d-9da67ee98100",
   "metadata": {},
   "outputs": [],
   "source": [
    "def truncation(alpha, beta, mu, delta, eps):\n",
    "    gamma = np.sqrt(alpha**2 - beta**2)\n",
    "    C = delta * np.exp(delta * gamma) / np.sqrt(2 * np.pi)\n",
    "    u = (gamma ** 2 * eps / (2 * C)) ** (2/3)\n",
    "    print(u)\n",
    "\n",
    "    t1 = 2 * np.log(gamma)\n",
    "    t2 = np.log(3) + 2/3 * (2 * np.log(gamma) + np.log(eps) - np.log(2) - np.log(delta / np.sqrt(2 * np.pi)) - delta * gamma)\n",
    "\n",
    "    if (t1 - t2) > 705.342:\n",
    "        return 1\n",
    "    \n",
    "    y = np.exp(t1 - t2)\n",
    "\n",
    "    # Lambert W0\n",
    "    lw = float(special.lambertw(y))\n",
    "    print(lw)\n",
    "\n",
    "    # Approximation\n",
    "    la = np.log(y) ** (np.log(y) / (1 + np.log(y)))\n",
    "    print(la)\n",
    "    \n",
    "    return int(np.ceil((3 / gamma ** 2 * lw)))"
   ]
  },
  {
   "cell_type": "code",
   "execution_count": 1376,
   "id": "05ff2309-b381-42f3-82c1-ab7d87c89062",
   "metadata": {},
   "outputs": [
    {
     "name": "stdout",
     "output_type": "stream",
     "text": [
      "1.4755102508532733e-14\n",
      "27.15917803945455\n",
      "27.326319448508762\n"
     ]
    },
    {
     "name": "stderr",
     "output_type": "stream",
     "text": [
      "/tmp/ipykernel_3680/3871865590.py:16: ComplexWarning: Casting complex values to real discards the imaginary part\n",
      "  lw = float(special.lambertw(y))\n"
     ]
    },
    {
     "data": {
      "text/plain": [
       "109"
      ]
     },
     "execution_count": 1376,
     "metadata": {},
     "output_type": "execute_result"
    }
   ],
   "source": [
    "eps = 1.1e-16\n",
    "\n",
    "N = truncation(alpha, beta, mu, delta, eps)\n",
    "N"
   ]
  },
  {
   "cell_type": "code",
   "execution_count": 1377,
   "id": "5bfefdce-a4b7-49fb-a6d5-24f7e17a0b65",
   "metadata": {},
   "outputs": [
    {
     "data": {
      "text/plain": [
       "1.701651201267684e-261"
      ]
     },
     "execution_count": 1377,
     "metadata": {},
     "output_type": "execute_result"
    }
   ],
   "source": [
    "stats.norminvgauss.cdf(x=x, a=alpha*delta, b=beta*delta, loc=mu, scale=delta)"
   ]
  },
  {
   "cell_type": "code",
   "execution_count": 1378,
   "id": "2a809978-af79-4822-80c0-a173fac9adf0",
   "metadata": {},
   "outputs": [
    {
     "data": {
      "text/plain": [
       "mpf('7.5808798835096288e-303')"
      ]
     },
     "execution_count": 1378,
     "metadata": {},
     "output_type": "execute_result"
    }
   ],
   "source": [
    "quad_phi(x, alpha, beta, mu, delta, a=mp.zero, b=inf, digits=300)"
   ]
  },
  {
   "cell_type": "code",
   "execution_count": 1380,
   "id": "d127cf8a-9128-4557-85f8-487b2b7e7b18",
   "metadata": {},
   "outputs": [
    {
     "data": {
      "text/plain": [
       "mpf('1.7016511983062506e-261')"
      ]
     },
     "execution_count": 1380,
     "metadata": {},
     "output_type": "execute_result"
    }
   ],
   "source": [
    "quad_phi(x, alpha, beta, mu, delta, a=mp.zero, b=1698, digits=300)"
   ]
  },
  {
   "cell_type": "markdown",
   "id": "7cde0c87-1e31-4b45-b09b-741f712223bb",
   "metadata": {},
   "source": [
    "#### 2. Tanh-sinh integration"
   ]
  },
  {
   "cell_type": "code",
   "execution_count": 1186,
   "id": "542992d0-e163-48d7-8776-266b46075837",
   "metadata": {},
   "outputs": [],
   "source": [
    "from tanh_sinh import integrate as tanh_sinh_integrate"
   ]
  },
  {
   "cell_type": "code",
   "execution_count": 1247,
   "id": "1ef5761b-f82e-4ab6-99bb-107d57551ca1",
   "metadata": {},
   "outputs": [],
   "source": [
    "def f(t):\n",
    "    gamma = np.sqrt(alpha**2 - beta**2)\n",
    "    integrand = special.ndtr((x-(mu + beta * t))/np.sqrt(t)) * np.exp(-delta**2/(2*t) - gamma**2/2*t) * t**(-3/2)\n",
    "    C = delta * np.exp(delta * gamma) / np.sqrt(2 * np.pi)\n",
    "\n",
    "    return C * integrand"
   ]
  },
  {
   "cell_type": "code",
   "execution_count": 1256,
   "id": "0b9a45b8-9a21-4fb5-95e2-97205575d48f",
   "metadata": {},
   "outputs": [
    {
     "name": "stdout",
     "output_type": "stream",
     "text": [
      "level: 0. j: 1\n",
      "[1.927915110348427e-12] 1\n",
      "level: 1. j: 1\n",
      "[1.927915110348427e-12, 9.639575551742141e-13] 1\n",
      "level: 2. j: 3\n",
      "[1.927915110348427e-12, 9.639575551742141e-13, 8.768039129010351e-08] 8.76803913000491e-8\n",
      "level: 3. j: 7\n",
      "[1.927915110348427e-12, 9.639575551742141e-13, 8.768039129010351e-08, 5.202795427025769e-06] 5.02879381513671e-6\n",
      "level: 4. j: 15\n",
      "[1.927915110348427e-12, 9.639575551742141e-13, 8.768039129010351e-08, 5.202795427025769e-06, 2.6779860973658194e-05] 1.73673798090864e-5\n",
      "level: 5. j: 31\n",
      "[1.927915110348427e-12, 9.639575551742141e-13, 8.768039129010351e-08, 5.202795427025769e-06, 2.6779860973658194e-05, 2.389020337563756e-05] 3.24449459230379e-7\n",
      "level: 6. j: 63\n",
      "[1.927915110348427e-12, 9.639575551742141e-13, 8.768039129010351e-08, 5.202795427025769e-06, 2.6779860973658194e-05, 2.389020337563756e-05, 2.3893025531853744e-05] 6.38838638733742e-14\n",
      "level: 7. j: 126\n",
      "[1.927915110348427e-12, 9.639575551742141e-13, 8.768039129010351e-08, 5.202795427025769e-06, 2.6779860973658194e-05, 2.389020337563756e-05, 2.3893025531853744e-05, 2.389302554298392e-05] 1.68463394476122e-23\n"
     ]
    }
   ],
   "source": [
    "val, error_estimate = tanh_sinh_integrate(f, 0, N, eps=1e-20, mode='numpy')"
   ]
  },
  {
   "cell_type": "code",
   "execution_count": 1257,
   "id": "a4eaa1d6-faa5-4ecf-a25f-e1e17081bc06",
   "metadata": {},
   "outputs": [
    {
     "data": {
      "text/plain": [
       "(2.389302554298392e-05, mpf('1.6846339447612166e-23'))"
      ]
     },
     "execution_count": 1257,
     "metadata": {},
     "output_type": "execute_result"
    }
   ],
   "source": [
    "val, error_estimate"
   ]
  },
  {
   "cell_type": "markdown",
   "id": "7e3732e6-ee86-41aa-8e4e-181f2a766524",
   "metadata": {},
   "source": [
    "##### 2.1. Order of magnitude"
   ]
  },
  {
   "cell_type": "code",
   "execution_count": 1258,
   "id": "74d17a90-e973-4c44-8878-25955eb18273",
   "metadata": {},
   "outputs": [
    {
     "data": {
      "text/plain": [
       "0.065620656206563"
      ]
     },
     "execution_count": 1258,
     "metadata": {},
     "output_type": "execute_result"
    }
   ],
   "source": [
    "xx = np.linspace(1e-15, N, 100000)\n",
    "f = special.ndtr((x-(mu + beta*xx))/np.sqrt(xx)) * np.exp(-delta**2/(2*xx) - gamma**2/2*xx) * xx**(-3/2)\n",
    "\n",
    "xx[np.argmax(f)]"
   ]
  },
  {
   "cell_type": "code",
   "execution_count": 1259,
   "id": "fecd25e6-a068-4c2e-843d-91e38452b8b1",
   "metadata": {},
   "outputs": [
    {
     "data": {
      "text/plain": [
       "(1.3307010655664757, 1.2769409395094704, -0.7525)"
      ]
     },
     "execution_count": 1259,
     "metadata": {},
     "output_type": "execute_result"
    }
   ],
   "source": [
    "t = 1\n",
    "z = (x-(mu + beta * t))/np.sqrt(t)\n",
    "stats.norm.pdf(z) / special.ndtr(z), np.sqrt(2 / np.pi) - 2 / np.pi * z, z"
   ]
  },
  {
   "cell_type": "code",
   "execution_count": 1260,
   "id": "876de0e3-4de9-4b11-a144-8cc3accce348",
   "metadata": {},
   "outputs": [
    {
     "data": {
      "text/plain": [
       "      converged: True\n",
       "           flag: converged\n",
       " function_calls: 20\n",
       "     iterations: 18\n",
       "           root: 0.0029764637184143067"
      ]
     },
     "execution_count": 1260,
     "metadata": {},
     "output_type": "execute_result"
    }
   ],
   "source": [
    "def fa(t):\n",
    "    z = (x-(mu + beta * 1))/np.sqrt(1)\n",
    "    T = np.sqrt(2 / np.pi) - 2 / np.pi * z\n",
    "    return delta ** 2 / (2*t**2) - 3/(2*t) -1/2*(alpha ** 2 + (x-mu)** 2 - 2 * beta ** 2)\n",
    "\n",
    "sol = optimize.root_scalar(fa, method='bisect', bracket=[1e-6, 20], xtol=1e-4)\n",
    "sol"
   ]
  },
  {
   "cell_type": "code",
   "execution_count": 1261,
   "id": "48ec5e06-6d1e-4920-8744-a24c37836258",
   "metadata": {},
   "outputs": [
    {
     "data": {
      "text/plain": [
       "100.10001250000002"
      ]
     },
     "execution_count": 1261,
     "metadata": {},
     "output_type": "execute_result"
    }
   ],
   "source": [
    "(alpha ** 2  - 2 * beta ** 2)"
   ]
  },
  {
   "cell_type": "code",
   "execution_count": 1194,
   "id": "54aedc22-6af2-4941-8157-e0f7367048f1",
   "metadata": {},
   "outputs": [
    {
     "data": {
      "text/plain": [
       "1.0713680533848702"
      ]
     },
     "execution_count": 1194,
     "metadata": {},
     "output_type": "execute_result"
    }
   ],
   "source": [
    "(-3/2 + np.sqrt(9/4 + (delta ** 2) * (alpha ** 2 + (x-mu)** 2 - 2 * beta ** 2))) / (alpha ** 2 + (x-mu)** 2 - 2 * beta ** 2)"
   ]
  },
  {
   "cell_type": "code",
   "execution_count": 1155,
   "id": "e10abc90-1408-4b90-8ee7-03ee8982e0d7",
   "metadata": {},
   "outputs": [
    {
     "data": {
      "text/plain": [
       "2.025910984031452"
      ]
     },
     "execution_count": 1155,
     "metadata": {},
     "output_type": "execute_result"
    }
   ],
   "source": [
    "t0 = (-3/2 + np.sqrt(9/4 + (delta**2 + (x-mu)**2) * alpha ** 2)) / alpha**2\n",
    "t0"
   ]
  },
  {
   "cell_type": "markdown",
   "id": "b9e64ef0-8166-48bd-ae11-a4db89f3b5ed",
   "metadata": {},
   "source": [
    "Simple"
   ]
  },
  {
   "cell_type": "code",
   "execution_count": 1156,
   "id": "40b9fe1c-305e-4722-8063-21c884158fb1",
   "metadata": {},
   "outputs": [
    {
     "data": {
      "text/plain": [
       "1.8163265306122447"
      ]
     },
     "execution_count": 1156,
     "metadata": {},
     "output_type": "execute_result"
    }
   ],
   "source": [
    "t0 = delta / alpha\n",
    "t0"
   ]
  },
  {
   "cell_type": "markdown",
   "id": "829b6769-282c-4bf7-b839-27537b8a96cd",
   "metadata": {},
   "source": [
    "Estimate $\\gamma$ and $\\delta$ both large, and $\\beta$ and $x-\\mu$ fixed."
   ]
  },
  {
   "cell_type": "code",
   "execution_count": 1157,
   "id": "cd7a902a-9e22-43d7-a07d-67fa8e40d93d",
   "metadata": {},
   "outputs": [
    {
     "data": {
      "text/plain": [
       "(22.05, 40.05)"
      ]
     },
     "execution_count": 1157,
     "metadata": {},
     "output_type": "execute_result"
    }
   ],
   "source": [
    "gamma, delta"
   ]
  },
  {
   "cell_type": "code",
   "execution_count": 1158,
   "id": "81248d49-7804-46fe-bdc3-0877bbddf491",
   "metadata": {},
   "outputs": [
    {
     "data": {
      "text/plain": [
       "0.3163291507486856"
      ]
     },
     "execution_count": 1158,
     "metadata": {},
     "output_type": "execute_result"
    }
   ],
   "source": [
    "t0 = -3/2 + np.sqrt(9/4 + (gamma * delta) ** 2) / gamma ** 2\n",
    "t0"
   ]
  },
  {
   "cell_type": "markdown",
   "id": "588d241d-58d8-4e19-badb-f0c40a20a30b",
   "metadata": {},
   "source": [
    "Case $x - \\mu < 0$ and $\\beta \\to 0$"
   ]
  },
  {
   "cell_type": "code",
   "execution_count": 392,
   "id": "00575433-0116-4d36-9b2f-aac691e74303",
   "metadata": {},
   "outputs": [
    {
     "data": {
      "text/plain": [
       "1.2599413388315006"
      ]
     },
     "execution_count": 392,
     "metadata": {},
     "output_type": "execute_result"
    }
   ],
   "source": [
    "omega = np.sqrt((x-mu)**2 + delta ** 2)\n",
    "t0 = -3/2 + np.sqrt(9/4 + (gamma * omega) ** 2) / gamma ** 2\n",
    "t0"
   ]
  },
  {
   "cell_type": "markdown",
   "id": "408b8697-3dec-436b-b7bb-bac0a41f4509",
   "metadata": {},
   "source": [
    "Case $x - \\mu < 0$ and $\\beta < 0$"
   ]
  },
  {
   "cell_type": "code",
   "execution_count": 393,
   "id": "339d5a29-23d6-465c-a169-b00da38079bb",
   "metadata": {},
   "outputs": [
    {
     "data": {
      "text/plain": [
       "(0.76, 0.1)"
      ]
     },
     "execution_count": 393,
     "metadata": {},
     "output_type": "execute_result"
    }
   ],
   "source": [
    "x-mu, beta"
   ]
  },
  {
   "cell_type": "code",
   "execution_count": 394,
   "id": "0da63264-63cc-44b6-818d-63aa3e65f5b9",
   "metadata": {},
   "outputs": [
    {
     "data": {
      "text/plain": [
       "0.0008507418599128869"
      ]
     },
     "execution_count": 394,
     "metadata": {},
     "output_type": "execute_result"
    }
   ],
   "source": [
    "h = (beta * (x-mu) - 3) / 2\n",
    "t0 = (h + np.sqrt(h ** 2 + (delta * omega) ** 2)) / gamma ** 2\n",
    "t0"
   ]
  },
  {
   "cell_type": "code",
   "execution_count": 1224,
   "id": "178a2fb1-22ce-47a4-a4cd-455cce6606f9",
   "metadata": {},
   "outputs": [
    {
     "name": "stdout",
     "output_type": "stream",
     "text": [
      "-23.014659826198162 -900.6789755667951 -1.230246226111574 -268.89423251033963\n"
     ]
    },
    {
     "data": {
      "text/plain": [
       "(0.0,\n",
       "       converged: True\n",
       "            flag: converged\n",
       "  function_calls: 8\n",
       "      iterations: 4\n",
       "            root: 2.270872572354801)"
      ]
     },
     "execution_count": 1224,
     "metadata": {},
     "output_type": "execute_result"
    }
   ],
   "source": [
    "def g(t):\n",
    "    z = (x-mu)/np.sqrt(t) - beta*np.sqrt(t)\n",
    "    t1 = -0.5 * (delta ** 2 / t + gamma**2*t)\n",
    "    t2 = - 3/2*np.log(t)\n",
    "    t3 = np.log(special.ndtr(z))\n",
    "    print(z, t1, t2, t3)\n",
    "    return t1 + t2 + t3\n",
    "\n",
    "def gp(t):\n",
    "    z = (x-(mu + beta * t))/np.sqrt(t)\n",
    "    return delta ** 2 / (2*t**2) - gamma**2/2 - 3/(2*t) -1/2*((x-mu)/t**(3/2) +beta/np.sqrt(t)) * stats.norm.pdf(z) / special.ndtr(z)\n",
    "\n",
    "sol = optimize.root_scalar(gp, x0=delta/alpha, xtol=1e-4)\n",
    "\n",
    "max_f = np.exp(g(sol.root))\n",
    "max_f, sol"
   ]
  },
  {
   "cell_type": "code",
   "execution_count": 1225,
   "id": "a7112e13-4871-4d2e-814a-8260d6b75244",
   "metadata": {},
   "outputs": [
    {
     "name": "stderr",
     "output_type": "stream",
     "text": [
      "/tmp/ipykernel_3680/2823831589.py:6: RuntimeWarning: invalid value encountered in scalar divide\n",
      "  B = stats.norm.pdf(z) / special.ndtr(z)\n",
      "/tmp/ipykernel_3680/4145347242.py:11: RuntimeWarning: invalid value encountered in scalar divide\n",
      "  return delta ** 2 / (2*t**2) - gamma**2/2 - 3/(2*t) -1/2*((x-mu)/t**(3/2) +beta/np.sqrt(t)) * stats.norm.pdf(z) / special.ndtr(z)\n"
     ]
    },
    {
     "data": {
      "text/plain": [
       "((nan, nan), nan, nan)"
      ]
     },
     "execution_count": 1225,
     "metadata": {},
     "output_type": "execute_result"
    }
   ],
   "source": [
    "def gp_deriv(t):\n",
    "    z = (x-(mu + beta * t))/np.sqrt(t)\n",
    "    \n",
    "    # Function\n",
    "    A = 1/2*((x-mu)/t**(3/2) +beta/np.sqrt(t))\n",
    "    B = stats.norm.pdf(z) / special.ndtr(z)\n",
    "\n",
    "    f = delta ** 2 / (2*t**2) - gamma**2/2 - 3/(2*t) -A * B\n",
    "\n",
    "    # Derivative\n",
    "    d1 = -1/2 * (beta / t ** (3/2) - 3/2 * (x - mu + beta * t)/t ** (5/2)) * B\n",
    "    d2 = -z * A ** 2 * B\n",
    "    d3 = -B ** 2 * A ** 2\n",
    "\n",
    "    deriv = -delta ** 2 / t ** 3 + 3/2/t**2 + d1 + d2 + d3\n",
    "\n",
    "    return f, deriv\n",
    "\n",
    "gp_deriv(t0), gp(t0), (gp(t0 + 1e-5) - gp(t0 - 1e-5)) / 2e-5"
   ]
  },
  {
   "cell_type": "code",
   "execution_count": 353,
   "id": "7f09843d-08e2-4d5b-9fa0-64d589304b7f",
   "metadata": {},
   "outputs": [
    {
     "data": {
      "text/plain": [
       "      converged: True\n",
       "           flag: converged\n",
       " function_calls: 6\n",
       "     iterations: 6\n",
       "           root: 1.6975440951805298"
      ]
     },
     "execution_count": 353,
     "metadata": {},
     "output_type": "execute_result"
    }
   ],
   "source": [
    "sol = optimize.root_scalar(gp_deriv, x0=t0, fprime=True, method='newton', xtol=1e-4)\n",
    "sol"
   ]
  },
  {
   "cell_type": "code",
   "execution_count": 470,
   "id": "7fd8c40e-20bc-44ac-b6a5-22b48a55f822",
   "metadata": {},
   "outputs": [
    {
     "data": {
      "text/plain": [
       "(9.016121970788827,\n",
       "       converged: True\n",
       "            flag: converged\n",
       "  function_calls: 22\n",
       "      iterations: 20\n",
       "            root: 0.08115574214839935)"
      ]
     },
     "execution_count": 470,
     "metadata": {},
     "output_type": "execute_result"
    }
   ],
   "source": [
    "sol = optimize.root_scalar(gp, x0=t0, method='bisect', bracket=[1e-6, delta * 2], xtol=1e-6)\n",
    "sol\n",
    "\n",
    "max_f = np.exp(g(sol.root))\n",
    "max_f, sol"
   ]
  },
  {
   "cell_type": "code",
   "execution_count": 355,
   "id": "45675f33-1f43-4b3a-bb58-eda68f98c303",
   "metadata": {},
   "outputs": [
    {
     "data": {
      "text/plain": [
       "2.5070682160419193"
      ]
     },
     "execution_count": 355,
     "metadata": {},
     "output_type": "execute_result"
    }
   ],
   "source": [
    "t0"
   ]
  },
  {
   "cell_type": "code",
   "execution_count": 1262,
   "id": "dea5d585-d541-4a8d-b4b9-ea9b0fe99707",
   "metadata": {},
   "outputs": [
    {
     "name": "stdout",
     "output_type": "stream",
     "text": [
      "init asymptotic 0.06211122636236991\n",
      "0 6.839792227487592 0.06533079459602976\n",
      "1 0.5178354881843035 0.06561634703053064\n",
      "2 0.0035279270111203687 0.06561831924493795\n",
      "3 1.662951092384901e-07 0.06561831933791056\n",
      "-2.9284896528165802 -3.36039573124785 4.085850545726326 -6.375325212532677\n",
      "-2.9284896528165802 -3.36039573124785 4.085850545726326 -6.375325212532677\n",
      "-5.649870398054201\n"
     ]
    },
    {
     "data": {
      "text/plain": [
       "0.0003816929549234497"
      ]
     },
     "execution_count": 1262,
     "metadata": {},
     "output_type": "execute_result"
    }
   ],
   "source": [
    "def max_contribution(tol=1e-4):\n",
    "    check_1 = (alpha / delta < 0.5) and (delta > 2)\n",
    "    check_2 = alpha ** 2 > 2 * beta ** 2 \n",
    "    check_3 = (x-mu)**2 > 1\n",
    "    \n",
    "    if check_1 or check_2 or check_3:\n",
    "        x0_type = 'asymptotic'\n",
    "        x0 = (-3/2 + np.sqrt(9/4 + (delta**2 + (x-mu)**2) * alpha ** 2)) / alpha**2\n",
    "    else:\n",
    "        x0_type = 'small'\n",
    "        x0 = (-3/2 + np.sqrt(9/4 + (delta ** 2) * (alpha ** 2 + (x-mu)** 2 - 2 * beta ** 2))) / (alpha ** 2 + (x-mu)** 2 - 2 * beta ** 2)\n",
    "    \n",
    "    print(f'init {x0_type}', x0)\n",
    "\n",
    "    maxiter = 10\n",
    "    for k in range(maxiter):\n",
    "        fx, fxp = gp_deriv(x0)\n",
    "        x0 -= fx / fxp\n",
    "\n",
    "        err = abs(fx)\n",
    "        print(k, err, x0)\n",
    "        if err < tol:\n",
    "            break\n",
    "\n",
    "    max_f = delta / np.sqrt(2 * np.pi) * np.exp(g(x0) + delta * gamma)\n",
    "    print(g(x0))\n",
    "\n",
    "    return max_f, x0\n",
    "\n",
    "max_f, root = max_contribution()\n",
    "max_f"
   ]
  },
  {
   "cell_type": "code",
   "execution_count": 1263,
   "id": "770f1bb8-4f05-4018-b932-b8927ae9d0c9",
   "metadata": {},
   "outputs": [
    {
     "data": {
      "text/plain": [
       "(0.0003816929549234497, 4.237643068932259e-20, 1.1102230246251565e-16)"
      ]
     },
     "execution_count": 1263,
     "metadata": {},
     "output_type": "execute_result"
    }
   ],
   "source": [
    "max_f, max_f / 2**53, 2**(-53)"
   ]
  },
  {
   "cell_type": "code",
   "execution_count": 1264,
   "id": "bd0a1e97-6d69-474b-9e73-50cd31b03fdd",
   "metadata": {},
   "outputs": [
    {
     "data": {
      "text/plain": [
       "1"
      ]
     },
     "execution_count": 1264,
     "metadata": {},
     "output_type": "execute_result"
    }
   ],
   "source": [
    "eps = 2**(-53)\n",
    "\n",
    "N = truncation(alpha, beta, mu, delta, eps * max_f)\n",
    "N"
   ]
  },
  {
   "cell_type": "code",
   "execution_count": 1277,
   "id": "98ef3c81-a4b1-4b62-9ffe-bf88bbd335b7",
   "metadata": {},
   "outputs": [
    {
     "name": "stdout",
     "output_type": "stream",
     "text": [
      "1.379098039382995e-09\n",
      "20.871031582258162\n",
      "21.04869830103177\n",
      "7.2566788548189506e-12\n",
      "25.902323749980006\n",
      "26.07154453783558\n"
     ]
    },
    {
     "name": "stderr",
     "output_type": "stream",
     "text": [
      "/tmp/ipykernel_3680/3871865590.py:16: ComplexWarning: Casting complex values to real discards the imaginary part\n",
      "  lw = float(special.lambertw(y))\n"
     ]
    },
    {
     "data": {
      "text/plain": [
       "(1, 1)"
      ]
     },
     "execution_count": 1277,
     "metadata": {},
     "output_type": "execute_result"
    }
   ],
   "source": [
    "truncation(alpha, beta, mu, delta, eps), truncation(alpha, beta, mu, delta, eps * max_f)"
   ]
  },
  {
   "cell_type": "code",
   "execution_count": 1136,
   "id": "d1ebf77a-e60b-4d8a-9d81-c6b76002c743",
   "metadata": {},
   "outputs": [
    {
     "name": "stderr",
     "output_type": "stream",
     "text": [
      "/tmp/ipykernel_3680/240233404.py:1: RuntimeWarning: overflow encountered in exp\n",
      "  C = delta / np.sqrt(2 * np.pi) * np.exp(delta * gamma)\n",
      "/tmp/ipykernel_3680/240233404.py:2: RuntimeWarning: invalid value encountered in multiply\n",
      "  plt.plot(xx, C * f)\n"
     ]
    },
    {
     "data": {
      "image/png": "[encoded data removed]",
      "text/plain": [
       "<Figure size 640x480 with 1 Axes>"
      ]
     },
     "metadata": {},
     "output_type": "display_data"
    }
   ],
   "source": [
    "C = delta / np.sqrt(2 * np.pi) * np.exp(delta * gamma)\n",
    "plt.plot(xx, C * f)\n",
    "plt.axvline(root, color='r')\n",
    "# plt.xlim(-0.01, 0.01)\n",
    "plt.show()"
   ]
  },
  {
   "cell_type": "code",
   "execution_count": null,
   "id": "b92d7080-11e9-4ad2-ad3c-41253876a43a",
   "metadata": {},
   "outputs": [],
   "source": [
    "from nig_integration import nig_integration"
   ]
  },
  {
   "cell_type": "code",
   "execution_count": null,
   "id": "bc0ae24d-9269-4766-9a7b-f301f7c023cf",
   "metadata": {},
   "outputs": [],
   "source": [
    "def f(t):\n",
    "    gamma = np.sqrt(alpha**2 - beta**2)\n",
    "    integrand = special.ndtr((x-mu - beta * t)/np.sqrt(t)) * np.exp(-(delta - gamma * t)**2 / 2 / t) * t**(-3/2)\n",
    "    # C = delta/ np.sqrt(2 * np.pi)\n",
    "\n",
    "    return integrand"
   ]
  },
  {
   "cell_type": "code",
   "execution_count": null,
   "id": "12c5b841-037c-4357-964e-58a27294d89f",
   "metadata": {},
   "outputs": [],
   "source": [
    "N"
   ]
  },
  {
   "cell_type": "code",
   "execution_count": null,
   "id": "34e62aa8-60c2-4e72-a4a0-4d742cef9aa8",
   "metadata": {},
   "outputs": [],
   "source": [
    "nig_integration(f, N, 1e-15, max_steps=10)"
   ]
  },
  {
   "cell_type": "code",
   "execution_count": null,
   "id": "5ee776cb-748e-4581-b100-4e589b54dd2d",
   "metadata": {},
   "outputs": [],
   "source": [
    "float(quad_phi(x, alpha, beta, mu, delta, a=mp.zero, b=N, digits=100))"
   ]
  },
  {
   "cell_type": "code",
   "execution_count": null,
   "id": "57d43243-1165-4c8e-9d9a-8e55adafc4e4",
   "metadata": {},
   "outputs": [],
   "source": [
    "eps = 1e-15\n",
    "h = 0.5\n",
    "z = -(eps ** 2) / h / 2\n",
    "np.log(-2 / np.pi * special.lambertw(z, -1).real) / h,  special.lambertw(z, -1).real"
   ]
  },
  {
   "cell_type": "code",
   "execution_count": null,
   "id": "4814d5de-dad9-4980-ac1c-bdd5a5e124d0",
   "metadata": {},
   "outputs": [],
   "source": [
    "a = 0.3205\n",
    "np.log(-z) - 2 / a * (1 - 1 / (1 + a * sqrt(-0.5*(1 + np.log(-z)))))"
   ]
  },
  {
   "cell_type": "code",
   "execution_count": null,
   "id": "45b6c83b-66c2-430b-a712-047198124c54",
   "metadata": {},
   "outputs": [],
   "source": [
    "u = -2 * np.log(eps) + np.log(2 * h) - 1\n",
    "special.lambertw(-np.exp(-u-1), -1), -1 - np.sqrt(2 * u) - 2/3*u"
   ]
  },
  {
   "cell_type": "code",
   "execution_count": null,
   "id": "4184c973-1b4e-4aba-8117-0ce2292ff6d9",
   "metadata": {},
   "outputs": [],
   "source": [
    "np.pi / 2"
   ]
  },
  {
   "cell_type": "code",
   "execution_count": null,
   "id": "6bcf4704-4ccd-4d45-bae2-47166d0e940e",
   "metadata": {},
   "outputs": [],
   "source": []
  }
 ],
 "metadata": {
  "kernelspec": {
   "display_name": "Python 3 (ipykernel)",
   "language": "python",
   "name": "python3"
  },
  "language_info": {
   "codemirror_mode": {
    "name": "ipython",
    "version": 3
   },
   "file_extension": ".py",
   "mimetype": "text/x-python",
   "name": "python",
   "nbconvert_exporter": "python",
   "pygments_lexer": "ipython3",
   "version": "3.9.12"
  }
 },
 "nbformat": 4,
 "nbformat_minor": 5
}
