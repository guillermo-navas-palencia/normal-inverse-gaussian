{
 "cells": [
  {
   "cell_type": "code",
   "execution_count": 1,
   "id": "28664e07-055c-418d-974d-3fbfa6bb322c",
   "metadata": {},
   "outputs": [],
   "source": [
    "import mpmath as mp\n",
    "import numpy as np\n",
    "\n",
    "from scipy import special"
   ]
  },
  {
   "cell_type": "code",
   "execution_count": 409,
   "id": "99f677a5-898f-4ef2-949d-03d818f67de5",
   "metadata": {},
   "outputs": [],
   "source": [
    "x = -26.543"
   ]
  },
  {
   "cell_type": "code",
   "execution_count": 410,
   "id": "a957b4f7-db13-4272-b593-3544729cf427",
   "metadata": {},
   "outputs": [
    {
     "data": {
      "text/plain": [
       "mpf('2.0')"
      ]
     },
     "execution_count": 410,
     "metadata": {},
     "output_type": "execute_result"
    }
   ],
   "source": [
    "mp.erfc(x)"
   ]
  },
  {
   "cell_type": "code",
   "execution_count": 411,
   "id": "a8582440-93a4-4877-93ea-d92b970dfeff",
   "metadata": {},
   "outputs": [
    {
     "data": {
      "text/plain": [
       "2.0"
      ]
     },
     "execution_count": 411,
     "metadata": {},
     "output_type": "execute_result"
    }
   ],
   "source": [
    "special.erfc(x)"
   ]
  },
  {
   "cell_type": "code",
   "execution_count": 402,
   "id": "9de2a485-2470-4750-bf78-7a922da3048f",
   "metadata": {},
   "outputs": [
    {
     "data": {
      "text/plain": [
       "2.2250738585072014e-308"
      ]
     },
     "execution_count": 402,
     "metadata": {},
     "output_type": "execute_result"
    }
   ],
   "source": [
    "np.finfo(np.float64).tiny"
   ]
  },
  {
   "cell_type": "code",
   "execution_count": 308,
   "id": "e56e4137-985b-41b7-93f1-ab768b868ec3",
   "metadata": {},
   "outputs": [
    {
     "data": {
      "text/plain": [
       "5e-324"
      ]
     },
     "execution_count": 308,
     "metadata": {},
     "output_type": "execute_result"
    }
   ],
   "source": [
    "np.nextafter(0, 1)"
   ]
  },
  {
   "cell_type": "code",
   "execution_count": 213,
   "id": "41eb23cb-1ece-4226-b21d-a42800d6a3ea",
   "metadata": {},
   "outputs": [
    {
     "data": {
      "text/plain": [
       "mpf('0.56418958354775628')"
      ]
     },
     "execution_count": 213,
     "metadata": {},
     "output_type": "execute_result"
    }
   ],
   "source": [
    "1/mp.sqrt(mp.pi)"
   ]
  },
  {
   "cell_type": "markdown",
   "id": "6708fe2c-a4d6-4131-adac-0e7abfca1611",
   "metadata": {},
   "source": [
    "Coefficients: A and B"
   ]
  },
  {
   "cell_type": "code",
   "execution_count": 118,
   "id": "8b5f022e-a764-4ff0-8fb4-0a122639c755",
   "metadata": {},
   "outputs": [
    {
     "ename": "SyntaxError",
     "evalue": "invalid syntax (2940344843.py, line 1)",
     "output_type": "error",
     "traceback": [
      "\u001b[1;36m  Cell \u001b[1;32mIn[118], line 1\u001b[1;36m\u001b[0m\n\u001b[1;33m    CS    DATA A/3.16112374387056560E00,1.13864154151050156E02,\u001b[0m\n\u001b[1;37m          ^\u001b[0m\n\u001b[1;31mSyntaxError\u001b[0m\u001b[1;31m:\u001b[0m invalid syntax\n"
     ]
    }
   ],
   "source": [
    "CS    DATA A/3.16112374387056560E00,1.13864154151050156E02,\n",
    "CS   1       3.77485237685302021E02,3.20937758913846947E03,\n",
    "CS   2       1.85777706184603153E-1/\n",
    "CS    DATA B/2.36012909523441209E01,2.44024637934444173E02,\n",
    "CS   1       1.28261652607737228E03,2.84423683343917062E03/\n",
    "\n",
    "CS    DATA C/5.64188496988670089E-1,8.88314979438837594E0,\n",
    "CS   1       6.61191906371416295E01,2.98635138197400131E02,\n",
    "CS   2       8.81952221241769090E02,1.71204761263407058E03,\n",
    "CS   3       2.05107837782607147E03,1.23033935479799725E03,\n",
    "CS   4       2.15311535474403846E-8/\n",
    "CS    DATA D/1.57449261107098347E01,1.17693950891312499E02,\n",
    "CS   1       5.37181101862009858E02,1.62138957456669019E03,\n",
    "CS   2       3.29079923573345963E03,4.36261909014324716E03,\n",
    "CS   3       3.43936767414372164E03,1.23033935480374942E03/\n",
    "\n",
    "CS    DATA P/3.05326634961232344E-1,3.60344899949804439E-1,\n",
    "CS   1       1.25781726111229246E-1,1.60837851487422766E-2,\n",
    "CS   2       6.58749161529837803E-4,1.63153871373020978E-2/\n",
    "CS    DATA Q/2.56852019228982242E00,1.87295284992346047E00,\n",
    "CS   1       5.27905102951428412E-1,6.05183413124413191E-2,\n",
    "CS   2       2.33520497626869185E-3/"
   ]
  },
  {
   "cell_type": "code",
   "execution_count": 318,
   "id": "43da4ff7-b33b-4415-abd3-34612668581e",
   "metadata": {},
   "outputs": [],
   "source": [
    "A = [\n",
    "    3.16112374387056560E00, 1.13864154151050156E02,\n",
    "    3.77485237685302021E02,3.20937758913846947E03,\n",
    "    1.85777706184603153E-1\n",
    "]\n",
    "\n",
    "B = [\n",
    "    2.36012909523441209E01, 2.44024637934444173E02,\n",
    "    1.28261652607737228E03,2.84423683343917062E03\n",
    "]\n",
    "\n",
    "C = [\n",
    "    5.64188496988670089E-1, 8.88314979438837594E00,\n",
    "    6.61191906371416295E01, 2.98635138197400131E02,\n",
    "    8.81952221241769090E02, 1.71204761263407058E03,\n",
    "    2.05107837782607147E03, 1.23033935479799725E03,\n",
    "    2.15311535474403846E-8\n",
    "]\n",
    "\n",
    "D = [\n",
    "    1.57449261107098347E01, 1.17693950891312499E02,\n",
    "    5.37181101862009858E02, 1.62138957456669019E03,\n",
    "    3.29079923573345963E03, 4.36261909014324716E03,\n",
    "    3.43936767414372164E03,1.23033935480374942E03\n",
    "]\n",
    "\n",
    "P = [\n",
    "    3.05326634961232344E-1, 3.60344899949804439E-1,\n",
    "    1.25781726111229246E-1, 1.60837851487422766E-2,\n",
    "    6.58749161529837803E-4, 1.63153871373020978E-2\n",
    "]\n",
    "\n",
    "Q = [\n",
    "    2.56852019228982242E00, 1.87295284992346047E00,\n",
    "    5.27905102951428412E-1, 6.05183413124413191E-2,\n",
    "    2.33520497626869185E-3\n",
    "]"
   ]
  },
  {
   "cell_type": "code",
   "execution_count": 395,
   "id": "d97e03ad-166d-4d47-a9f7-720bb69e323d",
   "metadata": {},
   "outputs": [],
   "source": [
    "X = x\n",
    "Y = abs(x)\n",
    "\n",
    "threshold = 0.46875E0\n",
    "XSMALL = 1.11E-16"
   ]
  },
  {
   "cell_type": "markdown",
   "id": "3b27b0ce-7a4d-48f5-bdce-f405f70880a0",
   "metadata": {},
   "source": [
    "##### 1. Case |x| <= 0.46875"
   ]
  },
  {
   "cell_type": "code",
   "execution_count": 121,
   "id": "0263bb32-ef11-4391-8a4a-dd98888a6aa5",
   "metadata": {},
   "outputs": [],
   "source": [
    "YSQ = 0\n",
    "if (Y > XSMALL):\n",
    "    YSQ = Y * Y\n",
    "XNUM = A[4] * YSQ\n",
    "XDEN = YSQ\n",
    "for i in range(3):\n",
    "    XNUM = (XNUM + A[i]) * YSQ\n",
    "    XDEN = (XDEN + B[i]) * YSQ\n",
    "\n",
    "RESULT = X * (XNUM + A[3]) / (XDEN + B[3])"
   ]
  },
  {
   "cell_type": "code",
   "execution_count": 122,
   "id": "f4b46bc8-46d7-4320-a978-2eafb6e7b344",
   "metadata": {},
   "outputs": [
    {
     "data": {
      "text/plain": [
       "1.3286267594591274"
      ]
     },
     "execution_count": 122,
     "metadata": {},
     "output_type": "execute_result"
    }
   ],
   "source": [
    "1.0 - RESULT"
   ]
  },
  {
   "cell_type": "code",
   "execution_count": 50,
   "id": "f56310a5-b66e-4c2f-aa30-cc77f7ad8f7c",
   "metadata": {},
   "outputs": [
    {
     "data": {
      "text/plain": [
       "(34.89828768838527, 117.42935786533677)"
      ]
     },
     "execution_count": 50,
     "metadata": {},
     "output_type": "execute_result"
    }
   ],
   "source": [
    "XNUM, XDEN"
   ]
  },
  {
   "cell_type": "markdown",
   "id": "7ff59b93-abaf-4371-862c-a709f036f4d2",
   "metadata": {},
   "source": [
    "Unroll loop -> Horner's rule"
   ]
  },
  {
   "cell_type": "code",
   "execution_count": 51,
   "id": "aa133bff-7482-4d49-aad0-eff3476268a9",
   "metadata": {},
   "outputs": [],
   "source": [
    "t = YSQ"
   ]
  },
  {
   "cell_type": "code",
   "execution_count": 52,
   "id": "083ed0e5-9ff8-4ef3-8255-4dc1e52386b5",
   "metadata": {},
   "outputs": [
    {
     "data": {
      "text/plain": [
       "1.3286267594591274"
      ]
     },
     "execution_count": 52,
     "metadata": {},
     "output_type": "execute_result"
    }
   ],
   "source": [
    "sa = (((A[4] * t + A[0]) * t + A[1]) * t + A[2]) * t + A[3]\n",
    "sb = (((t + B[0]) * t + B[1]) * t + B[2]) * t + B[3]\n",
    "\n",
    "1.0 - x * sa / sb"
   ]
  },
  {
   "cell_type": "markdown",
   "id": "d8abcde4-1115-4f3c-8c9d-944071d5286e",
   "metadata": {},
   "source": [
    "##### 2. Case 0.46875 < |x| <= 4"
   ]
  },
  {
   "cell_type": "code",
   "execution_count": 101,
   "id": "56717ba4-17e4-40fd-a74b-c2b8692eb5b7",
   "metadata": {},
   "outputs": [
    {
     "name": "stdout",
     "output_type": "stream",
     "text": [
      "8.612030795905204e-08\n",
      "0 2.2566414947192905\n",
      "1 44.55693719817285\n",
      "2 442.68237611569083\n",
      "3 2965.121793749501\n",
      "4 15387.526645162083\n",
      "5 68394.87711633305\n",
      "6 281769.73278553766\n"
     ]
    }
   ],
   "source": [
    "XNUM = C[8] * Y\n",
    "XDEN = Y\n",
    "print(XNUM)\n",
    "for i in range(7):\n",
    "    XNUM = (XNUM + C[i]) * Y\n",
    "    XDEN = (XDEN + D[i]) * Y\n",
    "    print(i, XNUM)\n",
    "\n",
    "RESULT = (XNUM + C[7]) / (XDEN + D[7])"
   ]
  },
  {
   "cell_type": "code",
   "execution_count": 111,
   "id": "b1ada6a1-dd3c-4bc4-a9db-ff1a511b3b4d",
   "metadata": {},
   "outputs": [
    {
     "data": {
      "text/plain": [
       "(283000.0721403357, 2064374.1391308971)"
      ]
     },
     "execution_count": 111,
     "metadata": {},
     "output_type": "execute_result"
    }
   ],
   "source": [
    "(XNUM + C[7]), XDEN"
   ]
  },
  {
   "cell_type": "code",
   "execution_count": 100,
   "id": "116efb16-8883-4d1e-99e0-fe3d1750c300",
   "metadata": {},
   "outputs": [],
   "source": [
    "t = Y"
   ]
  },
  {
   "cell_type": "code",
   "execution_count": 114,
   "id": "9f966eeb-82ca-4c14-99d9-3bbc605a11e2",
   "metadata": {},
   "outputs": [
    {
     "data": {
      "text/plain": [
       "1.5442674697300366e-08"
      ]
     },
     "execution_count": 114,
     "metadata": {},
     "output_type": "execute_result"
    }
   ],
   "source": [
    "sc = ((((((((C[8] * t + C[0]) * t + C[1]) * t + C[2]) * t + C[3]) * t + C[4]) * t + C[5]) * t + C[6]) * t + C[7])\n",
    "sd = ((((((((t + D[0]) * t + D[1]) * t + D[2]) * t + D[3]) * t + D[4]) * t + D[5]) * t + D[6]) * t + D[7])\n",
    "\n",
    "np.exp(-x*x) * sc / sd"
   ]
  },
  {
   "cell_type": "code",
   "execution_count": 97,
   "id": "f384f295-75e7-469e-8e83-b10487fc80c7",
   "metadata": {},
   "outputs": [
    {
     "data": {
      "text/plain": [
       "(1.5442674697300366e-08, 1.5442674697300366e-08, 1.544267469730036e-08)"
      ]
     },
     "execution_count": 97,
     "metadata": {},
     "output_type": "execute_result"
    }
   ],
   "source": [
    "YSQ = int(Y * 16.0) / 16.0\n",
    "DEL = (Y - YSQ) * (Y + YSQ)\n",
    "np.exp(-YSQ*YSQ - DEL) * RESULT, np.exp(-X*X) * RESULT, np.exp(-YSQ*YSQ) * np.exp(-DEL) * RESULT"
   ]
  },
  {
   "cell_type": "code",
   "execution_count": 84,
   "id": "249cc3ca-d8e7-4e70-811a-a1acef16f4cc",
   "metadata": {},
   "outputs": [
    {
     "data": {
      "text/plain": [
       "0.11937499999999958"
      ]
     },
     "execution_count": 84,
     "metadata": {},
     "output_type": "execute_result"
    }
   ],
   "source": [
    "DEL"
   ]
  },
  {
   "cell_type": "code",
   "execution_count": 85,
   "id": "14e574e2-11b3-4d2a-bef2-106b9f704330",
   "metadata": {},
   "outputs": [
    {
     "data": {
      "text/plain": [
       "2.375"
      ]
     },
     "execution_count": 85,
     "metadata": {},
     "output_type": "execute_result"
    }
   ],
   "source": [
    "YSQ"
   ]
  },
  {
   "cell_type": "code",
   "execution_count": 86,
   "id": "38d2ba5d-5dd6-458e-bc8a-cb67709cb112",
   "metadata": {},
   "outputs": [
    {
     "data": {
      "text/plain": [
       "0.11937499999999979"
      ]
     },
     "execution_count": 86,
     "metadata": {},
     "output_type": "execute_result"
    }
   ],
   "source": [
    "-Y*Y - YSQ * YSQ)"
   ]
  },
  {
   "cell_type": "code",
   "execution_count": 94,
   "id": "2297bab0-12a7-4746-a450-2df883ca029d",
   "metadata": {},
   "outputs": [
    {
     "data": {
      "text/plain": [
       "1.5442674697300372e-08"
      ]
     },
     "execution_count": 94,
     "metadata": {},
     "output_type": "execute_result"
    }
   ],
   "source": [
    "special.erfc(x)"
   ]
  },
  {
   "cell_type": "markdown",
   "id": "d5345a4e-8763-4f7f-89a7-5a1f60ff3361",
   "metadata": {},
   "source": [
    "##### 3. Case |x| > 4"
   ]
  },
  {
   "cell_type": "code",
   "execution_count": 396,
   "id": "85692bbc-a2d6-45ef-a67e-55fc64fc5a0a",
   "metadata": {},
   "outputs": [
    {
     "name": "stdout",
     "output_type": "stream",
     "text": [
      "0 0.0004302015492565049\n",
      "1 0.0005082895039432492\n",
      "2 0.0001779277148652907\n",
      "3 2.2910832622223398e-05\n"
     ]
    },
    {
     "data": {
      "text/plain": [
       "1.1771795746862e-310"
      ]
     },
     "execution_count": 396,
     "metadata": {},
     "output_type": "execute_result"
    }
   ],
   "source": [
    "t = 1 / (Y*Y)\n",
    "XNUM = P[5] * t\n",
    "XDEN = t\n",
    "\n",
    "for i in range(4):\n",
    "    XNUM = (XNUM + P[i]) * t\n",
    "    XDEN = (XDEN + Q[i]) * t\n",
    "    print(i, XNUM)    \n",
    "\n",
    "RESULT = t * (XNUM + P[4]) / (XDEN + Q[4])\n",
    "(1/np.sqrt(np.pi) - RESULT) / Y * np.exp(-Y*Y)"
   ]
  },
  {
   "cell_type": "code",
   "execution_count": 397,
   "id": "978997a4-1182-4688-b32b-7ebd1c7a84dd",
   "metadata": {},
   "outputs": [
    {
     "data": {
      "text/plain": [
       "1.1771795746862e-310"
      ]
     },
     "execution_count": 397,
     "metadata": {},
     "output_type": "execute_result"
    }
   ],
   "source": [
    "sp = ((((P[5] * t + P[0]) * t + P[1]) * t + P[2]) * t + P[3]) * t + P[4]\n",
    "sq = ((((t + Q[0]) * t + Q[1]) * t + Q[2]) * t + Q[3]) * t + Q[4]\n",
    "\n",
    "(1/np.sqrt(np.pi) - t * sp / sq) / Y * np.exp(-Y*Y)"
   ]
  },
  {
   "cell_type": "code",
   "execution_count": 398,
   "id": "3d9f0553-99b8-4233-974e-af038a27ca69",
   "metadata": {},
   "outputs": [
    {
     "data": {
      "text/plain": [
       "1.1771795746862e-310"
      ]
     },
     "execution_count": 398,
     "metadata": {},
     "output_type": "execute_result"
    }
   ],
   "source": [
    "special.erfc(x)"
   ]
  },
  {
   "cell_type": "code",
   "execution_count": 414,
   "id": "4018ec86-d58f-46bc-ab36-6263159cc87b",
   "metadata": {},
   "outputs": [
    {
     "data": {
      "text/plain": [
       "mpf('0.70710678118654752440053')"
      ]
     },
     "execution_count": 414,
     "metadata": {},
     "output_type": "execute_result"
    }
   ],
   "source": [
    "mp.mp.dps = 20\n",
    "mp.sqrt(mp.mpf('1/2'))"
   ]
  },
  {
   "cell_type": "code",
   "execution_count": 415,
   "id": "ebfb9fbb-2376-4f7c-91b4-4681e958c32a",
   "metadata": {},
   "outputs": [
    {
     "data": {
      "text/plain": [
       "0.9331927987311419"
      ]
     },
     "execution_count": 415,
     "metadata": {},
     "output_type": "execute_result"
    }
   ],
   "source": [
    "special.ndtr(1.5)"
   ]
  },
  {
   "cell_type": "code",
   "execution_count": null,
   "id": "caad11aa-cd83-4563-aff2-be0d30de1aa6",
   "metadata": {},
   "outputs": [],
   "source": []
  }
 ],
 "metadata": {
  "kernelspec": {
   "display_name": "Python 3 (ipykernel)",
   "language": "python",
   "name": "python3"
  },
  "language_info": {
   "codemirror_mode": {
    "name": "ipython",
    "version": 3
   },
   "file_extension": ".py",
   "mimetype": "text/x-python",
   "name": "python",
   "nbconvert_exporter": "python",
   "pygments_lexer": "ipython3",
   "version": "3.12.7"
  }
 },
 "nbformat": 4,
 "nbformat_minor": 5
}
