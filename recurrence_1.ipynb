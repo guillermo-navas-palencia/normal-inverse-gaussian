{
 "cells": [
  {
   "cell_type": "code",
   "execution_count": 1,
   "id": "5a1ff084-eb6d-425f-b06c-d23c5ea9c53d",
   "metadata": {},
   "outputs": [],
   "source": [
    "from mpmath import *"
   ]
  },
  {
   "cell_type": "code",
   "execution_count": 2,
   "id": "eb3793d1-c1a7-4e97-b0af-5f650bcb57eb",
   "metadata": {},
   "outputs": [],
   "source": [
    "mp.dps = 30"
   ]
  },
  {
   "cell_type": "code",
   "execution_count": 39,
   "id": "14f9119c-094f-480f-9dbe-2542dbc01c34",
   "metadata": {},
   "outputs": [],
   "source": [
    "lmbda = mpf('5')\n",
    "z = mpf('1/2')\n",
    "beta = mpf('1/3')\n",
    "tp = mpf('2')"
   ]
  },
  {
   "cell_type": "code",
   "execution_count": 127,
   "id": "df0147c3-3441-4aff-9773-69ea1710852b",
   "metadata": {},
   "outputs": [
    {
     "data": {
      "text/plain": [
       "mpf('95.5015396381499851719832304784955')"
      ]
     },
     "execution_count": 127,
     "metadata": {},
     "output_type": "execute_result"
    }
   ],
   "source": [
    "k = 1\n",
    "\n",
    "def phik(k, z, lmbda, beta):\n",
    "    C = z ** (lmbda + k)   \n",
    "    return C * quad(lambda t: t ** (lmbda - 1) * (t - tp) ** k * exp(-z * (t + beta**2 / t)), [0, inf])\n",
    "\n",
    "phik(k, z, lmbda, beta)"
   ]
  },
  {
   "cell_type": "code",
   "execution_count": 128,
   "id": "58bacc1b-7b4e-46d0-9f3a-cf374a5d18bd",
   "metadata": {},
   "outputs": [],
   "source": [
    "C = z ** (lmbda + k)"
   ]
  },
  {
   "cell_type": "code",
   "execution_count": 129,
   "id": "b34bfb88-78e4-4065-8b62-aa4c5c12d3a6",
   "metadata": {},
   "outputs": [
    {
     "data": {
      "text/plain": [
       "mpf('95.5015396381499851719832304784955')"
      ]
     },
     "execution_count": 129,
     "metadata": {},
     "output_type": "execute_result"
    }
   ],
   "source": [
    "-C * quad(lambda t: t ** (lmbda - 3) * (t - tp) ** (k+1) / (k+1) * exp(-z * (t + beta**2 / t)) * (beta ** 2 * z  + (lmbda - 1) * t - t**2 * z), [0, inf])"
   ]
  },
  {
   "cell_type": "markdown",
   "id": "7bda9423-b61d-4480-a92f-634390d27688",
   "metadata": {},
   "source": [
    "split integrals"
   ]
  },
  {
   "cell_type": "code",
   "execution_count": 130,
   "id": "76f3ccb1-d69e-4b94-96de-21a366ef5a04",
   "metadata": {},
   "outputs": [],
   "source": [
    "int1 = -C * beta ** 2 * z / (k + 1) * quad(lambda t: t ** (lmbda - 3) * (t - tp) ** (k+1) * exp(-z * (t + beta**2 / t)), [0, inf])"
   ]
  },
  {
   "cell_type": "code",
   "execution_count": 131,
   "id": "3070b492-1876-49fa-a7da-7d2f902f9cb4",
   "metadata": {},
   "outputs": [],
   "source": [
    "int2 = -C * (lmbda - 1) / (k + 1) * quad(lambda t: t ** (lmbda - 2) * (t - tp) ** (k+1) * exp(-z * (t + beta**2 / t)), [0, inf])"
   ]
  },
  {
   "cell_type": "code",
   "execution_count": 132,
   "id": "7a0bb51c-18cb-4c74-8daa-6c0a838df3e1",
   "metadata": {},
   "outputs": [],
   "source": [
    "int3 = C * z / (k + 1) * quad(lambda t: t ** (lmbda - 1) * (t - tp) ** (k+1) * exp(-z * (t + beta**2 / t)), [0, inf])"
   ]
  },
  {
   "cell_type": "code",
   "execution_count": 133,
   "id": "28d7e645-adf6-494b-881a-b9570a4335a2",
   "metadata": {},
   "outputs": [
    {
     "data": {
      "text/plain": [
       "mpf('95.5015396381499851719832304785082')"
      ]
     },
     "execution_count": 133,
     "metadata": {},
     "output_type": "execute_result"
    }
   ],
   "source": [
    "int1 + int2 + int3"
   ]
  },
  {
   "cell_type": "markdown",
   "id": "a2a33222-7f3d-478b-a74c-b23d92c34d40",
   "metadata": {},
   "source": [
    "Integral 1"
   ]
  },
  {
   "cell_type": "code",
   "execution_count": 134,
   "id": "52894a25-f7e3-4f06-87c7-f17a2df9872d",
   "metadata": {},
   "outputs": [
    {
     "data": {
      "text/plain": [
       "mpf('-0.193292228840077980718478347677566')"
      ]
     },
     "execution_count": 134,
     "metadata": {},
     "output_type": "execute_result"
    }
   ],
   "source": [
    "int1"
   ]
  },
  {
   "cell_type": "code",
   "execution_count": 135,
   "id": "48f07786-7988-4cba-bf01-c2fe691f2f2c",
   "metadata": {},
   "outputs": [
    {
     "data": {
      "text/plain": [
       "mpf('-0.193292228840077980718478347677566')"
      ]
     },
     "execution_count": 135,
     "metadata": {},
     "output_type": "execute_result"
    }
   ],
   "source": [
    "-phik(k+1, z, lmbda - 2, beta) / z ** (k + lmbda - 2 + 1) * C * beta ** 2 * z / (k + 1)"
   ]
  },
  {
   "cell_type": "code",
   "execution_count": 136,
   "id": "8f795afc-e41f-4429-ba07-0aea0bdfc504",
   "metadata": {},
   "outputs": [
    {
     "data": {
      "text/plain": [
       "mpf('-0.193292228840077980718478347677566')"
      ]
     },
     "execution_count": 136,
     "metadata": {},
     "output_type": "execute_result"
    }
   ],
   "source": [
    "-phik(k+1, z, lmbda - 2, beta) * beta ** 2 * z ** 2 / (k + 1)"
   ]
  },
  {
   "cell_type": "markdown",
   "id": "a503bdea-51fa-48c2-b103-fc9aa30fd204",
   "metadata": {},
   "source": [
    "Integral 2"
   ]
  },
  {
   "cell_type": "code",
   "execution_count": 137,
   "id": "6974dfb8-ce39-4d07-9f17-579b1f849f93",
   "metadata": {},
   "outputs": [
    {
     "data": {
      "text/plain": [
       "mpf('-155.224530070736041192115826101355')"
      ]
     },
     "execution_count": 137,
     "metadata": {},
     "output_type": "execute_result"
    }
   ],
   "source": [
    "int2"
   ]
  },
  {
   "cell_type": "code",
   "execution_count": 138,
   "id": "5272a1b5-bb2d-473a-9d01-55a4d88e53fd",
   "metadata": {},
   "outputs": [
    {
     "data": {
      "text/plain": [
       "mpf('-155.224530070736041192115826101355')"
      ]
     },
     "execution_count": 138,
     "metadata": {},
     "output_type": "execute_result"
    }
   ],
   "source": [
    "-(lmbda - 1) / (k + 1) * phik(k+1, z, lmbda - 1, beta) "
   ]
  },
  {
   "cell_type": "markdown",
   "id": "f20aa344-f609-4482-a46f-d519b8102aec",
   "metadata": {},
   "source": [
    "Integral 3"
   ]
  },
  {
   "cell_type": "code",
   "execution_count": 139,
   "id": "5dfb488d-ee7b-4a1b-b2a6-974a49a689dd",
   "metadata": {},
   "outputs": [
    {
     "data": {
      "text/plain": [
       "mpf('250.919361937726104344817534927531')"
      ]
     },
     "execution_count": 139,
     "metadata": {},
     "output_type": "execute_result"
    }
   ],
   "source": [
    "int3"
   ]
  },
  {
   "cell_type": "code",
   "execution_count": 140,
   "id": "ff105e5c-e0ac-484e-8264-00ed12f3374e",
   "metadata": {},
   "outputs": [
    {
     "data": {
      "text/plain": [
       "mpf('250.919361937726104344817534927531')"
      ]
     },
     "execution_count": 140,
     "metadata": {},
     "output_type": "execute_result"
    }
   ],
   "source": [
    "phik(k+1, z, lmbda, beta) / (k+1)"
   ]
  },
  {
   "cell_type": "markdown",
   "id": "139f8685-9ae3-4e78-b408-12e46307ec5f",
   "metadata": {},
   "source": [
    "Test recursion"
   ]
  },
  {
   "cell_type": "code",
   "execution_count": 145,
   "id": "e83a5587-a3d9-44cf-a13c-4da6e55d31a3",
   "metadata": {},
   "outputs": [],
   "source": [
    "k = 3"
   ]
  },
  {
   "cell_type": "code",
   "execution_count": 146,
   "id": "6ff75f84-ce98-4b42-8f03-01f79e292c75",
   "metadata": {},
   "outputs": [
    {
     "data": {
      "text/plain": [
       "mpf('3204.19131877999566749833404433849')"
      ]
     },
     "execution_count": 146,
     "metadata": {},
     "output_type": "execute_result"
    }
   ],
   "source": [
    "phik(k, z, lmbda, beta)"
   ]
  },
  {
   "cell_type": "code",
   "execution_count": 147,
   "id": "f7d2a356-81b6-4601-84f3-61cd191c6df5",
   "metadata": {},
   "outputs": [
    {
     "data": {
      "text/plain": [
       "mpf('3204.19131877999566749833404433889')"
      ]
     },
     "execution_count": 147,
     "metadata": {},
     "output_type": "execute_result"
    }
   ],
   "source": [
    "phik(k+1, z, lmbda, beta) / (k+1) -(lmbda - 1) / (k + 1) * phik(k+1, z, lmbda - 1, beta) - phik(k+1, z, lmbda - 2, beta) * beta ** 2 * z ** 2 / (k + 1)"
   ]
  },
  {
   "cell_type": "markdown",
   "id": "0ed039e4-d6ad-4ac7-a195-cd2a0ca80076",
   "metadata": {},
   "source": [
    "Binomial sum"
   ]
  },
  {
   "cell_type": "code",
   "execution_count": 171,
   "id": "87e8423a-c05f-425c-b782-5fe68d67db6d",
   "metadata": {},
   "outputs": [
    {
     "data": {
      "text/plain": [
       "mpf('3204.19131877999566749833404433808')"
      ]
     },
     "execution_count": 171,
     "metadata": {},
     "output_type": "execute_result"
    }
   ],
   "source": [
    "2 / (k + 1) * z**(lmbda + k + 1) * beta ** (lmbda) * sum(\n",
    "    binomial(k + 1, m) *(-tp) ** (k + 1 - m) * beta ** m * m / (beta * z) * besselk(lmbda - 1 + m, 2*beta*z)\n",
    "for m in range(k+2))"
   ]
  },
  {
   "cell_type": "code",
   "execution_count": 185,
   "id": "bee12823-dbbf-4ac4-9607-cb33eefa00db",
   "metadata": {},
   "outputs": [
    {
     "data": {
      "text/plain": [
       "mpf('11129.874196267457078233173374713')"
      ]
     },
     "execution_count": 185,
     "metadata": {},
     "output_type": "execute_result"
    }
   ],
   "source": [
    "(lmbda - 1) * phik(k+1, z, lmbda - 1, beta) + phik(k+1, z, lmbda - 2, beta) * beta ** 2 * z ** 2"
   ]
  },
  {
   "cell_type": "code",
   "execution_count": 188,
   "id": "20041ce3-4e3e-4cc2-8b40-35366b33c07a",
   "metadata": {},
   "outputs": [
    {
     "data": {
      "text/plain": [
       "mpf('11129.8741962674570782331733747098')"
      ]
     },
     "execution_count": 188,
     "metadata": {},
     "output_type": "execute_result"
    }
   ],
   "source": [
    "2 * z**(lmbda + k + 1) * beta ** (lmbda) * sum(\n",
    "    binomial(k + 1, m) *(-tp) ** (k + 1 - m) * beta ** m * (\n",
    "        (lmbda - 1) / (beta * z)  * besselk(lmbda - 1 + m, 2*beta*z) + besselk(lmbda - 2 + m, 2*beta*z)\n",
    "    )\n",
    "for m in range(k+2))"
   ]
  },
  {
   "cell_type": "code",
   "execution_count": 228,
   "id": "2ecf009d-efd1-4d83-b88e-90ecc986aa1c",
   "metadata": {},
   "outputs": [
    {
     "data": {
      "text/plain": [
       "mpf('11129.8741962674570782331733747146')"
      ]
     },
     "execution_count": 228,
     "metadata": {},
     "output_type": "execute_result"
    }
   ],
   "source": [
    "2 * z**(lmbda + k + 1) * beta ** (lmbda) * sum(\n",
    "    binomial(k + 1, m) *(-tp) ** (k + 1 - m) * beta ** m * (\n",
    "        (lmbda - 1) / (lmbda + m - 1) * besselk(lmbda + m, 2*beta*z) + \n",
    "        besselk(lmbda - 2 + m, 2*beta*z) * (1 - (lmbda - 1) / (lmbda + m - 1))\n",
    "    )\n",
    "for m in range(k+2))"
   ]
  },
  {
   "cell_type": "code",
   "execution_count": 223,
   "id": "b4ff84b3-0342-48cf-8f86-f224d66023a8",
   "metadata": {},
   "outputs": [
    {
     "data": {
      "text/plain": [
       "mpf('23946.6394713874397482265095520621')"
      ]
     },
     "execution_count": 223,
     "metadata": {},
     "output_type": "execute_result"
    }
   ],
   "source": [
    "2 * z**(lmbda + k + 1) * beta ** (lmbda) * sum(\n",
    "    binomial(k + 1, m) *(-tp) ** (k + 1 - m) * beta ** m * (\n",
    "        besselk(lmbda + m, 2*beta*z)\n",
    "    )\n",
    "for m in range(k+2))"
   ]
  },
  {
   "cell_type": "code",
   "execution_count": 191,
   "id": "9daaad61-766c-4462-8e2b-d0e3dc367606",
   "metadata": {},
   "outputs": [
    {
     "data": {
      "text/plain": [
       "mpf('11129.8741962674570782331733747178')"
      ]
     },
     "execution_count": 191,
     "metadata": {},
     "output_type": "execute_result"
    }
   ],
   "source": [
    "2 * z**(lmbda + k + 1) * beta ** (lmbda) * sum(\n",
    "    binomial(k + 1, m) *(-tp) ** (k + 1 - m) * beta ** m * (\n",
    "        besselk(lmbda + m, 2*beta*z) - m / (beta * z) * besselk(lmbda - 1+ m, 2*beta*z)\n",
    "    )\n",
    "for m in range(k+2))"
   ]
  },
  {
   "cell_type": "code",
   "execution_count": 218,
   "id": "53b55b7f-2489-4084-b111-fda81e3cfa37",
   "metadata": {},
   "outputs": [
    {
     "data": {
      "text/plain": [
       "mpf('-12816.7652751199826699933361773507')"
      ]
     },
     "execution_count": 218,
     "metadata": {},
     "output_type": "execute_result"
    }
   ],
   "source": [
    "2 * (k + 1) * z**(lmbda + k + 1) * beta ** (lmbda + 1) * sum(\n",
    "    binomial(k, m) *(-tp) ** (k - m) * beta ** m * (\n",
    "        - 1 / (beta * z) * besselk(lmbda + m, 2*beta*z)\n",
    "    )\n",
    "for m in range(k+1))"
   ]
  },
  {
   "cell_type": "code",
   "execution_count": null,
   "id": "765c8701-be03-4de1-b93d-1af798aa4691",
   "metadata": {},
   "outputs": [],
   "source": []
  }
 ],
 "metadata": {
  "kernelspec": {
   "display_name": "Python 3 (ipykernel)",
   "language": "python",
   "name": "python3"
  },
  "language_info": {
   "codemirror_mode": {
    "name": "ipython",
    "version": 3
   },
   "file_extension": ".py",
   "mimetype": "text/x-python",
   "name": "python",
   "nbconvert_exporter": "python",
   "pygments_lexer": "ipython3",
   "version": "3.9.12"
  }
 },
 "nbformat": 4,
 "nbformat_minor": 5
}
