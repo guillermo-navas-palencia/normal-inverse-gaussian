{
 "cells": [
  {
   "cell_type": "code",
   "execution_count": 2,
   "id": "3877f40b-a92c-441a-9510-cd3647e58066",
   "metadata": {},
   "outputs": [],
   "source": [
    "import mpmath as mp\n",
    "\n",
    "from code.python.mpmath_integration import quad_phi"
   ]
  },
  {
   "cell_type": "code",
   "execution_count": 70,
   "id": "59a2d4a5-ff78-4163-83e4-112baa9d1922",
   "metadata": {},
   "outputs": [],
   "source": [
    "x = mp.mpf('1/2')\n",
    "alpha = mp.mpf('5')\n",
    "beta = mp.mpf('1/2')\n",
    "mu = mp.mpf('1')\n",
    "delta = mp.mpf('4')\n",
    "\n",
    "xmu = x - mu\n",
    "\n",
    "gamma = mp.sqrt(alpha ** 2 - beta ** 2)\n",
    "omega = mp.sqrt(xmu ** 2 + delta ** 2)"
   ]
  },
  {
   "cell_type": "markdown",
   "id": "e9c8a300-bab5-4285-8fe1-ac9fddb423b3",
   "metadata": {},
   "source": [
    "### 1. Expansion a -> 0"
   ]
  },
  {
   "cell_type": "code",
   "execution_count": 4,
   "id": "06701725-f732-4df5-9979-b7f97e5fd00b",
   "metadata": {},
   "outputs": [],
   "source": [
    "a = x-mu\n",
    "b = -beta"
   ]
  },
  {
   "cell_type": "code",
   "execution_count": 5,
   "id": "6daf41f8-99c2-4c1d-a977-bdfd6bcadafe",
   "metadata": {},
   "outputs": [],
   "source": [
    "def normcdf(x):\n",
    "    return mp.erfc(-x / mp.sqrt(mp.mpf('2'))) / mp.mpf('2')"
   ]
  },
  {
   "cell_type": "code",
   "execution_count": 6,
   "id": "4a2dbd16-9839-4f1f-bdaf-c97a6ebbe8ef",
   "metadata": {},
   "outputs": [
    {
     "data": {
      "text/plain": [
       "mpf('0.15865525393145707')"
      ]
     },
     "execution_count": 6,
     "metadata": {},
     "output_type": "execute_result"
    }
   ],
   "source": [
    "t = 1\n",
    "\n",
    "normcdf(a / mp.sqrt(t) + b * mp.sqrt(t))"
   ]
  },
  {
   "cell_type": "code",
   "execution_count": 7,
   "id": "47c0b426-1a09-4ccd-9c35-f9c67efa14e4",
   "metadata": {},
   "outputs": [
    {
     "data": {
      "text/plain": [
       "mpf('0.30853753872598694')"
      ]
     },
     "execution_count": 7,
     "metadata": {},
     "output_type": "execute_result"
    }
   ],
   "source": [
    "normcdf(b * mp.sqrt(t))"
   ]
  },
  {
   "cell_type": "code",
   "execution_count": 8,
   "id": "b80da3f8-eeec-4733-a673-950f3de4c2c9",
   "metadata": {},
   "outputs": [],
   "source": [
    "A = mp.exp(-b**2/2 * t) / mp.sqrt(2*mp.pi) / mp.sqrt(t)"
   ]
  },
  {
   "cell_type": "code",
   "execution_count": 9,
   "id": "e88220dd-8189-451c-9801-7e352b761368",
   "metadata": {},
   "outputs": [
    {
     "data": {
      "text/plain": [
       "mpf('0.15865406334063137')"
      ]
     },
     "execution_count": 9,
     "metadata": {},
     "output_type": "execute_result"
    }
   ],
   "source": [
    "s1 =  a\n",
    "s2 = -a**2 * b / 2\n",
    "s3 =  a**3 * (b**2 * t - 1) / t / 6\n",
    "s4 = -a**4 * (b**3 * t - 3 * b) / t / 24\n",
    "s5 =  a**5 * (b**4 * t**2 - 6 * b**2 * t + 3) / t**2 / 120\n",
    "s6 = -a**6 * (b**5 * t**2 - 10 * b**3 * t + 15 * b) / t**2 / 720\n",
    "\n",
    "S = s1 + s2 + s3 + s4 + s5 + s6\n",
    "\n",
    "normcdf(b * mp.sqrt(t)) + A * S"
   ]
  },
  {
   "cell_type": "code",
   "execution_count": 10,
   "id": "9f920a59-d58c-4c69-9717-9efd7f4f3833",
   "metadata": {},
   "outputs": [
    {
     "data": {
      "text/plain": [
       "(mpf('-0.5'),\n",
       " mpf('0.0625'),\n",
       " mpf('0.015625'),\n",
       " mpf('-0.0035807291666666665'),\n",
       " mpf('-0.00040690104166666668'),\n",
       " mpf('0.00013631184895833334'))"
      ]
     },
     "execution_count": 10,
     "metadata": {},
     "output_type": "execute_result"
    }
   ],
   "source": [
    "s1, s2, s3, s4, s5, s6"
   ]
  },
  {
   "cell_type": "code",
   "execution_count": 11,
   "id": "bc6c64ec-2672-4343-9850-b14a8962e8e4",
   "metadata": {},
   "outputs": [
    {
     "name": "stdout",
     "output_type": "stream",
     "text": [
      "1 -0.5 -0.75 1.375 1.5625 -6.28125\n"
     ]
    }
   ],
   "source": [
    "print(\n",
    "    1,\n",
    "    b,\n",
    "    (b**2 * t - 1) / t,\n",
    "    (b**3 * t - 3 * b) / t,\n",
    "    (b**4 * t**2 - 6 * b**2 * t + 3) / t**2,\n",
    "    (b**5 * t**2 - 10 * b**3 * t + 15 * b) / t**2\n",
    ")"
   ]
  },
  {
   "cell_type": "code",
   "execution_count": 12,
   "id": "00b6f58a-0657-4ab8-b96f-5ecd6a10801f",
   "metadata": {},
   "outputs": [],
   "source": [
    "def P(k, t, b):\n",
    "    s = 0\n",
    "    for m in range(int(mp.floor(k/2)) + 1):\n",
    "        s += (-1) ** m / mp.factorial(m) / mp.factorial(k - 2 * m) * b ** (k - 2*m) / 2 ** m / t ** m\n",
    "\n",
    "    return mp.factorial(k) * s"
   ]
  },
  {
   "cell_type": "code",
   "execution_count": 13,
   "id": "64c368dd-7543-4a38-b3da-a394a19e9219",
   "metadata": {},
   "outputs": [
    {
     "data": {
      "text/plain": [
       "mpf('1.0')"
      ]
     },
     "execution_count": 13,
     "metadata": {},
     "output_type": "execute_result"
    }
   ],
   "source": [
    "k = 0\n",
    "P(k, t, b)"
   ]
  },
  {
   "cell_type": "code",
   "execution_count": 14,
   "id": "799e9ab2-66a9-4a35-85f6-e7d4189a4d41",
   "metadata": {},
   "outputs": [
    {
     "data": {
      "text/plain": [
       "mpf('0.1586552237628216')"
      ]
     },
     "execution_count": 14,
     "metadata": {},
     "output_type": "execute_result"
    }
   ],
   "source": [
    "K = 10\n",
    "S = 0\n",
    "for k in range(1, K):\n",
    "    S += (-1) ** (k + 1) * a ** k / mp.factorial(k) * P(k-1, t, b)\n",
    "\n",
    "normcdf(b * mp.sqrt(t)) + A * S"
   ]
  },
  {
   "cell_type": "markdown",
   "id": "d00f05f3-bec7-4b05-88e4-4ee7e0469578",
   "metadata": {},
   "source": [
    "Hermite probabilistic"
   ]
  },
  {
   "cell_type": "code",
   "execution_count": 15,
   "id": "5e7da221-de44-481f-b839-0f0688b0e9c9",
   "metadata": {},
   "outputs": [],
   "source": [
    "def hermite_prob(k, z):\n",
    "    s = 0\n",
    "    for m in range(int(mp.floor(k/2)) + 1):\n",
    "        s += (-1) ** m / mp.factorial(m) / mp.factorial(k - 2 * m) * z ** (k - 2*m) / 2 ** m\n",
    "\n",
    "    return mp.factorial(k) * s    "
   ]
  },
  {
   "cell_type": "code",
   "execution_count": 16,
   "id": "0cb93d30-dd66-4908-bfc8-9d2ec39773e4",
   "metadata": {},
   "outputs": [
    {
     "data": {
      "text/plain": [
       "mpf('49.043945312499915')"
      ]
     },
     "execution_count": 16,
     "metadata": {},
     "output_type": "execute_result"
    }
   ],
   "source": [
    "k = 10\n",
    "\n",
    "P(k, t, b)"
   ]
  },
  {
   "cell_type": "code",
   "execution_count": 17,
   "id": "85496b00-afe0-493f-a04e-70ac3cab2799",
   "metadata": {},
   "outputs": [
    {
     "data": {
      "text/plain": [
       "mpf('49.043945312499915')"
      ]
     },
     "execution_count": 17,
     "metadata": {},
     "output_type": "execute_result"
    }
   ],
   "source": [
    "hermite_prob(k, b * mp.sqrt(t)) / t ** (k / 2)"
   ]
  },
  {
   "cell_type": "code",
   "execution_count": 18,
   "id": "471edab7-75ea-4038-9254-bfa269a92fe7",
   "metadata": {},
   "outputs": [
    {
     "data": {
      "text/plain": [
       "mpf('49.043945312500114')"
      ]
     },
     "execution_count": 18,
     "metadata": {},
     "output_type": "execute_result"
    }
   ],
   "source": [
    "mp.hermite(k, b * mp.sqrt(t / 2)) / (2 * t) ** (k / 2)"
   ]
  },
  {
   "cell_type": "code",
   "execution_count": 19,
   "id": "18cb2b7c-163f-49a4-800c-46c395558581",
   "metadata": {},
   "outputs": [
    {
     "data": {
      "text/plain": [
       "mpf('0.15865525393145707')"
      ]
     },
     "execution_count": 19,
     "metadata": {},
     "output_type": "execute_result"
    }
   ],
   "source": [
    "K = 40\n",
    "S = 0\n",
    "for k in range(1, K):\n",
    "    S += (-1) ** (k + 1) * a ** k / mp.factorial(k) * mp.hermite(k-1, b * mp.sqrt(t / 2)) / (2 * t) ** ((k-1) / 2)\n",
    "\n",
    "normcdf(b * mp.sqrt(t)) + A * S"
   ]
  },
  {
   "cell_type": "code",
   "execution_count": 20,
   "id": "c545150a-e171-43da-83b7-225d291ae020",
   "metadata": {},
   "outputs": [
    {
     "data": {
      "text/plain": [
       "mpf('0.15865525393145707')"
      ]
     },
     "execution_count": 20,
     "metadata": {},
     "output_type": "execute_result"
    }
   ],
   "source": [
    "K = 40\n",
    "S = 0\n",
    "for k in range(K):\n",
    "    S += (-1) ** k * a ** (k + 1) / mp.factorial(k + 1) * mp.hermite(k, b * mp.sqrt(t / 2)) / (2 * t) ** (k / 2)\n",
    "\n",
    "normcdf(b * mp.sqrt(t)) + A * S"
   ]
  },
  {
   "cell_type": "markdown",
   "id": "9685564d-1537-44c6-9781-59dd5882fe8c",
   "metadata": {},
   "source": [
    "### 2. Expansion"
   ]
  },
  {
   "cell_type": "code",
   "execution_count": 71,
   "id": "b53c1183-6138-4620-9fca-dcc90f77cbbd",
   "metadata": {},
   "outputs": [
    {
     "data": {
      "text/plain": [
       "mpf('0.1554270837248255343689904158621173574167549484033297369417738247473247052687011635448439251317681187645')"
      ]
     },
     "execution_count": 71,
     "metadata": {},
     "output_type": "execute_result"
    }
   ],
   "source": [
    "mp_result = quad_phi(x, alpha, beta, mu, delta, digits=100)\n",
    "mp_result"
   ]
  },
  {
   "cell_type": "code",
   "execution_count": 72,
   "id": "e551042b-7fa3-4339-8cde-0100047e41ca",
   "metadata": {},
   "outputs": [
    {
     "data": {
      "text/plain": [
       "mpf('0.328142521756511951411719012515012703253373835245640592443114506327407745637481448256642794930771303496')"
      ]
     },
     "execution_count": 72,
     "metadata": {},
     "output_type": "execute_result"
    }
   ],
   "source": [
    "quad_phi(mu, alpha, beta, mu, delta, digits=100)"
   ]
  },
  {
   "cell_type": "code",
   "execution_count": 23,
   "id": "d74b43cb-cb84-4cb7-91e7-e53db8a164db",
   "metadata": {},
   "outputs": [],
   "source": [
    "C = delta * mp.exp(delta * gamma) / (2 * mp.pi)"
   ]
  },
  {
   "cell_type": "code",
   "execution_count": 24,
   "id": "b132b9c7-386d-4fe3-b8d0-adf9e403a92f",
   "metadata": {},
   "outputs": [
    {
     "data": {
      "text/plain": [
       "mpf('-0.1727154380316863885183617112734405306940970622583268681959505292277389686830570764622840050816269991251')"
      ]
     },
     "execution_count": 24,
     "metadata": {},
     "output_type": "execute_result"
    }
   ],
   "source": [
    "mp.mp.dps = 100\n",
    "\n",
    "N = 50\n",
    "s = 0\n",
    "for k in range(N):\n",
    "    r = (-1) ** k * xmu ** (k + 1) / mp.factorial(k + 1) / 2 ** (k / 2)\n",
    "    q = mp.quad(lambda t: t ** (-k/2 - 2) * mp.hermite(k, b * mp.sqrt(t / 2)) * mp.exp(-delta ** 2 / 2 / t - alpha ** 2 / 2 * t), [0, mp.inf])\n",
    "    s += r * q\n",
    "\n",
    "C * s"
   ]
  },
  {
   "cell_type": "code",
   "execution_count": 25,
   "id": "fa94eaf7-b820-48bc-8914-a4a98ec7da7a",
   "metadata": {},
   "outputs": [],
   "source": [
    "r1 = quad_phi(mu, alpha, beta, mu, delta, digits=100) + C * s"
   ]
  },
  {
   "cell_type": "code",
   "execution_count": 26,
   "id": "b8e06578-1a66-43a5-81d6-e53c8e16b98e",
   "metadata": {},
   "outputs": [
    {
     "data": {
      "text/plain": [
       "(mpf('0.1554270837248255628933573012415721725592767729873137242471639770996687769544243717943587898491443043709'),\n",
       " mpf('0.1554270837248255343689904158621173574167549484033297369417738247473247052687011635448439251317681187645'))"
      ]
     },
     "execution_count": 26,
     "metadata": {},
     "output_type": "execute_result"
    }
   ],
   "source": [
    "r1, mp_result"
   ]
  },
  {
   "cell_type": "markdown",
   "id": "b9eb3416-c702-42bd-a777-3c8e03bf8bb0",
   "metadata": {
    "jp-MarkdownHeadingCollapsed": true
   },
   "source": [
    "##### Coefficients recursion"
   ]
  },
  {
   "cell_type": "markdown",
   "id": "4396f337-cc96-49bc-949f-81ad4d18ea68",
   "metadata": {},
   "source": [
    "Ik+1"
   ]
  },
  {
   "cell_type": "code",
   "execution_count": null,
   "id": "c83af3b5-011b-4875-8116-2ff111d4d133",
   "metadata": {},
   "outputs": [],
   "source": [
    "k = 1\n",
    "mp.quad(lambda t: t ** (-(k+1)/2 - 2) * mp.hermite(k+1, b * mp.sqrt(t / 2)) * mp.exp(-delta ** 2 / 2 / t - alpha ** 2 / 2 * t), [0, mp.inf])"
   ]
  },
  {
   "cell_type": "code",
   "execution_count": null,
   "id": "6ec841af-8c84-4ad2-84ee-a224c0df94b2",
   "metadata": {},
   "outputs": [],
   "source": [
    "mp.quad(lambda t: t ** (-(k+1)/2 - 2) * (2 * b * mp.sqrt(t / 2) * mp.hermite(k, b * mp.sqrt(t / 2)) -2*k *  mp.hermite(k-1, b * mp.sqrt(t / 2)))  * mp.exp(-delta ** 2 / 2 / t - alpha ** 2 / 2 * t), [0, mp.inf])"
   ]
  },
  {
   "cell_type": "markdown",
   "id": "176d2bfa-c5e7-4aac-b7be-057647a59b60",
   "metadata": {},
   "source": [
    "Ik"
   ]
  },
  {
   "cell_type": "code",
   "execution_count": null,
   "id": "5495d1ea-06ec-4035-abc6-f52b0de37f5e",
   "metadata": {},
   "outputs": [],
   "source": [
    "Ik = mp.quad(lambda t: t ** (-k/2 - 2) * mp.hermite(k, b * mp.sqrt(t / 2)) * mp.exp(-delta ** 2 / 2 / t - alpha ** 2 / 2 * t), [0, mp.inf])\n",
    "Ik, Ik * b * mp.sqrt(2)"
   ]
  },
  {
   "cell_type": "markdown",
   "id": "c479ccb8-d26c-4a29-80fe-05790c751694",
   "metadata": {},
   "source": [
    "Ik-1"
   ]
  },
  {
   "cell_type": "code",
   "execution_count": null,
   "id": "41d9a91f-9767-4ea7-b5b3-806433b978e0",
   "metadata": {},
   "outputs": [],
   "source": [
    "-2*k * mp.quad(lambda t: t ** (-(k+1)/2 - 2) * (mp.hermite(k-1, b * mp.sqrt(t / 2)))  * mp.exp(-delta ** 2 / 2 / t - alpha ** 2 / 2 * t), [0, mp.inf])"
   ]
  },
  {
   "cell_type": "code",
   "execution_count": null,
   "id": "3fa12cc9-be1c-4953-93db-6a8870ec4845",
   "metadata": {},
   "outputs": [],
   "source": [
    "mp.quad(lambda t: t ** (-(k+1)/2 - 2) * (mp.hermite(k-1, b * mp.sqrt(t / 2)))  * mp.exp(-delta ** 2 / 2 / t - alpha ** 2 / 2 * t), [0, mp.inf])"
   ]
  },
  {
   "cell_type": "code",
   "execution_count": null,
   "id": "a3b1053a-bed6-4f03-88fb-8817310804a2",
   "metadata": {},
   "outputs": [],
   "source": [
    "z = alpha ** 2 / 2\n",
    "r = delta / alpha"
   ]
  },
  {
   "cell_type": "code",
   "execution_count": null,
   "id": "8efe9aca-646d-4247-b738-a7a7e5de74f8",
   "metadata": {},
   "outputs": [],
   "source": [
    "I11 = mp.quad(lambda t: t ** (-(k+1)/2 - 2 + 2) * (mp.hermite(k-1, b * mp.sqrt(t / 2)))  * mp.exp(-z * (t + r ** 2 / t)), [0, mp.inf])"
   ]
  },
  {
   "cell_type": "code",
   "execution_count": null,
   "id": "7b67c9cc-ec7d-49d1-919a-15d846b90d7b",
   "metadata": {},
   "outputs": [],
   "source": [
    "I12 = mp.quad(lambda t: t ** (-(k+1)/2 - 2 + 2) * (mp.hermite(k-1, b * mp.sqrt(t / 2))) * 1/z * z * (r**2/t**2 - 1) * mp.exp(-z * (t + r ** 2 / t)), [0, mp.inf])"
   ]
  },
  {
   "cell_type": "code",
   "execution_count": null,
   "id": "52a8e318-8507-462f-a27b-0e8d501980c2",
   "metadata": {},
   "outputs": [],
   "source": [
    "(I11 + I12) / r ** 2"
   ]
  },
  {
   "cell_type": "code",
   "execution_count": null,
   "id": "e78ae1ae-c667-441a-9dbd-6a6896a5ed65",
   "metadata": {},
   "outputs": [],
   "source": [
    "I11, I12"
   ]
  },
  {
   "cell_type": "code",
   "execution_count": null,
   "id": "9f7fd0bd-d02c-401b-81bb-3d0eb6e932ec",
   "metadata": {},
   "outputs": [],
   "source": [
    "mp.quad(lambda t: t ** (-k/2 + 3/2 - 2) * (mp.hermite(k-1, b * mp.sqrt(t / 2)))  * mp.exp(-z * (t + r ** 2 / t)), [0, mp.inf])"
   ]
  },
  {
   "cell_type": "markdown",
   "id": "675f55e7-0ae1-402f-98c1-0b4bf1552f33",
   "metadata": {},
   "source": [
    "##### Coefficient finite series"
   ]
  },
  {
   "cell_type": "code",
   "execution_count": 26,
   "id": "50d0eb7d-db79-4d31-916f-3f063c61a25b",
   "metadata": {},
   "outputs": [
    {
     "data": {
      "text/plain": [
       "mpf('0.00000000787187474582876362098640050815035512668242480669280099020402751234395765083787946872163432080364454461')"
      ]
     },
     "execution_count": 26,
     "metadata": {},
     "output_type": "execute_result"
    }
   ],
   "source": [
    "k = 3\n",
    "mp.quad(lambda t: t ** (-k/2 - 2) * mp.hermite(k, b * mp.sqrt(t / 2)) * mp.exp(-delta ** 2 / 2 / t - alpha ** 2 / 2 * t), [0, mp.inf])"
   ]
  },
  {
   "cell_type": "code",
   "execution_count": 27,
   "id": "2b54b883-91af-47ae-b646-13c85bc11ece",
   "metadata": {},
   "outputs": [
    {
     "data": {
      "text/plain": [
       "mpf('0.00000000787187474582876362098640050815035512668242480669280099020402751234395765083787946872163432080364454461')"
      ]
     },
     "execution_count": 27,
     "metadata": {},
     "output_type": "execute_result"
    }
   ],
   "source": [
    "s = 0\n",
    "for j in range(int(mp.floor(k/2)) + 1):\n",
    "    s += (-1) ** j / mp.factorial(j) / mp.factorial(k - 2 * j) * (alpha / delta / beta ** 2 / 2) ** j * mp.besselk(j+1, alpha * delta)\n",
    "\n",
    "2 * mp.factorial(k) * s * (alpha / delta) * (b * mp.sqrt(2)) ** k "
   ]
  },
  {
   "cell_type": "code",
   "execution_count": 28,
   "id": "129adace-31ab-4a81-a3e0-4b51927d8740",
   "metadata": {},
   "outputs": [
    {
     "data": {
      "text/plain": [
       "mpf('0.000000006432287683089741882268625321096774185073826493223457816915269042648168288793850284049028980229857361478')"
      ]
     },
     "execution_count": 28,
     "metadata": {},
     "output_type": "execute_result"
    }
   ],
   "source": [
    "j = 4\n",
    "mp.quad(lambda t: t ** (-j - 2) * mp.exp(-delta ** 2 / 2 / t - alpha ** 2 / 2 * t), [0, mp.inf])"
   ]
  },
  {
   "cell_type": "code",
   "execution_count": 29,
   "id": "ddb05e44-b1a0-4598-aae9-703b7ec0a114",
   "metadata": {},
   "outputs": [
    {
     "data": {
      "text/plain": [
       "mpf('0.000000006432287683089741882268625321096774185073826493223457816915269042648168288793850284049028980229857361478')"
      ]
     },
     "execution_count": 29,
     "metadata": {},
     "output_type": "execute_result"
    }
   ],
   "source": [
    "2 * (alpha / delta) ** (j + 1) * mp.besselk(j+1, alpha * delta)"
   ]
  },
  {
   "cell_type": "markdown",
   "id": "67756776-a64a-4524-a17f-306dcc12c8fb",
   "metadata": {},
   "source": [
    "#### Final expansion"
   ]
  },
  {
   "cell_type": "code",
   "execution_count": 27,
   "id": "47d4dcef-d0b7-4103-9546-a4f8c33c3524",
   "metadata": {},
   "outputs": [],
   "source": [
    "N = 66"
   ]
  },
  {
   "cell_type": "code",
   "execution_count": 28,
   "id": "5bb82e00-7ac0-4b99-a808-f3ca6837dd0e",
   "metadata": {},
   "outputs": [],
   "source": [
    "def Ak(k):\n",
    "    s = 0\n",
    "    for j in range(int(mp.floor(k/2)) + 1):\n",
    "        s += (-1) ** j / mp.factorial(j) / mp.factorial(k - 2 * j) * (alpha / 2 / delta / beta ** 2) ** j * mp.besselk(j+1, alpha * delta)\n",
    "    return s"
   ]
  },
  {
   "cell_type": "code",
   "execution_count": 29,
   "id": "00ad24f8-a330-4829-8516-68646f9ce777",
   "metadata": {},
   "outputs": [
    {
     "data": {
      "text/plain": [
       "mpf('0.1554270837248255749217736224925765573112435404442983807411583080057858877030136380364619273849091060598')"
      ]
     },
     "execution_count": 29,
     "metadata": {},
     "output_type": "execute_result"
    }
   ],
   "source": [
    "s = 0\n",
    "for k in range(N):\n",
    "    s += (beta * (x-mu)) ** k / (k + 1) * Ak(k)\n",
    "\n",
    "quad_phi(mu, alpha, beta, mu, delta, digits=100) + mp.exp(delta * gamma) * (x-mu) * alpha / mp.pi * s "
   ]
  },
  {
   "cell_type": "code",
   "execution_count": 30,
   "id": "226102f0-6387-46e2-a73e-fd7ca1ab6cf3",
   "metadata": {},
   "outputs": [],
   "source": [
    "r2 = quad_phi(mu, alpha, beta, mu, delta, digits=100) + mp.exp(delta * gamma) * (x-mu) * alpha / mp.pi * s "
   ]
  },
  {
   "cell_type": "code",
   "execution_count": 31,
   "id": "4c6c454b-3caa-41be-9592-bcf3787ff8c7",
   "metadata": {},
   "outputs": [
    {
     "data": {
      "text/plain": [
       "(mpf('0.1554270837248255749217736224925765573112435404442983807411583080057858877030136380364619273849091060598'),\n",
       " mpf('0.1554270837248255343689904158621173574167549484033297369417738247473247052687011635448439251317681187645'))"
      ]
     },
     "execution_count": 31,
     "metadata": {},
     "output_type": "execute_result"
    }
   ],
   "source": [
    "r2, mp_result"
   ]
  },
  {
   "cell_type": "code",
   "execution_count": 32,
   "id": "0b2faa4e-14d3-4701-ba3b-d5877d9369da",
   "metadata": {},
   "outputs": [
    {
     "data": {
      "text/plain": [
       "2.609119481288523e-16"
      ]
     },
     "execution_count": 32,
     "metadata": {},
     "output_type": "execute_result"
    }
   ],
   "source": [
    "float(abs(r2 / mp_result - 1))"
   ]
  },
  {
   "cell_type": "markdown",
   "id": "da7b922b-bb82-49cc-ba77-6d53094989e7",
   "metadata": {},
   "source": [
    "cache version"
   ]
  },
  {
   "cell_type": "code",
   "execution_count": 128,
   "id": "43eb4304-cfa1-4cbb-81a6-956248f32a58",
   "metadata": {},
   "outputs": [],
   "source": [
    "cache = {\n",
    "    0: mp.besselk(0, alpha * delta),\n",
    "    1: mp.besselk(1, alpha * delta),\n",
    "    2: mp.besselk(2, alpha * delta)\n",
    "}"
   ]
  },
  {
   "cell_type": "code",
   "execution_count": 129,
   "id": "68d5d02c-3f8e-411a-a421-96673478ac95",
   "metadata": {},
   "outputs": [
    {
     "data": {
      "text/plain": [
       "mpf('0.0000000006329543612292228110481730278777254835597466965580820785850086943889780395876215966640115483295509048658')"
      ]
     },
     "execution_count": 129,
     "metadata": {},
     "output_type": "execute_result"
    }
   ],
   "source": [
    "cache[0] + 2/alpha/delta * cache[1]"
   ]
  },
  {
   "cell_type": "code",
   "execution_count": 130,
   "id": "9a165194-8d84-4643-9803-4489e050890e",
   "metadata": {},
   "outputs": [],
   "source": [
    "def Ak(k):\n",
    "    u = 1.0\n",
    "    z = (-alpha / 2 / delta / beta ** 2)\n",
    "    s = 0\n",
    "    print('floor: ', int(mp.floor(k/2)) + 1)\n",
    "    for j in range(int(mp.floor(k/2)) + 1):\n",
    "        if j + 1 not in cache:\n",
    "            cache[j+1] = cache[j-1] + 2 * j / alpha / delta * cache[j]\n",
    "            print(f'bessel j + 1 = {j+1}', float(cache[j+1] * mp.exp(alpha * delta)), float(mp.besselk(j+1, alpha * delta) * mp.exp(alpha * delta)))\n",
    "\n",
    "        print(j+1, float(cache[j+1]))\n",
    "        f = 1 / mp.factorial(j) / mp.factorial(k - 2 * j)\n",
    "\n",
    "        print(f'j={j}, f={float(f)}')\n",
    "        \n",
    "        # print(u, z ** j)\n",
    "        s += f * u * cache[j+1]\n",
    "        u *= z\n",
    "    return s"
   ]
  },
  {
   "cell_type": "code",
   "execution_count": 131,
   "id": "c8526bea-5a88-4831-af12-2d3228840b6c",
   "metadata": {},
   "outputs": [],
   "source": [
    "# k = 7\n",
    "# for j in range(int(mp.floor(k/2)) + 1):\n",
    "#     f = 1 / mp.factorial(j) / mp.factorial(k - 2 * j)\n",
    "#     print(f'j={j}, f={f}')    "
   ]
  },
  {
   "cell_type": "code",
   "execution_count": 132,
   "id": "ed410d75-5258-4d41-bb41-849994e5dc98",
   "metadata": {},
   "outputs": [],
   "source": [
    "# k = 7\n",
    "# f = 1 / mp.factorial(k)\n",
    "# print(f'j=0, f={f}')\n",
    "# for j in range(1, int(mp.floor(k/2)) + 1):\n",
    "#     f *= (2.0 * j - k - 1) * (2.0 * j - k - 2) / j;\n",
    "#     print(f'j={j}, f={f}')    "
   ]
  },
  {
   "cell_type": "code",
   "execution_count": 133,
   "id": "2f02ed9f-d1b8-44bc-bd62-bd5063be6fda",
   "metadata": {},
   "outputs": [
    {
     "name": "stdout",
     "output_type": "stream",
     "text": [
      "0 -----------------\n",
      "floor:  1\n",
      "1 5.883057969557038e-10\n",
      "j=0, f=1.0\n",
      "0 sA 5.883057969557038e-10\n",
      "0 s 5.883057969557038e-10\n",
      "1 -----------------\n",
      "floor:  1\n",
      "1 5.883057969557038e-10\n",
      "j=0, f=1.0\n",
      "1 sA 5.883057969557038e-10\n",
      "1 s 5.147675723362408e-10\n",
      "2 -----------------\n",
      "floor:  2\n",
      "1 5.883057969557038e-10\n",
      "j=0, f=0.5\n",
      "2 6.329543612292228e-10\n",
      "j=1, f=1.0\n",
      "2 sA -1.2882330045952052e-09\n",
      "2 s 4.879293847405074e-10\n",
      "3 -----------------\n",
      "floor:  2\n",
      "1 5.883057969557038e-10\n",
      "j=0, f=0.16666666666666666\n",
      "2 6.329543612292228e-10\n",
      "j=1, f=1.0\n",
      "3 sA -1.484334936913773e-09\n",
      "3 s 4.937275680878268e-10\n",
      "4 -----------------\n",
      "floor:  3\n",
      "1 5.883057969557038e-10\n",
      "j=0, f=0.041666666666666664\n",
      "2 6.329543612292228e-10\n",
      "j=1, f=0.5\n",
      "bessel j + 1 = 3 0.3468429822109774 0.3468429822109774\n",
      "3 7.148966692015483e-10\n",
      "j=2, f=0.5\n",
      "4 sA 1.4673718812581311e-09\n",
      "4 s 4.948739523700597e-10\n",
      "5 -----------------\n",
      "floor:  3\n",
      "1 5.883057969557038e-10\n",
      "j=0, f=0.008333333333333333\n",
      "2 6.329543612292228e-10\n",
      "j=1, f=0.16666666666666666\n",
      "3 7.148966692015483e-10\n",
      "j=2, f=0.5\n",
      "5 sA 1.9752236557172934e-09\n",
      "5 s 4.945524641448453e-10\n",
      "6 -----------------\n",
      "floor:  4\n",
      "1 5.883057969557038e-10\n",
      "j=0, f=0.001388888888888889\n",
      "2 6.329543612292228e-10\n",
      "j=1, f=0.041666666666666664\n",
      "3 7.148966692015483e-10\n",
      "j=2, f=0.25\n",
      "bessel j + 1 = 4 0.4111403210145481 0.4111403210145481\n",
      "4 8.474233619896874e-10\n",
      "j=3, f=0.16666666666666666\n",
      "6 sA -1.1549212807974415e-09\n",
      "6 s 4.945121836872283e-10\n",
      "7 -----------------\n",
      "floor:  4\n",
      "1 5.883057969557038e-10\n",
      "j=0, f=0.0001984126984126984\n",
      "2 6.329543612292228e-10\n",
      "j=1, f=0.008333333333333333\n",
      "3 7.148966692015483e-10\n",
      "j=2, f=0.08333333333333333\n",
      "4 8.474233619896874e-10\n",
      "j=3, f=0.16666666666666666\n",
      "7 sA -1.847559478490614e-09\n",
      "7 s 4.945262794474096e-10\n",
      "8 -----------------\n",
      "floor:  5\n",
      "1 5.883057969557038e-10\n",
      "j=0, f=2.48015873015873e-05\n",
      "2 6.329543612292228e-10\n",
      "j=1, f=0.001388888888888889\n",
      "3 7.148966692015483e-10\n",
      "j=2, f=0.020833333333333332\n",
      "4 8.474233619896874e-10\n",
      "j=3, f=0.08333333333333333\n",
      "bessel j + 1 = 5 0.5112991106167967 0.5112991106167967\n",
      "5 1.0538660139974233e-09\n",
      "j=4, f=0.041666666666666664\n",
      "8 sA 7.027632160876814e-10\n",
      "8 s 4.94527470926929e-10\n",
      "9 -----------------\n",
      "floor:  5\n",
      "1 5.883057969557038e-10\n",
      "j=0, f=2.7557319223985893e-06\n",
      "2 6.329543612292228e-10\n",
      "j=1, f=0.0001984126984126984\n",
      "3 7.148966692015483e-10\n",
      "j=2, f=0.004166666666666667\n",
      "4 8.474233619896874e-10\n",
      "j=3, f=0.027777777777777776\n",
      "5 1.0538660139974233e-09\n",
      "j=4, f=0.041666666666666664\n",
      "9 sA 1.3657761933658033e-09\n",
      "9 s 4.94526949924658e-10\n",
      "10 -----------------\n",
      "floor:  6\n",
      "1 5.883057969557038e-10\n",
      "j=0, f=2.755731922398589e-07\n",
      "2 6.329543612292228e-10\n",
      "j=1, f=2.48015873015873e-05\n",
      "3 7.148966692015483e-10\n",
      "j=2, f=0.0006944444444444445\n",
      "4 8.474233619896874e-10\n",
      "j=3, f=0.006944444444444444\n",
      "5 1.0538660139974233e-09\n",
      "j=4, f=0.020833333333333332\n",
      "bessel j + 1 = 6 0.6667898763229464 0.6667898763229464\n",
      "6 1.374356368988399e-09\n",
      "j=5, f=0.008333333333333333\n",
      "10 sA -3.4970327167430546e-10\n",
      "10 s 4.945269196062009e-10\n",
      "11 -----------------\n",
      "floor:  6\n",
      "1 5.883057969557038e-10\n",
      "j=0, f=2.505210838544172e-08\n",
      "2 6.329543612292228e-10\n",
      "j=1, f=2.7557319223985893e-06\n",
      "3 7.148966692015483e-10\n",
      "j=2, f=9.92063492063492e-05\n",
      "4 8.474233619896874e-10\n",
      "j=3, f=0.001388888888888889\n",
      "5 1.0538660139974233e-09\n",
      "j=4, f=0.006944444444444444\n",
      "6 1.374356368988399e-09\n",
      "j=5, f=0.008333333333333333\n",
      "11 sA -8.505259692647217e-10\n",
      "11 s 4.945269365046336e-10\n",
      "12 -----------------\n",
      "floor:  7\n",
      "1 5.883057969557038e-10\n",
      "j=0, f=2.08767569878681e-09\n",
      "2 6.329543612292228e-10\n",
      "j=1, f=2.755731922398589e-07\n",
      "3 7.148966692015483e-10\n",
      "j=2, f=1.240079365079365e-05\n",
      "4 8.474233619896874e-10\n",
      "j=3, f=0.0002314814814814815\n",
      "5 1.0538660139974233e-09\n",
      "j=4, f=0.001736111111111111\n",
      "6 1.374356368988399e-09\n",
      "j=5, f=0.004166666666666667\n",
      "bessel j + 1 = 7 0.9113730364105646 0.9113730364105646\n",
      "7 1.878479835390463e-09\n",
      "j=6, f=0.001388888888888889\n",
      "12 sA 1.4619558900570747e-10\n",
      "12 s 4.945269371749364e-10\n",
      "13 -----------------\n",
      "floor:  7\n",
      "1 5.883057969557038e-10\n",
      "j=0, f=1.6059043836821613e-10\n",
      "2 6.329543612292228e-10\n",
      "j=1, f=2.505210838544172e-08\n",
      "3 7.148966692015483e-10\n",
      "j=2, f=1.3778659611992946e-06\n",
      "4 8.474233619896874e-10\n",
      "j=3, f=3.306878306878307e-05\n",
      "5 1.0538660139974233e-09\n",
      "j=4, f=0.00034722222222222224\n",
      "6 1.374356368988399e-09\n",
      "j=5, f=0.001388888888888889\n",
      "7 1.878479835390463e-09\n",
      "j=6, f=0.001388888888888889\n",
      "13 sA 4.644160481908124e-10\n",
      "13 s 4.945269366806265e-10\n",
      "14 -----------------\n",
      "floor:  8\n",
      "1 5.883057969557038e-10\n",
      "j=0, f=1.1470745597729725e-11\n",
      "2 6.329543612292228e-10\n",
      "j=1, f=2.08767569878681e-09\n",
      "3 7.148966692015483e-10\n",
      "j=2, f=1.3778659611992944e-07\n",
      "4 8.474233619896874e-10\n",
      "j=3, f=4.133597883597884e-06\n",
      "5 1.0538660139974233e-09\n",
      "j=4, f=5.787037037037037e-05\n",
      "6 1.374356368988399e-09\n",
      "j=5, f=0.00034722222222222224\n",
      "7 1.878479835390463e-09\n",
      "j=6, f=0.0006944444444444445\n",
      "bessel j + 1 = 8 1.3047510018103416 1.3047510018103416\n",
      "8 2.6892922537617228e-09\n",
      "j=7, f=0.0001984126984126984\n",
      "14 sA -5.1469954787611204e-11\n",
      "14 s 4.945269366678438e-10\n",
      "15 -----------------\n",
      "floor:  8\n",
      "1 5.883057969557038e-10\n",
      "j=0, f=7.647163731819816e-13\n",
      "2 6.329543612292228e-10\n",
      "j=1, f=1.6059043836821613e-10\n",
      "3 7.148966692015483e-10\n",
      "j=2, f=1.252605419272086e-08\n",
      "4 8.474233619896874e-10\n",
      "j=3, f=4.592886537330982e-07\n",
      "5 1.0538660139974233e-09\n",
      "j=4, f=8.267195767195768e-06\n",
      "6 1.374356368988399e-09\n",
      "j=5, f=6.944444444444444e-05\n",
      "7 1.878479835390463e-09\n",
      "j=6, f=0.0002314814814814815\n",
      "8 2.6892922537617228e-09\n",
      "j=7, f=0.0001984126984126984\n",
      "15 sA -2.2850299841165002e-10\n",
      "15 s 4.945269366811444e-10\n",
      "16 -----------------\n",
      "floor:  9\n",
      "1 5.883057969557038e-10\n",
      "j=0, f=4.779477332387385e-14\n",
      "2 6.329543612292228e-10\n",
      "j=1, f=1.1470745597729725e-11\n",
      "3 7.148966692015483e-10\n",
      "j=2, f=1.043837849393405e-09\n",
      "4 8.474233619896874e-10\n",
      "j=3, f=4.592886537330982e-08\n",
      "5 1.0538660139974233e-09\n",
      "j=4, f=1.033399470899471e-06\n",
      "6 1.374356368988399e-09\n",
      "j=5, f=1.1574074074074073e-05\n",
      "7 1.878479835390463e-09\n",
      "j=6, f=5.787037037037037e-05\n",
      "8 2.6892922537617228e-09\n",
      "j=7, f=9.92063492063492e-05\n",
      "bessel j + 1 = 9 1.9551738378588377 1.9551738378588377\n",
      "9 4.029913638399841e-09\n",
      "j=8, f=2.48015873015873e-05\n",
      "16 sA 1.469891806352963e-11\n",
      "16 s 4.945269366813458e-10\n",
      "17 -----------------\n",
      "floor:  9\n",
      "1 5.883057969557038e-10\n",
      "j=0, f=2.8114572543455206e-15\n",
      "2 6.329543612292228e-10\n",
      "j=1, f=7.647163731819816e-13\n",
      "3 7.148966692015483e-10\n",
      "j=2, f=8.029521918410807e-11\n",
      "4 8.474233619896874e-10\n",
      "j=3, f=4.17535139757362e-09\n",
      "5 1.0538660139974233e-09\n",
      "j=4, f=1.1482216343327455e-07\n",
      "6 1.374356368988399e-09\n",
      "j=5, f=1.6534391534391535e-06\n",
      "7 1.878479835390463e-09\n",
      "j=6, f=1.1574074074074073e-05\n",
      "8 2.6892922537617228e-09\n",
      "j=7, f=3.306878306878307e-05\n",
      "9 4.029913638399841e-09\n",
      "j=8, f=2.48015873015873e-05\n",
      "17 sA 1.0332015941271521e-10\n",
      "17 s 4.945269366810117e-10\n",
      "18 -----------------\n",
      "floor:  10\n",
      "1 5.883057969557038e-10\n",
      "j=0, f=1.5619206968586225e-16\n",
      "2 6.329543612292228e-10\n",
      "j=1, f=4.779477332387385e-14\n",
      "3 7.148966692015483e-10\n",
      "j=2, f=5.735372798864862e-12\n",
      "4 8.474233619896874e-10\n",
      "j=3, f=3.4794594979780167e-10\n",
      "5 1.0538660139974233e-09\n",
      "j=4, f=1.1482216343327455e-08\n",
      "6 1.374356368988399e-09\n",
      "j=5, f=2.066798941798942e-07\n",
      "7 1.878479835390463e-09\n",
      "j=6, f=1.9290123456790124e-06\n",
      "8 2.6892922537617228e-09\n",
      "j=7, f=8.267195767195768e-06\n",
      "9 4.029913638399841e-09\n",
      "j=8, f=1.240079365079365e-05\n",
      "bessel j + 1 = 10 3.0644074558832957 3.0644074558832957\n",
      "10 6.3162145283215796e-09\n",
      "j=9, f=2.7557319223985893e-06\n",
      "18 sA -2.8558572080123306e-12\n",
      "18 s 4.945269366810095e-10\n",
      "19 -----------------\n",
      "floor:  10\n",
      "1 5.883057969557038e-10\n",
      "j=0, f=8.22063524662433e-18\n",
      "2 6.329543612292228e-10\n",
      "j=1, f=2.8114572543455206e-15\n",
      "3 7.148966692015483e-10\n",
      "j=2, f=3.823581865909908e-13\n",
      "4 8.474233619896874e-10\n",
      "j=3, f=2.6765073061369358e-11\n",
      "5 1.0538660139974233e-09\n",
      "j=4, f=1.043837849393405e-09\n",
      "6 1.374356368988399e-09\n",
      "j=5, f=2.296443268665491e-08\n",
      "7 1.878479835390463e-09\n",
      "j=6, f=2.755731922398589e-07\n",
      "8 2.6892922537617228e-09\n",
      "j=7, f=1.6534391534391535e-06\n",
      "9 4.029913638399841e-09\n",
      "j=8, f=4.133597883597884e-06\n",
      "10 6.3162145283215796e-09\n",
      "j=9, f=2.7557319223985893e-06\n",
      "19 sA -4.3570314897530506e-11\n",
      "19 s 4.945269366810174e-10\n"
     ]
    },
    {
     "data": {
      "text/plain": [
       "mpf('-0.1727154380316864792654999019734816734722948468849094511223123492050000668864980935631087446387567549447')"
      ]
     },
     "execution_count": 133,
     "metadata": {},
     "output_type": "execute_result"
    }
   ],
   "source": [
    "N = 20\n",
    "s = 0\n",
    "for k in range(N):\n",
    "    print(k, '-----------------')\n",
    "    ak = Ak(k)\n",
    "    print(k, 'sA', float(ak))\n",
    "    s += (beta * (x-mu)) ** k / (k + 1) * ak\n",
    "    print(k, 's', float(s))\n",
    "\n",
    "mp.exp(delta * gamma) * (x-mu) * alpha / mp.pi * s "
   ]
  },
  {
   "cell_type": "code",
   "execution_count": 135,
   "id": "ef27f39f-0969-4168-9d54-867e2c35f982",
   "metadata": {},
   "outputs": [
    {
     "data": {
      "text/plain": [
       "mpf('-349253852.9667442156569606495726521176737569493562398415082806071966090339680234840621122446708905460011')"
      ]
     },
     "execution_count": 135,
     "metadata": {},
     "output_type": "execute_result"
    }
   ],
   "source": [
    "C = mp.exp(delta * gamma) * (x-mu) * alpha / mp.pi\n",
    "C"
   ]
  },
  {
   "cell_type": "code",
   "execution_count": 134,
   "id": "f183d4ec-e297-4a41-9d39-722764d15998",
   "metadata": {},
   "outputs": [
    {
     "data": {
      "text/plain": [
       "mpf('0.0000000004945269366810174043336543886321126845707763750372031140793050257150416955369671449033415141841909165787')"
      ]
     },
     "execution_count": 134,
     "metadata": {},
     "output_type": "execute_result"
    }
   ],
   "source": [
    "s"
   ]
  },
  {
   "cell_type": "code",
   "execution_count": 124,
   "id": "84773958-963a-48cc-b6e9-e4aaca87722a",
   "metadata": {},
   "outputs": [
    {
     "data": {
      "text/plain": [
       "mpf('0.0000000007148966692015483799746628227298261509451759410950879440083876805284684612508355284580252578473566680023')"
      ]
     },
     "execution_count": 124,
     "metadata": {},
     "output_type": "execute_result"
    }
   ],
   "source": [
    "cache[3]"
   ]
  },
  {
   "cell_type": "code",
   "execution_count": 125,
   "id": "eab2c9a0-7fd3-4016-898b-cf7fbf2dd616",
   "metadata": {},
   "outputs": [
    {
     "data": {
      "text/plain": [
       "mpf('0.1554270790994329564898842291575091537359481071877430101786928213695531612725956880332964235802065878843')"
      ]
     },
     "execution_count": 125,
     "metadata": {},
     "output_type": "execute_result"
    }
   ],
   "source": [
    "quad_phi(mu, alpha, beta, mu, delta, digits=100) + mp.exp(delta * gamma) * (x-mu) * alpha / mp.pi * s "
   ]
  },
  {
   "cell_type": "code",
   "execution_count": 126,
   "id": "9904d327-52e8-4360-b094-95e6e60fde78",
   "metadata": {},
   "outputs": [
    {
     "data": {
      "text/plain": [
       "mpf('0.1554270837248255343689904158621173574167549484033297369417738247473247052687011635448439251317681187645')"
      ]
     },
     "execution_count": 126,
     "metadata": {},
     "output_type": "execute_result"
    }
   ],
   "source": [
    "mp_result"
   ]
  },
  {
   "cell_type": "code",
   "execution_count": 76,
   "id": "5d4cbb86-9c38-453b-b38b-074e371cd4ef",
   "metadata": {},
   "outputs": [
    {
     "data": {
      "text/plain": [
       "mpf('0.0000000000000001561920696858622646221636435005733342351940408446961685541067911299954734612548355329418371919322916999')"
      ]
     },
     "execution_count": 76,
     "metadata": {},
     "output_type": "execute_result"
    }
   ],
   "source": [
    "k = 20\n",
    "j = 1\n",
    "1 / mp.factorial(j) / mp.factorial(k - 2 * j)"
   ]
  },
  {
   "cell_type": "code",
   "execution_count": 77,
   "id": "329fb710-c2fa-408d-9722-7c4f3a651e24",
   "metadata": {},
   "outputs": [],
   "source": [
    "t0 = 1 / mp.factorial(0) / mp.factorial(k - 2 * 0)"
   ]
  },
  {
   "cell_type": "code",
   "execution_count": 89,
   "id": "91060655-e5b1-4dd4-b3b4-f63222123f91",
   "metadata": {},
   "outputs": [
    {
     "data": {
      "text/plain": [
       "mpf('0.00000000000000000008220635246624330173292907629243931809029120574458175481816490770429720928698947456807975934404933554928')"
      ]
     },
     "execution_count": 89,
     "metadata": {},
     "output_type": "execute_result"
    }
   ],
   "source": [
    "j = 10\n",
    "(2*j - 2 - k) *(2*j - k - 1) / j * t0"
   ]
  },
  {
   "cell_type": "code",
   "execution_count": 90,
   "id": "c1cc138e-3eb9-4f0c-a58a-0c06edc61f00",
   "metadata": {},
   "outputs": [
    {
     "data": {
      "text/plain": [
       "0.2"
      ]
     },
     "execution_count": 90,
     "metadata": {},
     "output_type": "execute_result"
    }
   ],
   "source": [
    "(2*j - 2 - k) *(2*j - k - 1) / j "
   ]
  },
  {
   "cell_type": "markdown",
   "id": "0a8d2d68-e0f5-42a0-8065-94dd2d4f49f4",
   "metadata": {},
   "source": [
    "Complexity"
   ]
  },
  {
   "cell_type": "code",
   "execution_count": 156,
   "id": "7e3068bc-e3e9-4355-ac90-1abaf7bde392",
   "metadata": {},
   "outputs": [],
   "source": [
    "import matplotlib.pyplot as plt"
   ]
  },
  {
   "cell_type": "code",
   "execution_count": 148,
   "id": "ee86966c-55ca-4c91-90f0-c864194f8f06",
   "metadata": {},
   "outputs": [],
   "source": [
    "def complexity_hermite(N):\n",
    "    t1 = mp.floor((N - 1) / 2) * (mp.floor((N - 1) / 2) + 1)\n",
    "    t2 = mp.floor(N / 2) * (mp.floor(N / 2) + 1)\n",
    "    t3 = 2*(N + 1)\n",
    "\n",
    "    return int(t1 + t2 + t3) // 2\n",
    "\n",
    "\n",
    "def complexity_bessel(N):\n",
    "    return (N + 1) * (N + 2)"
   ]
  },
  {
   "cell_type": "code",
   "execution_count": 167,
   "id": "672cc7f2-4dda-42d6-a704-c8e1c17a3ab7",
   "metadata": {},
   "outputs": [
    {
     "data": {
      "text/plain": [
       "(100, 1560)"
      ]
     },
     "execution_count": 167,
     "metadata": {},
     "output_type": "execute_result"
    }
   ],
   "source": [
    "N = 30\n",
    "complexity_hermite(18), complexity_bessel(38)"
   ]
  },
  {
   "cell_type": "code",
   "execution_count": 165,
   "id": "42f6a584-4c13-4b0e-aba1-932728cf2895",
   "metadata": {},
   "outputs": [],
   "source": [
    "ch = [complexity_hermite(N) for N in range(100)]\n",
    "cb = [complexity_bessel(N) for N in range(100)]"
   ]
  },
  {
   "cell_type": "code",
   "execution_count": 166,
   "id": "c8fbac7c-631b-486f-abe0-6237a93d946e",
   "metadata": {},
   "outputs": [
    {
     "data": {
      "image/png": "[encoded data removed]",
      "text/plain": [
       "<Figure size 640x480 with 1 Axes>"
      ]
     },
     "metadata": {},
     "output_type": "display_data"
    }
   ],
   "source": [
    "plt.plot(ch, label='Hermite series')\n",
    "plt.plot(cb, label='Bessel series')\n",
    "\n",
    "plt.xlabel('N')\n",
    "plt.ylabel('Terms (Outer | Inner)')\n",
    "\n",
    "plt.legend()\n",
    "plt.show()"
   ]
  },
  {
   "cell_type": "code",
   "execution_count": null,
   "id": "46b5dd04-f92f-4b03-8dbb-9101d79d10b7",
   "metadata": {},
   "outputs": [],
   "source": []
  }
 ],
 "metadata": {
  "kernelspec": {
   "display_name": "Python 3 (ipykernel)",
   "language": "python",
   "name": "python3"
  },
  "language_info": {
   "codemirror_mode": {
    "name": "ipython",
    "version": 3
   },
   "file_extension": ".py",
   "mimetype": "text/x-python",
   "name": "python",
   "nbconvert_exporter": "python",
   "pygments_lexer": "ipython3",
   "version": "3.12.7"
  }
 },
 "nbformat": 4,
 "nbformat_minor": 5
}
