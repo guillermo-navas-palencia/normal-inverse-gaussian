{
 "cells": [
  {
   "cell_type": "code",
   "execution_count": 1,
   "id": "1e1d6a85-a731-4358-b4e0-9d3944117fe9",
   "metadata": {},
   "outputs": [],
   "source": [
    "import itertools\n",
    "\n",
    "import matplotlib.pyplot as plt\n",
    "import numpy as np\n",
    "import pandas as pd\n",
    "\n",
    "from scipy import stats\n",
    "from code.python.mpmath_integration import quad_phi\n",
    "from mpmath import mp\n",
    "\n",
    "from scipy import stats"
   ]
  },
  {
   "cell_type": "code",
   "execution_count": 77,
   "id": "6b369e67-58f5-4b64-adca-14f4663702f7",
   "metadata": {},
   "outputs": [],
   "source": [
    "x = mp.mpf('1')\n",
    "alpha = mp.mpf('9')\n",
    "beta = mp.mpf('8.5')\n",
    "mu = mp.mpf('0')\n",
    "delta = mp.mpf('32')\n",
    "\n",
    "\n",
    "xmu = x - mu\n",
    "gamma = mp.sqrt(alpha ** 2 - beta ** 2)\n",
    "omega = mp.sqrt(xmu ** 2 + delta ** 2)"
   ]
  },
  {
   "cell_type": "code",
   "execution_count": 78,
   "id": "8e3a830a-be5e-441d-b0f9-476f0983cde0",
   "metadata": {},
   "outputs": [
    {
     "data": {
      "text/plain": [
       "1.1801490427709067e-82"
      ]
     },
     "execution_count": 78,
     "metadata": {},
     "output_type": "execute_result"
    }
   ],
   "source": [
    "mp_result = quad_phi(x, alpha, beta, mu, delta, digits=100)\n",
    "float(mp_result)\n",
    "# mp_result"
   ]
  },
  {
   "cell_type": "code",
   "execution_count": 79,
   "id": "14fdac89-b008-404f-89fe-73154bf79400",
   "metadata": {},
   "outputs": [
    {
     "data": {
      "text/plain": [
       "1.1882211284507493e-82"
      ]
     },
     "execution_count": 79,
     "metadata": {},
     "output_type": "execute_result"
    }
   ],
   "source": [
    "stats.norminvgauss.cdf(x=float(x), a=float(alpha*delta), b=float(beta*delta), loc=float(mu), scale=float(delta))"
   ]
  },
  {
   "cell_type": "code",
   "execution_count": 80,
   "id": "c71590fe-4297-43b9-bd29-fa54902e52b6",
   "metadata": {},
   "outputs": [
    {
     "name": "stdout",
     "output_type": "stream",
     "text": [
      "0 363.438808185936\n",
      "1 40.70891257339008\n",
      "2 2.408584821767361\n",
      "3 0.09830064928501418\n",
      "4 0.003083863548596357\n",
      "5 7.88908723868817e-05\n",
      "6 1.7082529555098892e-06\n",
      "7 3.212599666432848e-08\n",
      "8 5.347379532498757e-10\n",
      "9 7.992744388540925e-12\n",
      "10 1.0854020253252006e-13\n",
      "11 1.3541624248325943e-15\n",
      "12 1.5899095377816256e-17\n",
      "13 2.0451031593856353e-19\n",
      "14 5.926873690701487e-21\n",
      "15 5.241175892178445e-22\n",
      "16 6.511842771193355e-23\n",
      "17 8.870278742672202e-24\n",
      "18 1.2883585384547614e-24\n",
      "19 1.9852832982260976e-25\n",
      "20 3.235755452777078e-26\n",
      "21 5.563520448823672e-27\n"
     ]
    }
   ],
   "source": [
    "mp.dps = 100\n",
    "\n",
    "C = alpha * mp.exp(delta * gamma - delta * alpha) / mp.pi / beta\n",
    "\n",
    "s = mp.zero\n",
    "for k in range(22):\n",
    "    r = mp.gammainc(2*k +1, -xmu * beta) * (-alpha / beta ** 2 / 2 / delta) ** k * mp.besselk(k+1, alpha * delta) * mp.exp(alpha * delta) / mp.factorial(k)\n",
    "    print(k, abs(float(r)))\n",
    "    s += r"
   ]
  },
  {
   "cell_type": "code",
   "execution_count": 81,
   "id": "cd9920bb-8d51-44c3-99c0-2a005155cce3",
   "metadata": {},
   "outputs": [
    {
     "data": {
      "text/plain": [
       "1.1801490427709067e-82"
      ]
     },
     "execution_count": 81,
     "metadata": {},
     "output_type": "execute_result"
    }
   ],
   "source": [
    "float(C * s)"
   ]
  },
  {
   "cell_type": "code",
   "execution_count": 82,
   "id": "06c2e807-d87e-46c4-9e10-d30e0fd46fb7",
   "metadata": {},
   "outputs": [
    {
     "data": {
      "text/plain": [
       "1.1801490427709067e-82"
      ]
     },
     "execution_count": 82,
     "metadata": {},
     "output_type": "execute_result"
    }
   ],
   "source": [
    "N = 22\n",
    "\n",
    "ad = alpha * delta\n",
    "\n",
    "C = alpha * mp.exp(delta * (gamma - alpha)) / mp.pi / beta\n",
    "z = -alpha / beta ** 2 / delta / 2\n",
    "\n",
    "k0 = mp.besselk(0, ad) * mp.exp(ad)\n",
    "k1 = mp.besselk(1, ad) * mp.exp(ad)\n",
    "rp = k1 / k0\n",
    "\n",
    "u = -xmu * beta\n",
    "y = mp.exp(-u)\n",
    "u2 = u * u\n",
    "v = 1\n",
    "qp = y\n",
    "\n",
    "t = k1\n",
    "\n",
    "s = t * y\n",
    "sp = s\n",
    "\n",
    "for k in range(1, N):\n",
    "    # Bessel ratio recursion\n",
    "    r = 1.0 / rp + 2 * k / ad;\n",
    "\n",
    "    # Incomplete gamma recursion\n",
    "    v *= u2\n",
    "    m = 2*k * (2*k-1)\n",
    "    q = m * qp + y * (v * (2*k / u + 1))\n",
    "    \n",
    "    t *= z * r / k\n",
    "    s += t * q\n",
    "\n",
    "    rp = r\n",
    "    qp = q\n",
    "\n",
    "float(C * s)"
   ]
  },
  {
   "cell_type": "code",
   "execution_count": 60,
   "id": "4947f340-2a5d-4c1b-8a10-08e72c982d67",
   "metadata": {},
   "outputs": [
    {
     "data": {
      "text/plain": [
       "2.8281182724036365e-06"
      ]
     },
     "execution_count": 60,
     "metadata": {},
     "output_type": "execute_result"
    }
   ],
   "source": [
    "float(mp_result)"
   ]
  },
  {
   "cell_type": "code",
   "execution_count": 44,
   "id": "b57c24e7-e845-4c05-9f7c-2bd71392d295",
   "metadata": {},
   "outputs": [
    {
     "data": {
      "text/plain": [
       "mpf('18414.12942166299348434549312051655519095412984655842726046311372752241973197096570076603410260444174547')"
      ]
     },
     "execution_count": 44,
     "metadata": {},
     "output_type": "execute_result"
    }
   ],
   "source": [
    "k = 2\n",
    "mp.gammainc(2*k +1, -xmu * beta)"
   ]
  },
  {
   "cell_type": "code",
   "execution_count": 45,
   "id": "0716b76d-9953-4844-a824-e33b9cf54c62",
   "metadata": {},
   "outputs": [
    {
     "data": {
      "text/plain": [
       "mpf('-4624.630120564308171137181590303882788562265424341896488878912155216446385481250780943990232918072445698')"
      ]
     },
     "execution_count": 45,
     "metadata": {},
     "output_type": "execute_result"
    }
   ],
   "source": [
    "mp.gammainc(2*k, u)"
   ]
  },
  {
   "cell_type": "code",
   "execution_count": 46,
   "id": "59bde5ed-799c-4cee-aead-8dfd90b0278f",
   "metadata": {},
   "outputs": [
    {
     "data": {
      "text/plain": [
       "mpf('-4624.630120564308171137181590303882788562265424341896488878912155216446385481250780943990232918072445698')"
      ]
     },
     "execution_count": 46,
     "metadata": {},
     "output_type": "execute_result"
    }
   ],
   "source": [
    "u = -xmu * beta\n",
    "(2*k-1) * mp.gammainc(2*k-1, u) + u ** (2*k-1) * mp.exp(-u)"
   ]
  },
  {
   "cell_type": "code",
   "execution_count": 48,
   "id": "dc91e1e6-c4dd-4b9e-ba70-af88ceec0e8a",
   "metadata": {},
   "outputs": [
    {
     "data": {
      "text/plain": [
       "mpf('1192.726989731914029539029801878860281235036824769442890075826492586236780683728911873632517492252260935')"
      ]
     },
     "execution_count": 48,
     "metadata": {},
     "output_type": "execute_result"
    }
   ],
   "source": [
    " mp.gammainc(2*k-1, u)"
   ]
  },
  {
   "cell_type": "code",
   "execution_count": 47,
   "id": "4d698fdd-7603-4a55-97cd-1617924230b1",
   "metadata": {},
   "outputs": [
    {
     "data": {
      "text/plain": [
       "mpf('18414.12942166299348434549312051655519095412984655842726046311372752241973197096570076603410260444174547')"
      ]
     },
     "execution_count": 47,
     "metadata": {},
     "output_type": "execute_result"
    }
   ],
   "source": [
    "2*k * ((2*k-1) * mp.gammainc(2*k-1, u) + u ** (2*k-1) * mp.exp(-u)) + u ** (2*k) * mp.exp(-u)"
   ]
  },
  {
   "cell_type": "code",
   "execution_count": 50,
   "id": "f144f61f-9864-416e-8b5d-14951cc91b80",
   "metadata": {},
   "outputs": [
    {
     "data": {
      "text/plain": [
       "mpf('18414.12942166299348434549312051655519095412984655842726046311372752241973197096570076603410260444174547')"
      ]
     },
     "execution_count": 50,
     "metadata": {},
     "output_type": "execute_result"
    }
   ],
   "source": [
    "2*k * (2*k-1) *  mp.gammainc(2*k-1, u) + 2*k * u**(2*k-1) * mp.exp(-u) + u ** (2*k) * mp.exp(-u)"
   ]
  },
  {
   "cell_type": "code",
   "execution_count": 40,
   "id": "b477dca1-c6d6-453d-9f6d-ecb15017fcac",
   "metadata": {},
   "outputs": [
    {
     "data": {
      "text/plain": [
       "mpf('1192.72698973191402953902980187886028123503682476944289007582649258623678068372891187363251749225226095')"
      ]
     },
     "execution_count": 40,
     "metadata": {},
     "output_type": "execute_result"
    }
   ],
   "source": [
    "2*k * (2*k-1) *  mp.gammainc(2*k-1, u) + mp.exp(-u) * (u**(2*k) * (2*k*(2*k - 1) / u + 1))"
   ]
  },
  {
   "cell_type": "code",
   "execution_count": 32,
   "id": "2a70bba3-5987-4f10-8c0b-afb0bb1e6a2d",
   "metadata": {},
   "outputs": [
    {
     "data": {
      "text/plain": [
       "mpf('479.3356565026090677505772837278718042396365376488463736135194311646176530881995893862764216951895324328')"
      ]
     },
     "execution_count": 32,
     "metadata": {},
     "output_type": "execute_result"
    }
   ],
   "source": [
    "2*k * (2*k - 1) * mp.exp(xmu * beta) + (2*k + 1) * mp.exp(xmu * beta) + (xmu * beta) ** (2*k) * (2*k - 1) * (2/xmu/beta * k + 1)"
   ]
  },
  {
   "cell_type": "code",
   "execution_count": null,
   "id": "72f83623-1264-46ef-b984-110aaef271c8",
   "metadata": {},
   "outputs": [],
   "source": []
  }
 ],
 "metadata": {
  "kernelspec": {
   "display_name": "Python 3 (ipykernel)",
   "language": "python",
   "name": "python3"
  },
  "language_info": {
   "codemirror_mode": {
    "name": "ipython",
    "version": 3
   },
   "file_extension": ".py",
   "mimetype": "text/x-python",
   "name": "python",
   "nbconvert_exporter": "python",
   "pygments_lexer": "ipython3",
   "version": "3.12.7"
  }
 },
 "nbformat": 4,
 "nbformat_minor": 5
}
