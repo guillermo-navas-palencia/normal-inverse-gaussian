{
 "cells": [
  {
   "cell_type": "code",
   "execution_count": 1,
   "id": "87a80918-183a-4a7d-a8fd-18f1c7a9bae8",
   "metadata": {},
   "outputs": [],
   "source": [
    "%load_ext autoreload\n",
    "%autoreload 2"
   ]
  },
  {
   "cell_type": "code",
   "execution_count": 2,
   "id": "6a6ea37e-688d-4751-b569-bb1be7deaf00",
   "metadata": {},
   "outputs": [],
   "source": [
    "from code.mpmath_series import quad_phi\n",
    "from code.mpmath_series import series_x_mu_b0_pos, bound_series_x_mu_b0_pos, estimate_N_series_x_mu_b0_pos\n",
    "from code.mpmath_series import series_x_mu_b0_alternating, bound_series_x_mu_b0_alternating, estimate_N_series_x_mu_b0_alternating, bound_series_x_mu_b0_pos_alt\n",
    "\n",
    "from code.mpmath_series import estimate_N_series_x_mu_b0_pos_fast, estimate_Tk_series_x_mu_b0_pos_fast"
   ]
  },
  {
   "cell_type": "code",
   "execution_count": 3,
   "id": "f012ac5d-c844-402f-85e5-0445ba0a206a",
   "metadata": {},
   "outputs": [],
   "source": [
    "from mpmath import *"
   ]
  },
  {
   "cell_type": "code",
   "execution_count": 103,
   "id": "bcfaeca0-bbfc-4120-b84e-aef1dbe520af",
   "metadata": {},
   "outputs": [
    {
     "data": {
      "text/plain": [
       "(19.802805637361367, 19.797194760137916, 392.1511111111111)"
      ]
     },
     "execution_count": 103,
     "metadata": {},
     "output_type": "execute_result"
    }
   ],
   "source": [
    "mp.dps = 50\n",
    "\n",
    "alpha = mpf('1')\n",
    "mu = mpf('1/5')\n",
    "delta = mpf('1/3')\n",
    "x = mpf('20')\n",
    "\n",
    "(x - mu) / delta\n",
    "\n",
    "omega = sqrt((x-mu)**2 + delta**2)\n",
    "float(alpha * omega), float(((x-mu)**2  / omega * alpha)), float(omega**2)"
   ]
  },
  {
   "cell_type": "markdown",
   "id": "5e878986-7885-4d1a-89f3-571f8e565233",
   "metadata": {},
   "source": [
    "### 1. Integral"
   ]
  },
  {
   "cell_type": "code",
   "execution_count": 104,
   "id": "1929e608-cf47-4bc4-824d-f518249461d5",
   "metadata": {},
   "outputs": [
    {
     "data": {
      "text/plain": [
       "mpf('0.99999999999498152407898274499113388582081276586782717')"
      ]
     },
     "execution_count": 104,
     "metadata": {},
     "output_type": "execute_result"
    }
   ],
   "source": [
    "ref = quad_phi(x, alpha, mu, delta, digits=100)\n",
    "ref"
   ]
  },
  {
   "cell_type": "markdown",
   "id": "a34c60ce-6fbf-42fb-8a34-af3e42b26bd5",
   "metadata": {},
   "source": [
    "### 2. Series"
   ]
  },
  {
   "cell_type": "code",
   "execution_count": 105,
   "id": "efafdf71-5f86-491c-bfc7-3c56994e56e3",
   "metadata": {},
   "outputs": [
    {
     "name": "stdout",
     "output_type": "stream",
     "text": [
      "0.9998583212190866 0.003738311137407169 2.2777142458125113e-28 2.4889685032707023e+24 92007.5101535347\n"
     ]
    },
    {
     "data": {
      "text/plain": [
       "mpf('102358.23782867077641452129840896767347004023819298916')"
      ]
     },
     "execution_count": 105,
     "metadata": {},
     "output_type": "execute_result"
    }
   ],
   "source": [
    "estimate_N_series_x_mu_b0_pos(x, alpha, mu, delta)"
   ]
  },
  {
   "cell_type": "code",
   "execution_count": 106,
   "id": "a10ef530-5c73-4542-beb6-1cc5b7ae1e06",
   "metadata": {},
   "outputs": [
    {
     "data": {
      "text/plain": [
       "-0.5236029192276909"
      ]
     },
     "execution_count": 106,
     "metadata": {},
     "output_type": "execute_result"
    }
   ],
   "source": [
    "bound_series_x_mu_b0_pos(x, alpha, mu, delta, 324)"
   ]
  },
  {
   "cell_type": "code",
   "execution_count": 107,
   "id": "012505e7-0ff2-4d7f-b501-b149ec874c87",
   "metadata": {},
   "outputs": [
    {
     "data": {
      "text/plain": [
       "1.1843076164254127"
      ]
     },
     "execution_count": 107,
     "metadata": {},
     "output_type": "execute_result"
    }
   ],
   "source": [
    "bound_series_x_mu_b0_pos_alt(x, alpha, mu, delta, 324)"
   ]
  },
  {
   "cell_type": "code",
   "execution_count": 108,
   "id": "06a84dda-9667-40c4-89d7-865e511d167f",
   "metadata": {},
   "outputs": [
    {
     "data": {
      "text/plain": [
       "0.42905283138246253"
      ]
     },
     "execution_count": 108,
     "metadata": {},
     "output_type": "execute_result"
    }
   ],
   "source": [
    "float(ref - series_x_mu_b0_pos(x, alpha, mu, delta, 324))"
   ]
  },
  {
   "cell_type": "markdown",
   "id": "6933f029-692f-431b-bd0c-0c57ceafa0a5",
   "metadata": {},
   "source": [
    "Series"
   ]
  },
  {
   "cell_type": "code",
   "execution_count": 63,
   "id": "55204be4-bd75-45c2-bc53-bf1e8243ec93",
   "metadata": {},
   "outputs": [
    {
     "name": "stdout",
     "output_type": "stream",
     "text": [
      "0.00012109998016366823172785323900567608180751655325912 0.00059800632145120149253093546653268059276852480002592\n"
     ]
    }
   ],
   "source": [
    "omega = sqrt(delta**2 + (x-mu)**2)\n",
    "z = (x-mu)**2 * alpha / omega\n",
    "\n",
    "N = 111\n",
    "\n",
    "s = mp.zero\n",
    "for k in range(N):\n",
    "    r = z**k / fac2(2*k + 1)\n",
    "    q = besselk(k + 1, alpha * omega)\n",
    "    s += r * q\n",
    "\n",
    "remainder = mp.zero\n",
    "for k in range(N, 151):\n",
    "    r = z**k / fac2(2*k + 1)\n",
    "    q = besselk(k + 1, alpha * omega)\n",
    "    remainder += r * q\n",
    "\n",
    "print(s, remainder)"
   ]
  },
  {
   "cell_type": "markdown",
   "id": "c9ab2e0f-bcba-4b84-aa0c-d715ab358f58",
   "metadata": {},
   "source": [
    "Remainder integral representation"
   ]
  },
  {
   "cell_type": "code",
   "execution_count": 64,
   "id": "01ffc1af-6e98-4313-af0b-e6977b5b2c2b",
   "metadata": {},
   "outputs": [
    {
     "data": {
      "text/plain": [
       "mpf('3.3765287901054140702597709310944313996992452304445143')"
      ]
     },
     "execution_count": 64,
     "metadata": {},
     "output_type": "execute_result"
    }
   ],
   "source": [
    "M = gamma(N + 3 / 2) * 2 / fac2(2*N + 1) * (2*alpha / omega) / sqrt(pi) * (2*z*alpha / omega)**N\n",
    "M * quad(lambda t: cos(omega*t) / (t**2 + alpha**2)**(N + 3/2) / (2 - 2*z*alpha / omega / (t**2 + alpha**2)), [0, inf])"
   ]
  },
  {
   "cell_type": "code",
   "execution_count": 120,
   "id": "1086e966-ac41-4f53-bdba-466d0786d351",
   "metadata": {},
   "outputs": [],
   "source": [
    "mp.dps = 100\n",
    "\n",
    "N = 57\n",
    "\n",
    "omega = sqrt(delta**2 + (x-mu)**2)\n",
    "z = (x-mu)**2 * alpha / omega\n",
    "aw = alpha * omega\n",
    "\n",
    "s = mp.zero\n",
    "for k in range(N):\n",
    "    r = z**k / fac2(2*k + 1)\n",
    "    q = besselk(k + 1, alpha * omega)\n",
    "    s += r * q\n",
    "\n",
    "sN = s"
   ]
  },
  {
   "cell_type": "code",
   "execution_count": 121,
   "id": "740a96e2-b2fe-4080-b7fa-5673f704c694",
   "metadata": {},
   "outputs": [
    {
     "name": "stdout",
     "output_type": "stream",
     "text": [
      "0 -145248709083891547020688815008133181571613603245181952595806706795612740260348.7236151741946133161379\n",
      "1 -255166177007484443776233929989303845300700984690416050870149813863721116706909.4769744621608377250364\n",
      "2 69735033509502788927945766358260527227875482804233306232377551594993197963994.33208714465213398082531\n",
      "3 -25444619019296830032221070055575101163805979635556190372977551026560681012928.74700764032631749749841\n",
      "4 8282368138864336971533342130736379854896095862089214141399023921963454438378.260165533291054731208044\n",
      "5 -2387485996178465582300747849449294440683100081228157051349952904249391379392.877951208164410275484748\n",
      "6 614422863429794699253771649432079289480184700576373449131021067272173454519.33147920035444052603193\n",
      "7 -142863513561478071631263601661188862896313309242206394613409820182903480206.7894558610647534758122676\n",
      "8 30359917285134773843590035478323109122838176503224607201127387685883166622.03880612152715470604626033\n",
      "9 -5957169528910745615366920882925228897705567738949553377806031633557550229.516257295716457611776634834\n",
      "10 1088920771064969910699023890570413770396826129318281597923340781439580551.056985168838464460565149447\n",
      "11 -186861323004009842259424734077627654851159495157347254619855248235759365.2049133295126205801676223109\n",
      "12 30306433531405207318613858846095416997219836198475617990750583901339312.56900832740105057171369229494\n",
      "13 -4673236264967460856254204722533035730630057775426956809019856949944217.574667547121362688527900235168\n",
      "14 688739557811692069984068824018616455266617690198155123600248643482593.3780763207614473485883094700404\n",
      "15 -97475548370684137080153024974371657700200223255987152785338575370021.94254976001915376103237227690774\n",
      "16 13304288532992474310598478967783336678696158312956774102153488416473.24044079579497123334752166622608\n",
      "17 -1758049071767300008992351193617594885265074226501944256451707237237.90758389675849854899678126596869\n",
      "18 225717385580842428806077945604463965098377301591509985667782123530.3272151587362017076645807442519811\n",
      "19 -28250792840887135510081195147780561085921785565338225905661731958.43381172056128444566055057103132159\n",
      "20 3457554885044323542890798365506544133317466946510062163078399891.650514340612905288013955797328375838\n",
      "21 -414993727078721690965291863905135090478040799684769418418240972.7932417348029307939181743323524804413\n",
      "22 48982685453122634683533532257960436045092906101288114016026538.85720533984387688511973107603287337664\n",
      "23 -5700485910218790644156841523809755148032152949272146702431695.016097316720795285759448614212043216322\n",
      "24 655758904633968269659778345455637487101295101162814517412806.617802301938276167893298462506571712331\n",
      "25 -74747836505535210979222153743216808966208786608198173634960.54762583644759978715189505169729653072637\n",
      "26 8462656890459193481775475799876437798099949162314497752982.69554073644542001817499949727246545658593\n",
      "27 -953850175609563754234084520985769374058093642799390646034.0131869584563365269009869107625979733748231\n",
      "28 107279761933741598425106248268491207079496789032433085270.8829390887434780844021457528432753213872611\n",
      "29 -12067370154076299107607655697761847788021015494696215366.83392668209678795174996561379314911029707578\n",
      "30 1360687887314623050209398993706457162868414736405168329.457953427071429917271995808002404757010877875\n",
      "31 -154154768262293479293488286933371903059681192285705664.3158639505188262202085843021546369353971688748\n",
      "32 17588309748025098504161205711365431492646168308078062.38753239748951307523319943316595544084901683599\n",
      "33 -2025806884568247993713437555664892199211695016084326.873331504298192204523290610140292675403501452808\n",
      "34 236127563539115862157630110163905932950514403206168.1165130871813490321946634300336488583295610433819\n",
      "35 -27923918403219608937851360956836671745841830776759.25696944143759393947299103729523151281496555759159\n",
      "36 3359242788268682559385820245656115530334609642677.506874758431913597131913730820925663871200889980556\n",
      "37 -412244620678675690691543309881604955860424002528.8359794796680669452079845476049284031999061013328982\n",
      "38 51760900690370832445820727535763640710627175632.62434237722249914389225836684492666127638506345240242\n",
      "39 -6670412508711202470233287934794351591827101102.742358900746219808828435901322815424307921192138689069\n",
      "40 885282955929447527752198018034543505868709162.0995847540871326341748006030865056714571588960093561949\n",
      "41 -121447737026140049006550702784825239046450769.2684624936426640253138471190698933695404895569560269233\n",
      "42 17291190050580489163989488507716899549646800.36971165958427758658305791708056141636443599796108593298\n",
      "43 -2566385724165833601868691447341628161915284.353389259470499877332557468329044046701425547532659815486\n",
      "44 399060085870877622996873157834458330704857.7651736397136571925124055725487747574830732601949628643459\n",
      "45 -65374576775173377116169248046712701808903.74997744487362459047137305622406910940574387954340153520572\n",
      "46 11355740949837934248972087755219463059098.22507644283298739608918849201602337592865722189825992447764\n",
      "47 -2107076334487448742838354204628245825167.887856038073979340007838715163504955238569310432766238988438\n",
      "48 421303550956221893282909956863562813430.0828686425061022001100490583050070338270222823340536585626082\n",
      "49 -91728651108643782000359718875123784372.38619141175769351177190049098523975207076092425630962063263221\n",
      "50 22028150334501288958758821046499989991.54439823565222007305384140396669107099070221947552060118413252\n",
      "51 -5929526178159902849681828221082380832.275303475274064580215069763914372953096231770810141534274304406\n",
      "52 1827030449800638849896002002827342347.302794670398045828431949816582564712356960852825394644908998339\n",
      "53 -663046472456158482301523102940907542.0012921073675273621627657852058654010205579202010834241226719351\n",
      "54 295319258263089817872106025671853237.1996244676428220907246215048154692542140174078775605960286104868\n",
      "55 -172250716957090496146657554028648670.687675811253903642019020532015217496488479476384421735524609407\n",
      "56 148061579362477848235048987936612164.8965498480209427302548078825420414624658030822246449312572195257\n"
     ]
    }
   ],
   "source": [
    "m = 2*z*alpha/omega\n",
    "\n",
    "S1 = gamma(N + 3 / 2) / fac2(2*N + 1) * (alpha / omega) * sqrt(pi) * 2**(N+1) / sqrt(2*alpha**2*m - m*m) * cosh(sqrt(omega**2 * (2*alpha**2 - m)) / sqrt(2))\n",
    "\n",
    "S2 = 0\n",
    "for k in range(N):\n",
    "    P = alpha**(2*k) * gamma(N + 1 - k) * gamma(k - 1/2) * hyp2f1(1, N + 1 - k, 3/2 - k, 1 - m/(2*alpha**2))\n",
    "    tk = (-1)**k * omega**(2*k) / factorial(2*k) * P\n",
    "    S2 += tk\n",
    "    print(k, tk)\n",
    "\n",
    "S2 *= (m * 2)**N * alpha**(-2*N -1) / pi / fac2(2*N - 1) * gamma(N + 3 / 2) / fac2(2*N + 1) / omega\n",
    "\n",
    "S = sN + S1 + S2\n",
    "\n",
    "SF = S * delta * exp(delta * alpha) / pi  * (x-mu)*alpha / omega  + 1/2"
   ]
  },
  {
   "cell_type": "code",
   "execution_count": 122,
   "id": "36b20065-81e0-4dd8-8a7b-90e4a2ce4137",
   "metadata": {},
   "outputs": [
    {
     "data": {
      "text/plain": [
       "mpf('0.9999999999949815240789827449911338858208128186971979060299558723623120234495488286091155306303983876099')"
      ]
     },
     "execution_count": 122,
     "metadata": {},
     "output_type": "execute_result"
    }
   ],
   "source": [
    "SF"
   ]
  },
  {
   "cell_type": "code",
   "execution_count": 123,
   "id": "40b6c45a-eafd-4950-beda-59c55969d4bc",
   "metadata": {},
   "outputs": [
    {
     "data": {
      "text/plain": [
       "mpf('0.9999999999949815240789827449911338858208127658678271720561353594797997531383805084526080460128508754091')"
      ]
     },
     "execution_count": 123,
     "metadata": {},
     "output_type": "execute_result"
    }
   ],
   "source": [
    "ref"
   ]
  },
  {
   "cell_type": "code",
   "execution_count": 124,
   "id": "7e05f64e-13bd-4583-9470-9483338f5755",
   "metadata": {},
   "outputs": [
    {
     "data": {
      "text/plain": [
       "-5.282937073397382e-44"
      ]
     },
     "execution_count": 124,
     "metadata": {},
     "output_type": "execute_result"
    }
   ],
   "source": [
    "float(ref -SF)"
   ]
  },
  {
   "cell_type": "code",
   "execution_count": 125,
   "id": "9ca59227-3374-4890-9b5b-8c455746fb69",
   "metadata": {},
   "outputs": [
    {
     "data": {
      "text/plain": [
       "mpf('0.0002833374889498379309563206927034929845637736020128291467833485737891680824846830832167116032096916232208')"
      ]
     },
     "execution_count": 125,
     "metadata": {},
     "output_type": "execute_result"
    }
   ],
   "source": [
    "1 - m/(2*alpha**2)"
   ]
  },
  {
   "cell_type": "markdown",
   "id": "4d1553b4-71a1-4c35-9eaf-ddadba0cfe38",
   "metadata": {},
   "source": [
    "Find $N$"
   ]
  },
  {
   "cell_type": "markdown",
   "id": "37560678-7d5e-497f-ab84-9011e5521fd3",
   "metadata": {},
   "source": [
    "minimum value"
   ]
  },
  {
   "cell_type": "code",
   "execution_count": 109,
   "id": "e0ea6f63-af1a-436b-8043-c7ba027efa5a",
   "metadata": {},
   "outputs": [],
   "source": [
    "mp.dps = 20\n",
    "\n",
    "m = 2*z*alpha/omega"
   ]
  },
  {
   "cell_type": "code",
   "execution_count": 110,
   "id": "78e6985a-8910-4184-8867-1913927ef9a7",
   "metadata": {},
   "outputs": [
    {
     "data": {
      "text/plain": [
       "mpf('7.628452673863042012598e+38')"
      ]
     },
     "execution_count": 110,
     "metadata": {},
     "output_type": "execute_result"
    }
   ],
   "source": [
    "(alpha*omega)**(2*N) * gamma(N - 1/2) / factorial(2*N)"
   ]
  },
  {
   "cell_type": "code",
   "execution_count": 111,
   "id": "45f49371-5d19-454e-a6bf-f25bfe376e99",
   "metadata": {},
   "outputs": [
    {
     "data": {
      "text/plain": [
       "mpf('5.5325028818042360357982e+41')"
      ]
     },
     "execution_count": 111,
     "metadata": {},
     "output_type": "execute_result"
    }
   ],
   "source": [
    "(alpha*omega)**(2*N) * 2**(-2*N - 1/2) * (e / N)**N"
   ]
  },
  {
   "cell_type": "code",
   "execution_count": 112,
   "id": "79fc3594-3925-4875-b352-295a154b2003",
   "metadata": {},
   "outputs": [
    {
     "data": {
      "text/plain": [
       "mpf('8.2471472145458012716278e-51')"
      ]
     },
     "execution_count": 112,
     "metadata": {},
     "output_type": "execute_result"
    }
   ],
   "source": [
    "(gamma(N - 1/2) * (alpha * omega)**(2*N) / factorial(2*N) *\n",
    " (m * 2)**N * alpha**(-2*N -1) / pi / fac2(2*N - 1) * gamma(N + 3 / 2) / fac2(2*N + 1) / omega)"
   ]
  },
  {
   "cell_type": "code",
   "execution_count": 113,
   "id": "f71dad04-2691-4ebc-a207-8d770f85ff2e",
   "metadata": {},
   "outputs": [
    {
     "data": {
      "text/plain": [
       "mpf('8.2471472145458012719538e-51')"
      ]
     },
     "execution_count": 113,
     "metadata": {},
     "output_type": "execute_result"
    }
   ],
   "source": [
    "(gamma(N - 1/2) * (sqrt(2*m) * omega)**(2*N) / factorial(2*N)\n",
    " * alpha**(-1) / pi / fac2(2*N - 1) * gamma(N + 3 / 2) / fac2(2*N + 1) / omega)"
   ]
  },
  {
   "cell_type": "code",
   "execution_count": 114,
   "id": "4988373a-4424-46a8-89d8-6bc2bd15bf59",
   "metadata": {},
   "outputs": [
    {
     "data": {
      "text/plain": [
       "mpf('2.7143607569421291190761e-340')"
      ]
     },
     "execution_count": 114,
     "metadata": {},
     "output_type": "execute_result"
    }
   ],
   "source": [
    "gamma(N - 1/2)  / fac2(2*N - 1) * gamma(N + 3 / 2) / fac2(2*N + 1) / factorial(2*N)"
   ]
  },
  {
   "cell_type": "code",
   "execution_count": 115,
   "id": "85f8e3a8-c8e6-42ab-bfb7-55e1aa90356c",
   "metadata": {},
   "outputs": [
    {
     "data": {
      "text/plain": [
       "mpf('1.9675662293907475303214e-337')"
      ]
     },
     "execution_count": 115,
     "metadata": {},
     "output_type": "execute_result"
    }
   ],
   "source": [
    "sqrt(pi) * (e / N) **(2*N) * 2**(-4*N) / 4"
   ]
  },
  {
   "cell_type": "code",
   "execution_count": 116,
   "id": "8276753e-9f87-445e-ac1a-0c7380a774f3",
   "metadata": {},
   "outputs": [
    {
     "data": {
      "text/plain": [
       "mpf('5.9781325332873755358603e-48')"
      ]
     },
     "execution_count": 116,
     "metadata": {},
     "output_type": "execute_result"
    }
   ],
   "source": [
    "sqrt(pi) * (e / N) **(2*N) * 2**(-4*N - 2) * (m * 2)**N * alpha**(-2*N -1) / pi / omega * (alpha * omega)**(2*N) "
   ]
  },
  {
   "cell_type": "code",
   "execution_count": 117,
   "id": "8c719bd6-0d69-4962-b988-c30e437f5251",
   "metadata": {},
   "outputs": [
    {
     "data": {
      "text/plain": [
       "mpf('5.9781325332873755361014e-48')"
      ]
     },
     "execution_count": 117,
     "metadata": {},
     "output_type": "execute_result"
    }
   ],
   "source": [
    "(sqrt(2 * m) * omega)**(2*N) / alpha / sqrt(pi) / 4 / omega * (e / N) **(2*N) * 2**(-4*N)"
   ]
  },
  {
   "cell_type": "code",
   "execution_count": 118,
   "id": "e607f52a-e25c-4244-8da7-39fb23e5f674",
   "metadata": {},
   "outputs": [],
   "source": [
    "bb = 4 * epsilon * (alpha * omega) * sqrt(pi)\n",
    "xx = sqrt(2 * m) * omega"
   ]
  },
  {
   "cell_type": "code",
   "execution_count": 119,
   "id": "92c6c9c2-92b5-4567-8261-75fd146efd3d",
   "metadata": {},
   "outputs": [
    {
     "data": {
      "text/plain": [
       "mpf('56.579095447143668315513')"
      ]
     },
     "execution_count": 119,
     "metadata": {},
     "output_type": "execute_result"
    }
   ],
   "source": [
    "-log(bb) / 2 / lambertw(-2*log(bb) / (e * xx))"
   ]
  },
  {
   "cell_type": "code",
   "execution_count": 79,
   "id": "910ac04d-eba8-46d3-9ae8-dcdc9174e4e4",
   "metadata": {},
   "outputs": [],
   "source": [
    "epsilon = 1e-16\n",
    "# (alpha * omega / 2)**(2*N) * (e / N)**N = epsilon * sqrt(2)"
   ]
  },
  {
   "cell_type": "code",
   "execution_count": 80,
   "id": "231c392d-5d60-4d69-83c1-9a7b5aebd278",
   "metadata": {},
   "outputs": [
    {
     "data": {
      "text/plain": [
       "mpf('4.7639634057927049330743e+99')"
      ]
     },
     "execution_count": 80,
     "metadata": {},
     "output_type": "execute_result"
    }
   ],
   "source": [
    "(alpha * omega / 2)**(2*N) * sqrt(2) * (e / N)**N"
   ]
  },
  {
   "cell_type": "code",
   "execution_count": 81,
   "id": "37e2592e-62ae-4404-b301-689a2947a86b",
   "metadata": {},
   "outputs": [
    {
     "data": {
      "text/plain": [
       "mpf('1721.5481079487894921793')"
      ]
     },
     "execution_count": 81,
     "metadata": {},
     "output_type": "execute_result"
    }
   ],
   "source": [
    "-log(epsilon * sqrt(2)) / lambertw(-log(epsilon * sqrt(2)) / e  / (alpha * omega / 2)**2)"
   ]
  },
  {
   "cell_type": "code",
   "execution_count": 82,
   "id": "b0c81279-85e9-422c-a42c-75b2e683c80c",
   "metadata": {},
   "outputs": [
    {
     "data": {
      "text/plain": [
       "mpf('0.000044800137626022786670416')"
      ]
     },
     "execution_count": 82,
     "metadata": {},
     "output_type": "execute_result"
    }
   ],
   "source": [
    "1 - m/(2*alpha**2)"
   ]
  },
  {
   "cell_type": "code",
   "execution_count": null,
   "id": "1879210b-9ea0-4a89-aa5f-ec81698d37eb",
   "metadata": {},
   "outputs": [],
   "source": []
  }
 ],
 "metadata": {
  "kernelspec": {
   "display_name": "Python 3 (ipykernel)",
   "language": "python",
   "name": "python3"
  },
  "language_info": {
   "codemirror_mode": {
    "name": "ipython",
    "version": 3
   },
   "file_extension": ".py",
   "mimetype": "text/x-python",
   "name": "python",
   "nbconvert_exporter": "python",
   "pygments_lexer": "ipython3",
   "version": "3.9.12"
  }
 },
 "nbformat": 4,
 "nbformat_minor": 5
}
