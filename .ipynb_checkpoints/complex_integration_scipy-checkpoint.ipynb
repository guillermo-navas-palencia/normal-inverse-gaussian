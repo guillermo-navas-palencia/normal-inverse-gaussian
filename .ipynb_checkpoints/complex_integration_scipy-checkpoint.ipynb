{
 "cells": [
  {
   "cell_type": "code",
   "execution_count": 1,
   "id": "44f44674-5bb9-473c-81af-829b7d3857bb",
   "metadata": {},
   "outputs": [],
   "source": [
    "%load_ext autoreload\n",
    "%autoreload 2"
   ]
  },
  {
   "cell_type": "code",
   "execution_count": 55,
   "id": "c8e67b03-b254-4064-b061-f1200e4a176f",
   "metadata": {},
   "outputs": [],
   "source": [
    "import itertools\n",
    "\n",
    "import matplotlib.pyplot as plt\n",
    "import numpy as np\n",
    "import pandas as pd\n",
    "\n",
    "from scipy import stats\n",
    "from code.python.mpmath_integration import quad_phi\n",
    "from code.python.complex_integration import quad_complex, quad_complex_direct\n",
    "from mpmath import mp\n",
    "\n",
    "from scipy import stats"
   ]
  },
  {
   "cell_type": "code",
   "execution_count": 105,
   "id": "e3479124-4156-4d5a-b338-1ba5d4c9a036",
   "metadata": {},
   "outputs": [
    {
     "name": "stdout",
     "output_type": "stream",
     "text": [
      "-0.75\n"
     ]
    },
    {
     "data": {
      "text/plain": [
       "mpf('0.52108789648592976')"
      ]
     },
     "execution_count": 105,
     "metadata": {},
     "output_type": "execute_result"
    }
   ],
   "source": [
    "x = mp.mpf('-1/2')\n",
    "alpha = mp.mpf('3')\n",
    "beta = mp.mpf('-1/2')\n",
    "mu = mp.mpf('1/4')\n",
    "delta = mp.mpf('5')\n",
    "\n",
    "print(x-mu)\n",
    "\n",
    "mp_result = quad_phi(x, alpha, beta, mu, delta, digits=100)\n",
    "mp_result"
   ]
  },
  {
   "cell_type": "code",
   "execution_count": 108,
   "id": "f6a45f9c-e04b-49be-9ef8-0c2eafe1b769",
   "metadata": {},
   "outputs": [
    {
     "name": "stdout",
     "output_type": "stream",
     "text": [
      "[ 0.07053989  0.37212682  0.9165821   1.70730653  2.74919926  4.04892531\n",
      "  5.61517497  7.45901745  9.59439287 12.03880255 14.81429344 17.94889552\n",
      " 21.47878824 25.45170279 29.93255463 35.01343424 40.83305706 47.61999405\n",
      " 55.81079575 66.52441653] [1.68746802e-01 2.91254362e-01 2.66686103e-01 1.66002453e-01\n",
      " 7.48260647e-02 2.49644173e-02 6.20255084e-03 1.14496239e-03\n",
      " 1.55741773e-04 1.54014409e-05 1.08648637e-06 5.33012091e-08\n",
      " 1.75798118e-09 3.72550240e-11 4.76752925e-13 3.37284424e-15\n",
      " 1.15501434e-17 1.53952214e-20 5.28644273e-24 1.65645661e-28]\n"
     ]
    },
    {
     "data": {
      "text/plain": [
       "0.6026593691464409"
      ]
     },
     "execution_count": 108,
     "metadata": {},
     "output_type": "execute_result"
    }
   ],
   "source": [
    "x = -1/2\n",
    "alpha = 3\n",
    "beta = -1/2\n",
    "mu = 1/4\n",
    "delta = 5\n",
    "\n",
    "quad_complex(x, alpha, beta, mu, delta, n=20)"
   ]
  },
  {
   "cell_type": "code",
   "execution_count": 109,
   "id": "b46b93f6-f65f-47ff-a24f-cdacb71e6dbc",
   "metadata": {},
   "outputs": [
    {
     "data": {
      "text/plain": [
       "0.5210878964898282"
      ]
     },
     "execution_count": 109,
     "metadata": {},
     "output_type": "execute_result"
    }
   ],
   "source": [
    "quad_complex_direct(x, alpha, beta, mu, delta)"
   ]
  },
  {
   "cell_type": "code",
   "execution_count": 110,
   "id": "9d953720-57be-4259-8063-d58b653d90fc",
   "metadata": {},
   "outputs": [
    {
     "data": {
      "text/plain": [
       "0.5210878964859296"
      ]
     },
     "execution_count": 110,
     "metadata": {},
     "output_type": "execute_result"
    }
   ],
   "source": [
    "stats.norminvgauss.cdf(x=x, a=alpha*delta, b=beta*delta, loc=mu, scale=delta)"
   ]
  },
  {
   "cell_type": "code",
   "execution_count": null,
   "id": "6131ad0b-b5a0-4959-81fc-c50bebab77dd",
   "metadata": {},
   "outputs": [],
   "source": []
  }
 ],
 "metadata": {
  "kernelspec": {
   "display_name": "Python 3 (ipykernel)",
   "language": "python",
   "name": "python3"
  },
  "language_info": {
   "codemirror_mode": {
    "name": "ipython",
    "version": 3
   },
   "file_extension": ".py",
   "mimetype": "text/x-python",
   "name": "python",
   "nbconvert_exporter": "python",
   "pygments_lexer": "ipython3",
   "version": "3.12.7"
  }
 },
 "nbformat": 4,
 "nbformat_minor": 5
}
