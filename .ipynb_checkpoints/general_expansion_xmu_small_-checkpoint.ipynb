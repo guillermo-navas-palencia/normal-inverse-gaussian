{
 "cells": [
  {
   "cell_type": "code",
   "execution_count": 3,
   "id": "cdcc762f-7171-4942-897b-ca9af0372b57",
   "metadata": {},
   "outputs": [],
   "source": [
    "%load_ext autoreload\n",
    "%autoreload 2"
   ]
  },
  {
   "cell_type": "code",
   "execution_count": 4,
   "id": "4a691903-eb76-4dd5-8795-f186bb8cabf0",
   "metadata": {},
   "outputs": [],
   "source": [
    "import itertools\n",
    "\n",
    "import matplotlib.pyplot as plt\n",
    "import numpy as np\n",
    "import pandas as pd\n",
    "\n",
    "from scipy import stats\n",
    "from code.python.mpmath_integration import quad_phi\n",
    "from mpmath import mp\n",
    "\n",
    "from scipy import stats"
   ]
  },
  {
   "cell_type": "code",
   "execution_count": 5,
   "id": "54c84005-f474-4301-b7fb-bf1264142dff",
   "metadata": {},
   "outputs": [],
   "source": [
    "x = mp.mpf('3')\n",
    "alpha = mp.mpf('1')\n",
    "beta = mp.mpf('1/2')\n",
    "mu = mp.mpf('1')\n",
    "delta = mp.mpf('4')\n",
    "\n",
    "\n",
    "xmu = x - mu\n",
    "gamma = mp.sqrt(alpha ** 2 - beta ** 2)\n",
    "omega = mp.sqrt(xmu ** 2 + delta ** 2)"
   ]
  },
  {
   "cell_type": "code",
   "execution_count": 6,
   "id": "de11542a-f4e7-4c6c-8cd3-89bd18de8357",
   "metadata": {},
   "outputs": [
    {
     "data": {
      "text/plain": [
       "mpf('0.49445469194676289')"
      ]
     },
     "execution_count": 6,
     "metadata": {},
     "output_type": "execute_result"
    }
   ],
   "source": [
    "mp_result = quad_phi(x, alpha, beta, mu, delta, digits=100)\n",
    "mp_result"
   ]
  },
  {
   "cell_type": "code",
   "execution_count": 26,
   "id": "2eb0e49b-5ba0-4a9d-819f-a0b14cc72b4b",
   "metadata": {},
   "outputs": [
    {
     "name": "stdout",
     "output_type": "stream",
     "text": [
      "0 1.0\n",
      "1 3.0\n",
      "2 3.0\n",
      "3 1.0\n"
     ]
    }
   ],
   "source": [
    "k = 1\n",
    "\n",
    "for j in range(2*k + 1 + 1):\n",
    "    r = mp.binomial(2*k + 1, j)\n",
    "    print(j, r)"
   ]
  },
  {
   "cell_type": "code",
   "execution_count": 33,
   "id": "ab05357a-7854-4056-9ab8-def28c2b0331",
   "metadata": {},
   "outputs": [
    {
     "data": {
      "text/plain": [
       "mpf('0.0')"
      ]
     },
     "execution_count": 33,
     "metadata": {},
     "output_type": "execute_result"
    }
   ],
   "source": [
    "mp.binomial(2*k + 1, -1)"
   ]
  },
  {
   "cell_type": "code",
   "execution_count": 41,
   "id": "3c0b7ee0-6d24-42f4-b745-3805403f357b",
   "metadata": {},
   "outputs": [
    {
     "name": "stdout",
     "output_type": "stream",
     "text": [
      "1 3.0\n",
      "2 3.0\n",
      "3 1.0\n"
     ]
    }
   ],
   "source": [
    "k = 1\n",
    "\n",
    "r = 1\n",
    "for j in range(1, 2*k + 1 + 1):\n",
    "    r *= (2 * k + 2 - j) / j\n",
    "    print(j, r)"
   ]
  },
  {
   "cell_type": "code",
   "execution_count": 7,
   "id": "ccc76daf-524e-4f97-8bfb-43f22e2ad9d5",
   "metadata": {},
   "outputs": [],
   "source": [
    "mp.dps = 100"
   ]
  },
  {
   "cell_type": "code",
   "execution_count": 23,
   "id": "51d571e7-d6d8-45fe-a54c-e669611f7c49",
   "metadata": {},
   "outputs": [],
   "source": [
    "cache = {}\n",
    "\n",
    "def Ik(k):\n",
    "    mp.dps = 100\n",
    "    z = (-omega * beta / alpha / xmu)\n",
    "    s = 0\n",
    "    for j in range(2*k + 1 + 1):\n",
    "        m = k + 1 - j\n",
    "        \n",
    "        if abs(m) not in cache:\n",
    "            bm = mp.besselk(m, alpha * omega)\n",
    "            cache[m] = bm\n",
    "            print(\"m = \", m, float(cache[m]))\n",
    "        else:\n",
    "            bm = cache[abs(m)]\n",
    "            \n",
    "        s += mp.binomial(2*k + 1, j) * z ** (j) * bm\n",
    "        print(m, \"|\", mp.binomial(2*k + 1, j), \"|\", float(bm), float(s))\n",
    "\n",
    "    return s"
   ]
  },
  {
   "cell_type": "code",
   "execution_count": 44,
   "id": "1d15a538-6ed2-4365-bb3c-bd85f3206b77",
   "metadata": {},
   "outputs": [
    {
     "name": "stdout",
     "output_type": "stream",
     "text": [
      "4 | 1.0 | 0.031505665665657 0.031505665665657\n",
      "3 | 7.0 | 0.016128810713967302 -0.09472224436864533\n",
      "2 | 21.0 | 0.009866595374062316 0.1642758842004905\n",
      "1 | 35.0 | 0.007303859528811981 -0.19298500589867273\n",
      "0 | 35.0 | 0.0066002100931556815 0.16796398357077866\n",
      "-1 | 21.0 | 0.007303859528811981 -0.09998168400359381\n",
      "-2 | 7.0 | 0.009866595374062316 0.03491317462616445\n",
      "-3 | 1.0 | 0.016128810713967302 -0.0003066663432279468\n"
     ]
    },
    {
     "data": {
      "text/plain": [
       "mpf('-0.0003066663432279468106192646763639982501698791740245117320598528932705657227223669165084729962094146212057')"
      ]
     },
     "execution_count": 44,
     "metadata": {},
     "output_type": "execute_result"
    }
   ],
   "source": [
    "Ik(3)"
   ]
  },
  {
   "cell_type": "code",
   "execution_count": 47,
   "id": "326e50f5-7b6a-4043-9bb7-4d8a5ebd2b23",
   "metadata": {},
   "outputs": [
    {
     "name": "stdout",
     "output_type": "stream",
     "text": [
      "k = 0 --------------\n",
      "1 | 1.0 | 0.007303859528811981 0.007303859528811981\n",
      "0 | 1.0 | 0.0066002100931556815 -7.539968822618031e-05\n",
      "k = 0 | Ik = -7.539968822618031e-05 | s = -7.539968822618031e-05\n",
      "\n",
      "k = 1 --------------\n",
      "2 | 1.0 | 0.009866595374062316 0.009866595374062316\n",
      "1 | 3.0 | 0.007303859528811981 -0.014631294232737447\n",
      "0 | 3.0 | 0.0066002100931556815 0.010119493616596361\n",
      "-1 | 1.0 | 0.007303859528811981 -8.796038623687487e-05\n",
      "k = 1 | Ik = -8.796038623687487e-05 | s = -0.00010162440861988553\n",
      "\n",
      "k = 2 --------------\n",
      "3 | 1.0 | 0.016128810713967302 0.016128810713967302\n",
      "2 | 5.0 | 0.009866595374062316 -0.03902713419325346\n",
      "1 | 10.0 | 0.007303859528811981 0.05227110991689632\n",
      "0 | 10.0 | 0.0066002100931556815 -0.039969630296080715\n",
      "-1 | 5.0 | 0.007303859528811981 0.017091772272762904\n",
      "-2 | 1.0 | 0.009866595374062316 -0.0001444605107435892\n",
      "k = 2 | Ik = -0.0001444605107435892 | s = -0.00010932896919287695\n",
      "\n",
      "k = 3 --------------\n",
      "4 | 1.0 | 0.031505665665657 0.031505665665657\n",
      "3 | 7.0 | 0.016128810713967302 -0.09472224436864533\n",
      "2 | 21.0 | 0.009866595374062316 0.1642758842004905\n",
      "1 | 35.0 | 0.007303859528811981 -0.19298500589867273\n",
      "0 | 35.0 | 0.0066002100931556815 0.16796398357077866\n",
      "-1 | 21.0 | 0.007303859528811981 -0.09998168400359381\n",
      "-2 | 7.0 | 0.009866595374062316 0.03491317462616445\n",
      "-3 | 1.0 | 0.016128810713967302 -0.0003066663432279468\n",
      "k = 3 | Ik = -0.0003066663432279468 | s = -0.00011141880321914428\n",
      "\n",
      "k = 4 --------------\n",
      "5 | 1.0 | 0.07248785879779947 0.07248785879779947\n",
      "4 | 9.0 | 0.031505665665657 -0.2445317866737565\n",
      "3 | 36.0 | 0.016128810713967302 0.4812646954547722\n",
      "2 | 84.0 | 0.009866595374062316 -0.677010147596864\n",
      "1 | 126.0 | 0.007303859528811981 0.7609371971379952\n",
      "0 | 126.0 | 0.0066002100931556815 -0.6918544612163932\n",
      "-1 | 84.0 | 0.007303859528811981 0.5064349927293229\n",
      "-2 | 36.0 | 0.009866595374062316 -0.2691954825284693\n",
      "-3 | 9.0 | 0.016128810713967302 0.08519733101085143\n",
      "-4 | 1.0 | 0.031505665665657 -0.0007997516365975915\n",
      "k = 4 | Ik = -0.0007997516365975915 | s = -0.00011196043395715747\n",
      "\n"
     ]
    }
   ],
   "source": [
    "# %%time\n",
    "mp.dps = 100\n",
    "\n",
    "C = delta * mp.exp(delta * gamma + xmu * beta) / mp.pi\n",
    "\n",
    "N = 5\n",
    "s = mp.zero\n",
    "\n",
    "z = xmu ** 2 * alpha / omega\n",
    "\n",
    "for k in range(N):\n",
    "    print(f'k = {k} --------------')\n",
    "    # print(f'k = {k} | fac2 = {mp.fac2(2*k + 1)}')\n",
    "    \n",
    "    r = z ** k / mp.fac2(2*k + 1)\n",
    "    # q = mp.quad(lambda t: (t - xmu / beta)**(2*k + 1) * t**(-k - 2) * mp.exp(-omega ** 2 / 2 / t - alpha ** 2 / 2 * t), [0, mp.inf])\n",
    "    q = Ik(k)\n",
    "    # print(f'k = {k} | Ik = {float(q)}')\n",
    "    t = r * q\n",
    "    s += t\n",
    "    # print(k, float(r), float(q), float(t))\n",
    "    print(f'k = {k} | Ik = {float(q)} | s = {float(s)}\\n')\n",
    "\n",
    "r1 = mp.mpf('1/2') + C * s * xmu * alpha / omega"
   ]
  },
  {
   "cell_type": "code",
   "execution_count": null,
   "id": "00a13001-aea2-47d3-85fe-2751c9681e85",
   "metadata": {},
   "outputs": [],
   "source": [
    "r1"
   ]
  },
  {
   "cell_type": "code",
   "execution_count": null,
   "id": "38a820d4-258c-4cc9-8890-c4eefd8989a8",
   "metadata": {},
   "outputs": [],
   "source": [
    "mp_result"
   ]
  },
  {
   "cell_type": "code",
   "execution_count": null,
   "id": "9c4a0068-e386-4946-affb-4f9179213550",
   "metadata": {},
   "outputs": [],
   "source": [
    "float(abs(r1 / mp_result - 1))"
   ]
  },
  {
   "cell_type": "markdown",
   "id": "6a14f5fc-b7fc-46dd-a094-c166f812af02",
   "metadata": {},
   "source": [
    "Series with Remainder and integral"
   ]
  },
  {
   "cell_type": "code",
   "execution_count": null,
   "id": "fc7d3ff0-aa67-47b1-8d67-c9e82707699f",
   "metadata": {},
   "outputs": [],
   "source": [
    "mp.dps = 100\n",
    "\n",
    "C = delta * mp.exp(delta * gamma + xmu * beta) / (2 * mp.pi)\n",
    "\n",
    "s = 0\n",
    "\n",
    "z = xmu ** 2 * alpha / omega\n",
    "\n",
    "for k in range(N):\n",
    "    r = (-beta) ** (2*k+1) / mp.fac2(2*k + 1)\n",
    "    q = mp.quad(lambda t: (t - xmu / beta)**(2*k + 1) * t**(-k - 2) * mp.exp(-omega ** 2 / 2 / t - alpha ** 2 / 2 * t), [0, mp.inf])\n",
    "    t = r * q\n",
    "    s += t\n",
    "    print(k, float(r), float(q), float(t))\n",
    "\n",
    "float(s)"
   ]
  },
  {
   "cell_type": "code",
   "execution_count": null,
   "id": "c619ac68-2a37-4cc9-948e-7b8562478044",
   "metadata": {},
   "outputs": [],
   "source": [
    "remainder = 0\n",
    "for k in range(N, N + 50):\n",
    "    r = (-beta) ** (2*k+1) / mp.fac2(2*k + 1)\n",
    "    q = mp.quad(lambda t: (t - xmu / beta)**(2*k + 1) * t**(-k - 2) * mp.exp(-omega ** 2 / 2 / t - alpha ** 2 / 2 * t), [0, mp.inf])\n",
    "    t = r * q\n",
    "    remainder += t\n",
    "    # print(k, float(r), float(q), float(t))\n",
    "\n",
    "float(remainder)"
   ]
  },
  {
   "cell_type": "code",
   "execution_count": null,
   "id": "947091d2-f0ed-4bd1-a562-03e74db6ac04",
   "metadata": {},
   "outputs": [],
   "source": [
    "def fremainder(t):\n",
    "    t1 = t **(-3/2) * mp.exp(-delta**2 / 2 / t - gamma ** 2 / 2 * t - beta * xmu)\n",
    "    t2 = mp.gammainc(N + 1/2 , 0, (beta * t - xmu) ** 2 / 2 / t, regularized=True)\n",
    "    return t1 * t2\n",
    "\n",
    "\n",
    "def fremainder_simple(t):\n",
    "    t1 = t **(-3/2) * mp.exp(-delta**2 / 2 / t - gamma ** 2 / 2 * t - beta * xmu)\n",
    "    a = N + 1/2\n",
    "    z = (beta * t - xmu) ** 2 / 2 / t\n",
    "    t2 = (1 - mp.exp(-z)) ** a\n",
    "    return t1 * t2\n",
    "\n",
    "\n",
    "def fremainder_bound(t):\n",
    "    t1 = t **(-3/2) * mp.exp(-omega**2 / 2 / t - alpha ** 2 / 2 * t)\n",
    "    t2 = ((beta * t - xmu) / mp.sqrt(t)) ** (2*N + 1) * 2* t / (2*t*(N - 1/2) - (beta * t - xmu) ** 2)\n",
    "    return t1 * t2\n",
    "\n",
    "\n",
    "def fremainder_bound2(t):\n",
    "    t1 = t **(-3/2) * mp.exp(-omega**2 / 2 / t - alpha ** 2 / 2 * t)\n",
    "    t2 = ((beta * t - xmu) / mp.sqrt(t)) ** (2*N + 1) * 1 / (2*N - 1 - beta**2 * t)\n",
    "    return t1 * t2\n",
    "\n",
    "\n",
    "def fremainder_approx(t):\n",
    "    t1 = t **(-3/2) * mp.exp(-delta**2 / 2 / t - gamma ** 2 / 2 * t - beta * xmu)\n",
    "    z = (beta * t - xmu) ** 2 / 2 / t\n",
    "    a = N + 1/2\n",
    "    t2 = z ** a* mp.exp(-z) / a / mp.gamma(N + 1/2)\n",
    "    return t1 * t2\n",
    "\n",
    "\n",
    "def fremainder_approx2(t):\n",
    "    t1 = t **(-3/2) * mp.exp(-delta**2 / 2 / t - gamma ** 2 / 2 * t - (beta * t - xmu) ** 2 / 2 / t)\n",
    "    t2 = ((beta * t - xmu) / mp.sqrt(t))**(2*N + 1) / mp.gamma(N + 1/2)\n",
    "    return t1 * t2 * mp.exp(- beta * xmu)"
   ]
  },
  {
   "cell_type": "code",
   "execution_count": null,
   "id": "8308831b-8573-4180-88b2-094d3e369ebb",
   "metadata": {},
   "outputs": [],
   "source": [
    "float(mp.quad(fremainder, [0, mp.inf]))"
   ]
  },
  {
   "cell_type": "code",
   "execution_count": null,
   "id": "ce516b1c-2e4c-4322-ace7-888cc5c44fbb",
   "metadata": {},
   "outputs": [],
   "source": [
    "float(mp.quad(fremainder_simple, [0, mp.inf]))"
   ]
  },
  {
   "cell_type": "code",
   "execution_count": null,
   "id": "b1b1c44b-3b25-4078-b015-cf6083330f6f",
   "metadata": {},
   "outputs": [],
   "source": [
    "float(mp.quad(fremainder_bound, [0, mp.inf]))"
   ]
  },
  {
   "cell_type": "code",
   "execution_count": null,
   "id": "71c842ff-6a45-42b2-9627-6cd8be72ec15",
   "metadata": {},
   "outputs": [],
   "source": [
    "float(mp.quad(fremainder_bound, [0, mp.inf]))"
   ]
  },
  {
   "cell_type": "code",
   "execution_count": null,
   "id": "3dd4fa06-62f2-4111-8680-1ad948a1658c",
   "metadata": {},
   "outputs": [],
   "source": [
    "float(mp.quad(fremainder_approx, [0, mp.inf]))"
   ]
  },
  {
   "cell_type": "code",
   "execution_count": null,
   "id": "6d5a5f14-f6d0-4050-a49b-8e113e764b52",
   "metadata": {},
   "outputs": [],
   "source": [
    "float(mp.quad(fremainder_approx2, [0, mp.inf]))"
   ]
  },
  {
   "cell_type": "code",
   "execution_count": null,
   "id": "e147d638-0740-4a8a-a2e1-78c474538b35",
   "metadata": {},
   "outputs": [],
   "source": [
    "remainder = (-1) ** (2*N + 1) * 2 ** (N - 1/2) * (2*N + 1) * mp.gamma(N + 1/2) / mp.fac2(2*N + 1) * mp.quad(fremainder, [0, mp.inf])\n",
    "float(remainder)"
   ]
  },
  {
   "cell_type": "markdown",
   "id": "4e135cc4-7779-4b01-a562-9151217d00d5",
   "metadata": {},
   "source": [
    "Bound"
   ]
  },
  {
   "cell_type": "code",
   "execution_count": null,
   "id": "5d6f2b82-9c5a-4cc1-a7ae-4a45febd464b",
   "metadata": {},
   "outputs": [],
   "source": [
    "bound = (-1) ** (2*N + 1) * (2*N + 1) / 2/ mp.fac2(2*N + 1) * mp.quad(fremainder_bound, [0, mp.inf])\n",
    "float(bound)"
   ]
  },
  {
   "cell_type": "code",
   "execution_count": null,
   "id": "fe2fb06b-fb29-4034-9905-b67ac01f4bf5",
   "metadata": {},
   "outputs": [],
   "source": [
    "simple = (-1) ** (2*N + 1) * (2*N + 1) * mp.gamma(N + 1/2) / mp.fac2(2*N + 1) * mp.quad(fremainder_simple, [0, mp.inf])\n",
    "float(simple)"
   ]
  },
  {
   "cell_type": "code",
   "execution_count": null,
   "id": "eff6a163-147a-4352-bc1a-3e3c148ecb8a",
   "metadata": {},
   "outputs": [],
   "source": [
    "bound2 = (-1) ** (2*N + 1) * (2*N + 1) / mp.fac2(2*N + 1) * mp.quad(fremainder_bound2, [0, mp.inf])\n",
    "float(bound2)"
   ]
  },
  {
   "cell_type": "code",
   "execution_count": null,
   "id": "a28353ef-20f2-4425-958e-30003f4a89c7",
   "metadata": {},
   "outputs": [],
   "source": [
    "t = 200\n",
    "1 / (2*N - 1 - beta**2 * t), (2*N - 1) ** (-1) *(1 + t), (2*N - 1) ** (-1) / (1 - beta**2 / (2*N - 1) * t)"
   ]
  },
  {
   "cell_type": "code",
   "execution_count": null,
   "id": "0cf15339-d66e-414d-9ab5-b2b8da199863",
   "metadata": {},
   "outputs": [],
   "source": [
    "tt = np.linspace(0, 120, 1000)\n",
    "\n",
    "ff = 1 / (1 - beta**2/(2*N - 1) * tt)\n",
    "ff2 = (1 + tt)\n",
    "\n",
    "plt.plot(tt, ff)\n",
    "# plt.plot(tt, ff2)\n",
    "plt.show()"
   ]
  },
  {
   "cell_type": "markdown",
   "id": "06fdba8a-5f6c-47d1-bf9d-e54f4f08883c",
   "metadata": {},
   "source": [
    "Approximation 1"
   ]
  },
  {
   "cell_type": "code",
   "execution_count": null,
   "id": "9b6bf3ce-1fb4-496f-8c29-61cf17c842eb",
   "metadata": {},
   "outputs": [],
   "source": [
    "def fremainder_approx(t):\n",
    "    t1 = t **(-3/2) * mp.exp(-delta**2 / 2 / t - gamma ** 2 / 2 * t - beta * xmu)\n",
    "    z = (beta * t - xmu) ** 2 / 2 / t\n",
    "    a = N + 1/2\n",
    "    t2 = z ** a* mp.exp(-z) / a / mp.gamma(N + 1/2)\n",
    "    return t1 * t2"
   ]
  },
  {
   "cell_type": "code",
   "execution_count": null,
   "id": "b931ae6c-cfce-4d81-919c-e0e4f3ee943c",
   "metadata": {},
   "outputs": [],
   "source": [
    "remainder = (-1) ** (2*N + 1) * 2 ** (N - 1/2) * (2*N + 1) * mp.gamma(N + 1/2) / mp.fac2(2*N + 1) * mp.quad(fremainder_approx, [0, mp.inf])\n",
    "float(remainder)"
   ]
  },
  {
   "cell_type": "markdown",
   "id": "c4dde7b7-af81-4fb7-a2e4-d01aef42c5d2",
   "metadata": {},
   "source": [
    "Approximation 2"
   ]
  },
  {
   "cell_type": "code",
   "execution_count": null,
   "id": "36c55f9d-2b20-41ee-85a1-d2a7ff95346a",
   "metadata": {},
   "outputs": [],
   "source": [
    "def fremainder_approx2(t):\n",
    "    t1 = t **(-3/2) * mp.exp(-delta**2 / 2 / t - gamma ** 2 / 2 * t - (beta * t - xmu) ** 2 / 2 / t)\n",
    "    t2 = ((beta * t - xmu) / mp.sqrt(t))**(2*N + 1)\n",
    "    return t1 * t2 * mp.exp(- beta * xmu) "
   ]
  },
  {
   "cell_type": "code",
   "execution_count": null,
   "id": "eae42a25-7d9d-4841-9fff-3dd7f0238acf",
   "metadata": {},
   "outputs": [],
   "source": [
    " mp.quad(fremainder_approx2, [0, mp.inf])"
   ]
  },
  {
   "cell_type": "code",
   "execution_count": null,
   "id": "b7dfaafb-4030-43d5-90f1-88e677928ce6",
   "metadata": {},
   "outputs": [],
   "source": [
    "remainder_approx2 = (-1) ** (2*N + 1) / mp.fac2(2*N + 1) * mp.quad(fremainder_approx2, [0, mp.inf])\n",
    "float(remainder_approx2)"
   ]
  },
  {
   "cell_type": "markdown",
   "id": "1a9fefa4-871f-4a08-be6b-fab26c4854a4",
   "metadata": {},
   "source": [
    "Naive"
   ]
  },
  {
   "cell_type": "code",
   "execution_count": null,
   "id": "841bc315-01a5-421d-a860-bb15cbb76886",
   "metadata": {},
   "outputs": [],
   "source": [
    "def fremainder_approx_naive(t):\n",
    "    t1 = t **(-2 - N) * mp.exp(-omega**2 / 2 / t - alpha ** 2 / 2 * t)\n",
    "    t2 = ((-xmu))**(2*N + 1)\n",
    "    return t1 * t2"
   ]
  },
  {
   "cell_type": "code",
   "execution_count": null,
   "id": "366fa41d-a486-466a-ae1a-a5b932c0e5b4",
   "metadata": {},
   "outputs": [],
   "source": [
    "remainder_naive = (-1) ** (2*N + 1) / mp.fac2(2*N + 1) * mp.quad(fremainder_approx_naive, [0, mp.inf])\n",
    "float(remainder_naive)"
   ]
  },
  {
   "cell_type": "code",
   "execution_count": null,
   "id": "fd94eddc-1274-4b40-8987-54aa6c329b91",
   "metadata": {},
   "outputs": [],
   "source": [
    "mp.quad(fremainder_approx_naive, [0, mp.inf])"
   ]
  },
  {
   "cell_type": "code",
   "execution_count": null,
   "id": "adf66905-81b1-45cd-b0bf-59344ab94050",
   "metadata": {},
   "outputs": [],
   "source": [
    "float((-1) ** (2*N + 1) / mp.fac2(2*N + 1) * 2 * ((-xmu))**(2*N + 1) * mp.besselk(N+1 , omega * alpha) * (omega / alpha) **(-N-1))"
   ]
  },
  {
   "cell_type": "markdown",
   "id": "fa3ee09e-61de-474c-a391-fedbda27efdc",
   "metadata": {},
   "source": [
    "Approximation 3"
   ]
  },
  {
   "cell_type": "code",
   "execution_count": null,
   "id": "47505288-5c96-48d2-a2b5-546b61425229",
   "metadata": {},
   "outputs": [],
   "source": [
    "def fremainder_approx3(t):\n",
    "    t1 =  mp.exp(-omega**2 / 2 / t - alpha ** 2 / 2 * t)\n",
    "    t2 = t**(N -1)\n",
    "    return t1 * t2"
   ]
  },
  {
   "cell_type": "code",
   "execution_count": null,
   "id": "25f29df5-c461-406e-8c95-4c2118666c8e",
   "metadata": {},
   "outputs": [],
   "source": [
    "float(mp.quad(fremainder_approx3, [0, mp.inf]))"
   ]
  },
  {
   "cell_type": "code",
   "execution_count": null,
   "id": "0fb67a38-6a2d-4516-ba65-9dcfe194715a",
   "metadata": {},
   "outputs": [],
   "source": [
    "float(beta **(2*N + 1) * (mp.quad(fremainder_approx3, [0, mp.inf])))"
   ]
  },
  {
   "cell_type": "code",
   "execution_count": null,
   "id": "baf7f8a9-592a-4f88-89c9-e48e4eefd9e8",
   "metadata": {},
   "outputs": [],
   "source": [
    "beta ** (2*N + 1) * mp.quad(fremainder_approx3, [0, mp.inf])"
   ]
  },
  {
   "cell_type": "code",
   "execution_count": null,
   "id": "74c2e0fa-c594-474d-9915-147ec0317d44",
   "metadata": {},
   "outputs": [],
   "source": [
    "float(beta ** (2*N + 1) * 2 * mp.besselk(N , omega * alpha) * (omega / alpha) **(N) / mp.fac2(2*N + 1))"
   ]
  },
  {
   "cell_type": "code",
   "execution_count": null,
   "id": "8000e804-c8c3-4a52-8f94-7438b3f80e24",
   "metadata": {},
   "outputs": [],
   "source": [
    "float(beta ** (2*N + 1) * mp.sqrt(mp.pi * 2/  N) * (mp.exp(1) * alpha ** 2/ 2 / N) ** (-N)  / mp.fac2(2*N + 1))"
   ]
  },
  {
   "cell_type": "code",
   "execution_count": null,
   "id": "4d864b30-e517-4712-89b6-497ec298aa72",
   "metadata": {},
   "outputs": [],
   "source": []
  }
 ],
 "metadata": {
  "kernelspec": {
   "display_name": "Python 3 (ipykernel)",
   "language": "python",
   "name": "python3"
  },
  "language_info": {
   "codemirror_mode": {
    "name": "ipython",
    "version": 3
   },
   "file_extension": ".py",
   "mimetype": "text/x-python",
   "name": "python",
   "nbconvert_exporter": "python",
   "pygments_lexer": "ipython3",
   "version": "3.12.7"
  }
 },
 "nbformat": 4,
 "nbformat_minor": 5
}
