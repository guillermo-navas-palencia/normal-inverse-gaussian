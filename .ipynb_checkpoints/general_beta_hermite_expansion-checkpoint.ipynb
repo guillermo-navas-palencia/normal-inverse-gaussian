{
 "cells": [
  {
   "cell_type": "code",
   "execution_count": 1,
   "id": "38ce52a7-be62-41dd-ae67-c3ddfdd97b09",
   "metadata": {},
   "outputs": [],
   "source": [
    "import mpmath as mp\n",
    "\n",
    "from code.python.mpmath_integration import quad_phi"
   ]
  },
  {
   "cell_type": "code",
   "execution_count": 37,
   "id": "6dba97bc-4ff1-4f3b-aeb0-f518856830fc",
   "metadata": {},
   "outputs": [],
   "source": [
    "x = mp.mpf('2')\n",
    "alpha = mp.mpf('5')\n",
    "beta = mp.mpf('1/10')\n",
    "mu = mp.mpf('1')\n",
    "delta = mp.mpf('4')\n",
    "\n",
    "xmu = x - mu\n",
    "\n",
    "gamma = mp.sqrt(alpha ** 2 - beta ** 2)\n",
    "omega = mp.sqrt(xmu ** 2 + delta ** 2)"
   ]
  },
  {
   "cell_type": "markdown",
   "id": "6fc2eac9-03b0-48ba-80a3-c23a0f54b4e6",
   "metadata": {},
   "source": [
    "### 1. Expansion b -> 0"
   ]
  },
  {
   "cell_type": "code",
   "execution_count": 38,
   "id": "39d0c3c9-f110-4c61-8400-e9edc8afc1f6",
   "metadata": {},
   "outputs": [],
   "source": [
    "a = x-mu\n",
    "b = -beta"
   ]
  },
  {
   "cell_type": "code",
   "execution_count": 39,
   "id": "a1df2aaf-09f9-48ef-bcb3-46f7442e01e2",
   "metadata": {},
   "outputs": [],
   "source": [
    "def normcdf(x):\n",
    "    return mp.erfc(-x / mp.sqrt(mp.mpf('2'))) / mp.mpf('2')"
   ]
  },
  {
   "cell_type": "code",
   "execution_count": 40,
   "id": "f17edc40-7bde-4927-a916-3d8c200c7904",
   "metadata": {},
   "outputs": [
    {
     "data": {
      "text/plain": [
       "mpf('0.8159398746532405114458021991185615871060480707909392136474274390174792779870149385145707662955203566563')"
      ]
     },
     "execution_count": 40,
     "metadata": {},
     "output_type": "execute_result"
    }
   ],
   "source": [
    "t = 1\n",
    "\n",
    "normcdf(a / mp.sqrt(t) + b * mp.sqrt(t))"
   ]
  },
  {
   "cell_type": "code",
   "execution_count": 41,
   "id": "71f1364c-ee0f-4a92-a434-0357419d9b46",
   "metadata": {},
   "outputs": [
    {
     "data": {
      "text/plain": [
       "mpf('0.8159398746532405113632366214811608760789477174589143465369823808386236802231339038272799769460275424137')"
      ]
     },
     "execution_count": 41,
     "metadata": {},
     "output_type": "execute_result"
    }
   ],
   "source": [
    "A = mp.exp(-a**2/2 * t) / mp.sqrt(2*mp.pi) * mp.sqrt(t)\n",
    "\n",
    "K = 40\n",
    "S = 0\n",
    "for k in range(K):\n",
    "    S += (-1) ** k * b ** (k + 1) / mp.factorial(k + 1) * mp.hermite(k, a / mp.sqrt(2*t)) * (t / 2) ** (k / 2)\n",
    "\n",
    "normcdf(a / mp.sqrt(t)) + A * S"
   ]
  },
  {
   "cell_type": "markdown",
   "id": "44251774-9bfb-4be1-8298-c4fa2bb1e168",
   "metadata": {},
   "source": [
    "### 2. Expansion"
   ]
  },
  {
   "cell_type": "code",
   "execution_count": 42,
   "id": "f7ec1afb-d1e4-4a54-8d53-944ba2b2385b",
   "metadata": {},
   "outputs": [
    {
     "data": {
      "text/plain": [
       "mpf('0.8508589631202655859629781058670493159141965122272371653333773255080358524185923831979875444275453882175')"
      ]
     },
     "execution_count": 42,
     "metadata": {},
     "output_type": "execute_result"
    }
   ],
   "source": [
    "mp_result = quad_phi(x, alpha, beta, mu, delta, digits=100)\n",
    "mp_result"
   ]
  },
  {
   "cell_type": "code",
   "execution_count": 43,
   "id": "69d4f483-9500-4bba-a9ca-8a9c2114a6ed",
   "metadata": {},
   "outputs": [
    {
     "data": {
      "text/plain": [
       "mpf('0.8706900140977157038071285779818956420026791247998572353322255131916896643318912544767458287865883377701')"
      ]
     },
     "execution_count": 43,
     "metadata": {},
     "output_type": "execute_result"
    }
   ],
   "source": [
    "quad_phi(x, gamma, 0, mu, delta, digits=100)"
   ]
  },
  {
   "cell_type": "code",
   "execution_count": 44,
   "id": "894576ac-c072-4767-a334-ce56f8fbb7e5",
   "metadata": {},
   "outputs": [],
   "source": [
    "C = delta * mp.exp(delta * gamma) / (2 * mp.pi)"
   ]
  },
  {
   "cell_type": "code",
   "execution_count": 45,
   "id": "6de4003b-eeed-4b9e-b88d-2a07b028c955",
   "metadata": {},
   "outputs": [
    {
     "data": {
      "text/plain": [
       "mpf('-0.01983105097745011777969181292841723693515228727086019612469619391929513749648098058067426212910606114645')"
      ]
     },
     "execution_count": 45,
     "metadata": {},
     "output_type": "execute_result"
    }
   ],
   "source": [
    "mp.mp.dps = 100\n",
    "\n",
    "N = 20\n",
    "s = 0\n",
    "for k in range(N):\n",
    "    r = (-1) ** k * (-beta) ** (k + 1) / mp.factorial(k + 1) / 2 ** (k/2)\n",
    "    q = mp.quad(lambda t: t ** (k/2 - 1) * mp.hermite(k, xmu / mp.sqrt(2 * t)) * mp.exp(-omega ** 2 / 2 / t - gamma ** 2 / 2 * t), [0, mp.inf])\n",
    "    s += r * q\n",
    "\n",
    "C * s"
   ]
  },
  {
   "cell_type": "code",
   "execution_count": 46,
   "id": "71820207-3c40-4b23-aa41-1923d2852944",
   "metadata": {},
   "outputs": [],
   "source": [
    "r1 = quad_phi(x, gamma, 0, mu, delta, digits=100) + C * s"
   ]
  },
  {
   "cell_type": "code",
   "execution_count": 47,
   "id": "55b61579-983a-4030-b800-ece72755bc39",
   "metadata": {},
   "outputs": [
    {
     "data": {
      "text/plain": [
       "7.575716068153836e-20"
      ]
     },
     "execution_count": 47,
     "metadata": {},
     "output_type": "execute_result"
    }
   ],
   "source": [
    "float(abs(r1 / mp_result - 1))"
   ]
  },
  {
   "cell_type": "code",
   "execution_count": 48,
   "id": "7daaacb9-7d87-4f98-adef-88f603f91258",
   "metadata": {},
   "outputs": [
    {
     "data": {
      "text/plain": [
       "mpf('0.0000000004145982598904557767193704993155477574272881894474799427026356087585247929246411944739659158435176695665')"
      ]
     },
     "execution_count": 48,
     "metadata": {},
     "output_type": "execute_result"
    }
   ],
   "source": [
    "j = 4\n",
    "mp.quad(lambda t: t ** (j - 1) * mp.exp(-omega ** 2 / 2 / t - gamma ** 2 / 2 * t), [0, mp.inf])"
   ]
  },
  {
   "cell_type": "code",
   "execution_count": 49,
   "id": "2ab0a22f-758c-496e-bd63-9929b4bf69c9",
   "metadata": {},
   "outputs": [
    {
     "data": {
      "text/plain": [
       "mpf('0.0000000004145982598904557767193704993155477574272881894474799427026356087585247929246411944739659158435176696031')"
      ]
     },
     "execution_count": 49,
     "metadata": {},
     "output_type": "execute_result"
    }
   ],
   "source": [
    "2 * (omega / gamma) ** j * mp.besselk(j, gamma * omega)"
   ]
  },
  {
   "cell_type": "code",
   "execution_count": 50,
   "id": "ce522b4d-69e0-4e51-b850-6a7940105bad",
   "metadata": {},
   "outputs": [
    {
     "data": {
      "text/plain": [
       "mpf('0.00000001309874018895124948702180818597169579747635280167651516940815864632026671367028336295845288470393762659')"
      ]
     },
     "execution_count": 50,
     "metadata": {},
     "output_type": "execute_result"
    }
   ],
   "source": [
    "k = 5\n",
    "mp.quad(lambda t: t ** (k/2 - 1) * mp.hermite(k, xmu / mp.sqrt(2 * t)) * mp.exp(-omega ** 2 / 2 / t - gamma ** 2 / 2 * t), [0, mp.inf])"
   ]
  },
  {
   "cell_type": "code",
   "execution_count": 51,
   "id": "195acf0f-096b-43d7-96f3-76846db654e6",
   "metadata": {},
   "outputs": [
    {
     "data": {
      "text/plain": [
       "mpf('0.00000001309874018895124948702180818597169579747635280167651516940815864632026671367028336295845288470393762776')"
      ]
     },
     "execution_count": 51,
     "metadata": {},
     "output_type": "execute_result"
    }
   ],
   "source": [
    "s = 0\n",
    "for j in range(int(mp.floor(k/2)) + 1):\n",
    "    s += (-1) ** j / mp.factorial(j) / mp.factorial(k - 2 * j) * mp.besselk(j, gamma * omega) * (omega / gamma /2 / xmu ** 2) ** j\n",
    "\n",
    "2 * mp.factorial(k) * s * (mp.sqrt(2) * xmu) ** k"
   ]
  },
  {
   "cell_type": "markdown",
   "id": "3b982fed-f542-4aa4-a32e-3fb0faefcd03",
   "metadata": {},
   "source": [
    "#### Final expansion"
   ]
  },
  {
   "cell_type": "code",
   "execution_count": 52,
   "id": "251d7c92-67cf-46e8-881b-d769d6eb34d3",
   "metadata": {},
   "outputs": [],
   "source": [
    "N = 20"
   ]
  },
  {
   "cell_type": "code",
   "execution_count": 53,
   "id": "7ff34c6c-29e9-490e-9532-39992f50c8c6",
   "metadata": {},
   "outputs": [],
   "source": [
    "def Ak(k):\n",
    "    s = 0\n",
    "    for j in range(int(mp.floor(k/2)) + 1):\n",
    "        s += (-1) ** j / mp.factorial(j) / mp.factorial(k - 2 * j) * (omega / gamma /2 / xmu ** 2) ** j * mp.besselk(j, gamma * omega)\n",
    "    return s"
   ]
  },
  {
   "cell_type": "code",
   "execution_count": 54,
   "id": "7814d01f-4d1d-426b-9919-b563b13c9de3",
   "metadata": {},
   "outputs": [],
   "source": [
    "s = 0\n",
    "for k in range(N):\n",
    "    s += (beta * (x-mu)) ** k / (k + 1) * Ak(k)"
   ]
  },
  {
   "cell_type": "code",
   "execution_count": 55,
   "id": "be45c4e1-c84a-4350-9007-95142679e29a",
   "metadata": {},
   "outputs": [
    {
     "data": {
      "text/plain": [
       "mpf('0.0198310509774501178441504721148490742051176635526662412543668743841997864960943621670230023320386299297')"
      ]
     },
     "execution_count": 55,
     "metadata": {},
     "output_type": "execute_result"
    }
   ],
   "source": [
    "beta * delta * mp.exp(delta * gamma) / mp.pi * s"
   ]
  },
  {
   "cell_type": "code",
   "execution_count": 56,
   "id": "479029f9-7788-49cb-86b1-ce48af20e09e",
   "metadata": {},
   "outputs": [],
   "source": [
    "r2 = quad_phi(x, gamma, 0, mu, delta, digits=100) - beta * delta * mp.exp(delta * gamma) / mp.pi * s"
   ]
  },
  {
   "cell_type": "code",
   "execution_count": 57,
   "id": "4d4b6fdd-075b-4391-ae16-19717c26483a",
   "metadata": {},
   "outputs": [
    {
     "data": {
      "text/plain": [
       "3.229814521754699e-33"
      ]
     },
     "execution_count": 57,
     "metadata": {},
     "output_type": "execute_result"
    }
   ],
   "source": [
    "float(abs(r2 / mp_result - 1))"
   ]
  },
  {
   "cell_type": "code",
   "execution_count": 71,
   "id": "978a98d1-6208-42a2-bfcc-1c71bdf2db6f",
   "metadata": {},
   "outputs": [],
   "source": [
    "cache = {\n",
    "    -1: mp.besselk(-1, gamma * omega),\n",
    "    0: mp.besselk(0, gamma * omega),\n",
    "    1: mp.besselk(1, gamma * omega)\n",
    "}"
   ]
  },
  {
   "cell_type": "code",
   "execution_count": 72,
   "id": "40c891fa-da36-4a39-a035-d6a2a4307fea",
   "metadata": {},
   "outputs": [],
   "source": [
    "def Ak(k):\n",
    "    u = 1.0\n",
    "    z = -(omega / gamma /2 / xmu ** 2)\n",
    "    s = 0\n",
    "    for j in range(int(mp.floor(k/2)) + 1):\n",
    "        if j not in cache:\n",
    "            # cache[j] = \n",
    "            cache[j] = cache[j-2] + 2 * (j - 1) / gamma / omega * cache[j-1]\n",
    "            print(\"bessel\", j, float(cache[j]))\n",
    "\n",
    "        # print(j, float(cache[j]))\n",
    "        f = 1 / mp.factorial(j) / mp.factorial(k - 2 * j)\n",
    "\n",
    "        # print(f'j={j}, f={f}')\n",
    "        \n",
    "        # print(u, z ** j)\n",
    "        s += f * u * cache[j]\n",
    "        u *= z\n",
    "    return s"
   ]
  },
  {
   "cell_type": "code",
   "execution_count": 75,
   "id": "b24e2761-e571-4e87-99fe-443bad3010a8",
   "metadata": {},
   "outputs": [
    {
     "name": "stdout",
     "output_type": "stream",
     "text": [
      "0 3.069120356494913e-10 3.069120356494913e-10\n",
      "1 3.069120356494913e-10 3.222576374319659e-10\n",
      "2 2.3852837783553643e-11 3.223371468912444e-10\n",
      "3 -7.845117409961013e-11 3.2231753409771946e-10\n",
      "4 -2.332252547894743e-11 3.223170676472099e-10\n",
      "5 9.648133346466862e-12 3.223170837274321e-10\n",
      "6 4.9327050423094315e-12 3.223170844321043e-10\n",
      "7 -6.762481127465017e-13 3.223170844236512e-10\n",
      "8 -6.565704163085498e-13 3.2231708442292165e-10\n",
      "9 1.4237743606868884e-14 3.223170844229231e-10\n",
      "10 6.665485241574497e-14 3.223170844229237e-10\n",
      "11 3.297345261109882e-15 3.223170844229237e-10\n",
      "12 -5.614040855099505e-15 3.223170844229237e-10\n",
      "13 -5.822205521409761e-16 3.223170844229237e-10\n",
      "14 4.1142434445460025e-16 3.223170844229237e-10\n",
      "15 6.216882971526064e-17 3.223170844229237e-10\n",
      "16 -2.704848044351205e-17 3.223170844229237e-10\n",
      "17 -5.3166358151691365e-18 3.223170844229237e-10\n",
      "18 1.6292497130204307e-18 3.223170844229237e-10\n",
      "19 3.9600919772324405e-19 3.223170844229237e-10\n"
     ]
    },
    {
     "data": {
      "text/plain": [
       "mpf('0.0198310509774501178441504721148490742051176635526662412543668743841997864960943621670230023320386299297')"
      ]
     },
     "execution_count": 75,
     "metadata": {},
     "output_type": "execute_result"
    }
   ],
   "source": [
    "s = 0\n",
    "for k in range(N):\n",
    "    ak = Ak(k)\n",
    "    s += (beta * (x-mu)) ** k / (k + 1) * ak\n",
    "    print(k, float(ak), float(s))\n",
    "\n",
    "beta * delta * mp.exp(delta * gamma) / mp.pi * s"
   ]
  },
  {
   "cell_type": "code",
   "execution_count": 76,
   "id": "1ac260e6-3c91-4564-ae86-172b596b5f80",
   "metadata": {},
   "outputs": [
    {
     "data": {
      "text/plain": [
       "mpf('0.8508589631202655859629781058670465677975614612471909940778586388074898778357968923097228264545497078377')"
      ]
     },
     "execution_count": 76,
     "metadata": {},
     "output_type": "execute_result"
    }
   ],
   "source": [
    "quad_phi(x, gamma, 0, mu, delta, digits=100) - beta * delta * mp.exp(delta * gamma) / mp.pi * s"
   ]
  },
  {
   "cell_type": "code",
   "execution_count": 62,
   "id": "37d13d08-8ab5-413a-b83d-8e5c82477fa2",
   "metadata": {},
   "outputs": [
    {
     "data": {
      "text/plain": [
       "mpf('0.8508589631202655859629781058670493159141965122272371653333773255080358524185923831979875444275453882175')"
      ]
     },
     "execution_count": 62,
     "metadata": {},
     "output_type": "execute_result"
    }
   ],
   "source": [
    "mp_result"
   ]
  },
  {
   "cell_type": "code",
   "execution_count": null,
   "id": "f9eac740-9ea7-474c-a4d5-190ecafafa99",
   "metadata": {},
   "outputs": [],
   "source": []
  }
 ],
 "metadata": {
  "kernelspec": {
   "display_name": "Python 3 (ipykernel)",
   "language": "python",
   "name": "python3"
  },
  "language_info": {
   "codemirror_mode": {
    "name": "ipython",
    "version": 3
   },
   "file_extension": ".py",
   "mimetype": "text/x-python",
   "name": "python",
   "nbconvert_exporter": "python",
   "pygments_lexer": "ipython3",
   "version": "3.12.7"
  }
 },
 "nbformat": 4,
 "nbformat_minor": 5
}
