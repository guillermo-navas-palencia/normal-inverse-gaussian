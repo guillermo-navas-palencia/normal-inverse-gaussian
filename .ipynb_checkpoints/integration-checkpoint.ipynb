{
 "cells": [
  {
   "cell_type": "code",
   "execution_count": 1,
   "id": "9ec0f3b8-5846-4375-b533-0486c52a0cd3",
   "metadata": {},
   "outputs": [],
   "source": [
    "%load_ext autoreload\n",
    "%autoreload 2"
   ]
  },
  {
   "cell_type": "code",
   "execution_count": 2,
   "id": "9ca6d344-d81d-442b-a8f9-1dce4fdecea9",
   "metadata": {},
   "outputs": [],
   "source": [
    "import matplotlib.pyplot as plt\n",
    "import numpy as np\n",
    "\n",
    "from scipy import special, stats, optimize, integrate\n",
    "\n",
    "from mpmath import *\n",
    "\n",
    "from code.python.mpmath_integration import quad_phi"
   ]
  },
  {
   "cell_type": "code",
   "execution_count": 59,
   "id": "b804648c-8014-49a2-bdcb-d4eb52fa0660",
   "metadata": {},
   "outputs": [
    {
     "data": {
      "text/plain": [
       "(-1.8276719526734446, 2.8983734730860458)"
      ]
     },
     "execution_count": 59,
     "metadata": {},
     "output_type": "execute_result"
    }
   ],
   "source": [
    "alpha = 10.005\n",
    "beta = 0.0025\n",
    "mu = 0.25\n",
    "delta = 0.1\n",
    "x = -0.5\n",
    "\n",
    "x = -12\n",
    "alpha = 1\n",
    "beta = -1/2\n",
    "mu = 1\n",
    "delta = 10\n",
    "\n",
    "x = -6.219899000274793\n",
    "alpha = 0.24845308531407\n",
    "beta = 0.1\n",
    "mu = -0.3756820526459652\n",
    "delta = 10.04430694917478499\n",
    "\n",
    "x = -1.4519899000274793\n",
    "alpha = 6.54845308531407\n",
    "beta = 0.3\n",
    "mu = 0.3756820526459652\n",
    "delta = 0.4430694917478499\n",
    "\n",
    "\n",
    "gamma = np.sqrt(alpha**2 - beta**2)\n",
    "\n",
    "x -mu, gamma * delta"
   ]
  },
  {
   "cell_type": "markdown",
   "id": "e00fde74-1e5b-4c5d-93f2-4e2f959d56d0",
   "metadata": {},
   "source": [
    "#### 1. Estimate truncation N"
   ]
  },
  {
   "cell_type": "code",
   "execution_count": 60,
   "id": "bcaf085a-be05-4d46-ab6d-9da67ee98100",
   "metadata": {},
   "outputs": [],
   "source": [
    "def truncation(alpha, beta, mu, delta, eps):\n",
    "    gamma = np.sqrt(alpha**2 - beta**2)\n",
    "    C = delta * np.exp(delta * gamma) / np.sqrt(2 * np.pi)\n",
    "    u = (gamma ** 2 * eps / (2 * C)) ** (2/3)\n",
    "    print(u)\n",
    "\n",
    "    t1 = 2 * np.log(gamma)\n",
    "    t2 = np.log(3) + 2/3 * (2 * np.log(gamma) + np.log(eps) - np.log(2) - np.log(delta / np.sqrt(2 * np.pi)) - delta * gamma)\n",
    "\n",
    "    if (t1 - t2) > 705.342:\n",
    "        return 1\n",
    "    \n",
    "    y = np.exp(t1 - t2)\n",
    "\n",
    "    # Lambert W0\n",
    "    lw = float(special.lambertw(y))\n",
    "    print(lw)\n",
    "\n",
    "    # Approximation\n",
    "    la = np.log(y) ** (np.log(y) / (1 + np.log(y)))\n",
    "    print(la)\n",
    "    \n",
    "    return int(np.ceil((3 / gamma ** 2 * lw)))"
   ]
  },
  {
   "cell_type": "code",
   "execution_count": 61,
   "id": "05ff2309-b381-42f3-82c1-ab7d87c89062",
   "metadata": {},
   "outputs": [
    {
     "name": "stdout",
     "output_type": "stream",
     "text": [
      "8.135772191423209e-11\n",
      "22.764698766180008\n",
      "22.93919066890856\n"
     ]
    },
    {
     "name": "stderr",
     "output_type": "stream",
     "text": [
      "/tmp/ipykernel_6592/3871865590.py:16: ComplexWarning: Casting complex values to real discards the imaginary part\n",
      "  lw = float(special.lambertw(y))\n"
     ]
    },
    {
     "data": {
      "text/plain": [
       "2"
      ]
     },
     "execution_count": 61,
     "metadata": {},
     "output_type": "execute_result"
    }
   ],
   "source": [
    "eps = 1.1e-16\n",
    "\n",
    "N = truncation(alpha, beta, mu, delta, eps)\n",
    "N"
   ]
  },
  {
   "cell_type": "code",
   "execution_count": 62,
   "id": "5bfefdce-a4b7-49fb-a6d5-24f7e17a0b65",
   "metadata": {},
   "outputs": [
    {
     "data": {
      "text/plain": [
       "1.1430753452803674e-06"
      ]
     },
     "execution_count": 62,
     "metadata": {},
     "output_type": "execute_result"
    }
   ],
   "source": [
    "stats.norminvgauss.cdf(x=x, a=alpha*delta, b=beta*delta, loc=mu, scale=delta)"
   ]
  },
  {
   "cell_type": "code",
   "execution_count": 63,
   "id": "2a809978-af79-4822-80c0-a173fac9adf0",
   "metadata": {},
   "outputs": [
    {
     "data": {
      "text/plain": [
       "mpf('1.1430753517139356e-6')"
      ]
     },
     "execution_count": 63,
     "metadata": {},
     "output_type": "execute_result"
    }
   ],
   "source": [
    "quad_phi(x, alpha, beta, mu, delta, a=mp.zero, b=inf, digits=100)"
   ]
  },
  {
   "cell_type": "code",
   "execution_count": 64,
   "id": "d127cf8a-9128-4557-85f8-487b2b7e7b18",
   "metadata": {},
   "outputs": [
    {
     "data": {
      "text/plain": [
       "mpf('1.1430753517139351e-6')"
      ]
     },
     "execution_count": 64,
     "metadata": {},
     "output_type": "execute_result"
    }
   ],
   "source": [
    "quad_phi(x, alpha, beta, mu, delta, a=mp.zero, b=N, digits=100)"
   ]
  },
  {
   "cell_type": "markdown",
   "id": "7cde0c87-1e31-4b45-b09b-741f712223bb",
   "metadata": {},
   "source": [
    "#### 2. Tanh-sinh integration"
   ]
  },
  {
   "cell_type": "code",
   "execution_count": 65,
   "id": "542992d0-e163-48d7-8776-266b46075837",
   "metadata": {},
   "outputs": [],
   "source": [
    "from tanh_sinh import integrate as tanh_sinh_integrate"
   ]
  },
  {
   "cell_type": "code",
   "execution_count": 66,
   "id": "1ef5761b-f82e-4ab6-99bb-107d57551ca1",
   "metadata": {},
   "outputs": [],
   "source": [
    "def f(t):\n",
    "    gamma = np.sqrt(alpha**2 - beta**2)\n",
    "    integrand = special.ndtr((x-(mu + beta * t))/np.sqrt(t)) * np.exp(-delta**2/(2*t) - gamma**2/2*t) * t**(-3/2)\n",
    "    C = delta * np.exp(delta * gamma) / np.sqrt(2 * np.pi)\n",
    "\n",
    "    return C * integrand"
   ]
  },
  {
   "cell_type": "code",
   "execution_count": 68,
   "id": "79852014-ad3d-4c1d-a382-0df5b53290c0",
   "metadata": {},
   "outputs": [
    {
     "name": "stdout",
     "output_type": "stream",
     "text": [
      "level: 0. j: 1\n",
      "[1.6100055664406185e-10] 1\n",
      "level: 1. j: 1\n",
      "[1.6100055664406185e-10, 8.050027832203392e-11] 1\n",
      "level: 2. j: 3\n",
      "[1.6100055664406185e-10, 8.050027832203392e-11, 4.025013932581421e-11] 1.27260523375195e-11\n",
      "level: 3. j: 7\n",
      "[1.6100055664406185e-10, 8.050027832203392e-11, 4.025013932581421e-11, 2.433630506216305e-06] 2.43363050683019e-6\n",
      "level: 4. j: 15\n",
      "[1.6100055664406185e-10, 8.050027832203392e-11, 4.025013932581421e-11, 2.433630506216305e-06, 1.260983041200852e-06] 1.09011184586446e-6\n",
      "level: 5. j: 31\n",
      "[1.6100055664406185e-10, 8.050027832203392e-11, 4.025013932581421e-11, 2.433630506216305e-06, 1.260983041200852e-06, 1.1429133331363256e-06] 7.08350444523886e-9\n",
      "level: 6. j: 63\n",
      "[1.6100055664406185e-10, 8.050027832203392e-11, 4.025013932581421e-11, 2.433630506216305e-06, 1.260983041200852e-06, 1.1429133331363256e-06, 1.1430753518602595e-06] 1.46344174881482e-14\n",
      "level: 7. j: 126\n",
      "[1.6100055664406185e-10, 8.050027832203392e-11, 4.025013932581421e-11, 2.433630506216305e-06, 1.260983041200852e-06, 1.1429133331363256e-06, 1.1430753518602595e-06, 1.1430753517139357e-06] 2.45228706329604e-26\n"
     ]
    }
   ],
   "source": [
    "val, error_estimate = tanh_sinh_integrate(f, 0, N, eps=1e-20, mode='numpy')"
   ]
  },
  {
   "cell_type": "code",
   "execution_count": 72,
   "id": "0b9a45b8-9a21-4fb5-95e2-97205575d48f",
   "metadata": {},
   "outputs": [
    {
     "name": "stdout",
     "output_type": "stream",
     "text": [
      "level: 0. j: 1\n",
      "[2.1318504538566314e-07] 1\n",
      "level: 1. j: 1\n",
      "[2.1318504538566314e-07, 1.0678575096690119e-07] 1\n",
      "level: 2. j: 3\n",
      "[2.1318504538566314e-07, 1.0678575096690119e-07, 2.1429198743919289e-07] 3.78232283849445e-6\n",
      "level: 3. j: 7\n",
      "[2.1318504538566314e-07, 1.0678575096690119e-07, 2.1429198743919289e-07, 4.275713974925376e-07] 1.40230978201494e-7\n",
      "level: 4. j: 15\n",
      "[2.1318504538566314e-07, 1.0678575096690119e-07, 2.1429198743919289e-07, 4.275713974925376e-07, 4.4235729092788734e-07] 5.8758473719099e-10\n",
      "level: 5. j: 31\n",
      "[2.1318504538566314e-07, 1.0678575096690119e-07, 2.1429198743919289e-07, 4.275713974925376e-07, 4.4235729092788734e-07, 4.424404680090252e-07] 1.04633726646449e-13\n",
      "level: 6. j: 63\n",
      "[2.1318504538566314e-07, 1.0678575096690119e-07, 2.1429198743919289e-07, 4.275713974925376e-07, 4.4235729092788734e-07, 4.424404680090252e-07, 4.4244046281287276e-07] 5.72546261554856e-21\n"
     ]
    }
   ],
   "source": [
    "val1, error_estimate = tanh_sinh_integrate(f, 0, 0.26285500348790075, eps=1e-20, mode='numpy')"
   ]
  },
  {
   "cell_type": "code",
   "execution_count": 73,
   "id": "ace82b99-3c71-48db-af9f-3a387aa171e8",
   "metadata": {},
   "outputs": [
    {
     "name": "stdout",
     "output_type": "stream",
     "text": [
      "level: 0. j: 1\n",
      "[8.80765250800475e-12] 1\n",
      "level: 1. j: 1\n",
      "[8.80765250800475e-12, 1.2814026394144108e-09] 1\n",
      "level: 2. j: 3\n",
      "[8.80765250800475e-12, 1.2814026394144108e-09, 9.651218876557928e-07] 9.62569447079711e-7\n",
      "level: 3. j: 7\n",
      "[8.80765250800475e-12, 1.2814026394144108e-09, 9.651218876557928e-07, 6.241311931945393e-07] 1.81999607044702e-7\n",
      "level: 4. j: 15\n",
      "[8.80765250800475e-12, 1.2814026394144108e-09, 9.651218876557928e-07, 6.241311931945393e-07, 7.008734807359601e-07] 2.01475513469726e-8\n",
      "level: 5. j: 31\n",
      "[8.80765250800475e-12, 1.2814026394144108e-09, 9.651218876557928e-07, 6.241311931945393e-07, 7.008734807359601e-07, 7.006348897851538e-07] 9.75262516775886e-14\n",
      "level: 6. j: 63\n",
      "[8.80765250800475e-12, 1.2814026394144108e-09, 9.651218876557928e-07, 6.241311931945393e-07, 7.008734807359601e-07, 7.006348897851538e-07, 7.006348889010624e-07] 2.81721294442042e-24\n"
     ]
    }
   ],
   "source": [
    "val2, error_estimate = tanh_sinh_integrate(f, 0.26285500348790075, N, eps=1e-20, mode='numpy')"
   ]
  },
  {
   "cell_type": "code",
   "execution_count": 74,
   "id": "a4eaa1d6-faa5-4ecf-a25f-e1e17081bc06",
   "metadata": {},
   "outputs": [
    {
     "data": {
      "text/plain": [
       "(1.1430753517139357e-06, 1.143075351713935e-06)"
      ]
     },
     "execution_count": 74,
     "metadata": {},
     "output_type": "execute_result"
    }
   ],
   "source": [
    "val, val1 + val2"
   ]
  },
  {
   "cell_type": "code",
   "execution_count": 82,
   "id": "538b0f89-ba35-4967-9713-14cbf1865832",
   "metadata": {},
   "outputs": [
    {
     "name": "stdout",
     "output_type": "stream",
     "text": [
      "961 ms ± 30.8 ms per loop (mean ± std. dev. of 7 runs, 1 loop each)\n"
     ]
    }
   ],
   "source": [
    "%%timeit\n",
    "quad_phi(x, alpha, beta, mu, delta, a=mp.zero, b=N, digits=100) "
   ]
  },
  {
   "cell_type": "code",
   "execution_count": 83,
   "id": "6433499e-a1f4-4d44-929b-e2ea8355a705",
   "metadata": {},
   "outputs": [
    {
     "name": "stdout",
     "output_type": "stream",
     "text": [
      "763 ms ± 12.6 ms per loop (mean ± std. dev. of 7 runs, 1 loop each)\n"
     ]
    }
   ],
   "source": [
    "%%timeit\n",
    "quad_phi(x, alpha, beta, mu, delta, a=mp.zero, b=0.26285500348790075, digits=100) + quad_phi(x, alpha, beta, mu, delta, a=0.26285500348790075, b=N, digits=100)"
   ]
  },
  {
   "cell_type": "markdown",
   "id": "7e3732e6-ee86-41aa-8e4e-181f2a766524",
   "metadata": {},
   "source": [
    "##### 2.1. Order of magnitude"
   ]
  },
  {
   "cell_type": "code",
   "execution_count": 27,
   "id": "74d17a90-e973-4c44-8878-25955eb18273",
   "metadata": {},
   "outputs": [
    {
     "data": {
      "text/plain": [
       "0.34224342243422534"
      ]
     },
     "execution_count": 27,
     "metadata": {},
     "output_type": "execute_result"
    }
   ],
   "source": [
    "xx = np.linspace(1e-15, N, 100000)\n",
    "f = special.ndtr((x-(mu + beta*xx))/np.sqrt(xx)) * np.exp(-delta**2/(2*xx) - gamma**2/2*xx) * xx**(-3/2)\n",
    "\n",
    "xx[np.argmax(f)]"
   ]
  },
  {
   "cell_type": "code",
   "execution_count": 14,
   "id": "fecd25e6-a068-4c2e-843d-91e38452b8b1",
   "metadata": {},
   "outputs": [
    {
     "data": {
      "text/plain": [
       "(26.220854523678174, 17.466354969870107, 26.182772091852247)"
      ]
     },
     "execution_count": 14,
     "metadata": {},
     "output_type": "execute_result"
    }
   ],
   "source": [
    "t = 0.001\n",
    "z = (x-(mu + beta * t))/np.sqrt(t)\n",
    "stats.norm.pdf(z) / special.ndtr(z), np.sqrt(2 / np.pi) - 2 / np.pi * z, -z"
   ]
  },
  {
   "cell_type": "code",
   "execution_count": 15,
   "id": "19f96825-faa3-4b10-9e84-0a7ec944d394",
   "metadata": {},
   "outputs": [
    {
     "data": {
      "text/plain": [
       "(0.13878975045885078,\n",
       " -0.3569103237943509,\n",
       " -0.1570450977485066,\n",
       " 0.12951759566589174)"
      ]
     },
     "execution_count": 15,
     "metadata": {},
     "output_type": "execute_result"
    }
   ],
   "source": [
    "z = 1.5\n",
    "\n",
    "stats.norm.pdf(z) / special.ndtr(z), -stats.norm.pdf(z) / special.ndtr(z) * (z + 1/special.ndtr(z)), np.sqrt(2/np.pi) - 2*z/np.pi, stats.norm.pdf(z)"
   ]
  },
  {
   "cell_type": "code",
   "execution_count": 16,
   "id": "876de0e3-4de9-4b11-a144-8cc3accce348",
   "metadata": {},
   "outputs": [
    {
     "data": {
      "text/plain": [
       "      converged: True\n",
       "           flag: converged\n",
       " function_calls: 20\n",
       "     iterations: 18\n",
       "           root: 0.0643167926826477"
      ]
     },
     "execution_count": 16,
     "metadata": {},
     "output_type": "execute_result"
    }
   ],
   "source": [
    "def fa(t):\n",
    "    z = (x-(mu + beta * 1))/np.sqrt(1)\n",
    "    T = np.sqrt(2 / np.pi) - 2 / np.pi * z\n",
    "    return delta ** 2 / (2*t**2) - 3/(2*t) -1/2*(alpha ** 2 + (x-mu)** 2 - 2 * beta ** 2)\n",
    "\n",
    "sol = optimize.root_scalar(fa, method='bisect', bracket=[1e-6, 20], xtol=1e-4)\n",
    "sol"
   ]
  },
  {
   "cell_type": "code",
   "execution_count": 17,
   "id": "48ec5e06-6d1e-4920-8744-a24c37836258",
   "metadata": {},
   "outputs": [
    {
     "data": {
      "text/plain": [
       "0.12080078679052253"
      ]
     },
     "execution_count": 17,
     "metadata": {},
     "output_type": "execute_result"
    }
   ],
   "source": [
    "(alpha ** 2  - 2 * beta ** 2)"
   ]
  },
  {
   "cell_type": "code",
   "execution_count": 18,
   "id": "54aedc22-6af2-4941-8157-e0f7367048f1",
   "metadata": {},
   "outputs": [
    {
     "data": {
      "text/plain": [
       "0.06432539920385714"
      ]
     },
     "execution_count": 18,
     "metadata": {},
     "output_type": "execute_result"
    }
   ],
   "source": [
    "(-3/2 + np.sqrt(9/4 + (delta ** 2) * (alpha ** 2 + (x-mu)** 2 - 2 * beta ** 2))) / (alpha ** 2 + (x-mu)** 2 - 2 * beta ** 2)"
   ]
  },
  {
   "cell_type": "code",
   "execution_count": 19,
   "id": "e10abc90-1408-4b90-8ee7-03ee8982e0d7",
   "metadata": {},
   "outputs": [
    {
     "data": {
      "text/plain": [
       "0.2856050159532921"
      ]
     },
     "execution_count": 19,
     "metadata": {},
     "output_type": "execute_result"
    }
   ],
   "source": [
    "t0 = (-3/2 + np.sqrt(9/4 + (delta**2 + (x-mu)**2) * alpha ** 2)) / alpha**2\n",
    "t0"
   ]
  },
  {
   "cell_type": "markdown",
   "id": "b9e64ef0-8166-48bd-ae11-a4db89f3b5ed",
   "metadata": {},
   "source": [
    "Simple"
   ]
  },
  {
   "cell_type": "code",
   "execution_count": 20,
   "id": "40b9fe1c-305e-4722-8063-21c884158fb1",
   "metadata": {},
   "outputs": [
    {
     "data": {
      "text/plain": [
       "0.8078530390509654"
      ]
     },
     "execution_count": 20,
     "metadata": {},
     "output_type": "execute_result"
    }
   ],
   "source": [
    "t0 = delta / alpha\n",
    "t0"
   ]
  },
  {
   "cell_type": "markdown",
   "id": "829b6769-282c-4bf7-b839-27537b8a96cd",
   "metadata": {},
   "source": [
    "Estimate $\\gamma$ and $\\delta$ both large, and $\\beta$ and $x-\\mu$ fixed."
   ]
  },
  {
   "cell_type": "code",
   "execution_count": 21,
   "id": "cd7a902a-9e22-43d7-a07d-67fa8e40d93d",
   "metadata": {},
   "outputs": [
    {
     "data": {
      "text/plain": [
       "(0.4591304681574972, 0.4430694917478499)"
      ]
     },
     "execution_count": 21,
     "metadata": {},
     "output_type": "execute_result"
    }
   ],
   "source": [
    "gamma, delta"
   ]
  },
  {
   "cell_type": "code",
   "execution_count": 22,
   "id": "81248d49-7804-46fe-bdc3-0877bbddf491",
   "metadata": {},
   "outputs": [
    {
     "data": {
      "text/plain": [
       "5.680861678825599"
      ]
     },
     "execution_count": 22,
     "metadata": {},
     "output_type": "execute_result"
    }
   ],
   "source": [
    "t0 = -3/2 + np.sqrt(9/4 + (gamma * delta) ** 2) / gamma ** 2\n",
    "t0"
   ]
  },
  {
   "cell_type": "markdown",
   "id": "588d241d-58d8-4e19-badb-f0c40a20a30b",
   "metadata": {},
   "source": [
    "Case $x - \\mu < 0$ and $\\beta \\to 0$"
   ]
  },
  {
   "cell_type": "code",
   "execution_count": 23,
   "id": "00575433-0116-4d36-9b2f-aac691e74303",
   "metadata": {},
   "outputs": [
    {
     "data": {
      "text/plain": [
       "5.90368028596708"
      ]
     },
     "execution_count": 23,
     "metadata": {},
     "output_type": "execute_result"
    }
   ],
   "source": [
    "omega = np.sqrt((x-mu)**2 + delta ** 2)\n",
    "t0 = -3/2 + np.sqrt(9/4 + (gamma * omega) ** 2) / gamma ** 2\n",
    "t0"
   ]
  },
  {
   "cell_type": "markdown",
   "id": "408b8697-3dec-436b-b7bb-bac0a41f4509",
   "metadata": {},
   "source": [
    "Case $x - \\mu < 0$ and $\\beta < 0$"
   ]
  },
  {
   "cell_type": "code",
   "execution_count": 24,
   "id": "339d5a29-23d6-465c-a169-b00da38079bb",
   "metadata": {},
   "outputs": [
    {
     "data": {
      "text/plain": [
       "(-0.8276719526734445, 0.3)"
      ]
     },
     "execution_count": 24,
     "metadata": {},
     "output_type": "execute_result"
    }
   ],
   "source": [
    "x-mu, beta"
   ]
  },
  {
   "cell_type": "code",
   "execution_count": 25,
   "id": "0da63264-63cc-44b6-818d-63aa3e65f5b9",
   "metadata": {},
   "outputs": [
    {
     "data": {
      "text/plain": [
       "0.2486634153491604"
      ]
     },
     "execution_count": 25,
     "metadata": {},
     "output_type": "execute_result"
    }
   ],
   "source": [
    "h = (beta * (x-mu) - 3) / 2\n",
    "t0 = (h + np.sqrt(h ** 2 + (delta * omega) ** 2)) / gamma ** 2\n",
    "t0"
   ]
  },
  {
   "cell_type": "code",
   "execution_count": 28,
   "id": "178a2fb1-22ce-47a4-a4cd-455cce6606f9",
   "metadata": {},
   "outputs": [
    {
     "name": "stderr",
     "output_type": "stream",
     "text": [
      "/tmp/ipykernel_6592/3495162056.py:11: RuntimeWarning: invalid value encountered in scalar divide\n",
      "  return delta ** 2 / (2*t**2) - gamma**2/2 - 3/(2*t) -1/2*((x-mu)/t**(3/2) +beta/np.sqrt(t)) * stats.norm.pdf(z) / special.ndtr(z)\n",
      "/tmp/ipykernel_6592/3495162056.py:11: RuntimeWarning: invalid value encountered in divide\n",
      "  return delta ** 2 / (2*t**2) - gamma**2/2 - 3/(2*t) -1/2*((x-mu)/t**(3/2) +beta/np.sqrt(t)) * stats.norm.pdf(z) / special.ndtr(z)\n"
     ]
    },
    {
     "data": {
      "text/plain": [
       "(nan,\n",
       "       converged: False\n",
       "            flag: convergence error\n",
       "  function_calls: 100\n",
       "      iterations: 50\n",
       "            root: nan)"
      ]
     },
     "execution_count": 28,
     "metadata": {},
     "output_type": "execute_result"
    }
   ],
   "source": [
    "def g(t):\n",
    "    z = (x-mu)/np.sqrt(t) - beta*np.sqrt(t)\n",
    "    t1 = -0.5 * (delta ** 2 / t + gamma**2*t)\n",
    "    t2 = - 3/2*np.log(t)\n",
    "    t3 = np.log(special.ndtr(z))\n",
    "    # print(z, t1, t2, t3)\n",
    "    return t1 + t2 + t3\n",
    "\n",
    "def gp(t):\n",
    "    z = (x-(mu + beta * t))/np.sqrt(t)\n",
    "    return delta ** 2 / (2*t**2) - gamma**2/2 - 3/(2*t) -1/2*((x-mu)/t**(3/2) +beta/np.sqrt(t)) * stats.norm.pdf(z) / special.ndtr(z)\n",
    "\n",
    "sol = optimize.root_scalar(gp, x0=delta/alpha, xtol=1e-4)\n",
    "\n",
    "max_f = np.exp(g(sol.root))\n",
    "max_f, sol"
   ]
  },
  {
   "cell_type": "code",
   "execution_count": 29,
   "id": "a7112e13-4871-4d2e-814a-8260d6b75244",
   "metadata": {},
   "outputs": [],
   "source": [
    "def gp_deriv(t):\n",
    "    z = (x-(mu + beta * t))/np.sqrt(t)\n",
    "    \n",
    "    # Function\n",
    "    A = 1/2*((x-mu)/t**(3/2) +beta/np.sqrt(t))\n",
    "    B = stats.norm.pdf(z) / special.ndtr(z)\n",
    "\n",
    "    f = delta ** 2 / (2*t**2) - gamma**2/2 - 3/(2*t) -A * B\n",
    "\n",
    "    # Derivative\n",
    "    d1 = -1/2 * (beta / t ** (3/2) - 3/2 * (x - mu + beta * t)/t ** (5/2)) * B\n",
    "    d2 = -z * A ** 2 * B\n",
    "    d3 = -B ** 2 * A ** 2\n",
    "\n",
    "    deriv = -delta ** 2 / t ** 3 + 3/2/t**2 + d1 + d2 + d3\n",
    "\n",
    "    return f, deriv\n",
    "\n",
    "# gp_deriv(t0), gp(t0), (gp(t0 + 1e-5) - gp(t0 - 1e-5)) / 2e-5"
   ]
  },
  {
   "cell_type": "code",
   "execution_count": 30,
   "id": "7f09843d-08e2-4d5b-9fa0-64d589304b7f",
   "metadata": {},
   "outputs": [
    {
     "data": {
      "text/plain": [
       "      converged: True\n",
       "           flag: converged\n",
       " function_calls: 5\n",
       "     iterations: 5\n",
       "           root: 0.3421955460060159"
      ]
     },
     "execution_count": 30,
     "metadata": {},
     "output_type": "execute_result"
    }
   ],
   "source": [
    "sol = optimize.root_scalar(gp_deriv, x0=t0, fprime=True, method='newton', xtol=1e-4)\n",
    "sol"
   ]
  },
  {
   "cell_type": "code",
   "execution_count": 31,
   "id": "7fd8c40e-20bc-44ac-b6a5-22b48a55f822",
   "metadata": {},
   "outputs": [
    {
     "name": "stderr",
     "output_type": "stream",
     "text": [
      "/tmp/ipykernel_6592/3495162056.py:11: RuntimeWarning: invalid value encountered in scalar divide\n",
      "  return delta ** 2 / (2*t**2) - gamma**2/2 - 3/(2*t) -1/2*((x-mu)/t**(3/2) +beta/np.sqrt(t)) * stats.norm.pdf(z) / special.ndtr(z)\n",
      "/tmp/ipykernel_6592/3495162056.py:5: RuntimeWarning: divide by zero encountered in log\n",
      "  t3 = np.log(special.ndtr(z))\n"
     ]
    },
    {
     "data": {
      "text/plain": [
       "(0.0,\n",
       "       converged: False\n",
       "            flag: The function value at x=1e-06 is NaN; solver cannot continue.\n",
       "  function_calls: 1\n",
       "      iterations: nan\n",
       "            root: 1e-06)"
      ]
     },
     "execution_count": 31,
     "metadata": {},
     "output_type": "execute_result"
    }
   ],
   "source": [
    "sol = optimize.root_scalar(gp, x0=t0, method='bisect', bracket=[1e-6, delta * 2], xtol=1e-4)\n",
    "sol\n",
    "\n",
    "max_f = np.exp(g(sol.root))\n",
    "max_f, sol"
   ]
  },
  {
   "cell_type": "code",
   "execution_count": null,
   "id": "fff6486c-d6f3-446e-9840-e00975116396",
   "metadata": {},
   "outputs": [],
   "source": []
  },
  {
   "cell_type": "code",
   "execution_count": 47,
   "id": "45675f33-1f43-4b3a-bb58-eda68f98c303",
   "metadata": {},
   "outputs": [
    {
     "data": {
      "text/plain": [
       "0.16270847787840106"
      ]
     },
     "execution_count": 47,
     "metadata": {},
     "output_type": "execute_result"
    }
   ],
   "source": [
    "t0"
   ]
  },
  {
   "cell_type": "code",
   "execution_count": 48,
   "id": "6d99c3ab-675a-4722-a768-7636bfe6118b",
   "metadata": {},
   "outputs": [
    {
     "data": {
      "text/plain": [
       "(63.304862121439854, 0.4430694917478499, 786.7157204790643, 21.11936521396427)"
      ]
     },
     "execution_count": 48,
     "metadata": {},
     "output_type": "execute_result"
    }
   ],
   "source": [
    "alpha / delta, delta, alpha ** 2 - 2 * beta ** 2 , (x-mu)**2"
   ]
  },
  {
   "cell_type": "code",
   "execution_count": 67,
   "id": "dea5d585-d541-4a8d-b4b9-ea9b0fe99707",
   "metadata": {},
   "outputs": [
    {
     "name": "stdout",
     "output_type": "stream",
     "text": [
      "init negative 0.2543268337653374\n",
      "0 1.615098529210961 0.2624335724129212\n",
      "1 0.07603193588232315 0.26285396211471856\n",
      "2 0.00018741472865357878 0.2628550034815383\n",
      "3 1.1450396186774014e-09 0.26285500348790075\n",
      "-13.202152783852256\n"
     ]
    },
    {
     "data": {
      "text/plain": [
       "5.922531993143176e-06"
      ]
     },
     "execution_count": 67,
     "metadata": {},
     "output_type": "execute_result"
    }
   ],
   "source": [
    "def max_contribution(tol=1e-4):\n",
    "    # check_1 = (alpha / delta < 0.5) and (delta > 2)\n",
    "    # check_2 = alpha ** 2 + (x -mu) ** 2 < 2 * beta ** 2 \n",
    "    # check_3 = (x-mu)**2 > 1\n",
    "    \n",
    "    # if check_1 or check_2:\n",
    "    #     x0_type = 'asymptotic'\n",
    "    #     x0 = (-3/2 + np.sqrt(9/4 + (delta**2 + (x-mu)**2) * alpha ** 2)) / alpha**2\n",
    "    # else:\n",
    "    #     x0_type = 'small'\n",
    "    #     x0 = (-3/2 + np.sqrt(9/4 + (delta ** 2) * (alpha ** 2 + (x-mu)** 2 - 2 * beta ** 2))) / (alpha ** 2 + (x-mu)** 2 - 2 * beta ** 2)\n",
    "\n",
    "    if (x - mu) < 0:\n",
    "        x0_type = 'negative'\n",
    "        x0 = (-3/2 + np.sqrt(9/4 + (delta**2 + (x-mu)**2) * alpha ** 2)) / alpha**2\n",
    "    else:\n",
    "        x0_type = 'positive'\n",
    "        x0 = (-3/2 + np.sqrt(9/4 + (gamma * delta) ** 2)) / gamma ** 2\n",
    "    \n",
    "    \n",
    "    print(f'init {x0_type}', x0)\n",
    "\n",
    "    maxiter = 10\n",
    "    for k in range(maxiter):\n",
    "        fx, fxp = gp_deriv(x0)\n",
    "        x0 -= fx / fxp\n",
    "\n",
    "        err = abs(fx)\n",
    "        print(k, err, x0)\n",
    "        if err < tol:\n",
    "            break\n",
    "\n",
    "    max_f = delta / np.sqrt(2 * np.pi) * np.exp(g(x0) + delta * gamma)\n",
    "    print(g(x0))\n",
    "\n",
    "    return max_f, x0\n",
    "\n",
    "max_f, root = max_contribution()\n",
    "max_f"
   ]
  },
  {
   "cell_type": "code",
   "execution_count": 33,
   "id": "509b4a60-a3fc-4761-b901-93fc6a7d4bce",
   "metadata": {},
   "outputs": [
    {
     "name": "stdout",
     "output_type": "stream",
     "text": [
      "0 -0.7642108200124826 0.4430699917478499\n",
      "1 3.4630222949192984 0.22153549587392493\n",
      "2 25.619956704268535 0.11076824793696247\n",
      "3 124.09703270653377 0.055384623968481234\n",
      "4 536.8213263151287 0.027692811984240617\n",
      "5 2224.301729001303 0.01384690599212031\n",
      "6 9045.703099392136 0.006923952996060154\n",
      "7 36466.716335757315 0.003462476498030077\n",
      "8 146365.5301259313 0.0017317382490150387\n",
      "9 585945.2926607897 0.0008663691245075193\n",
      "10 nan 0.00043368456225375965\n",
      "11 nan 0.00021734228112687984\n",
      "12 nan 0.00010917114056343992\n",
      "-inf\n"
     ]
    },
    {
     "name": "stderr",
     "output_type": "stream",
     "text": [
      "/tmp/ipykernel_6592/12370538.py:6: RuntimeWarning: invalid value encountered in scalar divide\n",
      "  B = stats.norm.pdf(z) / special.ndtr(z)\n",
      "/tmp/ipykernel_6592/3495162056.py:5: RuntimeWarning: divide by zero encountered in log\n",
      "  t3 = np.log(special.ndtr(z))\n"
     ]
    },
    {
     "data": {
      "text/plain": [
       "0.0"
      ]
     },
     "execution_count": 33,
     "metadata": {},
     "output_type": "execute_result"
    }
   ],
   "source": [
    "def max_contribution_bisection(tol=1e-4):\n",
    "    a = 1e-6\n",
    "    b = delta * 2\n",
    "\n",
    "    maxiter = 20\n",
    "    for k in range(maxiter):\n",
    "        c = (a + b) / 2\n",
    "        fc, _ = gp_deriv(c)\n",
    "        \n",
    "        if fc == 0 or (b - a) / 2 < tol:\n",
    "            break\n",
    "\n",
    "        fa, _ = gp_deriv(a)\n",
    "        if np.sign(fc) == np.sign(fa):\n",
    "            a = c\n",
    "        else:\n",
    "            b = c\n",
    "        print(k, fc, c)\n",
    "\n",
    "    max_f = delta / np.sqrt(2 * np.pi) * np.exp(g(c) + delta * gamma)\n",
    "    print(g(c))\n",
    "\n",
    "    return max_f, c\n",
    "\n",
    "max_f, root = max_contribution_bisection()\n",
    "max_f"
   ]
  },
  {
   "cell_type": "code",
   "execution_count": 42,
   "id": "770f1bb8-4f05-4018-b932-b8927ae9d0c9",
   "metadata": {},
   "outputs": [
    {
     "data": {
      "text/plain": [
       "(97.45514918282856,\n",
       " 1.0819695049105578e-14,\n",
       " 1.1102230246251565e-16,\n",
       " 0.014004565954889168)"
      ]
     },
     "execution_count": 42,
     "metadata": {},
     "output_type": "execute_result"
    }
   ],
   "source": [
    "max_f, max_f / 2**53, 2**(-53), root"
   ]
  },
  {
   "cell_type": "code",
   "execution_count": 43,
   "id": "bd0a1e97-6d69-474b-9e73-50cd31b03fdd",
   "metadata": {},
   "outputs": [
    {
     "name": "stdout",
     "output_type": "stream",
     "text": [
      "2.1036611499777858e-11\n",
      "26.86325220314536\n",
      "27.030880737985125\n"
     ]
    },
    {
     "name": "stderr",
     "output_type": "stream",
     "text": [
      "/tmp/ipykernel_5466/3871865590.py:16: ComplexWarning: Casting complex values to real discards the imaginary part\n",
      "  lw = float(special.lambertw(y))\n"
     ]
    },
    {
     "data": {
      "text/plain": [
       "1"
      ]
     },
     "execution_count": 43,
     "metadata": {},
     "output_type": "execute_result"
    }
   ],
   "source": [
    "eps = 2**(-53)\n",
    "\n",
    "N = truncation(alpha, beta, mu, delta, eps * max_f)\n",
    "N"
   ]
  },
  {
   "cell_type": "code",
   "execution_count": 44,
   "id": "98ef3c81-a4b1-4b62-9ffe-bf88bbd335b7",
   "metadata": {},
   "outputs": [
    {
     "name": "stdout",
     "output_type": "stream",
     "text": [
      "9.933583028704972e-13\n",
      "29.812027715851094\n",
      "29.974883290301424\n",
      "2.1036611499777858e-11\n",
      "26.86325220314536\n",
      "27.030880737985125\n"
     ]
    },
    {
     "name": "stderr",
     "output_type": "stream",
     "text": [
      "/tmp/ipykernel_5466/3871865590.py:16: ComplexWarning: Casting complex values to real discards the imaginary part\n",
      "  lw = float(special.lambertw(y))\n"
     ]
    },
    {
     "data": {
      "text/plain": [
       "(1, 1)"
      ]
     },
     "execution_count": 44,
     "metadata": {},
     "output_type": "execute_result"
    }
   ],
   "source": [
    "truncation(alpha, beta, mu, delta, eps), truncation(alpha, beta, mu, delta, eps * max_f)"
   ]
  },
  {
   "cell_type": "code",
   "execution_count": 45,
   "id": "d1ebf77a-e60b-4d8a-9d81-c6b76002c743",
   "metadata": {},
   "outputs": [
    {
     "data": {
      "image/png": "[encoded data removed]",
      "text/plain": [
       "<Figure size 640x480 with 1 Axes>"
      ]
     },
     "metadata": {},
     "output_type": "display_data"
    }
   ],
   "source": [
    "C = delta / np.sqrt(2 * np.pi) * np.exp(delta * gamma)\n",
    "plt.plot(xx, C * f)\n",
    "plt.axvline(root, color='r')\n",
    "# plt.xlim(-0.01, 0.01)\n",
    "plt.show()"
   ]
  },
  {
   "cell_type": "code",
   "execution_count": 84,
   "id": "b92d7080-11e9-4ad2-ad3c-41253876a43a",
   "metadata": {},
   "outputs": [],
   "source": [
    "from nig_integration import nig_integration"
   ]
  },
  {
   "cell_type": "code",
   "execution_count": 85,
   "id": "bc0ae24d-9269-4766-9a7b-f301f7c023cf",
   "metadata": {},
   "outputs": [],
   "source": [
    "def f(t):\n",
    "    gamma = np.sqrt(alpha**2 - beta**2)\n",
    "    integrand = special.ndtr((x-mu - beta * t)/np.sqrt(t)) * np.exp(-(delta - gamma * t)**2 / 2 / t) * t**(-3/2)\n",
    "    # C = delta/ np.sqrt(2 * np.pi)\n",
    "\n",
    "    return integrand"
   ]
  },
  {
   "cell_type": "code",
   "execution_count": 86,
   "id": "12c5b841-037c-4357-964e-58a27294d89f",
   "metadata": {},
   "outputs": [
    {
     "data": {
      "text/plain": [
       "2"
      ]
     },
     "execution_count": 86,
     "metadata": {},
     "output_type": "execute_result"
    }
   ],
   "source": [
    "N"
   ]
  },
  {
   "cell_type": "code",
   "execution_count": 95,
   "id": "6b9b37d4-0d67-4343-9001-0ab5c9fcacdc",
   "metadata": {},
   "outputs": [
    {
     "data": {
      "text/plain": [
       "mpf('4.4244046281287307e-7')"
      ]
     },
     "execution_count": 95,
     "metadata": {},
     "output_type": "execute_result"
    }
   ],
   "source": [
    "\n",
    "# quad_phi(x, alpha, beta, mu, delta, a=mp.zero, b=0.26285500348790075, digits=100) \n",
    "quad_phi(x, alpha, beta, mu, delta, a=mp.zero, b=0.26285500348790075, digits=100) "
   ]
  },
  {
   "cell_type": "code",
   "execution_count": 96,
   "id": "34e62aa8-60c2-4e72-a4a0-4d742cef9aa8",
   "metadata": {},
   "outputs": [
    {
     "name": "stdout",
     "output_type": "stream",
     "text": [
      "h=3.871859339789319\n",
      "lambert  -75.44787685668081\n",
      "\n",
      "level: 0. j: 1\n",
      "[1.1275184458590666e-06]\n",
      "lambert  -74.74537496806168\n",
      "\n",
      "level: 1. j: 1\n",
      "[1.1275184458590666e-06, 5.682063756563948e-07]\n",
      "lambert  -74.0427835324627\n",
      "\n",
      "level: 2. j: 3\n",
      "[1.1275184458590666e-06, 5.682063756563948e-07, 1.3852934458698223e-06]\n",
      "lambert  -73.3401008070815\n",
      "\n",
      "level: 3. j: 7\n",
      "[1.1275184458590666e-06, 5.682063756563948e-07, 1.3852934458698223e-06, 2.4493454757293507e-06]\n",
      "lambert  -72.6373249975023\n",
      "\n",
      "level: 4. j: 15\n",
      "[1.1275184458590666e-06, 5.682063756563948e-07, 1.3852934458698223e-06, 2.4493454757293507e-06, 2.502785192924332e-06]\n",
      "lambert  -71.93445425563057\n",
      "\n",
      "level: 5. j: 31\n",
      "[1.1275184458590666e-06, 5.682063756563948e-07, 1.3852934458698223e-06, 2.4493454757293507e-06, 2.502785192924332e-06, 2.5030695986097103e-06]\n",
      "lambert  -71.23148667752294\n",
      "\n",
      "level: 6. j: 63\n",
      "[1.1275184458590666e-06, 5.682063756563948e-07, 1.3852934458698223e-06, 2.4493454757293507e-06, 2.502785192924332e-06, 2.5030695986097103e-06, 2.503069596492828e-06]\n",
      "lambert  -70.52842030110604\n",
      "\n",
      "level: 7. j: 125\n",
      "[1.1275184458590666e-06, 5.682063756563948e-07, 1.3852934458698223e-06, 2.4493454757293507e-06, 2.502785192924332e-06, 2.5030695986097103e-06, 2.503069596492828e-06, 2.5030695964928275e-06]\n"
     ]
    },
    {
     "data": {
      "text/plain": [
       "2.5030695964928275e-06"
      ]
     },
     "execution_count": 96,
     "metadata": {},
     "output_type": "execute_result"
    }
   ],
   "source": [
    "nig_integration(f, 0.26285500348790075, 1e-15, max_steps=10)"
   ]
  },
  {
   "cell_type": "code",
   "execution_count": 97,
   "id": "5ee776cb-748e-4581-b100-4e589b54dd2d",
   "metadata": {},
   "outputs": [
    {
     "data": {
      "text/plain": [
       "1.143075351713935e-06"
      ]
     },
     "execution_count": 97,
     "metadata": {},
     "output_type": "execute_result"
    }
   ],
   "source": [
    "float(quad_phi(x, alpha, beta, mu, delta, a=mp.zero, b=N, digits=100))"
   ]
  },
  {
   "cell_type": "code",
   "execution_count": null,
   "id": "57d43243-1165-4c8e-9d9a-8e55adafc4e4",
   "metadata": {},
   "outputs": [],
   "source": [
    "eps = 1e-15\n",
    "h = 0.5\n",
    "z = -(eps ** 2) / h / 2\n",
    "np.log(-2 / np.pi * special.lambertw(z, -1).real) / h,  special.lambertw(z, -1).real"
   ]
  },
  {
   "cell_type": "code",
   "execution_count": null,
   "id": "4814d5de-dad9-4980-ac1c-bdd5a5e124d0",
   "metadata": {},
   "outputs": [],
   "source": [
    "a = 0.3205\n",
    "np.log(-z) - 2 / a * (1 - 1 / (1 + a * sqrt(-0.5*(1 + np.log(-z)))))"
   ]
  },
  {
   "cell_type": "code",
   "execution_count": null,
   "id": "45b6c83b-66c2-430b-a712-047198124c54",
   "metadata": {},
   "outputs": [],
   "source": [
    "u = -2 * np.log(eps) + np.log(2 * h) - 1\n",
    "special.lambertw(-np.exp(-u-1), -1), -1 - np.sqrt(2 * u) - 2/3*u"
   ]
  },
  {
   "cell_type": "code",
   "execution_count": null,
   "id": "4184c973-1b4e-4aba-8117-0ce2292ff6d9",
   "metadata": {},
   "outputs": [],
   "source": [
    "np.pi / 2"
   ]
  },
  {
   "cell_type": "code",
   "execution_count": 106,
   "id": "6bcf4704-4ccd-4d45-bae2-47166d0e940e",
   "metadata": {},
   "outputs": [
    {
     "data": {
      "text/plain": [
       "2.7470778856051737e-19"
      ]
     },
     "execution_count": 106,
     "metadata": {},
     "output_type": "execute_result"
    }
   ],
   "source": [
    "max_f = 2\n",
    "\n",
    "n = 128\n",
    "rho = 1.2\n",
    "64 * max_f / (15 * (rho - 1) * rho**(2*n - 1))"
   ]
  },
  {
   "cell_type": "code",
   "execution_count": null,
   "id": "2b34cc47-e724-4842-8260-97fb0569ed39",
   "metadata": {},
   "outputs": [],
   "source": []
  }
 ],
 "metadata": {
  "kernelspec": {
   "display_name": "Python 3 (ipykernel)",
   "language": "python",
   "name": "python3"
  },
  "language_info": {
   "codemirror_mode": {
    "name": "ipython",
    "version": 3
   },
   "file_extension": ".py",
   "mimetype": "text/x-python",
   "name": "python",
   "nbconvert_exporter": "python",
   "pygments_lexer": "ipython3",
   "version": "3.9.12"
  }
 },
 "nbformat": 4,
 "nbformat_minor": 5
}
