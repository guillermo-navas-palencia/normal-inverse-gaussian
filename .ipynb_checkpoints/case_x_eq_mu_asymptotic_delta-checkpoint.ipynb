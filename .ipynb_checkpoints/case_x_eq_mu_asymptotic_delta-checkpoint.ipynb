{
 "cells": [
  {
   "cell_type": "code",
   "execution_count": 1,
   "id": "13147bb4-3f08-40fe-bdad-b12c63efcecc",
   "metadata": {},
   "outputs": [],
   "source": [
    "import itertools\n",
    "\n",
    "import matplotlib.pyplot as plt\n",
    "import numpy as np\n",
    "import pandas as pd\n",
    "\n",
    "from scipy import stats\n",
    "from code.python.mpmath_integration import quad_phi\n",
    "from mpmath import mp\n",
    "\n",
    "from scipy import stats"
   ]
  },
  {
   "cell_type": "code",
   "execution_count": 167,
   "id": "eec78885-15e6-4db2-9e65-2a9e8275ee24",
   "metadata": {},
   "outputs": [],
   "source": [
    "x = mp.mpf('0')\n",
    "alpha = mp.mpf('9')\n",
    "beta = mp.mpf('4.5')\n",
    "mu = mp.mpf('0')\n",
    "delta = mp.mpf('12')\n",
    "\n",
    "\n",
    "xmu = x - mu\n",
    "gamma = mp.sqrt(alpha ** 2 - beta ** 2)\n",
    "omega = mp.sqrt(xmu ** 2 + delta ** 2)"
   ]
  },
  {
   "cell_type": "code",
   "execution_count": 168,
   "id": "6b4719ad-76db-47ef-baca-7d8528085e0d",
   "metadata": {},
   "outputs": [
    {
     "data": {
      "text/plain": [
       "3.870953461878374e-08"
      ]
     },
     "execution_count": 168,
     "metadata": {},
     "output_type": "execute_result"
    }
   ],
   "source": [
    "mp_result = quad_phi(x, alpha, beta, mu, delta, digits=300)\n",
    "float(mp_result)\n",
    "# mp_result"
   ]
  },
  {
   "cell_type": "code",
   "execution_count": 169,
   "id": "57b0645e-5495-4d07-9bd9-824ccff2d822",
   "metadata": {},
   "outputs": [
    {
     "data": {
      "text/plain": [
       "3.8709534615566786e-08"
      ]
     },
     "execution_count": 169,
     "metadata": {},
     "output_type": "execute_result"
    }
   ],
   "source": [
    "stats.norminvgauss.cdf(x=float(x), a=float(alpha*delta), b=float(beta*delta), loc=float(mu), scale=float(delta))"
   ]
  },
  {
   "cell_type": "markdown",
   "id": "0eb40014-58af-496f-9039-0f5ccb72da9e",
   "metadata": {},
   "source": [
    "Asymptotic expansion"
   ]
  },
  {
   "cell_type": "code",
   "execution_count": 125,
   "id": "7d8cbcfc-e28a-4c03-99c2-0af71feb8bab",
   "metadata": {},
   "outputs": [
    {
     "name": "stdout",
     "output_type": "stream",
     "text": [
      "0 0.1573736987958554\n",
      "1 0.0009787374665824616\n",
      "2 1.835217286094908e-05\n",
      "3 5.763991693056694e-07\n",
      "4 2.5471403614270804e-08\n",
      "5 1.454428173667791e-09\n",
      "6 1.0201098986973669e-10\n",
      "7 8.498006742916122e-12\n",
      "8 8.209173729393976e-13\n",
      "9 9.03240473822729e-14\n",
      "10 1.1162858300704504e-14\n",
      "11 1.5324134940868972e-15\n",
      "12 2.315513367137787e-16\n",
      "13 3.82201470004485e-17\n",
      "14 6.847341925735226e-18\n",
      "15 1.3241768387599752e-18\n",
      "16 2.751014694679311e-19\n",
      "17 6.11435232256249e-20\n",
      "18 1.4485035704905244e-20\n",
      "19 3.64568245465907e-21\n",
      "20 9.719780091405832e-22\n",
      "21 2.737837453021384e-22\n",
      "22 8.128243771777479e-23\n",
      "23 2.537943188847092e-23\n",
      "24 8.317699833440402e-24\n",
      "25 2.8560930863668267e-24\n",
      "26 1.0258025668516183e-24\n",
      "27 3.847757826160757e-25\n",
      "28 1.5051642679633642e-25\n",
      "29 6.132197824882773e-26\n",
      "30 2.598770704720195e-26\n",
      "31 1.1442960723977685e-26\n",
      "32 5.229483023550156e-27\n",
      "33 2.477932278738876e-27\n",
      "34 1.2162345957829497e-27\n"
     ]
    }
   ],
   "source": [
    "mp.dps = 100\n",
    "\n",
    "C = alpha * mp.exp(delta * gamma - delta * alpha) / mp.pi ** mp.mpf('3/2') / beta\n",
    "\n",
    "s = mp.zero\n",
    "for k in range(35):\n",
    "    r = mp.gamma(k + mp.mpf('1/2')) * (-mp.mpf('2') * alpha / beta ** 2 / delta) ** k * mp.besselk(k+1, alpha * delta) * mp.exp(alpha * delta)\n",
    "    print(k, abs(float(r)))\n",
    "    s += r"
   ]
  },
  {
   "cell_type": "code",
   "execution_count": 126,
   "id": "8fb07254-afa6-44ba-8e36-04981ce6333b",
   "metadata": {},
   "outputs": [
    {
     "data": {
      "text/plain": [
       "mpf('3.135621624121438161137222293184664292548711578973734572284771858154002262357204394529147092544157656094e-51')"
      ]
     },
     "execution_count": 126,
     "metadata": {},
     "output_type": "execute_result"
    }
   ],
   "source": [
    "C * s"
   ]
  },
  {
   "cell_type": "code",
   "execution_count": 140,
   "id": "39b8cb5d-bb9f-4bda-a0e8-ab16ed8dd14e",
   "metadata": {},
   "outputs": [],
   "source": [
    "N = 5\n",
    "\n",
    "ad = alpha * delta\n",
    "\n",
    "C = alpha * mp.exp(delta * (gamma - alpha)) / mp.pi / beta\n",
    "z = -2 * alpha / beta ** 2 / delta\n",
    "\n",
    "k0 = mp.besselk(0, ad) * mp.exp(ad)\n",
    "k1 = mp.besselk(1, ad) * mp.exp(ad)\n",
    "rp = k1 / k0\n",
    "\n",
    "t = C * k1\n",
    "s = t\n",
    "sp = s\n",
    "\n",
    "for k in range(1, N):\n",
    "    r = 1.0 / rp + 2 * k / ad;\n",
    "    t *= z * r * (k - 1/2)\n",
    "    s += t\n",
    "\n",
    "    rp = r"
   ]
  },
  {
   "cell_type": "code",
   "execution_count": 141,
   "id": "6b4ff5d0-7483-4f8d-af80-7c6df9045aa3",
   "metadata": {},
   "outputs": [
    {
     "data": {
      "text/plain": [
       "3.135621651388992e-51"
      ]
     },
     "execution_count": 141,
     "metadata": {},
     "output_type": "execute_result"
    }
   ],
   "source": [
    "float(s)"
   ]
  },
  {
   "cell_type": "code",
   "execution_count": 154,
   "id": "0d68b64a-e3fd-493d-b979-6b5705dabe68",
   "metadata": {},
   "outputs": [
    {
     "data": {
      "text/plain": [
       "mpf('1.313736587637986773930094643603967489021242029707552040310719352887213447309222391978524245648306368541e-123')"
      ]
     },
     "execution_count": 154,
     "metadata": {},
     "output_type": "execute_result"
    }
   ],
   "source": [
    "k = 63\n",
    "\n",
    "2 ** k * mp.gamma(k + 1/2) / ad ** k * mp.besselk(k+1, ad)"
   ]
  },
  {
   "cell_type": "code",
   "execution_count": 143,
   "id": "bbfea92f-9811-41de-87ea-d3eb90918d80",
   "metadata": {},
   "outputs": [
    {
     "data": {
      "text/plain": [
       "mpf('3.553255232829636715587243911042517272140575120335351972039872245848569711010243745643174936511916610939e-50')"
      ]
     },
     "execution_count": 143,
     "metadata": {},
     "output_type": "execute_result"
    }
   ],
   "source": [
    "C"
   ]
  },
  {
   "cell_type": "code",
   "execution_count": 155,
   "id": "ef5b3c00-ed74-4483-9f8f-471286a3e100",
   "metadata": {},
   "outputs": [
    {
     "data": {
      "text/plain": [
       "mpf('31.83098861837906715377675267450287240689192914809128974953346881177935952684530701802276055325061719113')"
      ]
     },
     "execution_count": 155,
     "metadata": {},
     "output_type": "execute_result"
    }
   ],
   "source": [
    "100 / (mp.pi)"
   ]
  },
  {
   "cell_type": "code",
   "execution_count": null,
   "id": "0a52be04-8dfb-44cc-b48f-0ed7d592c0a1",
   "metadata": {},
   "outputs": [],
   "source": []
  }
 ],
 "metadata": {
  "kernelspec": {
   "display_name": "Python 3 (ipykernel)",
   "language": "python",
   "name": "python3"
  },
  "language_info": {
   "codemirror_mode": {
    "name": "ipython",
    "version": 3
   },
   "file_extension": ".py",
   "mimetype": "text/x-python",
   "name": "python",
   "nbconvert_exporter": "python",
   "pygments_lexer": "ipython3",
   "version": "3.12.7"
  }
 },
 "nbformat": 4,
 "nbformat_minor": 5
}
