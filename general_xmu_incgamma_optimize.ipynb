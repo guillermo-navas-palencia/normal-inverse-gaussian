{
 "cells": [
  {
   "cell_type": "code",
   "execution_count": 1,
   "id": "39b6513f-32ab-4164-84c8-c3fbc9c66a8f",
   "metadata": {},
   "outputs": [],
   "source": [
    "import matplotlib.pyplot as plt\n",
    "import numpy as np\n",
    "\n",
    "from scipy import special, stats\n",
    "\n",
    "from code.python.mpmath_integration import quad_phi\n",
    "\n",
    "import mpmath as mp"
   ]
  },
  {
   "cell_type": "code",
   "execution_count": 24,
   "id": "370cf28c-2cd3-4f68-91a6-09b00fb11fcc",
   "metadata": {},
   "outputs": [],
   "source": [
    "x = mp.mpf('3/2')\n",
    "alpha = mp.mpf('5')\n",
    "beta = mp.mpf('1/2')\n",
    "mu = mp.mpf('1')\n",
    "delta = mp.mpf('4')\n",
    "\n",
    "gamma = mp.sqrt(alpha ** 2 - beta ** 2)\n",
    "omega = mp.sqrt(delta ** 2 + (x-mu)** 2)\n",
    "\n",
    "xmu = x-mu"
   ]
  },
  {
   "cell_type": "code",
   "execution_count": 18,
   "id": "d8df02a0-30de-4f77-abdd-fbcf6a8873c7",
   "metadata": {},
   "outputs": [
    {
     "data": {
      "text/plain": [
       "0.548389969079247"
      ]
     },
     "execution_count": 18,
     "metadata": {},
     "output_type": "execute_result"
    }
   ],
   "source": [
    "mp_result = quad_phi(x, alpha, beta, mu, delta, digits=100)\n",
    "float(mp_result)"
   ]
  },
  {
   "cell_type": "code",
   "execution_count": 27,
   "id": "85da3c2c-a79c-4a61-804d-59cb095e91f5",
   "metadata": {},
   "outputs": [
    {
     "data": {
      "text/plain": [
       "(mpf('0.54838996907924775'),\n",
       " mpf('3.6169096154934506e-9'),\n",
       " mpf('8.412046191369713e-10'))"
      ]
     },
     "execution_count": 27,
     "metadata": {},
     "output_type": "execute_result"
    }
   ],
   "source": [
    "mp.dps = 100\n",
    "\n",
    "a = (x-mu)\n",
    "b = -beta\n",
    "\n",
    "w = mp.sqrt(delta ** 2 + (x-mu) ** 2)\n",
    "\n",
    "C = delta * mp.exp(delta * gamma) / mp.sqrt(2 * mp.pi)\n",
    "\n",
    "z = gamma**2/2\n",
    "wog = w / gamma\n",
    "# lam = -k/2 - 1/2\n",
    "\n",
    "if b > 0:\n",
    "    aa = -a\n",
    "    bb = -b\n",
    "else:\n",
    "    aa = a\n",
    "    bb = b\n",
    "\n",
    "s1 = 0\n",
    "N = 40\n",
    "for k in range(N):\n",
    "    r = (mp.sqrt(2)*aa)**k / mp.factorial(k)\n",
    "\n",
    "    # coefficient closed-form\n",
    "    lam = -k/2 - 1/2\n",
    "    c1 = mp.gamma((k+1)/2) * 2 * mp.besselk(k/2 + 1/2, 2 * wog * z) * wog ** lam\n",
    "\n",
    "    tk = r * c1\n",
    "    # print(k, s1, float(tk))\n",
    "    s1 += tk\n",
    "\n",
    "s2 = mp.mp.zero\n",
    "for j in range(N):\n",
    "    rc = (-1)**j / mp.factorial(j) * 2 * mp.besselk(j, 2 * wog * z) * (bb**2/2 * wog)**j\n",
    "    qc = mp.quad(lambda t: t **(2*j) * mp.exp(-t), [0, aa*bb]) * -mp.sqrt(2) * (aa*bb)**(-2*j) / aa\n",
    "    tc = rc * qc\n",
    "    # print(j, s2, float(tc))\n",
    "    s2 += tc\n",
    "\n",
    "C * (s1 - s2) / (2 * mp.sqrt(mp.pi)), s1, s2"
   ]
  },
  {
   "cell_type": "code",
   "execution_count": 21,
   "id": "b58a6ce3-8067-4f28-93d4-06aa8c19fd81",
   "metadata": {},
   "outputs": [
    {
     "data": {
      "text/plain": [
       "1.5543122344752192e-15"
      ]
     },
     "execution_count": 21,
     "metadata": {},
     "output_type": "execute_result"
    }
   ],
   "source": [
    "r1 = C * (s1 - s2) / (2 * mp.sqrt(mp.pi))\n",
    "float(abs(r1 / mp_result - 1))"
   ]
  },
  {
   "cell_type": "code",
   "execution_count": 8,
   "id": "25ed4d12-6fcc-4a6f-980c-3ed358f130e7",
   "metadata": {},
   "outputs": [
    {
     "data": {
      "text/plain": [
       "mpf('3.6169096154934506e-9')"
      ]
     },
     "execution_count": 8,
     "metadata": {},
     "output_type": "execute_result"
    }
   ],
   "source": [
    "s1"
   ]
  },
  {
   "cell_type": "code",
   "execution_count": 192,
   "id": "b68ea608-dca2-4100-ab55-45c8029ac75e",
   "metadata": {},
   "outputs": [
    {
     "name": "stdout",
     "output_type": "stream",
     "text": [
      "0 9.68099504955351e-10 | 1.77245385090552\n",
      "1 1.40505500841124e-9 | 1\n",
      "2 1.56184701118092e-9 | 0.886226925452758\n",
      "3 1.61018647035651e-9 | 1.0\n",
      "4 1.62351506209407e-9 | 1.32934038817914\n",
      "5 1.62688299613278e-9 | 2.0\n",
      "6 1.62767576687117e-9 | 3.32335097044784\n",
      "7 1.62785165189306e-9 | 6.0\n"
     ]
    },
    {
     "data": {
      "text/plain": [
       "mpf('3.6168065432818378e-9')"
      ]
     },
     "execution_count": 192,
     "metadata": {},
     "output_type": "execute_result"
    }
   ],
   "source": [
    "gw = gamma * omega\n",
    "gow = gamma / omega\n",
    "wog = omega / gamma\n",
    "z = mp.sqrt(2.0 * gow) * xmu\n",
    "\n",
    "# Bessel pre-computation\n",
    "k0 = mp.besselk(0, gw)\n",
    "k1 = mp.besselk(1, gw)\n",
    "\n",
    "kp = mp.sqrt(mp.pi / 2 / gw) * mp.exp(-gw)\n",
    "kn = mp.sqrt(mp.pi / 2 / gw) * mp.exp(-gw) * (gw + 1) / gw\n",
    "\n",
    "\n",
    "# Iteration k = 0\n",
    "u = mp.mp.one\n",
    "ge = 1\n",
    "go = mp.sqrt(mp.pi)\n",
    "\n",
    "# Iteration k = 0\n",
    "s1 = u * kp * go\n",
    "print(0, s1, '|', go)\n",
    "\n",
    "# Iteration k = 1\n",
    "u *= z\n",
    "s1 += u * k1 * ge\n",
    "print(1, s1, '|', ge)\n",
    "\n",
    "\n",
    "# s1 = 0\n",
    "N = 8\n",
    "for k in range(2, N):\n",
    "    if k % 2 != 0:\n",
    "        # Gamma (k + 1) / 2\n",
    "        ge *= (k - 1) / 2\n",
    "        g = ge\n",
    "\n",
    "        # Bessel (k + 1) / 2\n",
    "        bs = mp.besselk(k/2 + 1/2, gw)\n",
    "    \n",
    "    else:\n",
    "        # Gamma (k + 1) / 2\n",
    "        go *= (k - 1) / 2\n",
    "        g = go\n",
    "\n",
    "        # Bessel (k + 1) / 2\n",
    "        bs = mp.besselk(k/2 + 1/2, gw)\n",
    "    \n",
    "    u *= z / k\n",
    "    tk = u * g * bs\n",
    "    s1 += tk\n",
    "\n",
    "    print(k, s1, '|', g)\n",
    "\n",
    "2 * s1 * sgow"
   ]
  },
  {
   "cell_type": "code",
   "execution_count": 189,
   "id": "d67e746b-41f1-4433-976a-f803b0921d64",
   "metadata": {},
   "outputs": [
    {
     "name": "stdout",
     "output_type": "stream",
     "text": [
      "0 9.68099504955351e-10 | 1.77245385090552\n",
      "1 1.40505500841124e-9 | 1.0\n",
      "2 1.56184701118092e-9 | 0.886226925452758\n",
      "3 1.61018647035651e-9 | 1.0\n",
      "4 1.62351506209407e-9 | 1.32934038817914\n",
      "5 1.62688299613278e-9 | 2.0\n",
      "6 1.62767576687117e-9 | 3.32335097044784\n",
      "7 1.62785165189306e-9 | 6.0\n"
     ]
    },
    {
     "data": {
      "text/plain": [
       "mpf('3.6168065432818378e-9')"
      ]
     },
     "execution_count": 189,
     "metadata": {},
     "output_type": "execute_result"
    }
   ],
   "source": [
    "s1 = 0\n",
    "N = 8\n",
    "for k in range(N):\n",
    "    g = mp.gamma((k+1)/2)\n",
    "    r = z ** k / mp.factorial(k)\n",
    "    bs = mp.besselk(k/2 + 1/2, gw)\n",
    "    tk = r * g * bs\n",
    "    s1 += tk\n",
    "\n",
    "    print(k, s1, '|', g)\n",
    "\n",
    "2 * s1 * sgow"
   ]
  },
  {
   "cell_type": "code",
   "execution_count": 59,
   "id": "ca312eb1-71b1-4ff3-8a47-17e98f1c1f6a",
   "metadata": {},
   "outputs": [
    {
     "data": {
      "text/plain": [
       "(mpf('5.4619165653354827e-10'), mpf('5.4619165653354827e-10'))"
      ]
     },
     "execution_count": 59,
     "metadata": {},
     "output_type": "execute_result"
    }
   ],
   "source": [
    "mp.besselk(0/2 + 1/2, gw), kh"
   ]
  },
  {
   "cell_type": "code",
   "execution_count": 60,
   "id": "6189d088-1729-4133-b874-5c2845c43c12",
   "metadata": {},
   "outputs": [
    {
     "data": {
      "text/plain": [
       "(mpf('5.7342686961321621e-10'), mpf('5.7342686961321621e-10'))"
      ]
     },
     "execution_count": 60,
     "metadata": {},
     "output_type": "execute_result"
    }
   ],
   "source": [
    "mp.besselk(2/2 + 1/2, gw), kn"
   ]
  },
  {
   "cell_type": "code",
   "execution_count": 81,
   "id": "dcdea7e0-367e-461d-a77c-59e22a8396c6",
   "metadata": {},
   "outputs": [
    {
     "data": {
      "text/plain": [
       "mpf('0.016666666666666666')"
      ]
     },
     "execution_count": 81,
     "metadata": {},
     "output_type": "execute_result"
    }
   ],
   "source": [
    "k = 5\n",
    "mp.gamma((k+1)/2) / mp.factorial(k)"
   ]
  },
  {
   "cell_type": "code",
   "execution_count": 83,
   "id": "31db94ef-e981-4ab2-9342-f0f1d2aa9817",
   "metadata": {},
   "outputs": [
    {
     "data": {
      "text/plain": [
       "mpf('0.016666666666666666')"
      ]
     },
     "execution_count": 83,
     "metadata": {},
     "output_type": "execute_result"
    }
   ],
   "source": [
    "2 **(-k) * mp.sqrt(mp.pi) / mp.gamma(k/2 + 1)"
   ]
  },
  {
   "cell_type": "code",
   "execution_count": 124,
   "id": "0a9cbf39-d2b7-4c15-af48-45119f3b59a8",
   "metadata": {},
   "outputs": [
    {
     "name": "stdout",
     "output_type": "stream",
     "text": [
      "0 0.5 1.77245385090552\n",
      "1 1.0 1.0\n",
      "2 1.5 0.886226925452758\n",
      "3 2.0 1.0\n",
      "4 2.5 1.32934038817914\n",
      "5 3.0 2.0\n",
      "6 3.5 3.32335097044784\n",
      "7 4.0 6.0\n",
      "8 4.5 11.6317283965674\n",
      "9 5.0 24.0\n"
     ]
    }
   ],
   "source": [
    "for k in range(10):\n",
    "    print(k, (k+1)/2, mp.gamma((k+1)/2))"
   ]
  },
  {
   "cell_type": "code",
   "execution_count": 125,
   "id": "8d691b92-8ce6-4065-8c5e-5f8e2cac0c5f",
   "metadata": {},
   "outputs": [
    {
     "data": {
      "text/plain": [
       "mpf('0.88622692545275805')"
      ]
     },
     "execution_count": 125,
     "metadata": {},
     "output_type": "execute_result"
    }
   ],
   "source": [
    "k = 2\n",
    "mp.gamma((k+1)/2)"
   ]
  },
  {
   "cell_type": "code",
   "execution_count": 143,
   "id": "6772033b-93d8-44d8-a4d5-abc195a8d90a",
   "metadata": {},
   "outputs": [
    {
     "data": {
      "text/plain": [
       "mpf('1.329340388179137')"
      ]
     },
     "execution_count": 143,
     "metadata": {},
     "output_type": "execute_result"
    }
   ],
   "source": [
    "k = 4\n",
    "\n",
    "p = 1\n",
    "for j in range(1, k // 2 + 1):\n",
    "    p *= 2*j - 1\n",
    "\n",
    "mp.sqrt(mp.pi) / 2 ** (k // 2) * p"
   ]
  },
  {
   "cell_type": "code",
   "execution_count": 145,
   "id": "61b4e89e-d010-4e5c-93b2-9e1e65939bd7",
   "metadata": {},
   "outputs": [
    {
     "name": "stdout",
     "output_type": "stream",
     "text": [
      "2 0.886226925452758\n",
      "4 1.32934038817914\n",
      "6 3.32335097044784\n",
      "8 11.6317283965674\n"
     ]
    }
   ],
   "source": [
    "g = mp.sqrt(mp.pi)\n",
    "\n",
    "for k in range(2, 10, 2):\n",
    "    g *= (k - 1) / 2\n",
    "    print(k, g)"
   ]
  },
  {
   "cell_type": "code",
   "execution_count": null,
   "id": "48ce650b-2a7c-4910-b004-b21df09d78fa",
   "metadata": {},
   "outputs": [],
   "source": []
  },
  {
   "cell_type": "code",
   "execution_count": 93,
   "id": "cb13371e-082c-4c9c-b63f-5747f124be35",
   "metadata": {},
   "outputs": [
    {
     "data": {
      "text/plain": [
       "mpf('1.7724538509055161')"
      ]
     },
     "execution_count": 93,
     "metadata": {},
     "output_type": "execute_result"
    }
   ],
   "source": [
    "mp.gamma((k+1)/2) * (k + 2) / 2"
   ]
  },
  {
   "cell_type": "code",
   "execution_count": 94,
   "id": "df8c3d18-b02d-4e66-a5cf-fb94313ae972",
   "metadata": {},
   "outputs": [
    {
     "data": {
      "text/plain": [
       "mpf('1.329340388179137')"
      ]
     },
     "execution_count": 94,
     "metadata": {},
     "output_type": "execute_result"
    }
   ],
   "source": [
    "k = 4\n",
    "mp.gamma((k+1)/2)"
   ]
  },
  {
   "cell_type": "code",
   "execution_count": 123,
   "id": "70d7cd15-22c5-451e-bd16-e66408a36407",
   "metadata": {},
   "outputs": [
    {
     "data": {
      "text/plain": [
       "mpf('1.6616754852239213')"
      ]
     },
     "execution_count": 123,
     "metadata": {},
     "output_type": "execute_result"
    }
   ],
   "source": [
    "k = 5\n",
    "mp.gamma((k+2)/2) / mp.gamma((k+1)/2)"
   ]
  },
  {
   "cell_type": "code",
   "execution_count": 107,
   "id": "0e7ceab6-8f75-4223-a9f6-e07a86298707",
   "metadata": {},
   "outputs": [
    {
     "data": {
      "text/plain": [
       "(mpf('2.0'), mpf('1.329340388179137'))"
      ]
     },
     "execution_count": 107,
     "metadata": {},
     "output_type": "execute_result"
    }
   ],
   "source": [
    "k = 3\n",
    "mp.gamma((k+1)/2) * (k + 1) / 2, mp.gamma((k+1+1)/2)"
   ]
  },
  {
   "cell_type": "code",
   "execution_count": 108,
   "id": "a2d34460-bd6a-4b29-bbb9-9f402bd9feb6",
   "metadata": {},
   "outputs": [
    {
     "data": {
      "text/plain": [
       "(mpf('6.0'), mpf('3.3233509704478426'))"
      ]
     },
     "execution_count": 108,
     "metadata": {},
     "output_type": "execute_result"
    }
   ],
   "source": [
    "k = 5\n",
    "mp.gamma((k+1)/2) * (k + 1) / 2, mp.gamma((k+1+1)/2)"
   ]
  },
  {
   "cell_type": "code",
   "execution_count": 109,
   "id": "7d713356-7f81-4997-892e-6f5a34068288",
   "metadata": {},
   "outputs": [
    {
     "data": {
      "text/plain": [
       "(mpf('24.0'), mpf('11.631728396567448'))"
      ]
     },
     "execution_count": 109,
     "metadata": {},
     "output_type": "execute_result"
    }
   ],
   "source": [
    "k = 7\n",
    "mp.gamma((k+1)/2) * (k + 1) / 2, mp.gamma((k+1+1)/2)"
   ]
  },
  {
   "cell_type": "code",
   "execution_count": null,
   "id": "5e38fbd2-a9bb-4761-b9f5-294804da5ae4",
   "metadata": {},
   "outputs": [],
   "source": []
  }
 ],
 "metadata": {
  "kernelspec": {
   "display_name": "Python 3 (ipykernel)",
   "language": "python",
   "name": "python3"
  },
  "language_info": {
   "codemirror_mode": {
    "name": "ipython",
    "version": 3
   },
   "file_extension": ".py",
   "mimetype": "text/x-python",
   "name": "python",
   "nbconvert_exporter": "python",
   "pygments_lexer": "ipython3",
   "version": "3.12.7"
  }
 },
 "nbformat": 4,
 "nbformat_minor": 5
}
