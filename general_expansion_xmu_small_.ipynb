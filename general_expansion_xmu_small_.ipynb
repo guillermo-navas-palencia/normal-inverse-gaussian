{
 "cells": [
  {
   "cell_type": "code",
   "execution_count": 1,
   "id": "cdcc762f-7171-4942-897b-ca9af0372b57",
   "metadata": {},
   "outputs": [],
   "source": [
    "%load_ext autoreload\n",
    "%autoreload 2"
   ]
  },
  {
   "cell_type": "code",
   "execution_count": 2,
   "id": "4a691903-eb76-4dd5-8795-f186bb8cabf0",
   "metadata": {},
   "outputs": [],
   "source": [
    "import itertools\n",
    "\n",
    "import matplotlib.pyplot as plt\n",
    "import numpy as np\n",
    "import pandas as pd\n",
    "\n",
    "from scipy import stats\n",
    "from code.python.mpmath_integration import quad_phi\n",
    "from mpmath import mp\n",
    "\n",
    "from scipy import stats"
   ]
  },
  {
   "cell_type": "code",
   "execution_count": 198,
   "id": "54c84005-f474-4301-b7fb-bf1264142dff",
   "metadata": {},
   "outputs": [],
   "source": [
    "x = mp.mpf('3')\n",
    "alpha = mp.mpf('5')\n",
    "beta = mp.mpf('1/2')\n",
    "mu = mp.mpf('1')\n",
    "delta = mp.mpf('4')\n",
    "\n",
    "\n",
    "xmu = x - mu\n",
    "gamma = mp.sqrt(alpha ** 2 - beta ** 2)\n",
    "omega = mp.sqrt(xmu ** 2 + delta ** 2)"
   ]
  },
  {
   "cell_type": "code",
   "execution_count": 199,
   "id": "de11542a-f4e7-4c6c-8cd3-89bd18de8357",
   "metadata": {},
   "outputs": [
    {
     "data": {
      "text/plain": [
       "mpf('0.9599775405494657360087526092654300842676567924404618741762742877734998432533542621944042950278597682396')"
      ]
     },
     "execution_count": 199,
     "metadata": {},
     "output_type": "execute_result"
    }
   ],
   "source": [
    "mp_result = quad_phi(x, alpha, beta, mu, delta, digits=100)\n",
    "mp_result"
   ]
  },
  {
   "cell_type": "code",
   "execution_count": 200,
   "id": "ccc76daf-524e-4f97-8bfb-43f22e2ad9d5",
   "metadata": {},
   "outputs": [],
   "source": [
    "mp.dps = 100"
   ]
  },
  {
   "cell_type": "code",
   "execution_count": 201,
   "id": "51d571e7-d6d8-45fe-a54c-e669611f7c49",
   "metadata": {},
   "outputs": [],
   "source": [
    "cache = {}\n",
    "\n",
    "def Ik(k):\n",
    "    mp.dps = 100\n",
    "    \n",
    "    s = 0\n",
    "    for j in range(2*k + 1 + 1):\n",
    "        m = k + 1 - j\n",
    "        if abs(m) not in cache:\n",
    "            bm = mp.besselk(m, alpha * omega)\n",
    "            cache[m] = bm\n",
    "        else:\n",
    "            bm = cache[abs(m)]\n",
    "            \n",
    "        s += mp.binomial(2*k + 1, j) * (-1) ** (-j) * (omega * beta / alpha / xmu) ** (j) * bm\n",
    "\n",
    "    return 2 * s"
   ]
  },
  {
   "cell_type": "code",
   "execution_count": 202,
   "id": "1d15a538-6ed2-4365-bb3c-bd85f3206b77",
   "metadata": {},
   "outputs": [
    {
     "data": {
      "text/plain": [
       "{}"
      ]
     },
     "execution_count": 202,
     "metadata": {},
     "output_type": "execute_result"
    }
   ],
   "source": [
    "cache"
   ]
  },
  {
   "cell_type": "code",
   "execution_count": 219,
   "id": "326e50f5-7b6a-4043-9bb7-4d8a5ebd2b23",
   "metadata": {},
   "outputs": [],
   "source": [
    "# %%time\n",
    "mp.dps = 100\n",
    "\n",
    "C = delta * mp.exp(delta * gamma + xmu * beta) / (mp.mpf('2') * mp.pi)\n",
    "\n",
    "N = 29\n",
    "s = mp.zero\n",
    "\n",
    "z = xmu ** 2 * alpha / omega\n",
    "\n",
    "for k in range(N):\n",
    "    r = z ** k / mp.fac2(2*k + 1)\n",
    "    # q = mp.quad(lambda t: (t - xmu / beta)**(2*k + 1) * t**(-k - 2) * mp.exp(-omega ** 2 / 2 / t - alpha ** 2 / 2 * t), [0, mp.inf])\n",
    "    q = Ik(k)\n",
    "    t = r * q\n",
    "    s += t\n",
    "    # print(k, float(r), float(q), float(t))\n",
    "\n",
    "r1 = mp.mpf('1/2') + C * s * xmu * alpha / omega"
   ]
  },
  {
   "cell_type": "code",
   "execution_count": 220,
   "id": "00a13001-aea2-47d3-85fe-2751c9681e85",
   "metadata": {},
   "outputs": [
    {
     "data": {
      "text/plain": [
       "mpf('0.9599775405494656988052623462048041638584566120922334985947574660375242454672520877236004746538070125003')"
      ]
     },
     "execution_count": 220,
     "metadata": {},
     "output_type": "execute_result"
    }
   ],
   "source": [
    "r1"
   ]
  },
  {
   "cell_type": "code",
   "execution_count": 221,
   "id": "38a820d4-258c-4cc9-8890-c4eefd8989a8",
   "metadata": {},
   "outputs": [
    {
     "data": {
      "text/plain": [
       "mpf('0.9599775405494657360087526092654300842676567924404618741762742877734998432533542621944042950278597682396')"
      ]
     },
     "execution_count": 221,
     "metadata": {},
     "output_type": "execute_result"
    }
   ],
   "source": [
    "mp_result"
   ]
  },
  {
   "cell_type": "code",
   "execution_count": 222,
   "id": "9c4a0068-e386-4946-affb-4f9179213550",
   "metadata": {},
   "outputs": [
    {
     "data": {
      "text/plain": [
       "3.875454236332064e-17"
      ]
     },
     "execution_count": 222,
     "metadata": {},
     "output_type": "execute_result"
    }
   ],
   "source": [
    "float(abs(r1 / mp_result - 1))"
   ]
  },
  {
   "cell_type": "markdown",
   "id": "6a14f5fc-b7fc-46dd-a094-c166f812af02",
   "metadata": {},
   "source": [
    "Series with Remainder and integral"
   ]
  },
  {
   "cell_type": "code",
   "execution_count": 8,
   "id": "fc7d3ff0-aa67-47b1-8d67-c9e82707699f",
   "metadata": {},
   "outputs": [
    {
     "name": "stdout",
     "output_type": "stream",
     "text": [
      "0 -0.5 0.549306938084578 -0.274653469042289\n",
      "1 -0.041666666666666664 0.8719153560883859 -0.03632980650368275\n",
      "2 -0.0020833333333333333 2.502932494143947 -0.005214442696133224\n",
      "3 -7.440476190476191e-05 11.209318542270632 -0.0008340266772522792\n",
      "4 -2.066798941798942e-06 70.53037058750995 -0.00014577209529495277\n",
      "5 -4.697270322270322e-08 578.635482847883 -2.7180072809939193e-05\n",
      "6 -9.033212158212158e-10 5877.460375240571 -5.309234652103332e-06\n",
      "7 -1.5055353597020263e-11 71287.0317002564 -1.0732514691293527e-06\n",
      "8 -2.2140225877970977e-13 1005810.5437217837 -2.2268872628445092e-07\n",
      "9 -2.913187615522497e-15 16188433.840322757 -4.7159944978333545e-08\n",
      "10 -3.468080494669639e-17 292749234.1149627 -1.0152779086635778e-08\n",
      "11 -3.769652711597434e-19 5876964239.308184 -2.2154114180669244e-09\n",
      "12 -3.7696527115974335e-21 129692590002.32802 -4.888960235763701e-10\n",
      "13 -3.490419177405031e-23 3120670733017.2 -1.0892448972889852e-10\n",
      "14 -3.008982049487096e-25 81315622265233.36 -2.4467724773896043e-11\n",
      "15 -2.4265984270057226e-27 2281136371525463.5 -5.535401930929232e-12\n",
      "16 -1.838332141671002e-29 6.854636466491095e+16 -1.2601098535820724e-12\n",
      "17 -1.3130943869078586e-31 2.196639444946521e+18 -2.8843949252196707e-13\n",
      "18 -8.872259370999044e-34 7.478073158886123e+19 -6.634740466094382e-14\n",
      "19 -5.6873457506404125e-36 2.6951549653124246e+21 -1.5328278139287028e-14\n",
      "20 -3.4678937503904956e-38 1.0251981140415652e+23 -3.555278132596867e-15\n",
      "21 -2.0162172967386604e-40 4.1045423324231394e+24 -8.275649245827577e-16\n",
      "22 -1.1201207204103669e-42 1.7253356880398175e+26 -1.9325842538368764e-16\n",
      "23 -5.958088938353015e-45 7.597199338129089e+27 -4.526478933896977e-17\n",
      "24 -3.0398412950780688e-47 3.497119136146916e+29 -1.0630687163867138e-17\n",
      "25 -1.4901182819010141e-49 1.6796780918862182e+31 -2.5029190324282652e-18\n",
      "26 -7.028859820287803e-52 8.403277504379019e+32 -5.906545960925805e-19\n",
      "27 -3.194936281949001e-54 4.372053115898626e+34 -1.39684311265927e-19\n",
      "28 -1.4012878429600883e-56 2.3620844871288134e+36 -3.309960275858221e-20\n",
      "29 -5.937660351525798e-59 1.3233794033868919e+38 -7.857777413516213e-21\n",
      "30 -2.4334673571827038e-61 7.678909196107442e+39 -1.8686374867497538e-21\n",
      "31 -9.656616496756761e-64 4.609200119186489e+41 -4.450927790778948e-22\n",
      "32 -3.71408326798337e-66 2.858780691355092e+43 -1.0617749532595876e-22\n",
      "33 -1.3858519656654366e-68 1.8302661449116775e+45 -2.5364779346167492e-23\n",
      "34 -5.021202774150132e-71 1.2083767961135052e+47 -6.0675049208637815e-24\n",
      "35 -1.7680291458275114e-73 8.219531368653988e+48 -1.4532371024823747e-24\n",
      "36 -6.054894335025724e-76 5.7553687525218475e+50 -3.4848149655628603e-25\n",
      "37 -2.0182981116752413e-78 4.14502006021355e+52 -8.365886160385004e-26\n",
      "38 -6.552915946997537e-81 3.068123523127811e+54 -2.0105155562062498e-26\n",
      "39 -2.0737075781637774e-83 2.332356458100649e+56 -4.836625262142543e-27\n",
      "40 -6.4003320313696835e-86 1.8196693794867883e+58 -1.1646488216031888e-27\n",
      "41 -1.927810852822194e-88 1.4560634912409957e+60 -2.807015000812565e-28\n",
      "42 -5.670031920065276e-91 1.1942280173144843e+62 -6.771310978009392e-29\n",
      "43 -1.6293195172601367e-93 1.0033563925529088e+64 -1.6347881531541778e-29\n",
      "44 -4.576740217022856e-96 8.63054554857876e+65 -3.9499764907028e-30\n",
      "45 -1.2573462134678176e-98 7.596292353729023e+67 -9.551169427355723e-31\n",
      "46 -3.379962939429617e-101 6.837878155502142e+69 -2.311177474993259e-31\n",
      "47 -8.894639314288466e-104 6.291917542656296e+71 -5.596433713717197e-32\n",
      "48 -2.292432812960945e-106 5.915365515883323e+73 -1.356057800926858e-32\n",
      "49 -5.788971749901376e-109 5.679637187283468e+75 -3.287925922687331e-33\n"
     ]
    },
    {
     "data": {
      "text/plain": [
       "-0.3172113624199036"
      ]
     },
     "execution_count": 8,
     "metadata": {},
     "output_type": "execute_result"
    }
   ],
   "source": [
    "mp.dps = 100\n",
    "\n",
    "C = delta * mp.exp(delta * gamma + xmu * beta) / (2 * mp.pi)\n",
    "\n",
    "s = 0\n",
    "\n",
    "z = xmu ** 2 * alpha / omega\n",
    "\n",
    "for k in range(N):\n",
    "    r = (-beta) ** (2*k+1) / mp.fac2(2*k + 1)\n",
    "    q = mp.quad(lambda t: (t - xmu / beta)**(2*k + 1) * t**(-k - 2) * mp.exp(-omega ** 2 / 2 / t - alpha ** 2 / 2 * t), [0, mp.inf])\n",
    "    t = r * q\n",
    "    s += t\n",
    "    print(k, float(r), float(q), float(t))\n",
    "\n",
    "float(s)"
   ]
  },
  {
   "cell_type": "code",
   "execution_count": 9,
   "id": "c619ac68-2a37-4cc9-948e-7b8562478044",
   "metadata": {},
   "outputs": [
    {
     "data": {
      "text/plain": [
       "-1.0534631748549187e-33"
      ]
     },
     "execution_count": 9,
     "metadata": {},
     "output_type": "execute_result"
    }
   ],
   "source": [
    "remainder = 0\n",
    "for k in range(N, N + 50):\n",
    "    r = (-beta) ** (2*k+1) / mp.fac2(2*k + 1)\n",
    "    q = mp.quad(lambda t: (t - xmu / beta)**(2*k + 1) * t**(-k - 2) * mp.exp(-omega ** 2 / 2 / t - alpha ** 2 / 2 * t), [0, mp.inf])\n",
    "    t = r * q\n",
    "    remainder += t\n",
    "    # print(k, float(r), float(q), float(t))\n",
    "\n",
    "float(remainder)"
   ]
  },
  {
   "cell_type": "code",
   "execution_count": 10,
   "id": "947091d2-f0ed-4bd1-a562-03e74db6ac04",
   "metadata": {},
   "outputs": [],
   "source": [
    "def fremainder(t):\n",
    "    t1 = t **(-3/2) * mp.exp(-delta**2 / 2 / t - gamma ** 2 / 2 * t - beta * xmu)\n",
    "    t2 = mp.gammainc(N + 1/2 , 0, (beta * t - xmu) ** 2 / 2 / t, regularized=True)\n",
    "    return t1 * t2\n",
    "\n",
    "\n",
    "def fremainder_simple(t):\n",
    "    t1 = t **(-3/2) * mp.exp(-delta**2 / 2 / t - gamma ** 2 / 2 * t - beta * xmu)\n",
    "    a = N + 1/2\n",
    "    z = (beta * t - xmu) ** 2 / 2 / t\n",
    "    t2 = (1 - mp.exp(-z)) ** a\n",
    "    return t1 * t2\n",
    "\n",
    "\n",
    "def fremainder_bound(t):\n",
    "    t1 = t **(-3/2) * mp.exp(-omega**2 / 2 / t - alpha ** 2 / 2 * t)\n",
    "    t2 = ((beta * t - xmu) / mp.sqrt(t)) ** (2*N + 1) * 2* t / (2*t*(N - 1/2) - (beta * t - xmu) ** 2)\n",
    "    return t1 * t2\n",
    "\n",
    "\n",
    "def fremainder_bound2(t):\n",
    "    t1 = t **(-3/2) * mp.exp(-omega**2 / 2 / t - alpha ** 2 / 2 * t)\n",
    "    t2 = ((beta * t - xmu) / mp.sqrt(t)) ** (2*N + 1) * 1 / (2*N - 1 - beta**2 * t)\n",
    "    return t1 * t2\n",
    "\n",
    "\n",
    "def fremainder_approx(t):\n",
    "    t1 = t **(-3/2) * mp.exp(-delta**2 / 2 / t - gamma ** 2 / 2 * t - beta * xmu)\n",
    "    z = (beta * t - xmu) ** 2 / 2 / t\n",
    "    a = N + 1/2\n",
    "    t2 = z ** a* mp.exp(-z) / a / mp.gamma(N + 1/2)\n",
    "    return t1 * t2\n",
    "\n",
    "\n",
    "def fremainder_approx2(t):\n",
    "    t1 = t **(-3/2) * mp.exp(-delta**2 / 2 / t - gamma ** 2 / 2 * t - (beta * t - xmu) ** 2 / 2 / t)\n",
    "    t2 = ((beta * t - xmu) / mp.sqrt(t))**(2*N + 1) / mp.gamma(N + 1/2)\n",
    "    return t1 * t2 * mp.exp(- beta * xmu)"
   ]
  },
  {
   "cell_type": "code",
   "execution_count": 11,
   "id": "8308831b-8573-4180-88b2-094d3e369ebb",
   "metadata": {},
   "outputs": [
    {
     "data": {
      "text/plain": [
       "8.405420025911127e-34"
      ]
     },
     "execution_count": 11,
     "metadata": {},
     "output_type": "execute_result"
    }
   ],
   "source": [
    "float(mp.quad(fremainder, [0, mp.inf]))"
   ]
  },
  {
   "cell_type": "code",
   "execution_count": 12,
   "id": "ce516b1c-2e4c-4322-ace7-888cc5c44fbb",
   "metadata": {},
   "outputs": [
    {
     "data": {
      "text/plain": [
       "7.770008997188536e-07"
      ]
     },
     "execution_count": 12,
     "metadata": {},
     "output_type": "execute_result"
    }
   ],
   "source": [
    "float(mp.quad(fremainder_simple, [0, mp.inf]))"
   ]
  },
  {
   "cell_type": "code",
   "execution_count": 13,
   "id": "b1b1c44b-3b25-4078-b015-cf6083330f6f",
   "metadata": {},
   "outputs": [
    {
     "data": {
      "text/plain": [
       "5.948571029095737e+45"
      ]
     },
     "execution_count": 13,
     "metadata": {},
     "output_type": "execute_result"
    }
   ],
   "source": [
    "float(mp.quad(fremainder_bound, [0, mp.inf]))"
   ]
  },
  {
   "cell_type": "code",
   "execution_count": 14,
   "id": "71c842ff-6a45-42b2-9627-6cd8be72ec15",
   "metadata": {},
   "outputs": [
    {
     "data": {
      "text/plain": [
       "5.948571029095737e+45"
      ]
     },
     "execution_count": 14,
     "metadata": {},
     "output_type": "execute_result"
    }
   ],
   "source": [
    "float(mp.quad(fremainder_bound, [0, mp.inf]))"
   ]
  },
  {
   "cell_type": "code",
   "execution_count": 15,
   "id": "3dd4fa06-62f2-4111-8680-1ad948a1658c",
   "metadata": {},
   "outputs": [
    {
     "data": {
      "text/plain": [
       "6.3646103026191235e-34"
      ]
     },
     "execution_count": 15,
     "metadata": {},
     "output_type": "execute_result"
    }
   ],
   "source": [
    "float(mp.quad(fremainder_approx, [0, mp.inf]))"
   ]
  },
  {
   "cell_type": "code",
   "execution_count": 16,
   "id": "6d5a5f14-f6d0-4050-a49b-8e113e764b52",
   "metadata": {},
   "outputs": [
    {
     "data": {
      "text/plain": [
       "5.1177371514749755e-17"
      ]
     },
     "execution_count": 16,
     "metadata": {},
     "output_type": "execute_result"
    }
   ],
   "source": [
    "float(mp.quad(fremainder_approx2, [0, mp.inf]))"
   ]
  },
  {
   "cell_type": "code",
   "execution_count": 17,
   "id": "e147d638-0740-4a8a-a2e1-78c474538b35",
   "metadata": {},
   "outputs": [
    {
     "data": {
      "text/plain": [
       "-1.0534631748549235e-33"
      ]
     },
     "execution_count": 17,
     "metadata": {},
     "output_type": "execute_result"
    }
   ],
   "source": [
    "remainder = (-1) ** (2*N + 1) * 2 ** (N - 1/2) * (2*N + 1) * mp.gamma(N + 1/2) / mp.fac2(2*N + 1) * mp.quad(fremainder, [0, mp.inf])\n",
    "float(remainder)"
   ]
  },
  {
   "cell_type": "markdown",
   "id": "4e135cc4-7779-4b01-a562-9151217d00d5",
   "metadata": {},
   "source": [
    "Bound"
   ]
  },
  {
   "cell_type": "code",
   "execution_count": 18,
   "id": "5d6f2b82-9c5a-4cc1-a7ae-4a45febd464b",
   "metadata": {},
   "outputs": [
    {
     "data": {
      "text/plain": [
       "-1.0913238763578087e-33"
      ]
     },
     "execution_count": 18,
     "metadata": {},
     "output_type": "execute_result"
    }
   ],
   "source": [
    "bound = (-1) ** (2*N + 1) * (2*N + 1) / 2/ mp.fac2(2*N + 1) * mp.quad(fremainder_bound, [0, mp.inf])\n",
    "float(bound)"
   ]
  },
  {
   "cell_type": "code",
   "execution_count": 19,
   "id": "fe2fb06b-fb29-4034-9905-b67ac01f4bf5",
   "metadata": {},
   "outputs": [
    {
     "data": {
      "text/plain": [
       "-1.2231977536314289e-21"
      ]
     },
     "execution_count": 19,
     "metadata": {},
     "output_type": "execute_result"
    }
   ],
   "source": [
    "simple = (-1) ** (2*N + 1) * (2*N + 1) * mp.gamma(N + 1/2) / mp.fac2(2*N + 1) * mp.quad(fremainder_simple, [0, mp.inf])\n",
    "float(simple)"
   ]
  },
  {
   "cell_type": "code",
   "execution_count": 20,
   "id": "eff6a163-147a-4352-bc1a-3e3c148ecb8a",
   "metadata": {},
   "outputs": [
    {
     "data": {
      "text/plain": [
       "-1.0928061979121543e-33"
      ]
     },
     "execution_count": 20,
     "metadata": {},
     "output_type": "execute_result"
    }
   ],
   "source": [
    "bound2 = (-1) ** (2*N + 1) * (2*N + 1) / mp.fac2(2*N + 1) * mp.quad(fremainder_bound2, [0, mp.inf])\n",
    "float(bound2)"
   ]
  },
  {
   "cell_type": "code",
   "execution_count": 21,
   "id": "a28353ef-20f2-4425-958e-30003f4a89c7",
   "metadata": {},
   "outputs": [
    {
     "data": {
      "text/plain": [
       "(mpf('0.02040816326530612244897959183673469387755102040816326530612244897959183673469387755102040816326530612253'),\n",
       " 2.0303030303030303,\n",
       " mpf('0.02040816326530612067885359594203357713068930470213598134566326530612244897959183673469387755102040816322'))"
      ]
     },
     "execution_count": 21,
     "metadata": {},
     "output_type": "execute_result"
    }
   ],
   "source": [
    "t = 200\n",
    "1 / (2*N - 1 - beta**2 * t), (2*N - 1) ** (-1) *(1 + t), (2*N - 1) ** (-1) / (1 - beta**2 / (2*N - 1) * t)"
   ]
  },
  {
   "cell_type": "code",
   "execution_count": 22,
   "id": "0cf15339-d66e-414d-9ab5-b2b8da199863",
   "metadata": {},
   "outputs": [
    {
     "data": {
      "image/png": "[encoded data removed]",
      "text/plain": [
       "<Figure size 640x480 with 1 Axes>"
      ]
     },
     "metadata": {},
     "output_type": "display_data"
    }
   ],
   "source": [
    "tt = np.linspace(0, 120, 1000)\n",
    "\n",
    "ff = 1 / (1 - beta**2/(2*N - 1) * tt)\n",
    "ff2 = (1 + tt)\n",
    "\n",
    "plt.plot(tt, ff)\n",
    "# plt.plot(tt, ff2)\n",
    "plt.show()"
   ]
  },
  {
   "cell_type": "markdown",
   "id": "06fdba8a-5f6c-47d1-bf9d-e54f4f08883c",
   "metadata": {},
   "source": [
    "Approximation 1"
   ]
  },
  {
   "cell_type": "code",
   "execution_count": 23,
   "id": "9b6bf3ce-1fb4-496f-8c29-61cf17c842eb",
   "metadata": {},
   "outputs": [],
   "source": [
    "def fremainder_approx(t):\n",
    "    t1 = t **(-3/2) * mp.exp(-delta**2 / 2 / t - gamma ** 2 / 2 * t - beta * xmu)\n",
    "    z = (beta * t - xmu) ** 2 / 2 / t\n",
    "    a = N + 1/2\n",
    "    t2 = z ** a* mp.exp(-z) / a / mp.gamma(N + 1/2)\n",
    "    return t1 * t2"
   ]
  },
  {
   "cell_type": "code",
   "execution_count": 24,
   "id": "b931ae6c-cfce-4d81-919c-e0e4f3ee943c",
   "metadata": {},
   "outputs": [
    {
     "data": {
      "text/plain": [
       "-7.976856070776433e-34"
      ]
     },
     "execution_count": 24,
     "metadata": {},
     "output_type": "execute_result"
    }
   ],
   "source": [
    "remainder = (-1) ** (2*N + 1) * 2 ** (N - 1/2) * (2*N + 1) * mp.gamma(N + 1/2) / mp.fac2(2*N + 1) * mp.quad(fremainder_approx, [0, mp.inf])\n",
    "float(remainder)"
   ]
  },
  {
   "cell_type": "markdown",
   "id": "c4dde7b7-af81-4fb7-a2e4-d01aef42c5d2",
   "metadata": {},
   "source": [
    "Approximation 2"
   ]
  },
  {
   "cell_type": "code",
   "execution_count": 25,
   "id": "36c55f9d-2b20-41ee-85a1-d2a7ff95346a",
   "metadata": {},
   "outputs": [],
   "source": [
    "def fremainder_approx2(t):\n",
    "    t1 = t **(-3/2) * mp.exp(-delta**2 / 2 / t - gamma ** 2 / 2 * t - (beta * t - xmu) ** 2 / 2 / t)\n",
    "    t2 = ((beta * t - xmu) / mp.sqrt(t))**(2*N + 1)\n",
    "    return t1 * t2 * mp.exp(- beta * xmu) "
   ]
  },
  {
   "cell_type": "code",
   "execution_count": 26,
   "id": "eae42a25-7d9d-4841-9fff-3dd7f0238acf",
   "metadata": {},
   "outputs": [
    {
     "data": {
      "text/plain": [
       "mpf('219574614435691466898307563490780933612696180335.4459632870495870687129959528489036791130882685177286051')"
      ]
     },
     "execution_count": 26,
     "metadata": {},
     "output_type": "execute_result"
    }
   ],
   "source": [
    " mp.quad(fremainder_approx2, [0, mp.inf])"
   ]
  },
  {
   "cell_type": "code",
   "execution_count": 27,
   "id": "b7dfaafb-4030-43d5-90f1-88e677928ce6",
   "metadata": {},
   "outputs": [
    {
     "data": {
      "text/plain": [
       "-7.976856070776432e-34"
      ]
     },
     "execution_count": 27,
     "metadata": {},
     "output_type": "execute_result"
    }
   ],
   "source": [
    "remainder_approx2 = (-1) ** (2*N + 1) / mp.fac2(2*N + 1) * mp.quad(fremainder_approx2, [0, mp.inf])\n",
    "float(remainder_approx2)"
   ]
  },
  {
   "cell_type": "markdown",
   "id": "1a9fefa4-871f-4a08-be6b-fab26c4854a4",
   "metadata": {},
   "source": [
    "Naive"
   ]
  },
  {
   "cell_type": "code",
   "execution_count": 28,
   "id": "841bc315-01a5-421d-a860-bb15cbb76886",
   "metadata": {},
   "outputs": [],
   "source": [
    "def fremainder_approx_naive(t):\n",
    "    t1 = t **(-2 - N) * mp.exp(-omega**2 / 2 / t - alpha ** 2 / 2 * t)\n",
    "    t2 = ((-xmu))**(2*N + 1)\n",
    "    return t1 * t2"
   ]
  },
  {
   "cell_type": "code",
   "execution_count": 29,
   "id": "366fa41d-a486-466a-ae1a-a5b932c0e5b4",
   "metadata": {},
   "outputs": [
    {
     "data": {
      "text/plain": [
       "1.7047039075776084e-72"
      ]
     },
     "execution_count": 29,
     "metadata": {},
     "output_type": "execute_result"
    }
   ],
   "source": [
    "remainder_naive = (-1) ** (2*N + 1) / mp.fac2(2*N + 1) * mp.quad(fremainder_approx_naive, [0, mp.inf])\n",
    "float(remainder_naive)"
   ]
  },
  {
   "cell_type": "code",
   "execution_count": 30,
   "id": "fd94eddc-1274-4b40-8987-54aa6c329b91",
   "metadata": {},
   "outputs": [
    {
     "data": {
      "text/plain": [
       "mpf('-469244649.6617511818184238063448821621848616286568689419889756810278235816003763313880509347281553867854')"
      ]
     },
     "execution_count": 30,
     "metadata": {},
     "output_type": "execute_result"
    }
   ],
   "source": [
    "mp.quad(fremainder_approx_naive, [0, mp.inf])"
   ]
  },
  {
   "cell_type": "code",
   "execution_count": 31,
   "id": "adf66905-81b1-45cd-b0bf-59344ab94050",
   "metadata": {},
   "outputs": [
    {
     "data": {
      "text/plain": [
       "1.7047039075776084e-72"
      ]
     },
     "execution_count": 31,
     "metadata": {},
     "output_type": "execute_result"
    }
   ],
   "source": [
    "float((-1) ** (2*N + 1) / mp.fac2(2*N + 1) * 2 * ((-xmu))**(2*N + 1) * mp.besselk(N+1 , omega * alpha) * (omega / alpha) **(-N-1))"
   ]
  },
  {
   "cell_type": "markdown",
   "id": "fa3ee09e-61de-474c-a391-fedbda27efdc",
   "metadata": {},
   "source": [
    "Approximation 3"
   ]
  },
  {
   "cell_type": "code",
   "execution_count": 32,
   "id": "47505288-5c96-48d2-a2b5-546b61425229",
   "metadata": {},
   "outputs": [],
   "source": [
    "def fremainder_approx3(t):\n",
    "    t1 =  mp.exp(-omega**2 / 2 / t - alpha ** 2 / 2 * t)\n",
    "    t2 = t**(N -1)\n",
    "    return t1 * t2"
   ]
  },
  {
   "cell_type": "code",
   "execution_count": 33,
   "id": "25f29df5-c461-406e-8c95-4c2118666c8e",
   "metadata": {},
   "outputs": [
    {
     "data": {
      "text/plain": [
       "6.839566151761276e+77"
      ]
     },
     "execution_count": 33,
     "metadata": {},
     "output_type": "execute_result"
    }
   ],
   "source": [
    "float(mp.quad(fremainder_approx3, [0, mp.inf]))"
   ]
  },
  {
   "cell_type": "code",
   "execution_count": 34,
   "id": "0fb67a38-6a2d-4516-ba65-9dcfe194715a",
   "metadata": {},
   "outputs": [
    {
     "data": {
      "text/plain": [
       "2.6977331728986963e+47"
      ]
     },
     "execution_count": 34,
     "metadata": {},
     "output_type": "execute_result"
    }
   ],
   "source": [
    "float(beta **(2*N + 1) * (mp.quad(fremainder_approx3, [0, mp.inf])))"
   ]
  },
  {
   "cell_type": "code",
   "execution_count": 35,
   "id": "baf7f8a9-592a-4f88-89c9-e48e4eefd9e8",
   "metadata": {},
   "outputs": [
    {
     "data": {
      "text/plain": [
       "mpf('269773317289869642126011300668981039671980351929.9050480055806537725539381219483580118663268193468780284')"
      ]
     },
     "execution_count": 35,
     "metadata": {},
     "output_type": "execute_result"
    }
   ],
   "source": [
    "beta ** (2*N + 1) * mp.quad(fremainder_approx3, [0, mp.inf])"
   ]
  },
  {
   "cell_type": "code",
   "execution_count": 36,
   "id": "74c2e0fa-c594-474d-9915-147ec0317d44",
   "metadata": {},
   "outputs": [
    {
     "data": {
      "text/plain": [
       "9.800508721318737e-34"
      ]
     },
     "execution_count": 36,
     "metadata": {},
     "output_type": "execute_result"
    }
   ],
   "source": [
    "float(beta ** (2*N + 1) * 2 * mp.besselk(N , omega * alpha) * (omega / alpha) **(N) / mp.fac2(2*N + 1))"
   ]
  },
  {
   "cell_type": "code",
   "execution_count": 37,
   "id": "8000e804-c8c3-4a52-8f94-7438b3f80e24",
   "metadata": {},
   "outputs": [
    {
     "data": {
      "text/plain": [
       "9.797175819923838e-34"
      ]
     },
     "execution_count": 37,
     "metadata": {},
     "output_type": "execute_result"
    }
   ],
   "source": [
    "float(beta ** (2*N + 1) * mp.sqrt(mp.pi * 2/  N) * (mp.exp(1) * alpha ** 2/ 2 / N) ** (-N)  / mp.fac2(2*N + 1))"
   ]
  },
  {
   "cell_type": "code",
   "execution_count": null,
   "id": "4d864b30-e517-4712-89b6-497ec298aa72",
   "metadata": {},
   "outputs": [],
   "source": []
  }
 ],
 "metadata": {
  "kernelspec": {
   "display_name": "Python 3 (ipykernel)",
   "language": "python",
   "name": "python3"
  },
  "language_info": {
   "codemirror_mode": {
    "name": "ipython",
    "version": 3
   },
   "file_extension": ".py",
   "mimetype": "text/x-python",
   "name": "python",
   "nbconvert_exporter": "python",
   "pygments_lexer": "ipython3",
   "version": "3.12.7"
  }
 },
 "nbformat": 4,
 "nbformat_minor": 5
}
