{
 "cells": [
  {
   "cell_type": "code",
   "execution_count": 1,
   "id": "0c19e6d8-0ae2-488f-b7fa-cef1593d8b44",
   "metadata": {},
   "outputs": [],
   "source": [
    "import matplotlib.pyplot as plt\n",
    "import numpy as np\n",
    "\n",
    "from scipy import special, stats, integrate"
   ]
  },
  {
   "cell_type": "code",
   "execution_count": 36,
   "id": "2051c465-44c1-4eee-aadd-ba57c2763081",
   "metadata": {},
   "outputs": [
    {
     "data": {
      "text/plain": [
       "0.0"
      ]
     },
     "execution_count": 36,
     "metadata": {},
     "output_type": "execute_result"
    }
   ],
   "source": [
    "alpha = 0.005\n",
    "beta = 0.004\n",
    "mu = 0.04\n",
    "delta = 50.001\n",
    "x = mu\n",
    "\n",
    "x - mu"
   ]
  },
  {
   "cell_type": "code",
   "execution_count": 37,
   "id": "b074452c-d73a-4980-a04d-fbd39336d46e",
   "metadata": {},
   "outputs": [
    {
     "data": {
      "text/plain": [
       "0.3645324037730883"
      ]
     },
     "execution_count": 37,
     "metadata": {},
     "output_type": "execute_result"
    }
   ],
   "source": [
    "stats.norminvgauss.cdf(x, a=alpha*delta, b=beta*delta, loc=mu, scale=delta)"
   ]
  },
  {
   "cell_type": "code",
   "execution_count": 21,
   "id": "4b77d769-fb8c-4ad8-8c5d-ca6768b195a1",
   "metadata": {},
   "outputs": [],
   "source": [
    "from mpmath import *"
   ]
  },
  {
   "cell_type": "code",
   "execution_count": 22,
   "id": "b060c932-9383-4975-9798-0586c30159ce",
   "metadata": {},
   "outputs": [],
   "source": [
    "mp.dps = 40"
   ]
  },
  {
   "cell_type": "code",
   "execution_count": 38,
   "id": "ad5ede76-25e5-418b-a644-76f43b4c3975",
   "metadata": {},
   "outputs": [
    {
     "data": {
      "text/plain": [
       "0.36453240377387525"
      ]
     },
     "execution_count": 38,
     "metadata": {},
     "output_type": "execute_result"
    }
   ],
   "source": [
    "def normcdf(x):\n",
    "    return erfc(-x / sqrt(2)) / 2\n",
    "\n",
    "def fun_phi(t):\n",
    "    C = delta / sqrt(2 * pi) * exp(delta * gamma)\n",
    "    return C * normcdf((x - (mu + beta * t)) / sqrt(t)) * t ** (-3/2) * exp(-delta**2/(2*t) - gamma**2/2 * t)\n",
    "\n",
    "alpha = mpmathify(alpha)\n",
    "beta = mpmathify(beta)\n",
    "mu = mpmathify(mu)\n",
    "delta = mpmathify(delta)\n",
    "x = mpmathify(x)\n",
    "gamma = sqrt(alpha**2 - beta**2)\n",
    "\n",
    "float(quad(fun_phi, [0, inf]))"
   ]
  },
  {
   "cell_type": "code",
   "execution_count": 39,
   "id": "a387fd60-6ab7-4b2d-a3f2-cb2cc5b21309",
   "metadata": {},
   "outputs": [
    {
     "data": {
      "text/plain": [
       "mpf('16666.99999999999887618830814635849406417201')"
      ]
     },
     "execution_count": 39,
     "metadata": {},
     "output_type": "execute_result"
    }
   ],
   "source": [
    "delta / gamma"
   ]
  },
  {
   "cell_type": "markdown",
   "id": "04e192cf-4a7f-42d6-9732-23a655d19542",
   "metadata": {},
   "source": [
    "Expansion"
   ]
  },
  {
   "cell_type": "code",
   "execution_count": 40,
   "id": "64c24c79-7bfe-4945-997d-2c56db0d55e1",
   "metadata": {},
   "outputs": [],
   "source": [
    "N = 50"
   ]
  },
  {
   "cell_type": "code",
   "execution_count": 41,
   "id": "1e0ec69e-971b-471c-9c09-314fd5d8a82b",
   "metadata": {},
   "outputs": [],
   "source": [
    "C = alpha * delta * exp(delta * gamma) / pi"
   ]
  },
  {
   "cell_type": "code",
   "execution_count": 42,
   "id": "752c6504-3071-4204-b77a-223b686c5de2",
   "metadata": {},
   "outputs": [
    {
     "data": {
      "text/plain": [
       "0.36453240110160473"
      ]
     },
     "execution_count": 42,
     "metadata": {},
     "output_type": "execute_result"
    }
   ],
   "source": [
    "s = 0\n",
    "for k in range(N):\n",
    "    r = (-beta)**k / factorial(k)\n",
    "    # q = quad(lambda t: t**k * besselk(1, alpha * sqrt(delta**2 + t**2)) / sqrt(delta**2 + t**2), [0, inf])\n",
    "    q = 2 **(k/2) * mp.gamma(k/2 + 1/2) * besselk(k/2-1/2, alpha * delta) * (delta / alpha)**(k/2)\n",
    "    s += r * q\n",
    "\n",
    "result = sqrt(alpha * delta) * exp(delta * gamma) / pi * s / sqrt(2)\n",
    "\n",
    "float(result)"
   ]
  },
  {
   "cell_type": "code",
   "execution_count": 43,
   "id": "cf866c7d-5cc9-4f45-a6b7-d4cbb8eea75a",
   "metadata": {},
   "outputs": [
    {
     "data": {
      "text/plain": [
       "0.36453242513379835"
      ]
     },
     "execution_count": 43,
     "metadata": {},
     "output_type": "execute_result"
    }
   ],
   "source": [
    "s = 0\n",
    "for k in range(N):\n",
    "    s += beta**k * 2 **(-k/2) / mp.gamma(k/2 + 1) * besselk(k/2-1/2, alpha * delta) * (delta / alpha)**(k/2)\n",
    "\n",
    "result = mp.one - sqrt(alpha * delta) * exp(delta * gamma) * s / sqrt(2 * pi)\n",
    "\n",
    "float(result)"
   ]
  },
  {
   "cell_type": "code",
   "execution_count": 44,
   "id": "4772da77-a7bb-4eec-9dc6-57a6ebb01d62",
   "metadata": {},
   "outputs": [
    {
     "data": {
      "text/plain": [
       "mpf('0.1500029999999999961308241869240019604801631')"
      ]
     },
     "execution_count": 44,
     "metadata": {},
     "output_type": "execute_result"
    }
   ],
   "source": [
    "delta * gamma"
   ]
  },
  {
   "cell_type": "code",
   "execution_count": 45,
   "id": "0268774a-145a-4722-99c6-a89ece8c0b1a",
   "metadata": {},
   "outputs": [
    {
     "data": {
      "text/plain": [
       "8430429.965517245"
      ]
     },
     "execution_count": 45,
     "metadata": {},
     "output_type": "execute_result"
    }
   ],
   "source": [
    "s = 0\n",
    "for k in range(N):\n",
    "    r = (-1)**k * (-beta)**(2*k + 1) / 2**k / factorial(k) / (2*k + 1)\n",
    "    q = 2 * (delta / gamma)**k * besselk(k, delta * gamma)\n",
    "    s += r * q\n",
    "    # print(k, r*q)\n",
    "\n",
    "float(1/2 + s / sqrt(2 * pi) * delta * exp(delta * gamma) / sqrt(2*pi))"
   ]
  },
  {
   "cell_type": "code",
   "execution_count": 48,
   "id": "0d011053-0ae2-41e1-8768-8db94efc0e0b",
   "metadata": {},
   "outputs": [
    {
     "data": {
      "text/plain": [
       "0.3645324037739248"
      ]
     },
     "execution_count": 48,
     "metadata": {},
     "output_type": "execute_result"
    }
   ],
   "source": [
    "s = 0\n",
    "\n",
    "for k in range(N):\n",
    "    r = (-beta)**(2*k + 1) / fac2(2*k + 1)\n",
    "    q = 2 * (delta / alpha)**k * besselk(k, delta * alpha)\n",
    "    s += r * q\n",
    "    # print(k, r, q)\n",
    "\n",
    "float(1/2 + s / sqrt(2 * pi) * delta * exp(delta * gamma) / sqrt(2*pi))"
   ]
  },
  {
   "cell_type": "code",
   "execution_count": 27,
   "id": "5a23e487-3319-47a8-b297-d737f5408298",
   "metadata": {},
   "outputs": [
    {
     "data": {
      "text/plain": [
       "mpf('0.000427741713190057279758041099209092')"
      ]
     },
     "execution_count": 27,
     "metadata": {},
     "output_type": "execute_result"
    }
   ],
   "source": [
    "k = 1\n",
    "quad(lambda t: t**k * besselk(1, alpha * sqrt(delta**2 + t**2)) / sqrt(delta**2 + t**2), [0, inf])"
   ]
  },
  {
   "cell_type": "code",
   "execution_count": 28,
   "id": "aa2a6253-ec71-4e1c-b0f7-39a6e5cfff30",
   "metadata": {},
   "outputs": [
    {
     "data": {
      "text/plain": [
       "mpf('0.00042774171319005727975804109920914')"
      ]
     },
     "execution_count": 28,
     "metadata": {},
     "output_type": "execute_result"
    }
   ],
   "source": [
    "2 **(k/2 - 1/2) * mp.gamma(k/2 + 1/2) * besselk(k/2-1/2, alpha * delta) / alpha**(k/2+1/2) / delta**(-(k/2 -1/2))"
   ]
  },
  {
   "cell_type": "code",
   "execution_count": null,
   "id": "f3c178be-7ca0-425d-a8fc-6e901e16dea0",
   "metadata": {},
   "outputs": [],
   "source": []
  }
 ],
 "metadata": {
  "kernelspec": {
   "display_name": "Python 3 (ipykernel)",
   "language": "python",
   "name": "python3"
  },
  "language_info": {
   "codemirror_mode": {
    "name": "ipython",
    "version": 3
   },
   "file_extension": ".py",
   "mimetype": "text/x-python",
   "name": "python",
   "nbconvert_exporter": "python",
   "pygments_lexer": "ipython3",
   "version": "3.9.12"
  }
 },
 "nbformat": 4,
 "nbformat_minor": 5
}
