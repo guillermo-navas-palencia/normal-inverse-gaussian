{
 "cells": [
  {
   "cell_type": "code",
   "execution_count": 1,
   "id": "5ebf738a",
   "metadata": {},
   "outputs": [],
   "source": [
    "import matplotlib.pyplot as plt\n",
    "import numpy as np\n",
    "\n",
    "from scipy import special, stats, integrate"
   ]
  },
  {
   "cell_type": "code",
   "execution_count": 2,
   "id": "96d7f4c9",
   "metadata": {},
   "outputs": [
    {
     "data": {
      "text/plain": [
       "0.0"
      ]
     },
     "execution_count": 2,
     "metadata": {},
     "output_type": "execute_result"
    }
   ],
   "source": [
    "alpha = 0.005\n",
    "beta = 0.004\n",
    "mu = 0.04\n",
    "delta = 50.001\n",
    "x = mu\n",
    "\n",
    "x - mu"
   ]
  },
  {
   "cell_type": "code",
   "execution_count": 58,
   "id": "db8514cd",
   "metadata": {},
   "outputs": [
    {
     "data": {
      "text/plain": [
       "0.08863684603363965"
      ]
     },
     "execution_count": 58,
     "metadata": {},
     "output_type": "execute_result"
    }
   ],
   "source": [
    "stats.norminvgauss.cdf(x, a=alpha*delta, b=beta*delta, loc=mu, scale=delta)"
   ]
  },
  {
   "cell_type": "code",
   "execution_count": 59,
   "id": "505b18a1",
   "metadata": {},
   "outputs": [],
   "source": [
    "from mpmath import *"
   ]
  },
  {
   "cell_type": "code",
   "execution_count": 60,
   "id": "a29023ed",
   "metadata": {},
   "outputs": [],
   "source": [
    "mp.dps = 40"
   ]
  },
  {
   "cell_type": "code",
   "execution_count": 92,
   "id": "bfe5ce39",
   "metadata": {},
   "outputs": [
    {
     "data": {
      "text/plain": [
       "0.36453240377387525"
      ]
     },
     "execution_count": 92,
     "metadata": {},
     "output_type": "execute_result"
    }
   ],
   "source": [
    "def normcdf(x):\n",
    "    return erfc(-x / sqrt(2)) / 2\n",
    "\n",
    "def fun_phi(t):\n",
    "    C = delta / sqrt(2 * pi) * exp(delta * gamma)\n",
    "    return C * normcdf((x - (mu + beta * t)) / sqrt(t)) * t ** (-3/2) * exp(-delta**2/(2*t) - gamma**2/2 * t)\n",
    "\n",
    "alpha = mpmathify(alpha)\n",
    "beta = mpmathify(beta)\n",
    "mu = mpmathify(mu)\n",
    "delta = mpmathify(delta)\n",
    "x = mpmathify(x)\n",
    "gamma = sqrt(alpha**2 - beta**2)\n",
    "\n",
    "float(quad(fun_phi, [0, inf]))"
   ]
  },
  {
   "cell_type": "code",
   "execution_count": 64,
   "id": "6cdb0e4c",
   "metadata": {},
   "outputs": [
    {
     "data": {
      "text/plain": [
       "mpf('1666.666666666666471349653075203969805274242')"
      ]
     },
     "execution_count": 64,
     "metadata": {},
     "output_type": "execute_result"
    }
   ],
   "source": [
    "delta / gamma"
   ]
  },
  {
   "cell_type": "markdown",
   "id": "6a6d5620",
   "metadata": {},
   "source": [
    "Expansion"
   ]
  },
  {
   "cell_type": "code",
   "execution_count": 94,
   "id": "b4a20449",
   "metadata": {},
   "outputs": [],
   "source": [
    "N = 20"
   ]
  },
  {
   "cell_type": "code",
   "execution_count": 95,
   "id": "7024ec29",
   "metadata": {},
   "outputs": [],
   "source": [
    "C = alpha * delta * exp(delta * gamma) / pi"
   ]
  },
  {
   "cell_type": "code",
   "execution_count": 96,
   "id": "0c77c8e6",
   "metadata": {},
   "outputs": [
    {
     "data": {
      "text/plain": [
       "0.36452350141011597"
      ]
     },
     "execution_count": 96,
     "metadata": {},
     "output_type": "execute_result"
    }
   ],
   "source": [
    "s = 0\n",
    "for k in range(N):\n",
    "    r = (-beta)**k / factorial(k)\n",
    "    # q = quad(lambda t: t**k * besselk(1, alpha * sqrt(delta**2 + t**2)) / sqrt(delta**2 + t**2), [0, inf])\n",
    "    q = 2 **(k/2) * mp.gamma(k/2 + 1/2) * besselk(k/2-1/2, alpha * delta) * (delta / alpha)**(k/2)\n",
    "    s += r * q\n",
    "\n",
    "result = sqrt(alpha * delta) * exp(delta * gamma) / pi * s / sqrt(2)\n",
    "\n",
    "float(result)"
   ]
  },
  {
   "cell_type": "code",
   "execution_count": 97,
   "id": "aa23d229",
   "metadata": {},
   "outputs": [
    {
     "data": {
      "text/plain": [
       "0.3645940810811805"
      ]
     },
     "execution_count": 97,
     "metadata": {},
     "output_type": "execute_result"
    }
   ],
   "source": [
    "s = 0\n",
    "for k in range(N):\n",
    "    s += beta**k * 2 **(-k/2) / mp.gamma(k/2 + 1) * besselk(k/2-1/2, alpha * delta) * (delta / alpha)**(k/2)\n",
    "\n",
    "result = mp.one - sqrt(alpha * delta) * exp(delta * gamma) * s / sqrt(2 * pi)\n",
    "\n",
    "float(result)"
   ]
  },
  {
   "cell_type": "code",
   "execution_count": 98,
   "id": "34eb99fc",
   "metadata": {},
   "outputs": [
    {
     "data": {
      "text/plain": [
       "mpf('0.1500029999999999961308241869240019604801631')"
      ]
     },
     "execution_count": 98,
     "metadata": {},
     "output_type": "execute_result"
    }
   ],
   "source": [
    "delta * gamma"
   ]
  },
  {
   "cell_type": "code",
   "execution_count": 99,
   "id": "cfce1844",
   "metadata": {},
   "outputs": [
    {
     "data": {
      "text/plain": [
       "2.0825049036048657"
      ]
     },
     "execution_count": 99,
     "metadata": {},
     "output_type": "execute_result"
    }
   ],
   "source": [
    "s = 0\n",
    "for k in range(N):\n",
    "    r = (-1)**k * (-beta)**(2*k + 1) / 2**k / factorial(k) / (2*k + 1)\n",
    "    q = 2 * (delta / gamma)**k * besselk(k, delta * gamma)\n",
    "    s += r * q\n",
    "    # print(k, r*q)\n",
    "\n",
    "float(1/2 + s / sqrt(2 * pi) * delta * exp(delta * gamma) / sqrt(2*pi))"
   ]
  },
  {
   "cell_type": "code",
   "execution_count": 100,
   "id": "02fcaf67",
   "metadata": {},
   "outputs": [
    {
     "data": {
      "text/plain": [
       "0.36453252263433616"
      ]
     },
     "execution_count": 100,
     "metadata": {},
     "output_type": "execute_result"
    }
   ],
   "source": [
    "s = 0\n",
    "\n",
    "for k in range(N):\n",
    "    r = (-beta)**(2*k + 1) / fac2(2*k + 1)\n",
    "    q = (delta / alpha)**k * besselk(k, delta * alpha)\n",
    "    s += r * q\n",
    "    # print(k, r, s)\n",
    "\n",
    "float(1/2 + s / pi * delta * exp(delta * gamma))"
   ]
  },
  {
   "cell_type": "markdown",
   "id": "1a0775a1-46be-4d53-91a6-84ecc84b2c6f",
   "metadata": {},
   "source": [
    "Implementation"
   ]
  },
  {
   "cell_type": "code",
   "execution_count": 104,
   "id": "8b4bf9ae-f4a0-4d3d-be2a-57c5d55a2fa9",
   "metadata": {},
   "outputs": [
    {
     "data": {
      "text/plain": [
       "0.36453252263433616"
      ]
     },
     "execution_count": 104,
     "metadata": {},
     "output_type": "execute_result"
    }
   ],
   "source": [
    "gamma = np.sqrt(alpha ** 2 - beta ** 2)\n",
    "ad = alpha * delta\n",
    "doa = delta / alpha\n",
    "b2 = beta * beta\n",
    "\n",
    "C = delta * np.exp(delta * gamma) / np.pi\n",
    "\n",
    "kn = special.kn(0, ad)\n",
    "knp1 = special.kn(1, ad)\n",
    "\n",
    "num = -C * beta\n",
    "s = num * kn\n",
    "\n",
    "num *= b2 * doa / 3.0\n",
    "s += num * knp1\n",
    "\n",
    "sp = s\n",
    "for k in range(2, N):\n",
    "    knn = kn + 2 * (k - 1) / ad * knp1\n",
    "    \n",
    "    num *= b2 * doa / (2 * k + 1)    \n",
    "    s += num * knn\n",
    "    \n",
    "    kn = knp1\n",
    "    knp1 = knn\n",
    "    sp = s   \n",
    "\n",
    "0.5 + s"
   ]
  },
  {
   "cell_type": "code",
   "execution_count": 40,
   "id": "1c3a4480-179e-4c3f-a2b4-f9bda1d5b9fb",
   "metadata": {},
   "outputs": [
    {
     "data": {
      "text/plain": [
       "(326817162245.42786, 23535470270691.348)"
      ]
     },
     "execution_count": 40,
     "metadata": {},
     "output_type": "execute_result"
    }
   ],
   "source": [
    "kn, knp1"
   ]
  },
  {
   "cell_type": "code",
   "execution_count": 17,
   "id": "a242f1a6",
   "metadata": {},
   "outputs": [
    {
     "data": {
      "text/plain": [
       "mpf('308.2976032650096066597802689748667125623393')"
      ]
     },
     "execution_count": 17,
     "metadata": {},
     "output_type": "execute_result"
    }
   ],
   "source": [
    "k = 1\n",
    "quad(lambda t: t**k * besselk(1, alpha * sqrt(delta**2 + t**2)) / sqrt(delta**2 + t**2), [0, inf])"
   ]
  },
  {
   "cell_type": "code",
   "execution_count": 18,
   "id": "f380dc0c",
   "metadata": {},
   "outputs": [
    {
     "data": {
      "text/plain": [
       "mpf('308.2976032650096066597802689748667125623393')"
      ]
     },
     "execution_count": 18,
     "metadata": {},
     "output_type": "execute_result"
    }
   ],
   "source": [
    "2 **(k/2 - 1/2) * mp.gamma(k/2 + 1/2) * besselk(k/2-1/2, alpha * delta) / alpha**(k/2+1/2) / delta**(-(k/2 -1/2))"
   ]
  }
 ],
 "metadata": {
  "kernelspec": {
   "display_name": "Python 3 (ipykernel)",
   "language": "python",
   "name": "python3"
  },
  "language_info": {
   "codemirror_mode": {
    "name": "ipython",
    "version": 3
   },
   "file_extension": ".py",
   "mimetype": "text/x-python",
   "name": "python",
   "nbconvert_exporter": "python",
   "pygments_lexer": "ipython3",
   "version": "3.9.12"
  }
 },
 "nbformat": 4,
 "nbformat_minor": 5
}
