{
 "cells": [
  {
   "cell_type": "code",
   "execution_count": 1,
   "id": "cf7c9504-533d-4770-9487-efcde67a43d0",
   "metadata": {},
   "outputs": [],
   "source": [
    "%load_ext autoreload\n",
    "%autoreload 2"
   ]
  },
  {
   "cell_type": "code",
   "execution_count": 2,
   "id": "29862087-9862-4020-b318-82ca8dae77da",
   "metadata": {},
   "outputs": [],
   "source": [
    "import matplotlib.pyplot as plt\n",
    "import numpy as np\n",
    "\n",
    "from scipy import special, stats, integrate"
   ]
  },
  {
   "cell_type": "code",
   "execution_count": 3,
   "id": "01833b81-49ee-4308-9a84-ae4d1f3301db",
   "metadata": {},
   "outputs": [],
   "source": [
    "from code.series import asymtotic_x_mu_b0_neg"
   ]
  },
  {
   "cell_type": "code",
   "execution_count": 107,
   "id": "2c957f77-956e-468b-9558-a583b6109dfa",
   "metadata": {},
   "outputs": [
    {
     "data": {
      "text/plain": [
       "-1.09"
      ]
     },
     "execution_count": 107,
     "metadata": {},
     "output_type": "execute_result"
    }
   ],
   "source": [
    "alpha = 5\n",
    "beta = 0\n",
    "mu = 0.04\n",
    "delta = 1.1\n",
    "x = -1.05\n",
    "\n",
    "x - mu"
   ]
  },
  {
   "cell_type": "code",
   "execution_count": 89,
   "id": "035509f6-a309-4d3d-86a6-20c74c19d926",
   "metadata": {},
   "outputs": [
    {
     "data": {
      "text/plain": [
       "1.9507490890774385e-11"
      ]
     },
     "execution_count": 89,
     "metadata": {},
     "output_type": "execute_result"
    }
   ],
   "source": [
    "stats.norminvgauss.cdf(x, a=alpha*delta, b=beta*delta, loc=mu, scale=delta)"
   ]
  },
  {
   "cell_type": "code",
   "execution_count": 236,
   "id": "222a9534-95fc-4eb7-b7bd-4a105385bedb",
   "metadata": {},
   "outputs": [
    {
     "data": {
      "text/plain": [
       "0.9980081655390161"
      ]
     },
     "execution_count": 236,
     "metadata": {},
     "output_type": "execute_result"
    }
   ],
   "source": [
    "def f(t):\n",
    "    g = 3/alpha**2 * np.log(t) + (delta / alpha)**2/t + t\n",
    "\n",
    "    return np.exp(-alpha**2/2 * g) * special.ndtr((x-mu)/np.sqrt(t))\n",
    "\n",
    "delta * np.exp(delta * alpha) / np.sqrt(2*np.pi) * integrate.quad(f, 0, np.inf, epsabs=1e-14, epsrel=1e-14)[0]"
   ]
  },
  {
   "cell_type": "code",
   "execution_count": 7,
   "id": "258f5fef-688f-4041-b089-fb78f3cba799",
   "metadata": {},
   "outputs": [],
   "source": [
    "from mpmath import *"
   ]
  },
  {
   "cell_type": "code",
   "execution_count": 61,
   "id": "956f4b60-5f5c-4552-a131-92b430849dcc",
   "metadata": {},
   "outputs": [
    {
     "data": {
      "text/plain": [
       "mpf('0.99999999997050005911434097163822')"
      ]
     },
     "execution_count": 61,
     "metadata": {},
     "output_type": "execute_result"
    }
   ],
   "source": [
    "mp.dps = 30\n",
    "\n",
    "def normcdf(x):\n",
    "    return erfc(-x / sqrt(2)) / 2\n",
    "\n",
    "def fun_phi(t):\n",
    "    C = delta / sqrt(2 * pi)\n",
    "    return C * normcdf((x - mu) / sqrt(t)) * t ** (-3/2) * exp(-(delta - alpha * t) ** 2 / 2 / t)\n",
    "\n",
    "alpha = mpmathify(alpha)\n",
    "mu = mpmathify(mu)\n",
    "delta = mpmathify(delta)\n",
    "x = mpmathify(x)\n",
    "\n",
    "mp.quad(fun_phi, [0, mp.inf])"
   ]
  },
  {
   "cell_type": "code",
   "execution_count": 9,
   "id": "adb686e0-2f82-4998-9dc2-c417bd4f1a27",
   "metadata": {},
   "outputs": [
    {
     "data": {
      "text/plain": [
       "mpf('0.027894090112941673782293830614194')"
      ]
     },
     "execution_count": 9,
     "metadata": {},
     "output_type": "execute_result"
    }
   ],
   "source": [
    "x = 1\n",
    "\n",
    "besselk(1, alpha * sqrt(delta**2 + x**2)) / sqrt(delta**2 + x**2)"
   ]
  },
  {
   "cell_type": "code",
   "execution_count": 10,
   "id": "fdca7755-91e6-4086-a966-636642dfd197",
   "metadata": {},
   "outputs": [
    {
     "data": {
      "text/plain": [
       "mpf('0.0278940901129416737822938306141848')"
      ]
     },
     "execution_count": 10,
     "metadata": {},
     "output_type": "execute_result"
    }
   ],
   "source": [
    "quad(lambda t: exp(-x*sqrt(t**2 + alpha**2)) * cos(delta * t), [0, inf]) / (alpha * x)"
   ]
  },
  {
   "cell_type": "code",
   "execution_count": 11,
   "id": "bb99fd78-fb42-4b90-96f6-ba0b1d476213",
   "metadata": {},
   "outputs": [
    {
     "data": {
      "text/plain": [
       "mpf('0.00906891688282854499268170734882934')"
      ]
     },
     "execution_count": 11,
     "metadata": {},
     "output_type": "execute_result"
    }
   ],
   "source": [
    "t = 1\n",
    "\n",
    "quad(lambda z: exp(-z*sqrt(t**2 + alpha**2)) * cos(delta * t) / z, [x-mu, inf]) / alpha"
   ]
  },
  {
   "cell_type": "code",
   "execution_count": 12,
   "id": "8ab936e3-fa73-4312-8102-2452c52d03b5",
   "metadata": {},
   "outputs": [
    {
     "data": {
      "text/plain": [
       "mpf('0.00906891688282854499268170734882934')"
      ]
     },
     "execution_count": 12,
     "metadata": {},
     "output_type": "execute_result"
    }
   ],
   "source": [
    "gammainc(0, (x-mu)*sqrt(t**2 + alpha**2)) * cos(delta * t) / alpha"
   ]
  },
  {
   "cell_type": "code",
   "execution_count": 250,
   "id": "67b34ed9-5e3a-4ee6-bb7f-1844a390c240",
   "metadata": {},
   "outputs": [
    {
     "data": {
      "text/plain": [
       "mpf('0.99800816553901616296696212567502298679025680953391314')"
      ]
     },
     "execution_count": 250,
     "metadata": {},
     "output_type": "execute_result"
    }
   ],
   "source": [
    "mp.dps = 50\n",
    "\n",
    "def fun_k1(t):\n",
    "    C = alpha * delta / pi\n",
    "    r = sqrt(delta ** 2 + t ** 2)\n",
    "    return C * besselk(1, alpha * r) / r * exp(delta * alpha)\n",
    "\n",
    "quad(fun_k1, [-inf, x-mu])"
   ]
  },
  {
   "cell_type": "code",
   "execution_count": 251,
   "id": "61685e59-ace6-4dda-8f0f-e3d5a59c59d4",
   "metadata": {},
   "outputs": [
    {
     "data": {
      "text/plain": [
       "mpf('0.99800816553901614718527946158187608659829958545373399')"
      ]
     },
     "execution_count": 251,
     "metadata": {},
     "output_type": "execute_result"
    }
   ],
   "source": [
    "1 - quad(fun_k1, [x-mu, inf])"
   ]
  },
  {
   "cell_type": "code",
   "execution_count": 146,
   "id": "2b647af1-a00b-48e0-a329-8500ecadfb8a",
   "metadata": {},
   "outputs": [],
   "source": [
    "beta = -1"
   ]
  },
  {
   "cell_type": "code",
   "execution_count": 143,
   "id": "faaa0cf2-fb08-461f-ad3b-9cc0f7e92566",
   "metadata": {},
   "outputs": [],
   "source": [
    "def fun_ei(t):\n",
    "    g = sqrt(alpha**2 - beta**2)\n",
    "    return expint(1,-(x-mu)*(sqrt(t**2 + alpha**2) + beta)) * cos(delta * t) * delta / pi * exp(delta * g)"
   ]
  },
  {
   "cell_type": "code",
   "execution_count": 135,
   "id": "327f01a4-16c8-4bea-9e49-012b76fb4f4a",
   "metadata": {},
   "outputs": [],
   "source": [
    "def fun_ei(t):\n",
    "    return expint(1,-(x-mu)*sqrt(t**2 + alpha**2)) * cos(delta * t) * delta / pi * exp(delta * alpha)\n",
    "\n",
    "\n",
    "def fun_ei2(t):\n",
    "    g = sqrt(alpha**2 - beta**2)\n",
    "    return exp((x-mu)*(sqrt(t**2 + alpha**2) + beta)) / sqrt(t**2 + alpha**2) / (sqrt(t**2 + alpha**2) + beta) * t * sin(delta * t) / delta * delta / pi * exp(delta * g)"
   ]
  },
  {
   "cell_type": "code",
   "execution_count": 147,
   "id": "9470ee79-bda7-47f4-9570-c198650a2394",
   "metadata": {},
   "outputs": [
    {
     "data": {
      "text/plain": [
       "mpf('0.0126366739526260540449840549341268')"
      ]
     },
     "execution_count": 147,
     "metadata": {},
     "output_type": "execute_result"
    }
   ],
   "source": [
    "mp.quad(fun_phi, [0, mp.inf])"
   ]
  },
  {
   "cell_type": "code",
   "execution_count": 148,
   "id": "e1ca0c74-e6bc-4c3e-96b4-e842beac4c8b",
   "metadata": {},
   "outputs": [
    {
     "data": {
      "text/plain": [
       "mpf('0.0427508880122336204847558733534955')"
      ]
     },
     "execution_count": 148,
     "metadata": {},
     "output_type": "execute_result"
    }
   ],
   "source": [
    "quad(fun_ei, [0, inf])"
   ]
  },
  {
   "cell_type": "code",
   "execution_count": 149,
   "id": "7417371c-4d6f-46b4-b06b-1fff95097ef9",
   "metadata": {},
   "outputs": [
    {
     "data": {
      "text/plain": [
       "mpf('0.0427508880122336204847558733534955')"
      ]
     },
     "execution_count": 149,
     "metadata": {},
     "output_type": "execute_result"
    }
   ],
   "source": [
    "quad(fun_ei2, [0, inf])"
   ]
  },
  {
   "cell_type": "code",
   "execution_count": 150,
   "id": "93001d6e-009e-487a-ad41-35d94dcaf7bc",
   "metadata": {},
   "outputs": [
    {
     "data": {
      "text/plain": [
       "0.042750888012233645"
      ]
     },
     "execution_count": 150,
     "metadata": {},
     "output_type": "execute_result"
    }
   ],
   "source": [
    "stats.norminvgauss.cdf(x, a=alpha*delta, b=beta*delta, loc=mu, scale=delta)"
   ]
  },
  {
   "cell_type": "code",
   "execution_count": 101,
   "id": "314da6ea-ee79-4300-a693-efd70cf8ab7b",
   "metadata": {},
   "outputs": [
    {
     "data": {
      "text/plain": [
       "mpf('0.00000000351491669671220664507367163138041')"
      ]
     },
     "execution_count": 101,
     "metadata": {},
     "output_type": "execute_result"
    }
   ],
   "source": [
    "quad(fun_ei, [0, inf])"
   ]
  },
  {
   "cell_type": "code",
   "execution_count": 34,
   "id": "eb187189-12cf-4d26-ad1e-cf25c222e4c7",
   "metadata": {},
   "outputs": [
    {
     "data": {
      "text/plain": [
       "mpf('0.998748200152607242474090422970309')"
      ]
     },
     "execution_count": 34,
     "metadata": {},
     "output_type": "execute_result"
    }
   ],
   "source": [
    "1-(sum(fun_ei(k) for k in range(100)) - fun_ei(0) / 2)"
   ]
  },
  {
   "cell_type": "code",
   "execution_count": 43,
   "id": "4cf2b70f-8fa4-4fe8-b828-26d3fc4e2396",
   "metadata": {},
   "outputs": [
    {
     "data": {
      "text/plain": [
       "mpf('0.998748200598009648345292335257456')"
      ]
     },
     "execution_count": 43,
     "metadata": {},
     "output_type": "execute_result"
    }
   ],
   "source": [
    "1-(sum(fun_ei2(k) for k in range(100)) - fun_ei2(0) / 2)"
   ]
  },
  {
   "cell_type": "code",
   "execution_count": 412,
   "id": "a4d33963-577d-42e1-9469-8af82c9612d0",
   "metadata": {},
   "outputs": [
    {
     "data": {
      "text/plain": [
       "mpc(real='0.0', imag='0.0')"
      ]
     },
     "execution_count": 412,
     "metadata": {},
     "output_type": "execute_result"
    }
   ],
   "source": [
    "quad(lambda t: (fun_ei2(1j*t) - fun_ei2(-1j*t)) / (exp(2*pi*t) - 1), [0, inf])"
   ]
  },
  {
   "cell_type": "code",
   "execution_count": null,
   "id": "52af2b04-edf1-464c-a00e-23a808ad7f7d",
   "metadata": {},
   "outputs": [],
   "source": []
  }
 ],
 "metadata": {
  "kernelspec": {
   "display_name": "Python 3 (ipykernel)",
   "language": "python",
   "name": "python3"
  },
  "language_info": {
   "codemirror_mode": {
    "name": "ipython",
    "version": 3
   },
   "file_extension": ".py",
   "mimetype": "text/x-python",
   "name": "python",
   "nbconvert_exporter": "python",
   "pygments_lexer": "ipython3",
   "version": "3.9.12"
  }
 },
 "nbformat": 4,
 "nbformat_minor": 5
}
