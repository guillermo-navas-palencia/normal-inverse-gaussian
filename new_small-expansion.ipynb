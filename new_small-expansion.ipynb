{
 "cells": [
  {
   "cell_type": "code",
   "execution_count": 1,
   "id": "be20f1ca",
   "metadata": {},
   "outputs": [],
   "source": [
    "import matplotlib.pyplot as plt\n",
    "import numpy as np\n",
    "\n",
    "from scipy import special, stats\n",
    "\n",
    "from code.python.mpmath_integration import quad_phi\n",
    "\n",
    "from mpmath import *"
   ]
  },
  {
   "cell_type": "code",
   "execution_count": 215,
   "id": "6a6fe824",
   "metadata": {},
   "outputs": [
    {
     "data": {
      "text/plain": [
       "mpf('1.75')"
      ]
     },
     "execution_count": 215,
     "metadata": {},
     "output_type": "execute_result"
    }
   ],
   "source": [
    "x = mpf('2')\n",
    "alpha = mpf('4')\n",
    "beta = mpf('-1')\n",
    "mu = mpf('1/4')\n",
    "delta = mpf('1')\n",
    "\n",
    "gamma = sqrt(alpha ** 2 - beta ** 2)\n",
    "omega = sqrt(delta ** 2 + (x-mu)** 2)\n",
    "\n",
    "x-mu"
   ]
  },
  {
   "cell_type": "code",
   "execution_count": 216,
   "id": "ea48707a",
   "metadata": {},
   "outputs": [],
   "source": [
    "a = x-mu\n",
    "b = -beta"
   ]
  },
  {
   "cell_type": "code",
   "execution_count": 217,
   "id": "6b81b7c2",
   "metadata": {},
   "outputs": [],
   "source": [
    "def normcdf(x):\n",
    "    return erfc(-x / sqrt(2)) / 2"
   ]
  },
  {
   "cell_type": "code",
   "execution_count": 218,
   "id": "a59d44ba",
   "metadata": {},
   "outputs": [
    {
     "data": {
      "text/plain": [
       "mpf('0.99599502883505998514848')"
      ]
     },
     "execution_count": 218,
     "metadata": {},
     "output_type": "execute_result"
    }
   ],
   "source": [
    "t = 2\n",
    "\n",
    "normcdf(a/sqrt(t) + b * sqrt(t))"
   ]
  },
  {
   "cell_type": "code",
   "execution_count": 219,
   "id": "65664d87",
   "metadata": {},
   "outputs": [
    {
     "data": {
      "text/plain": [
       "mpf('0.99599502883505998514932')"
      ]
     },
     "execution_count": 219,
     "metadata": {},
     "output_type": "execute_result"
    }
   ],
   "source": [
    "C = sqrt(t / pi) * exp(-a**2 / (2*t)) * exp(-b*a - b**2/2*t)\n",
    "\n",
    "C * quad(lambda u: exp(-t * u**2) * exp(sqrt(2) * (a + b*t) * u), [0, inf])"
   ]
  },
  {
   "cell_type": "code",
   "execution_count": 220,
   "id": "5b6a6e5e",
   "metadata": {},
   "outputs": [
    {
     "data": {
      "text/plain": [
       "mpf('0.98870234639859494355789')"
      ]
     },
     "execution_count": 220,
     "metadata": {},
     "output_type": "execute_result"
    }
   ],
   "source": [
    "C = exp(-a**2/2/t) / sqrt(2 *pi) * sqrt(t)\n",
    "\n",
    "s1 = b\n",
    "s2 = -b**2 * a / 2\n",
    "s3 = b**3 * (a ** 2 - t) / 6\n",
    "s4 = -b**4 * (a ** 3 - 3 * a * t) / 24\n",
    "s5 = b**5 * (a ** 4 - 6 * a**2 * t + 3 * t**2) / 120\n",
    "s6 = -b**6 * (a ** 5 - 10 * a**3 * t + 15 * a * t ** 2) / 720\n",
    "\n",
    "S = s1 + s2 + s3 + s4 + s5 + s6\n",
    "\n",
    "\n",
    "normcdf(a/sqrt(t)) + C * S"
   ]
  },
  {
   "cell_type": "code",
   "execution_count": 221,
   "id": "2eca3e3f",
   "metadata": {},
   "outputs": [
    {
     "data": {
      "text/plain": [
       "(mpf('1.0'),\n",
       " mpf('-0.875'),\n",
       " mpf('0.17708333333333333333326'),\n",
       " mpf('0.21419270833333333333326'),\n",
       " mpf('-0.12809244791666666666674'),\n",
       " mpf('-0.019757758246527777777767'))"
      ]
     },
     "execution_count": 221,
     "metadata": {},
     "output_type": "execute_result"
    }
   ],
   "source": [
    "s1, s2, s3, s4, s5, s6"
   ]
  },
  {
   "cell_type": "code",
   "execution_count": 222,
   "id": "f817b9ab",
   "metadata": {},
   "outputs": [],
   "source": [
    "def P(k, t, a):\n",
    "    s = 0\n",
    "    for m in range(int(floor(k / 2)) + 1):\n",
    "        s += (-1) ** m / factorial(m) / factorial(k - 2*m) * a**(k - 2 * m) / 2 ** m * t ** m\n",
    "        # print(m, s)\n",
    "\n",
    "    return factorial(k) * s"
   ]
  },
  {
   "cell_type": "code",
   "execution_count": 223,
   "id": "53c39f7d",
   "metadata": {},
   "outputs": [
    {
     "data": {
      "text/plain": [
       "mpf('-15.371093749999999999973')"
      ]
     },
     "execution_count": 223,
     "metadata": {},
     "output_type": "execute_result"
    }
   ],
   "source": [
    "k = 4\n",
    "\n",
    "P(k, t, a)"
   ]
  },
  {
   "cell_type": "code",
   "execution_count": 224,
   "id": "a387d43f",
   "metadata": {},
   "outputs": [],
   "source": [
    "def hermite_prob(k, z):\n",
    "    s = 0\n",
    "    for m in range(int(floor(k / 2)) + 1):\n",
    "        s += (-1) ** m / factorial(m) / factorial(k - 2*m) * z**(k - 2 * m) / 2 ** m\n",
    "\n",
    "    return factorial(k) * s"
   ]
  },
  {
   "cell_type": "code",
   "execution_count": 225,
   "id": "3ab500ba",
   "metadata": {},
   "outputs": [
    {
     "data": {
      "text/plain": [
       "mpf('-15.371093750000000000014')"
      ]
     },
     "execution_count": 225,
     "metadata": {},
     "output_type": "execute_result"
    }
   ],
   "source": [
    "hermite_prob(k, a/sqrt(t)) * t ** (k/2)"
   ]
  },
  {
   "cell_type": "code",
   "execution_count": 226,
   "id": "4b984400",
   "metadata": {},
   "outputs": [
    {
     "data": {
      "text/plain": [
       "mpf('-15.37109375')"
      ]
     },
     "execution_count": 226,
     "metadata": {},
     "output_type": "execute_result"
    }
   ],
   "source": [
    "2**(-k/2) * hermite(k, a/sqrt(2*t)) * t ** (k/2)"
   ]
  },
  {
   "cell_type": "code",
   "execution_count": 227,
   "id": "ee1786f7",
   "metadata": {},
   "outputs": [
    {
     "data": {
      "text/plain": [
       "mpf('0.99599502880491322358636')"
      ]
     },
     "execution_count": 227,
     "metadata": {},
     "output_type": "execute_result"
    }
   ],
   "source": [
    "S = 0\n",
    "for k in range(1, 25):\n",
    "    h = P(k-1, t, a)\n",
    "    h = 2**(-(k-1)/2) * hermite(k-1, a/sqrt(2*t)) * t ** ((k-1)/2)\n",
    "    r = b ** k * (-1) ** (k + 1) * h / factorial(k)\n",
    "    # print(k, h, r)\n",
    "    S += r\n",
    "\n",
    "normcdf(a/sqrt(t)) + C * S"
   ]
  },
  {
   "cell_type": "code",
   "execution_count": 228,
   "id": "39461751",
   "metadata": {},
   "outputs": [
    {
     "data": {
      "text/plain": [
       "(mpf('1.75'),\n",
       " mpf('1.0625'),\n",
       " mpf('-5.140625'),\n",
       " mpf('-15.37109375'),\n",
       " mpf('14.2255859375'))"
      ]
     },
     "execution_count": 228,
     "metadata": {},
     "output_type": "execute_result"
    }
   ],
   "source": [
    "a, a**2 - t, a**3 - 3*a*t, (a ** 4 - 6 * a**2 * t + 3 * t**2),  (a ** 5 - 10 * a**3 * t + 15 * a * t ** 2)"
   ]
  },
  {
   "cell_type": "markdown",
   "id": "ec78a8a1",
   "metadata": {},
   "source": [
    "### Series"
   ]
  },
  {
   "cell_type": "code",
   "execution_count": 229,
   "id": "61fd0c03",
   "metadata": {},
   "outputs": [
    {
     "data": {
      "text/plain": [
       "0.999851744108556"
      ]
     },
     "execution_count": 229,
     "metadata": {},
     "output_type": "execute_result"
    }
   ],
   "source": [
    "mp_result = quad_phi(x, alpha, beta, mu, delta, digits=100)\n",
    "float(mp_result)"
   ]
  },
  {
   "cell_type": "code",
   "execution_count": 230,
   "id": "8711cb54",
   "metadata": {},
   "outputs": [
    {
     "data": {
      "text/plain": [
       "mpf('0.99880104890848187341171')"
      ]
     },
     "execution_count": 230,
     "metadata": {},
     "output_type": "execute_result"
    }
   ],
   "source": [
    "I1 = quad_phi(x, alpha, 0, mu, delta, digits=100)\n",
    "I1"
   ]
  },
  {
   "cell_type": "code",
   "execution_count": 231,
   "id": "c4f24b8f",
   "metadata": {},
   "outputs": [
    {
     "data": {
      "text/plain": [
       "mpf('0.998619011953207663903')"
      ]
     },
     "execution_count": 231,
     "metadata": {},
     "output_type": "execute_result"
    }
   ],
   "source": [
    "mp.dps = 20\n",
    "\n",
    "C = delta * exp(delta * gamma) / sqrt(2 * pi)\n",
    "\n",
    "I1 = C * quad(lambda t: t **(-3/2) * normcdf(a/sqrt(t)) * exp(-delta**2/2/t - gamma**2/2 * t), [0, inf])\n",
    "I1 "
   ]
  },
  {
   "cell_type": "code",
   "execution_count": 232,
   "id": "d948957b",
   "metadata": {},
   "outputs": [
    {
     "data": {
      "text/plain": [
       "mpf('0.99861901195320766390293')"
      ]
     },
     "execution_count": 232,
     "metadata": {},
     "output_type": "execute_result"
    }
   ],
   "source": [
    "quad_phi(x, sqrt(alpha**2 - beta**2), 0, mu, delta, digits=100)"
   ]
  },
  {
   "cell_type": "code",
   "execution_count": 233,
   "id": "ab188c68",
   "metadata": {},
   "outputs": [
    {
     "name": "stdout",
     "output_type": "stream",
     "text": [
      "1 0.00035983198549215086485\n",
      "2 -0.00031485298730563202826\n",
      "3 0.00015051188814810975499\n",
      "4 -0.000036840640923811052502\n",
      "5 7.6427099002232584571e-7\n",
      "6 2.0836398758706084988e-6\n",
      "7 -3.7044350260240304221e-7\n",
      "8 -8.2295046831386408699e-8\n",
      "9 3.0910328487366055456e-8\n",
      "10 2.5883151889937407825e-9\n",
      "11 -2.0791923755476133028e-9\n",
      "12 -4.5632673951974670425e-11\n",
      "13 1.3064922241920795522e-10\n",
      "14 -2.2518401819315719999e-12\n",
      "15 -8.0089730111891986408e-12\n",
      "16 3.6468217039127755999e-13\n",
      "17 4.8689192848127589302e-13\n",
      "18 -3.2696201627498957065e-14\n",
      "19 -2.9557127599166039303e-14\n"
     ]
    },
    {
     "data": {
      "text/plain": [
       "(mpf('0.9998517441085253174009'), mpf('0.00016107691272363353990722'))"
      ]
     },
     "execution_count": 233,
     "metadata": {},
     "output_type": "execute_result"
    }
   ],
   "source": [
    "mp.dps = 20\n",
    "\n",
    "S = 0\n",
    "for k in range(1, 20):\n",
    "    h = quad(lambda t: hermite(k-1, a/sqrt(2*t)) * t ** (k/2-3/2) * exp(-omega**2/2/t - gamma**2/2 * t), [0, inf])\n",
    "    r = b ** k * (-1) ** (k + 1) * h / factorial(k) * 2**(-(k-1)/2)\n",
    "    print(k, r)\n",
    "    S += r\n",
    "\n",
    "I1 + C * S / sqrt(2 *pi), S"
   ]
  },
  {
   "cell_type": "code",
   "execution_count": 234,
   "id": "75e32590",
   "metadata": {},
   "outputs": [
    {
     "name": "stdout",
     "output_type": "stream",
     "text": [
      "0 0.00035983198549215086485\n",
      "1 -0.00031485298730563202826\n",
      "2 0.00015051188814810975499\n",
      "3 -0.000036840640923811052502\n",
      "4 7.6427099002232584571e-7\n",
      "5 2.0836398758706084988e-6\n",
      "6 -3.7044350260240304221e-7\n",
      "7 -8.2295046831386408699e-8\n",
      "8 3.0910328487366055456e-8\n",
      "9 2.5883151889937407825e-9\n",
      "10 -2.0791923755476133028e-9\n",
      "11 -4.5632673951974670425e-11\n",
      "12 1.3064922241920795522e-10\n",
      "13 -2.2518401819315719999e-12\n",
      "14 -8.0089730111891986408e-12\n",
      "15 3.6468217039127755999e-13\n",
      "16 4.8689192848127589302e-13\n",
      "17 -3.2696201627498957065e-14\n",
      "18 -2.9557127599166039303e-14\n",
      "19 2.4861371019576654689e-15\n",
      "20 1.7970283933517185721e-15\n",
      "21 -1.7539141725943017405e-16\n",
      "22 -1.095582451828862466e-16\n",
      "23 1.1877281368929492167e-17\n",
      "24 6.700680199627043386e-18\n",
      "25 -7.8476705225696752439e-19\n",
      "26 -4.1115118790660878586e-19\n",
      "27 5.1046969834173648224e-20\n",
      "28 2.5307318679059536564e-20\n",
      "29 -3.2864886992813635299e-21\n",
      "30 -1.5623443302033831646e-21\n",
      "31 2.1013852287622937249e-22\n",
      "32 9.6718425633298406395e-23\n",
      "33 -1.3374307306990161428e-23\n",
      "34 -6.0028930456158498224e-24\n",
      "35 8.4859600148141587048e-25\n",
      "36 3.7346796936516063358e-25\n",
      "37 -5.373614217929117717e-26\n",
      "38 -2.3287167671641077889e-26\n",
      "39 3.3986397739519060287e-27\n"
     ]
    },
    {
     "data": {
      "text/plain": [
       "(mpf('0.99985174410855604958412'), mpf('0.00016107691272764920957775'))"
      ]
     },
     "execution_count": 234,
     "metadata": {},
     "output_type": "execute_result"
    }
   ],
   "source": [
    "mp.dps = 20\n",
    "\n",
    "S = 0\n",
    "for k in range(0, 40):\n",
    "    h = quad(lambda t: hermite(k, a/sqrt(2*t)) * t ** (k/2-1) * exp(-omega**2/2/t - gamma**2/2 * t), [0, inf])\n",
    "    r = b ** (k+1) * (-1) ** (k) * h / factorial(k+1) * 2**(-k/2)\n",
    "    print(k, r)\n",
    "    S += r\n",
    "\n",
    "I1 + C * S / sqrt(2 *pi), S"
   ]
  },
  {
   "cell_type": "code",
   "execution_count": 235,
   "id": "b4c2b60d",
   "metadata": {},
   "outputs": [
    {
     "data": {
      "text/plain": [
       "0.999851744108556"
      ]
     },
     "execution_count": 235,
     "metadata": {},
     "output_type": "execute_result"
    }
   ],
   "source": [
    "float(mp_result)"
   ]
  },
  {
   "cell_type": "markdown",
   "id": "77567bf9",
   "metadata": {},
   "source": [
    "##### 1F1"
   ]
  },
  {
   "cell_type": "code",
   "execution_count": 236,
   "id": "c7d769ec",
   "metadata": {},
   "outputs": [
    {
     "data": {
      "text/plain": [
       "mpf('-5.5242661377261105181907e+28')"
      ]
     },
     "execution_count": 236,
     "metadata": {},
     "output_type": "execute_result"
    }
   ],
   "source": [
    "hermite(k, a/sqrt(2*t))"
   ]
  },
  {
   "cell_type": "code",
   "execution_count": 239,
   "id": "6ae4ef28",
   "metadata": {},
   "outputs": [
    {
     "ename": "ValueError",
     "evalue": "gamma function pole",
     "output_type": "error",
     "traceback": [
      "\u001b[0;31m---------------------------------------------------------------------------\u001b[0m",
      "\u001b[0;31mValueError\u001b[0m                                Traceback (most recent call last)",
      "Cell \u001b[0;32mIn[239], line 1\u001b[0m\n\u001b[0;32m----> 1\u001b[0m f1 \u001b[38;5;241m=\u001b[39m \u001b[38;5;241m1\u001b[39m\u001b[38;5;241m/\u001b[39m\u001b[43mmp\u001b[49m\u001b[38;5;241;43m.\u001b[39;49m\u001b[43mgamma\u001b[49m\u001b[43m(\u001b[49m\u001b[43m(\u001b[49m\u001b[38;5;241;43m1\u001b[39;49m\u001b[43m \u001b[49m\u001b[38;5;241;43m-\u001b[39;49m\u001b[43m \u001b[49m\u001b[43mk\u001b[49m\u001b[43m)\u001b[49m\u001b[38;5;241;43m/\u001b[39;49m\u001b[38;5;241;43m2\u001b[39;49m\u001b[43m)\u001b[49m \u001b[38;5;241m*\u001b[39m hyp1f1(\u001b[38;5;241m-\u001b[39mk\u001b[38;5;241m/\u001b[39m\u001b[38;5;241m2\u001b[39m, \u001b[38;5;241m1\u001b[39m\u001b[38;5;241m/\u001b[39m\u001b[38;5;241m2\u001b[39m, a\u001b[38;5;241m^\u001b[39m\u001b[38;5;241m2\u001b[39m\u001b[38;5;241m/\u001b[39m\u001b[38;5;241m4\u001b[39m\u001b[38;5;241m/\u001b[39mt)\n\u001b[1;32m      2\u001b[0m f2 \u001b[38;5;241m=\u001b[39m \u001b[38;5;241m2\u001b[39m \u001b[38;5;241m*\u001b[39m a\u001b[38;5;241m/\u001b[39msqrt(\u001b[38;5;241m2\u001b[39m\u001b[38;5;241m*\u001b[39mt) \u001b[38;5;241m/\u001b[39mmp\u001b[38;5;241m.\u001b[39mgamma(\u001b[38;5;241m-\u001b[39mk\u001b[38;5;241m/\u001b[39m\u001b[38;5;241m2\u001b[39m) \u001b[38;5;241m*\u001b[39m hyp1f1((\u001b[38;5;241m1\u001b[39m\u001b[38;5;241m-\u001b[39mk)\u001b[38;5;241m/\u001b[39m\u001b[38;5;241m2\u001b[39m, \u001b[38;5;241m3\u001b[39m\u001b[38;5;241m/\u001b[39m\u001b[38;5;241m2\u001b[39m, a\u001b[38;5;241m^\u001b[39m\u001b[38;5;241m2\u001b[39m\u001b[38;5;241m/\u001b[39m\u001b[38;5;241m4\u001b[39m\u001b[38;5;241m/\u001b[39mt)\n\u001b[1;32m      4\u001b[0m \u001b[38;5;241m2\u001b[39m\u001b[38;5;241m*\u001b[39m\u001b[38;5;241m*\u001b[39mk \u001b[38;5;241m*\u001b[39m sqrt(pi) \u001b[38;5;241m*\u001b[39m (f1 \u001b[38;5;241m+\u001b[39m f2)\n",
      "File \u001b[0;32m~/anaconda3/envs/python39/lib/python3.9/site-packages/mpmath/ctx_mp_python.py:1000\u001b[0m, in \u001b[0;36mPythonMPContext._wrap_libmp_function.<locals>.f\u001b[0;34m(x, **kwargs)\u001b[0m\n\u001b[1;32m    998\u001b[0m \u001b[38;5;28;01mif\u001b[39;00m \u001b[38;5;28mhasattr\u001b[39m(x, \u001b[38;5;124m'\u001b[39m\u001b[38;5;124m_mpf_\u001b[39m\u001b[38;5;124m'\u001b[39m):\n\u001b[1;32m    999\u001b[0m     \u001b[38;5;28;01mtry\u001b[39;00m:\n\u001b[0;32m-> 1000\u001b[0m         \u001b[38;5;28;01mreturn\u001b[39;00m ctx\u001b[38;5;241m.\u001b[39mmake_mpf(\u001b[43mmpf_f\u001b[49m\u001b[43m(\u001b[49m\u001b[43mx\u001b[49m\u001b[38;5;241;43m.\u001b[39;49m\u001b[43m_mpf_\u001b[49m\u001b[43m,\u001b[49m\u001b[43m \u001b[49m\u001b[43mprec\u001b[49m\u001b[43m,\u001b[49m\u001b[43m \u001b[49m\u001b[43mrounding\u001b[49m\u001b[43m)\u001b[49m)\n\u001b[1;32m   1001\u001b[0m     \u001b[38;5;28;01mexcept\u001b[39;00m ComplexResult:\n\u001b[1;32m   1002\u001b[0m         \u001b[38;5;66;03m# Handle propagation to complex\u001b[39;00m\n\u001b[1;32m   1003\u001b[0m         \u001b[38;5;28;01mif\u001b[39;00m ctx\u001b[38;5;241m.\u001b[39mtrap_complex:\n",
      "File \u001b[0;32m~/anaconda3/envs/python39/lib/python3.9/site-packages/mpmath/libmp/gammazeta.py:1733\u001b[0m, in \u001b[0;36mmpf_gamma\u001b[0;34m(x, prec, rnd, type)\u001b[0m\n\u001b[1;32m   1731\u001b[0m     \u001b[38;5;28;01mif\u001b[39;00m \u001b[38;5;28mtype\u001b[39m \u001b[38;5;241m==\u001b[39m \u001b[38;5;241m2\u001b[39m:\n\u001b[1;32m   1732\u001b[0m         \u001b[38;5;28;01mreturn\u001b[39;00m fzero\n\u001b[0;32m-> 1733\u001b[0m     \u001b[38;5;28;01mraise\u001b[39;00m \u001b[38;5;167;01mValueError\u001b[39;00m(\u001b[38;5;124m\"\u001b[39m\u001b[38;5;124mgamma function pole\u001b[39m\u001b[38;5;124m\"\u001b[39m)\n\u001b[1;32m   1734\u001b[0m \u001b[38;5;66;03m# n = x\u001b[39;00m\n\u001b[1;32m   1735\u001b[0m n \u001b[38;5;241m=\u001b[39m man \u001b[38;5;241m<<\u001b[39m exp\n",
      "\u001b[0;31mValueError\u001b[0m: gamma function pole"
     ]
    }
   ],
   "source": [
    "f1 = 1/mp.gamma((1 - k)/2) * hyp1f1(-k/2, 1/2, a^2/4/t)\n",
    "f2 = 2 * a/sqrt(2*t) /mp.gamma(-k/2) * hyp1f1((1-k)/2, 3/2, a^2/4/t)\n",
    "\n",
    "2**k * sqrt(pi) * (f1 + f2)"
   ]
  },
  {
   "cell_type": "markdown",
   "id": "1b11b88c",
   "metadata": {},
   "source": [
    "Experimental"
   ]
  },
  {
   "cell_type": "code",
   "execution_count": null,
   "id": "7d42a91a",
   "metadata": {},
   "outputs": [],
   "source": [
    "k = 4\n",
    "\n",
    "P(k, t, a)"
   ]
  },
  {
   "cell_type": "code",
   "execution_count": null,
   "id": "7d403c43",
   "metadata": {},
   "outputs": [],
   "source": [
    "s = 0\n",
    "for m in range(int(floor(k / 2)) + 1):\n",
    "    s += (-1) ** m / factorial(m) / factorial(k - 2*m) * (1/2/(a/sqrt(t))**2) ** m\n",
    "    # print(m, s)\n",
    "\n",
    "factorial(k) * s * a ** k"
   ]
  },
  {
   "cell_type": "code",
   "execution_count": null,
   "id": "6134cc9b",
   "metadata": {},
   "outputs": [],
   "source": [
    "def hermite_prob(k, z):\n",
    "    s = 0\n",
    "    for m in range(int(floor(k / 2)) + 1):\n",
    "        s += (-1) ** m / factorial(m) / factorial(k - 2*m) * (1/2/z**2) ** m\n",
    "    \n",
    "    return s"
   ]
  },
  {
   "cell_type": "code",
   "execution_count": null,
   "id": "b0306a8a",
   "metadata": {},
   "outputs": [],
   "source": [
    "def hermitep(k, z):\n",
    "    s = 0\n",
    "    for m in range(int(floor(k / 2)) + 1):\n",
    "        s += (-1) ** m / factorial(m) / factorial(k - 2*m) * (1/2/z**2) ** m\n",
    "    \n",
    "    return s"
   ]
  },
  {
   "cell_type": "code",
   "execution_count": null,
   "id": "dba2e8e3",
   "metadata": {},
   "outputs": [],
   "source": [
    "factorial(k - 1)"
   ]
  },
  {
   "cell_type": "code",
   "execution_count": null,
   "id": "8eaa5040",
   "metadata": {},
   "outputs": [],
   "source": [
    "factorial(k) * a ** k * hermite_prob(k, a/sqrt(t))"
   ]
  },
  {
   "cell_type": "code",
   "execution_count": null,
   "id": "c3702de2",
   "metadata": {},
   "outputs": [],
   "source": [
    "a, a**2 - t, a**3 - 3*a*t, (a ** 4 - 6 * a**2 * t + 3 * t**2)"
   ]
  },
  {
   "cell_type": "code",
   "execution_count": null,
   "id": "78d4ee61",
   "metadata": {},
   "outputs": [],
   "source": []
  },
  {
   "cell_type": "code",
   "execution_count": null,
   "id": "d52625f0",
   "metadata": {},
   "outputs": [],
   "source": [
    "normcdf(a/sqrt(t)) + C * S"
   ]
  },
  {
   "cell_type": "code",
   "execution_count": null,
   "id": "1a7f5223",
   "metadata": {},
   "outputs": [],
   "source": [
    "exp(-a**2/2/t) / sqrt(2 *pi) * sqrt(t) * sum((b**2 *a/sqrt(2))**k * (-1)**(k+1) * hermite(k, a/sqrt(2*t)) for k in range(1, 10))"
   ]
  },
  {
   "cell_type": "code",
   "execution_count": null,
   "id": "0121f386",
   "metadata": {},
   "outputs": [],
   "source": []
  }
 ],
 "metadata": {
  "kernelspec": {
   "display_name": "Python 3 (ipykernel)",
   "language": "python",
   "name": "python3"
  },
  "language_info": {
   "codemirror_mode": {
    "name": "ipython",
    "version": 3
   },
   "file_extension": ".py",
   "mimetype": "text/x-python",
   "name": "python",
   "nbconvert_exporter": "python",
   "pygments_lexer": "ipython3",
   "version": "3.12.7"
  }
 },
 "nbformat": 4,
 "nbformat_minor": 5
}
