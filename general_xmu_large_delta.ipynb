{
 "cells": [
  {
   "cell_type": "code",
   "execution_count": 1,
   "id": "1e1d6a85-a731-4358-b4e0-9d3944117fe9",
   "metadata": {},
   "outputs": [],
   "source": [
    "import itertools\n",
    "\n",
    "import matplotlib.pyplot as plt\n",
    "import numpy as np\n",
    "import pandas as pd\n",
    "\n",
    "from scipy import stats\n",
    "from code.python.mpmath_integration import quad_phi\n",
    "from mpmath import mp\n",
    "\n",
    "from scipy import stats"
   ]
  },
  {
   "cell_type": "code",
   "execution_count": 11,
   "id": "6b369e67-58f5-4b64-adca-14f4663702f7",
   "metadata": {},
   "outputs": [],
   "source": [
    "x = mp.mpf('1')\n",
    "alpha = mp.mpf('19')\n",
    "beta = mp.mpf('8.5')\n",
    "mu = mp.mpf('0')\n",
    "delta = mp.mpf('32')\n",
    "\n",
    "\n",
    "xmu = x - mu\n",
    "gamma = mp.sqrt(alpha ** 2 - beta ** 2)\n",
    "omega = mp.sqrt(xmu ** 2 + delta ** 2)"
   ]
  },
  {
   "cell_type": "code",
   "execution_count": 12,
   "id": "8e3a830a-be5e-441d-b0f9-476f0983cde0",
   "metadata": {},
   "outputs": [
    {
     "data": {
      "text/plain": [
       "1.783466730421184e-26"
      ]
     },
     "execution_count": 12,
     "metadata": {},
     "output_type": "execute_result"
    }
   ],
   "source": [
    "mp_result = quad_phi(x, alpha, beta, mu, delta, digits=100)\n",
    "float(mp_result)\n",
    "# mp_result"
   ]
  },
  {
   "cell_type": "code",
   "execution_count": 13,
   "id": "14fdac89-b008-404f-89fe-73154bf79400",
   "metadata": {},
   "outputs": [
    {
     "data": {
      "text/plain": [
       "1.793832969662249e-26"
      ]
     },
     "execution_count": 13,
     "metadata": {},
     "output_type": "execute_result"
    }
   ],
   "source": [
    "stats.norminvgauss.cdf(x=float(x), a=float(alpha*delta), b=float(beta*delta), loc=float(mu), scale=float(delta))"
   ]
  },
  {
   "cell_type": "code",
   "execution_count": 14,
   "id": "c71590fe-4297-43b9-bd29-fa54902e52b6",
   "metadata": {},
   "outputs": [
    {
     "name": "stdout",
     "output_type": "stream",
     "text": [
      "0 249.96481838228522\n",
      "1 58.946866477293064\n",
      "2 7.329345421954872\n",
      "3 0.6274802808877658\n",
      "4 0.04121808263965623\n",
      "5 0.0022038238762725135\n",
      "6 9.955623059029814e-05\n",
      "7 3.89895087035421e-06\n",
      "8 1.3490123365915556e-07\n",
      "9 4.1837295425281506e-09\n",
      "10 1.176685034199445e-10\n",
      "11 3.0349505081054237e-12\n",
      "12 7.353160287862915e-14\n",
      "13 1.948261794254647e-15\n",
      "14 1.1609089798528175e-16\n",
      "15 2.106938202917865e-17\n",
      "16 5.362754817905228e-18\n",
      "17 1.4938016949711675e-18\n",
      "18 4.42868729830298e-19\n",
      "19 1.390447541380187e-19\n",
      "20 4.609069024503735e-20\n",
      "21 1.608809027298031e-20\n"
     ]
    }
   ],
   "source": [
    "mp.dps = 100\n",
    "\n",
    "C = alpha * mp.exp(delta * gamma - delta * alpha) / mp.pi / beta\n",
    "\n",
    "s = mp.zero\n",
    "for k in range(22):\n",
    "    r = mp.gammainc(2*k +1, -xmu * beta) * (-alpha / beta ** 2 / 2 / delta) ** k * mp.besselk(k+1, alpha * delta) * mp.exp(alpha * delta) / mp.factorial(k)\n",
    "    print(k, abs(float(r)))\n",
    "    s += r"
   ]
  },
  {
   "cell_type": "code",
   "execution_count": 15,
   "id": "cd9920bb-8d51-44c3-99c0-2a005155cce3",
   "metadata": {},
   "outputs": [
    {
     "data": {
      "text/plain": [
       "1.783466730421184e-26"
      ]
     },
     "execution_count": 15,
     "metadata": {},
     "output_type": "execute_result"
    }
   ],
   "source": [
    "float(C * s)"
   ]
  },
  {
   "cell_type": "code",
   "execution_count": 19,
   "id": "06c2e807-d87e-46c4-9e10-d30e0fd46fb7",
   "metadata": {},
   "outputs": [
    {
     "name": "stdout",
     "output_type": "stream",
     "text": [
      "1 0.0002094990878676513 281370.51610712544 191.01795190499217\n",
      "2 4.321874937552325e-07 16958717.05650468 198.34729732694703\n",
      "3 5.953669199025801e-10 1053938772.732688 197.71981704605926\n",
      "4 6.16129732576071e-13 66898382695.02309 197.76103512869892\n",
      "5 5.109322429462002e-16 4313338816835.19 197.75883130482265\n",
      "6 3.536607684592815e-19 281502047920139.8 197.75893086105324\n",
      "7 2.1017320123556867e-22 1.8551132339579984e+16 197.75892696210238\n",
      "8 1.0946858319812421e-25 1.2323283056929812e+18 197.7589270970036\n",
      "9 5.076481041077451e-29 8.241396961152013e+19 197.75892709281987\n",
      "10 2.1222286189265883e-32 5.54457245419019e+21 197.75892709293754\n",
      "11 8.078718531086612e-36 3.756722673809028e+23 197.7589270929345\n",
      "12 2.82369511135386e-39 2.604091446805438e+25 197.75892709293458\n",
      "13 9.125245800191576e-43 2.135023907206692e+27 197.75892709293458\n",
      "14 2.7428381603788413e-46 4.2325099476247356e+29 197.75892709293458\n",
      "15 7.70736752133871e-50 2.7336677498310164e+32 197.75892709293458\n",
      "16 2.033745935841483e-53 2.6368853274125093e+35 197.75892709293458\n",
      "17 5.0590832354451516e-57 2.9527122315466845e+38 197.75892709293458\n",
      "18 1.1905202038977448e-60 3.719959798921115e+41 197.75892709293458\n",
      "19 2.6584836046653654e-64 5.230228010208882e+44 197.75892709293458\n",
      "20 5.648955286496466e-68 8.159152959701194e+47 197.75892709293458\n",
      "21 1.1450548193055076e-71 1.4050061186361338e+51 197.75892709293458\n",
      "22 2.219188960921507e-75 2.658271574849864e+54 197.75892709293458\n",
      "23 4.120693742840837e-79 5.502622159816365e+57 197.75892709293458\n",
      "24 7.344735284819424e-83 1.2413915592536371e+61 197.75892709293458\n",
      "25 1.2588277379063529e-86 3.04140932017134e+64 197.75892709293458\n",
      "26 2.077955224919194e-90 8.065817517094388e+67 197.75892709293458\n",
      "27 3.308481147386568e-94 2.308436973392414e+71 197.75892709293458\n",
      "28 5.08791488086927e-98 7.109985878048635e+74 197.75892709293458\n",
      "29 7.567003760776578e-102 2.3505613312828785e+78 197.75892709293458\n"
     ]
    },
    {
     "data": {
      "text/plain": [
       "1.783466730421184e-26"
      ]
     },
     "execution_count": 19,
     "metadata": {},
     "output_type": "execute_result"
    }
   ],
   "source": [
    "N = 30\n",
    "\n",
    "ad = alpha * delta\n",
    "\n",
    "C = alpha * mp.exp(delta * (gamma - alpha)) / mp.pi / beta\n",
    "z = -alpha / beta ** 2 / delta / 2\n",
    "\n",
    "k0 = mp.besselk(0, ad) * mp.exp(ad)\n",
    "k1 = mp.besselk(1, ad) * mp.exp(ad)\n",
    "rp = k1 / k0\n",
    "\n",
    "u = -xmu * beta\n",
    "y = mp.exp(-u)\n",
    "u2 = u * u\n",
    "v = 1\n",
    "qp = y\n",
    "\n",
    "t = k1\n",
    "\n",
    "s = t * y\n",
    "sp = s\n",
    "\n",
    "for k in range(1, N):\n",
    "    # Bessel ratio recursion\n",
    "    r = 1.0 / rp + 2 * k / ad;\n",
    "\n",
    "    # Incomplete gamma recursion\n",
    "    v *= u2\n",
    "    m = 2*k * (2*k-1)\n",
    "    q = m * qp + y * (v * (2*k / u + 1))\n",
    "    \n",
    "    t *= z * r / k\n",
    "    s += t * q\n",
    "\n",
    "    print(k, float(abs(t)), float(q), float(s))\n",
    "    \n",
    "    rp = r\n",
    "    qp = q\n",
    "\n",
    "float(C * s)"
   ]
  },
  {
   "cell_type": "code",
   "execution_count": 17,
   "id": "f9f06b81-4e57-459e-ad8c-9b47f720b818",
   "metadata": {},
   "outputs": [
    {
     "data": {
      "text/plain": [
       "1.18014904277092e-82"
      ]
     },
     "execution_count": 17,
     "metadata": {},
     "output_type": "execute_result"
    }
   ],
   "source": [
    "1.18014904277092e-82"
   ]
  },
  {
   "cell_type": "code",
   "execution_count": 60,
   "id": "4947f340-2a5d-4c1b-8a10-08e72c982d67",
   "metadata": {},
   "outputs": [
    {
     "data": {
      "text/plain": [
       "2.8281182724036365e-06"
      ]
     },
     "execution_count": 60,
     "metadata": {},
     "output_type": "execute_result"
    }
   ],
   "source": [
    "float(mp_result)"
   ]
  },
  {
   "cell_type": "code",
   "execution_count": 44,
   "id": "b57c24e7-e845-4c05-9f7c-2bd71392d295",
   "metadata": {},
   "outputs": [
    {
     "data": {
      "text/plain": [
       "mpf('18414.12942166299348434549312051655519095412984655842726046311372752241973197096570076603410260444174547')"
      ]
     },
     "execution_count": 44,
     "metadata": {},
     "output_type": "execute_result"
    }
   ],
   "source": [
    "k = 2\n",
    "mp.gammainc(2*k +1, -xmu * beta)"
   ]
  },
  {
   "cell_type": "code",
   "execution_count": 45,
   "id": "0716b76d-9953-4844-a824-e33b9cf54c62",
   "metadata": {},
   "outputs": [
    {
     "data": {
      "text/plain": [
       "mpf('-4624.630120564308171137181590303882788562265424341896488878912155216446385481250780943990232918072445698')"
      ]
     },
     "execution_count": 45,
     "metadata": {},
     "output_type": "execute_result"
    }
   ],
   "source": [
    "mp.gammainc(2*k, u)"
   ]
  },
  {
   "cell_type": "code",
   "execution_count": 46,
   "id": "59bde5ed-799c-4cee-aead-8dfd90b0278f",
   "metadata": {},
   "outputs": [
    {
     "data": {
      "text/plain": [
       "mpf('-4624.630120564308171137181590303882788562265424341896488878912155216446385481250780943990232918072445698')"
      ]
     },
     "execution_count": 46,
     "metadata": {},
     "output_type": "execute_result"
    }
   ],
   "source": [
    "u = -xmu * beta\n",
    "(2*k-1) * mp.gammainc(2*k-1, u) + u ** (2*k-1) * mp.exp(-u)"
   ]
  },
  {
   "cell_type": "code",
   "execution_count": 48,
   "id": "dc91e1e6-c4dd-4b9e-ba70-af88ceec0e8a",
   "metadata": {},
   "outputs": [
    {
     "data": {
      "text/plain": [
       "mpf('1192.726989731914029539029801878860281235036824769442890075826492586236780683728911873632517492252260935')"
      ]
     },
     "execution_count": 48,
     "metadata": {},
     "output_type": "execute_result"
    }
   ],
   "source": [
    " mp.gammainc(2*k-1, u)"
   ]
  },
  {
   "cell_type": "code",
   "execution_count": 47,
   "id": "4d698fdd-7603-4a55-97cd-1617924230b1",
   "metadata": {},
   "outputs": [
    {
     "data": {
      "text/plain": [
       "mpf('18414.12942166299348434549312051655519095412984655842726046311372752241973197096570076603410260444174547')"
      ]
     },
     "execution_count": 47,
     "metadata": {},
     "output_type": "execute_result"
    }
   ],
   "source": [
    "2*k * ((2*k-1) * mp.gammainc(2*k-1, u) + u ** (2*k-1) * mp.exp(-u)) + u ** (2*k) * mp.exp(-u)"
   ]
  },
  {
   "cell_type": "code",
   "execution_count": 50,
   "id": "f144f61f-9864-416e-8b5d-14951cc91b80",
   "metadata": {},
   "outputs": [
    {
     "data": {
      "text/plain": [
       "mpf('18414.12942166299348434549312051655519095412984655842726046311372752241973197096570076603410260444174547')"
      ]
     },
     "execution_count": 50,
     "metadata": {},
     "output_type": "execute_result"
    }
   ],
   "source": [
    "2*k * (2*k-1) *  mp.gammainc(2*k-1, u) + 2*k * u**(2*k-1) * mp.exp(-u) + u ** (2*k) * mp.exp(-u)"
   ]
  },
  {
   "cell_type": "code",
   "execution_count": 40,
   "id": "b477dca1-c6d6-453d-9f6d-ecb15017fcac",
   "metadata": {},
   "outputs": [
    {
     "data": {
      "text/plain": [
       "mpf('1192.72698973191402953902980187886028123503682476944289007582649258623678068372891187363251749225226095')"
      ]
     },
     "execution_count": 40,
     "metadata": {},
     "output_type": "execute_result"
    }
   ],
   "source": [
    "2*k * (2*k-1) *  mp.gammainc(2*k-1, u) + mp.exp(-u) * (u**(2*k) * (2*k*(2*k - 1) / u + 1))"
   ]
  },
  {
   "cell_type": "code",
   "execution_count": 32,
   "id": "2a70bba3-5987-4f10-8c0b-afb0bb1e6a2d",
   "metadata": {},
   "outputs": [
    {
     "data": {
      "text/plain": [
       "mpf('479.3356565026090677505772837278718042396365376488463736135194311646176530881995893862764216951895324328')"
      ]
     },
     "execution_count": 32,
     "metadata": {},
     "output_type": "execute_result"
    }
   ],
   "source": [
    "2*k * (2*k - 1) * mp.exp(xmu * beta) + (2*k + 1) * mp.exp(xmu * beta) + (xmu * beta) ** (2*k) * (2*k - 1) * (2/xmu/beta * k + 1)"
   ]
  },
  {
   "cell_type": "code",
   "execution_count": null,
   "id": "72f83623-1264-46ef-b984-110aaef271c8",
   "metadata": {},
   "outputs": [],
   "source": []
  }
 ],
 "metadata": {
  "kernelspec": {
   "display_name": "Python 3 (ipykernel)",
   "language": "python",
   "name": "python3"
  },
  "language_info": {
   "codemirror_mode": {
    "name": "ipython",
    "version": 3
   },
   "file_extension": ".py",
   "mimetype": "text/x-python",
   "name": "python",
   "nbconvert_exporter": "python",
   "pygments_lexer": "ipython3",
   "version": "3.12.7"
  }
 },
 "nbformat": 4,
 "nbformat_minor": 5
}
