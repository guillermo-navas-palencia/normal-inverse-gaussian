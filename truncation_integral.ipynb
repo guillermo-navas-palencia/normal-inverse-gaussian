{
 "cells": [
  {
   "cell_type": "code",
   "execution_count": 1,
   "id": "77dc4cdc-5f11-42f7-bb88-7d19e83f3f37",
   "metadata": {},
   "outputs": [],
   "source": [
    "%load_ext autoreload\n",
    "%autoreload 2"
   ]
  },
  {
   "cell_type": "code",
   "execution_count": 2,
   "id": "cf12e293-41c3-4325-9cff-e9a675da4deb",
   "metadata": {},
   "outputs": [],
   "source": [
    "import matplotlib.pyplot as plt\n",
    "import numpy as np\n",
    "\n",
    "from scipy import special, stats, optimize, integrate\n",
    "\n",
    "from mpmath import *\n",
    "\n",
    "from code.python.mpmath_integration import quad_phi"
   ]
  },
  {
   "cell_type": "code",
   "execution_count": 3,
   "id": "624985ff-4786-432a-8c42-8f39b878ce89",
   "metadata": {},
   "outputs": [
    {
     "data": {
      "text/plain": [
       "(-0.8276719526734445, 0.4591304681574972, 0.20342670317249464)"
      ]
     },
     "execution_count": 3,
     "metadata": {},
     "output_type": "execute_result"
    }
   ],
   "source": [
    "alpha = 10.005\n",
    "beta = 0.0025\n",
    "mu = 0.25\n",
    "delta = 0.1\n",
    "x = -0.5\n",
    "\n",
    "x = -20\n",
    "alpha = 50\n",
    "beta = 12\n",
    "mu = 1\n",
    "delta = 45\n",
    "\n",
    "x = -0.4519899000274793\n",
    "alpha = 0.54845308531407\n",
    "beta = 0.3\n",
    "mu = 0.3756820526459652\n",
    "delta = 0.4430694917478499\n",
    "\n",
    "gamma = np.sqrt(alpha**2 - beta**2)\n",
    "\n",
    "x -mu, gamma, gamma * delta"
   ]
  },
  {
   "cell_type": "code",
   "execution_count": 4,
   "id": "efc6814a-a723-4a03-b821-d202dde4aa0c",
   "metadata": {},
   "outputs": [
    {
     "data": {
      "text/plain": [
       "mpf('0.061844292709307212')"
      ]
     },
     "execution_count": 4,
     "metadata": {},
     "output_type": "execute_result"
    }
   ],
   "source": [
    "quad_phi(x, alpha, beta, mu, delta, a=mp.zero, b=inf, digits=300)"
   ]
  },
  {
   "cell_type": "code",
   "execution_count": 5,
   "id": "af6f6561-02af-4a9b-aea2-03550d6485b4",
   "metadata": {},
   "outputs": [],
   "source": [
    "eps = 2 ** (-53)"
   ]
  },
  {
   "cell_type": "code",
   "execution_count": 6,
   "id": "c3a5591d-75b6-4b45-9a7c-adfb3cea6c05",
   "metadata": {},
   "outputs": [],
   "source": [
    "def truncation(alpha, beta, mu, delta, eps):\n",
    "    gamma = np.sqrt(alpha**2 - beta**2)\n",
    "    gamma2 = gamma ** 2\n",
    "    \n",
    "    C = delta * np.exp(delta * gamma) / np.sqrt(2 * np.pi)\n",
    "        \n",
    "    # Exact\n",
    "    u = (gamma2 * eps / (2 * C)) ** (2/3)\n",
    "    y = gamma2 / 3 / u\n",
    "    N = 3 / gamma2 * lambertw(y)\n",
    "    N = int(np.ceil(float(N)))\n",
    "\n",
    "    # Upper bound\n",
    "    Napprox = 3 / gamma2 * np.log(y) ** (np.log(y) / (1 + np.log(y)))\n",
    "    Napprox = int(np.ceil(float(Napprox)))\n",
    "    \n",
    "    # Compute upper bound\n",
    "    bound = 2 * np.exp(-delta ** 2 / (2*N) - gamma2 / 2 * N) / N ** (3/2) / gamma2 * C\n",
    "\n",
    "    return N, Napprox, bound"
   ]
  },
  {
   "cell_type": "code",
   "execution_count": 7,
   "id": "cdb643fa-645e-42ec-9720-11362ce655d0",
   "metadata": {},
   "outputs": [
    {
     "data": {
      "text/plain": [
       "(276, 278, 1.0411692938565544e-16)"
      ]
     },
     "execution_count": 7,
     "metadata": {},
     "output_type": "execute_result"
    }
   ],
   "source": [
    "N, Napprox, bound = truncation(alpha, beta, mu, delta, eps)\n",
    "N, Napprox, bound"
   ]
  },
  {
   "cell_type": "code",
   "execution_count": 8,
   "id": "f10feffa-737f-46c1-a611-ababab7dbdef",
   "metadata": {},
   "outputs": [
    {
     "data": {
      "text/plain": [
       "mpf('1.6770136860753306e-23')"
      ]
     },
     "execution_count": 8,
     "metadata": {},
     "output_type": "execute_result"
    }
   ],
   "source": [
    "quad_phi(x, alpha, beta, mu, delta, a=N, b=inf, digits=100)"
   ]
  },
  {
   "cell_type": "code",
   "execution_count": 9,
   "id": "aa61cc09-92f4-4388-bb21-9086b9a3599b",
   "metadata": {},
   "outputs": [
    {
     "data": {
      "text/plain": [
       "(22.316045311501284, 277.98766473239573)"
      ]
     },
     "execution_count": 9,
     "metadata": {},
     "output_type": "execute_result"
    }
   ],
   "source": [
    "eps *= 1\n",
    "\n",
    "gamma = np.sqrt(alpha**2 - beta**2)\n",
    "gamma2 = gamma ** 2\n",
    "dg = delta * gamma\n",
    "\n",
    "C = delta * np.exp(dg) / np.sqrt(2 * np.pi)\n",
    "u = (gamma2 * eps / (2 * C)) ** (2/3)\n",
    "y = gamma2 / 3 / u\n",
    "logy = np.log(y)\n",
    "\n",
    "\n",
    "Napprox = 3 / gamma2 * logy ** (logy / (1 + logy))\n",
    "logy, Napprox"
   ]
  },
  {
   "cell_type": "code",
   "execution_count": 49,
   "id": "731fc046-2582-49b9-931b-f15956c038d7",
   "metadata": {},
   "outputs": [
    {
     "data": {
      "text/plain": [
       "mpf('275.42385071194923')"
      ]
     },
     "execution_count": 49,
     "metadata": {},
     "output_type": "execute_result"
    }
   ],
   "source": [
    "3 / gamma2 * lambertw(y)"
   ]
  },
  {
   "cell_type": "code",
   "execution_count": 31,
   "id": "e8a45ea2-87a7-4474-b6e7-dce9def543a2",
   "metadata": {},
   "outputs": [
    {
     "data": {
      "text/plain": [
       "True"
      ]
     },
     "execution_count": 31,
     "metadata": {},
     "output_type": "execute_result"
    }
   ],
   "source": [
    "gamma * delta * np.exp(dg)  > 3 **(3/2) * np.sqrt(np.pi / 2) * eps"
   ]
  },
  {
   "cell_type": "code",
   "execution_count": 35,
   "id": "68151dd4-df8a-44b0-b8e0-6c1d5fee77dc",
   "metadata": {},
   "outputs": [
    {
     "data": {
      "text/plain": [
       "(0.249318815798435, 6.512411291024408)"
      ]
     },
     "execution_count": 35,
     "metadata": {},
     "output_type": "execute_result"
    }
   ],
   "source": [
    "gamma * delta * np.exp(dg), np.sqrt(np.pi * 27 / 2)"
   ]
  },
  {
   "cell_type": "code",
   "execution_count": 12,
   "id": "8a375565-e126-43ea-b04c-b23d54307060",
   "metadata": {},
   "outputs": [
    {
     "data": {
      "text/plain": [
       "(4917397733.162306, mpf('2.128768899999919e+20'))"
      ]
     },
     "execution_count": 12,
     "metadata": {},
     "output_type": "execute_result"
    }
   ],
   "source": [
    "y, gamma ** 2 * (2 * C) ** (2/3) / 3 / gamma ** (4/3) / eps ** (4/3)"
   ]
  },
  {
   "cell_type": "code",
   "execution_count": 10,
   "id": "d4c2a9c2-186e-40f3-93e2-037bd704b499",
   "metadata": {},
   "outputs": [
    {
     "data": {
      "text/plain": [
       "(22.316045311501288, 22.316045311501284, 278, mpf('8.3419824783823826e-17'))"
      ]
     },
     "execution_count": 10,
     "metadata": {},
     "output_type": "execute_result"
    }
   ],
   "source": [
    "logC = np.log(delta) + dg - 1/2 * np.log(2 * np.pi)\n",
    "logy = np.log(gamma2) - np.log(3) - 2/3 * (np.log(gamma2) + np.log(eps) - np.log(2) - logC)\n",
    "\n",
    "_logy = 1/3 * np.log(gamma2) - 2/3 * (np.log(eps) - logC) -0.636514168294813\n",
    "\n",
    "Napprox = 3 / gamma2 * logy ** (logy / (1 + logy))\n",
    "Napprox = int(np.ceil(float(Napprox)))\n",
    "\n",
    "# Compute upper bound\n",
    "N = Napprox\n",
    "C = delta * exp(delta * gamma) / np.sqrt(2 * np.pi)\n",
    "bound = 2 * exp(-delta ** 2 / (2*N) - gamma2 / 2 * N) / N ** (3/2) / gamma2 * C\n",
    "\n",
    "logy, _logy, Napprox, bound"
   ]
  },
  {
   "cell_type": "code",
   "execution_count": 189,
   "id": "b7cd8f13-a052-41ea-b296-2bd149c5d18d",
   "metadata": {},
   "outputs": [
    {
     "data": {
      "text/plain": [
       "mpf('1.48741650182152743866861728073357111382268513070386550665271960415132831578242519275766316558800586797518120893184100270750134272866260188642163955187669283710694917149390495920261565396186300328218678336073127647697980721741954107241260271059824910023230046547494486151875234548201785560574636802448659e-169')"
      ]
     },
     "execution_count": 189,
     "metadata": {},
     "output_type": "execute_result"
    }
   ],
   "source": [
    "quad_phi(x, alpha, beta, mu, delta, a=N, b=inf, digits=200)"
   ]
  },
  {
   "cell_type": "code",
   "execution_count": 167,
   "id": "e57c2821-2e82-4adc-8328-34f9be598cbd",
   "metadata": {},
   "outputs": [
    {
     "data": {
      "text/plain": [
       "(7.823946005855959, 7.823946005855959)"
      ]
     },
     "execution_count": 167,
     "metadata": {},
     "output_type": "execute_result"
    }
   ],
   "source": [
    "np.log(gamma2), 2* np.log(gamma)"
   ]
  },
  {
   "cell_type": "code",
   "execution_count": 147,
   "id": "35b7e305-dca0-4767-a420-9c914cedcb4b",
   "metadata": {},
   "outputs": [
    {
     "data": {
      "text/plain": [
       "-0.9189385332046727"
      ]
     },
     "execution_count": 147,
     "metadata": {},
     "output_type": "execute_result"
    }
   ],
   "source": [
    "- 1/2 * np.log(2 * np.pi)"
   ]
  },
  {
   "cell_type": "code",
   "execution_count": 149,
   "id": "ae3af95f-a6cb-4523-ad71-f0c4c78dbfff",
   "metadata": {},
   "outputs": [
    {
     "data": {
      "text/plain": [
       "-0.636514168294813"
      ]
     },
     "execution_count": 149,
     "metadata": {},
     "output_type": "execute_result"
    }
   ],
   "source": [
    "-np.log(3) + 2/3 * np.log(2)"
   ]
  },
  {
   "cell_type": "code",
   "execution_count": 155,
   "id": "d228542d-d7cf-4de7-987a-d74fb14a6fb1",
   "metadata": {},
   "outputs": [
    {
     "data": {
      "text/plain": [
       "0.3333333333333333"
      ]
     },
     "execution_count": 155,
     "metadata": {},
     "output_type": "execute_result"
    }
   ],
   "source": [
    "1/3"
   ]
  },
  {
   "cell_type": "code",
   "execution_count": 60,
   "id": "d6bbd3cf-918b-4e7e-a661-e200e91012a0",
   "metadata": {},
   "outputs": [
    {
     "data": {
      "image/png": "[encoded data removed]",
      "text/plain": [
       "<Figure size 640x480 with 1 Axes>"
      ]
     },
     "metadata": {},
     "output_type": "display_data"
    }
   ],
   "source": [
    "x = np.linspace(1, 500, 100)\n",
    "\n",
    "ref = special.lambertw(x, k=0).real\n",
    "logx = np.log(x)\n",
    "bound = logx ** (logx / (1 + logx))\n",
    "\n",
    "plt.plot(x, ref, label='LambertW0')\n",
    "plt.plot(x, bound, label='bound')\n",
    "\n",
    "plt.legend()\n",
    "plt.show()"
   ]
  },
  {
   "cell_type": "code",
   "execution_count": null,
   "id": "92141500-420a-4e21-ac19-2fc7cb1cc260",
   "metadata": {},
   "outputs": [],
   "source": []
  }
 ],
 "metadata": {
  "kernelspec": {
   "display_name": "Python 3 (ipykernel)",
   "language": "python",
   "name": "python3"
  },
  "language_info": {
   "codemirror_mode": {
    "name": "ipython",
    "version": 3
   },
   "file_extension": ".py",
   "mimetype": "text/x-python",
   "name": "python",
   "nbconvert_exporter": "python",
   "pygments_lexer": "ipython3",
   "version": "3.9.12"
  }
 },
 "nbformat": 4,
 "nbformat_minor": 5
}
