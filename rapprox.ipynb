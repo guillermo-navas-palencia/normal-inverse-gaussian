{
 "cells": [
  {
   "cell_type": "code",
   "execution_count": 14,
   "id": "6f08bb6e-0ffc-4cc4-a276-72e5c9850784",
   "metadata": {},
   "outputs": [],
   "source": [
    "import numpy as np\n",
    "from scipy import special\n",
    "\n",
    "from mpmath import *"
   ]
  },
  {
   "cell_type": "code",
   "execution_count": 191,
   "id": "05817865-acc4-4b05-9b4f-a415ab42d73f",
   "metadata": {},
   "outputs": [],
   "source": [
    "x = 700.5"
   ]
  },
  {
   "cell_type": "code",
   "execution_count": 192,
   "id": "f9b011db-abc9-4eb2-87a3-80571c7a9913",
   "metadata": {},
   "outputs": [
    {
     "data": {
      "text/plain": [
       "(mpf('0.047379251415317326'), mpf('2.8333721541793952e-306'))"
      ]
     },
     "execution_count": 192,
     "metadata": {},
     "output_type": "execute_result"
    }
   ],
   "source": [
    "exp(x) * besselk(1, x), besselk(1, x)"
   ]
  },
  {
   "cell_type": "code",
   "execution_count": 187,
   "id": "1b2d16a2-36d5-4f86-8e2e-c306a9510d2a",
   "metadata": {},
   "outputs": [
    {
     "data": {
      "text/plain": [
       "0.047379251415317326"
      ]
     },
     "execution_count": 187,
     "metadata": {},
     "output_type": "execute_result"
    }
   ],
   "source": [
    "special.kve(1, x)"
   ]
  },
  {
   "cell_type": "code",
   "execution_count": 188,
   "id": "197690d2-aecc-44bb-a5a5-e8b7e9aed42c",
   "metadata": {},
   "outputs": [
    {
     "data": {
      "text/plain": [
       "0.047379251415317326"
      ]
     },
     "execution_count": 188,
     "metadata": {},
     "output_type": "execute_result"
    }
   ],
   "source": [
    "np.exp(x) * special.k1(x)"
   ]
  },
  {
   "cell_type": "code",
   "execution_count": null,
   "id": "48118cec-49e2-4e15-b26a-fe0791b2d0b9",
   "metadata": {},
   "outputs": [],
   "source": [
    "CS    DATA   P/ 4.8127070456878442310E-1, 9.9991373567429309922E+1,\n",
    "CS   1          7.1885382604084798576E+3, 1.7733324035147015630E+5,\n",
    "CS   2          7.1938920065420586101E+5/\n",
    "CS    DATA   Q/-2.8143915754538725829E+2, 3.7264298672067697862E+4,\n",
    "CS   1         -2.2149374878243304548E+6/\n",
    "CS    DATA   F/-2.2795590826955002390E-1,-5.3103913335180275253E+1,\n",
    "CS   1         -4.5051623763436087023E+3,-1.4758069205414222471E+5,\n",
    "CS   2         -1.3531161492785421328E+6/\n",
    "CS    DATA   G/-3.0507151578787595807E+2, 4.3117653211351080007E+4,\n",
    "CS   2         -2.7062322985570842656E+6/"
   ]
  },
  {
   "cell_type": "code",
   "execution_count": null,
   "id": "6950d444-bc77-44f3-b91e-3107fd76a1d2",
   "metadata": {},
   "outputs": [],
   "source": []
  },
  {
   "cell_type": "code",
   "execution_count": null,
   "id": "e868d61a-8d67-4945-9e5e-2e5d89a4617b",
   "metadata": {},
   "outputs": [],
   "source": []
  },
  {
   "cell_type": "code",
   "execution_count": null,
   "id": "25c9fca9-5fca-47b4-9c7d-87b55bbb42aa",
   "metadata": {},
   "outputs": [],
   "source": []
  },
  {
   "cell_type": "code",
   "execution_count": 100,
   "id": "2e7af8e0-b516-4bb2-b48c-547a48fc4c15",
   "metadata": {},
   "outputs": [],
   "source": [
    "P = [\n",
    "    5.8599221412826100000E-04, 1.3166052564989571850E-01,  \n",
    "    1.1999463724910714109E+01, 4.6850901201934832188E+02,\n",
    "    5.9169059852270512312E+03, 2.4708152720399552679E+03\n",
    "]\n",
    "\n",
    "Q = [-2.4994418972832303646E+02, 2.1312714303849120380E+04]\n",
    "\n",
    "F = [\n",
    "    -1.6414452837299064100E+00,-2.9601657892958843866E+02,\n",
    "    -1.7733784684952985886E+04,-4.0320340761145482298E+05\n",
    "]\n",
    "\n",
    "G = [\n",
    "    -2.5064972445877992730E+02, 2.9865713163054025489E+04,\n",
    "    -1.6128136304458193998E+06\n",
    "]"
   ]
  },
  {
   "cell_type": "code",
   "execution_count": 101,
   "id": "d6611453-eb01-4e53-83a6-ae16f23b0486",
   "metadata": {},
   "outputs": [
    {
     "data": {
      "text/plain": [
       "-0.8003592162157427"
      ]
     },
     "execution_count": 101,
     "metadata": {},
     "output_type": "execute_result"
    }
   ],
   "source": [
    "P[5] / Q[1] - np.log(x)"
   ]
  },
  {
   "cell_type": "code",
   "execution_count": 102,
   "id": "a7ad86ac-45c6-4dbe-abd9-c004433b57b6",
   "metadata": {},
   "outputs": [
    {
     "data": {
      "text/plain": [
       "'[-1.6128136304458193e+06  2.9865713163054024e+04 -2.5064972445877993e+02]'"
      ]
     },
     "execution_count": 102,
     "metadata": {},
     "output_type": "execute_result"
    }
   ],
   "source": [
    "np.array2string(np.array(G[::-1]), precision=16)"
   ]
  },
  {
   "cell_type": "code",
   "execution_count": 103,
   "id": "b0c717d6-741f-4ff1-90f4-0ec18a0ae38e",
   "metadata": {},
   "outputs": [
    {
     "data": {
      "text/plain": [
       "0.7595485011456782"
      ]
     },
     "execution_count": 103,
     "metadata": {},
     "output_type": "execute_result"
    }
   ],
   "source": [
    "XX = x * x\n",
    "sump = ((((P[0]*XX + P[1])*XX + P[2])*XX + P[3])*XX + P[4])*XX + P[5]\n",
    "sumq = (XX + Q[0])*XX + Q[1]\n",
    "sumf = ((F[0]*XX + F[1])*XX + F[2])*XX + F[3]\n",
    "sumg = ((XX + G[0])*XX + G[1])*XX + G[2]\n",
    "\n",
    "np.exp(x) * (sump/sumq - XX*sumf*np.log(x)/sumg - np.log(x))"
   ]
  },
  {
   "cell_type": "code",
   "execution_count": 104,
   "id": "4dbebb1f-1e74-421d-9abc-9bc081ecf02a",
   "metadata": {},
   "outputs": [],
   "source": [
    "PP = [\n",
    "    1.1394980557384778174E+02, 3.6832589957340267940E+03,\n",
    "    3.1075408980684392399E+04, 1.0577068948034021957E+05,\n",
    "    1.7398867902565686251E+05, 1.5097646353289914539E+05,\n",
    "    7.1557062783764037541E+04, 1.8321525870183537725E+04,\n",
    "    2.3444738764199315021E+03, 1.1600249425076035558E+02\n",
    "]\n",
    "\n",
    "QQ = [\n",
    "    2.0013443064949242491E+02, 4.4329628889746408858E+03,\n",
    "    3.1474655750295278825E+04, 9.7418829762268075784E+04,\n",
    "    1.5144644673520157801E+05, 1.2689839587977598727E+05,\n",
    "    5.8824616785857027752E+04, 1.4847228371802360957E+04,\n",
    "    1.8821890840982713696E+03, 9.2556599177304839811E+01\n",
    "]"
   ]
  },
  {
   "cell_type": "code",
   "execution_count": 142,
   "id": "23517d20-7296-4f92-b2a6-8f34b64e265c",
   "metadata": {},
   "outputs": [],
   "source": [
    "QS = np.array2string(np.array(QQ), precision=18)"
   ]
  },
  {
   "cell_type": "code",
   "execution_count": 143,
   "id": "d88d488f-1795-472b-aa2a-dd5b83406dad",
   "metadata": {},
   "outputs": [
    {
     "data": {
      "text/plain": [
       "'[2.0013443064949243e+02 4.4329628889746409e+03 3.1474655750295278e+04\\n 9.7418829762268069e+04 1.5144644673520158e+05 1.2689839587977598e+05\\n 5.8824616785857026e+04 1.4847228371802361e+04 1.8821890840982715e+03\\n 9.2556599177304847e+01]'"
      ]
     },
     "execution_count": 143,
     "metadata": {},
     "output_type": "execute_result"
    }
   ],
   "source": [
    "QS"
   ]
  },
  {
   "cell_type": "code",
   "execution_count": 175,
   "id": "d778407a-07c3-4aa8-a2c1-2051f65f4694",
   "metadata": {},
   "outputs": [
    {
     "data": {
      "text/plain": [
       "mpf('304839.21975093969')"
      ]
     },
     "execution_count": 175,
     "metadata": {},
     "output_type": "execute_result"
    }
   ],
   "source": [
    "XX = 1 / x\n",
    "\n",
    "sump = PP[0]\n",
    "for k in range(1, 10):\n",
    "    sump = sump * XX + PP[k]\n",
    "\n",
    "sumq = XX\n",
    "ss = 't'\n",
    "for k in range(8):\n",
    "    ss = f'({ss} + Q[{k}]) * t'\n",
    "    # sumq = (sumq + QQ[k]) * XX\n",
    "\n",
    "sumq = sumq + QQ[-1]\n",
    "\n",
    "sump / sumq / sqrt(x)"
   ]
  },
  {
   "cell_type": "code",
   "execution_count": 176,
   "id": "ae5533ea-0cc6-458d-a494-d2c383f79ea7",
   "metadata": {},
   "outputs": [
    {
     "data": {
      "text/plain": [
       "'((((((((t + Q[0]) * t + Q[1]) * t + Q[2]) * t + Q[3]) * t + Q[4]) * t + Q[5]) * t + Q[6]) * t + Q[7]) * t'"
      ]
     },
     "execution_count": 176,
     "metadata": {},
     "output_type": "execute_result"
    }
   ],
   "source": [
    "ss"
   ]
  },
  {
   "cell_type": "code",
   "execution_count": 148,
   "id": "58f3e867-a633-4f7a-a06e-b58f46605e5b",
   "metadata": {},
   "outputs": [
    {
     "ename": "NameError",
     "evalue": "name 't' is not defined",
     "output_type": "error",
     "traceback": [
      "\u001b[0;31m---------------------------------------------------------------------------\u001b[0m",
      "\u001b[0;31mNameError\u001b[0m                                 Traceback (most recent call last)",
      "Cell \u001b[0;32mIn[148], line 1\u001b[0m\n\u001b[0;32m----> 1\u001b[0m (((((\u001b[43mt\u001b[49m \u001b[38;5;241m+\u001b[39m QQ[\u001b[38;5;241m0\u001b[39m]) \u001b[38;5;241m*\u001b[39m t \u001b[38;5;241m+\u001b[39m QQ[\u001b[38;5;241m1\u001b[39m]) \u001b[38;5;241m*\u001b[39m t \u001b[38;5;241m+\u001b[39m QQ[\u001b[38;5;241m2\u001b[39m]) \u001b[38;5;241m*\u001b[39m t \u001b[38;5;241m+\u001b[39m Q[\u001b[38;5;241m3\u001b[39m]) \u001b[38;5;241m*\u001b[39m t)\n",
      "\u001b[0;31mNameError\u001b[0m: name 't' is not defined"
     ]
    }
   ],
   "source": [
    "(((((t + QQ[0]) * t + QQ[1]) * t + QQ[2]) * t + Q[3]) * t)"
   ]
  },
  {
   "cell_type": "code",
   "execution_count": 113,
   "id": "2081444e-6e3a-48d5-9241-248180842809",
   "metadata": {},
   "outputs": [],
   "source": [
    "def unroll10(v, x):\n",
    "    return ((((((((v[9] * x + v[8]) * x + v[7]) * x + v[6]) * x + v[5]) * x + \n",
    "    v[4]) * x + v[3]) * x + v[2]) * x + v[1]) * x + v[0]\n",
    "\n",
    "def unroll9(v, x):\n",
    "    return (((((((v[8] * x + v[7]) * x + v[6]) * x + v[5]) * x + v[4]) * x + \n",
    "    v[3]) * x + v[2]) * x + v[1]) * x + v[0]"
   ]
  },
  {
   "cell_type": "code",
   "execution_count": 111,
   "id": "c920ad0f-2960-4662-aad6-c7f0a70a64e3",
   "metadata": {},
   "outputs": [
    {
     "data": {
      "text/plain": [
       "(14698.124167932649, 12238.728153834812)"
      ]
     },
     "execution_count": 111,
     "metadata": {},
     "output_type": "execute_result"
    }
   ],
   "source": [
    "sump, sumq"
   ]
  },
  {
   "cell_type": "code",
   "execution_count": 129,
   "id": "f4baf292-7f92-446f-86e4-b4a4247c3403",
   "metadata": {},
   "outputs": [
    {
     "data": {
      "text/plain": [
       "[116.00249425076035,\n",
       " 2344.4738764199315,\n",
       " 18321.525870183537,\n",
       " 71557.06278376403,\n",
       " 150976.46353289916,\n",
       " 173988.67902565686,\n",
       " 105770.68948034022,\n",
       " 31075.40898068439,\n",
       " 3683.258995734027,\n",
       " 113.94980557384778]"
      ]
     },
     "execution_count": 129,
     "metadata": {},
     "output_type": "execute_result"
    }
   ],
   "source": [
    "PP[::-1]"
   ]
  },
  {
   "cell_type": "code",
   "execution_count": 128,
   "id": "6cb40beb-4484-4f19-b37a-ec464c316bd5",
   "metadata": {},
   "outputs": [
    {
     "data": {
      "text/plain": [
       "(14698.124167932649, 12239.128048977213)"
      ]
     },
     "execution_count": 128,
     "metadata": {},
     "output_type": "execute_result"
    }
   ],
   "source": [
    "unroll10(PP[::-1], XX), unroll10(QQ[::-1], XX) + XX"
   ]
  },
  {
   "cell_type": "code",
   "execution_count": 110,
   "id": "eb701e47-5b8a-41d6-97fb-b3170855b33f",
   "metadata": {},
   "outputs": [
    {
     "data": {
      "text/plain": [
       "'[1.1600249425076035e+02 2.3444738764199315e+03 1.8321525870183537e+04\\n 7.1557062783764035e+04 1.5097646353289916e+05 1.7398867902565686e+05\\n 1.0577068948034022e+05 3.1075408980684391e+04 3.6832589957340269e+03\\n 1.1394980557384778e+02]'"
      ]
     },
     "execution_count": 110,
     "metadata": {},
     "output_type": "execute_result"
    }
   ],
   "source": [
    "np.array2string(np.array(PP[::-1]), precision=16)"
   ]
  },
  {
   "cell_type": "code",
   "execution_count": null,
   "id": "aec13ca9-e8fa-4cad-a9a2-7b0a68c4271a",
   "metadata": {},
   "outputs": [],
   "source": []
  }
 ],
 "metadata": {
  "kernelspec": {
   "display_name": "Python 3 (ipykernel)",
   "language": "python",
   "name": "python3"
  },
  "language_info": {
   "codemirror_mode": {
    "name": "ipython",
    "version": 3
   },
   "file_extension": ".py",
   "mimetype": "text/x-python",
   "name": "python",
   "nbconvert_exporter": "python",
   "pygments_lexer": "ipython3",
   "version": "3.9.12"
  }
 },
 "nbformat": 4,
 "nbformat_minor": 5
}
