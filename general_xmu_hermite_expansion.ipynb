{
 "cells": [
  {
   "cell_type": "code",
   "execution_count": 1,
   "id": "3877f40b-a92c-441a-9510-cd3647e58066",
   "metadata": {},
   "outputs": [],
   "source": [
    "import mpmath as mp\n",
    "\n",
    "from code.python.mpmath_integration import quad_phi"
   ]
  },
  {
   "cell_type": "code",
   "execution_count": 251,
   "id": "59a2d4a5-ff78-4163-83e4-112baa9d1922",
   "metadata": {},
   "outputs": [],
   "source": [
    "x = mp.mpf('3')\n",
    "alpha = mp.mpf('5')\n",
    "beta = mp.mpf('1/2')\n",
    "mu = mp.mpf('1')\n",
    "delta = mp.mpf('4')\n",
    "\n",
    "xmu = x - mu\n",
    "\n",
    "gamma = mp.sqrt(alpha ** 2 - beta ** 2)\n",
    "omega = mp.sqrt(xmu ** 2 + delta ** 2)"
   ]
  },
  {
   "cell_type": "markdown",
   "id": "e9c8a300-bab5-4285-8fe1-ac9fddb423b3",
   "metadata": {},
   "source": [
    "### 1. Expansion a -> 0"
   ]
  },
  {
   "cell_type": "code",
   "execution_count": 252,
   "id": "06701725-f732-4df5-9979-b7f97e5fd00b",
   "metadata": {},
   "outputs": [],
   "source": [
    "a = x-mu\n",
    "b = -beta"
   ]
  },
  {
   "cell_type": "code",
   "execution_count": 119,
   "id": "6daf41f8-99c2-4c1d-a977-bdfd6bcadafe",
   "metadata": {},
   "outputs": [],
   "source": [
    "def normcdf(x):\n",
    "    return mp.erfc(-x / mp.sqrt(mp.mpf('2'))) / mp.mpf('2')"
   ]
  },
  {
   "cell_type": "code",
   "execution_count": 120,
   "id": "4a2dbd16-9839-4f1f-bdaf-c97a6ebbe8ef",
   "metadata": {},
   "outputs": [
    {
     "data": {
      "text/plain": [
       "mpf('0.3445782583896758332631193239780179606992522743091937018131776106255297646403867195404139332445104985206')"
      ]
     },
     "execution_count": 120,
     "metadata": {},
     "output_type": "execute_result"
    }
   ],
   "source": [
    "t = 1\n",
    "\n",
    "normcdf(a / mp.sqrt(t) + b * mp.sqrt(t))"
   ]
  },
  {
   "cell_type": "code",
   "execution_count": 121,
   "id": "47c0b426-1a09-4ccd-9c35-f9c67efa14e4",
   "metadata": {},
   "outputs": [
    {
     "data": {
      "text/plain": [
       "mpf('0.3085375387259868963622953893916622601163978244454220631792238573208442045937204559747589399537550800944')"
      ]
     },
     "execution_count": 121,
     "metadata": {},
     "output_type": "execute_result"
    }
   ],
   "source": [
    "normcdf(b * mp.sqrt(t))"
   ]
  },
  {
   "cell_type": "code",
   "execution_count": 122,
   "id": "b80da3f8-eeec-4733-a673-950f3de4c2c9",
   "metadata": {},
   "outputs": [],
   "source": [
    "A = mp.exp(-b**2/2 * t) / mp.sqrt(2*mp.pi) / mp.sqrt(t)"
   ]
  },
  {
   "cell_type": "code",
   "execution_count": 123,
   "id": "e88220dd-8189-451c-9801-7e352b761368",
   "metadata": {},
   "outputs": [
    {
     "data": {
      "text/plain": [
       "mpf('0.344578258425790132005014849032996501820701629426797153394846435765077449213588599427492802564101301052')"
      ]
     },
     "execution_count": 123,
     "metadata": {},
     "output_type": "execute_result"
    }
   ],
   "source": [
    "s1 =  a\n",
    "s2 = -a**2 * b / 2\n",
    "s3 =  a**3 * (b**2 * t - 1) / t / 6\n",
    "s4 = -a**4 * (b**3 * t - 3 * b) / t / 24\n",
    "s5 =  a**5 * (b**4 * t**2 - 6 * b**2 * t + 3) / t**2 / 120\n",
    "s6 = -a**6 * (b**5 * t**2 - 10 * b**3 * t + 15 * b) / t**2 / 720\n",
    "\n",
    "S = s1 + s2 + s3 + s4 + s5 + s6\n",
    "\n",
    "normcdf(b * mp.sqrt(t)) + A * S"
   ]
  },
  {
   "cell_type": "code",
   "execution_count": 124,
   "id": "9f920a59-d58c-4c69-9717-9efd7f4f3833",
   "metadata": {},
   "outputs": [
    {
     "data": {
      "text/plain": [
       "(mpf('0.1000000000000000000000000000000000000000000000000000000000000000000000000000000000000000000000000000002'),\n",
       " mpf('0.002499999999999999999999999999999999999999999999999999999999999999999999999999999999999999999999999999999'),\n",
       " mpf('-0.0001250000000000000000000000000000000000000000000000000000000000000000000000000000000000000000000000000003'),\n",
       " mpf('-0.000005729166666666666666666666666666666666666666666666666666666666666666666666666666666666666666666666666716'),\n",
       " mpf('0.0000001302083333333333333333333333333333333333333333333333333333333333333333333333333333333333333333333333331'),\n",
       " mpf('0.000000008723958333333333333333333333333333333333333333333333333333333333333333333333333333333333333333333333452'))"
      ]
     },
     "execution_count": 124,
     "metadata": {},
     "output_type": "execute_result"
    }
   ],
   "source": [
    "s1, s2, s3, s4, s5, s6"
   ]
  },
  {
   "cell_type": "code",
   "execution_count": 125,
   "id": "bc6c64ec-2672-4343-9850-b14a8962e8e4",
   "metadata": {},
   "outputs": [
    {
     "name": "stdout",
     "output_type": "stream",
     "text": [
      "1 -0.5 -0.75 1.375 1.5625 -6.28125\n"
     ]
    }
   ],
   "source": [
    "print(\n",
    "    1,\n",
    "    b,\n",
    "    (b**2 * t - 1) / t,\n",
    "    (b**3 * t - 3 * b) / t,\n",
    "    (b**4 * t**2 - 6 * b**2 * t + 3) / t**2,\n",
    "    (b**5 * t**2 - 10 * b**3 * t + 15 * b) / t**2\n",
    ")"
   ]
  },
  {
   "cell_type": "code",
   "execution_count": 126,
   "id": "00b6f58a-0657-4ab8-b96f-5ecd6a10801f",
   "metadata": {},
   "outputs": [],
   "source": [
    "def P(k, t, b):\n",
    "    s = 0\n",
    "    for m in range(int(mp.floor(k/2)) + 1):\n",
    "        s += (-1) ** m / mp.factorial(m) / mp.factorial(k - 2 * m) * b ** (k - 2*m) / 2 ** m / t ** m\n",
    "\n",
    "    return mp.factorial(k) * s"
   ]
  },
  {
   "cell_type": "code",
   "execution_count": 127,
   "id": "64c368dd-7543-4a38-b3da-a394a19e9219",
   "metadata": {},
   "outputs": [
    {
     "data": {
      "text/plain": [
       "mpf('1.0')"
      ]
     },
     "execution_count": 127,
     "metadata": {},
     "output_type": "execute_result"
    }
   ],
   "source": [
    "k = 0\n",
    "P(k, t, b)"
   ]
  },
  {
   "cell_type": "code",
   "execution_count": 128,
   "id": "799e9ab2-66a9-4a35-85f6-e7d4189a4d41",
   "metadata": {},
   "outputs": [
    {
     "data": {
      "text/plain": [
       "mpf('0.3445782583896726633126213841818708057364352384490663015586898866174163079066697746384902353138139675133')"
      ]
     },
     "execution_count": 128,
     "metadata": {},
     "output_type": "execute_result"
    }
   ],
   "source": [
    "K = 10\n",
    "S = 0\n",
    "for k in range(1, K):\n",
    "    S += (-1) ** (k + 1) * a ** k / mp.factorial(k) * P(k-1, t, b)\n",
    "\n",
    "normcdf(b * mp.sqrt(t)) + A * S"
   ]
  },
  {
   "cell_type": "markdown",
   "id": "d00f05f3-bec7-4b05-88e4-4ee7e0469578",
   "metadata": {},
   "source": [
    "Hermite probabilistic"
   ]
  },
  {
   "cell_type": "code",
   "execution_count": 14,
   "id": "5e7da221-de44-481f-b839-0f0688b0e9c9",
   "metadata": {},
   "outputs": [],
   "source": [
    "def hermite_prob(k, z):\n",
    "    s = 0\n",
    "    for m in range(int(mp.floor(k/2)) + 1):\n",
    "        s += (-1) ** m / mp.factorial(m) / mp.factorial(k - 2 * m) * z ** (k - 2*m) / 2 ** m\n",
    "\n",
    "    return mp.factorial(k) * s    "
   ]
  },
  {
   "cell_type": "code",
   "execution_count": 15,
   "id": "0cb93d30-dd66-4908-bfc8-9d2ec39773e4",
   "metadata": {},
   "outputs": [
    {
     "data": {
      "text/plain": [
       "mpf('1215.9999999999998')"
      ]
     },
     "execution_count": 15,
     "metadata": {},
     "output_type": "execute_result"
    }
   ],
   "source": [
    "k = 10\n",
    "\n",
    "P(k, t, b)"
   ]
  },
  {
   "cell_type": "code",
   "execution_count": 16,
   "id": "85496b00-afe0-493f-a04e-70ac3cab2799",
   "metadata": {},
   "outputs": [
    {
     "data": {
      "text/plain": [
       "mpf('1215.9999999999998')"
      ]
     },
     "execution_count": 16,
     "metadata": {},
     "output_type": "execute_result"
    }
   ],
   "source": [
    "hermite_prob(k, b * mp.sqrt(t)) / t ** (k / 2)"
   ]
  },
  {
   "cell_type": "code",
   "execution_count": 17,
   "id": "471edab7-75ea-4038-9254-bfa269a92fe7",
   "metadata": {},
   "outputs": [
    {
     "data": {
      "text/plain": [
       "mpf('1216.0')"
      ]
     },
     "execution_count": 17,
     "metadata": {},
     "output_type": "execute_result"
    }
   ],
   "source": [
    "mp.hermite(k, b * mp.sqrt(t / 2)) / (2 * t) ** (k / 2)"
   ]
  },
  {
   "cell_type": "code",
   "execution_count": 18,
   "id": "18cb2b7c-163f-49a4-800c-46c395558581",
   "metadata": {},
   "outputs": [
    {
     "data": {
      "text/plain": [
       "mpf('0.22662735237686826')"
      ]
     },
     "execution_count": 18,
     "metadata": {},
     "output_type": "execute_result"
    }
   ],
   "source": [
    "K = 40\n",
    "S = 0\n",
    "for k in range(1, K):\n",
    "    S += (-1) ** (k + 1) * a ** k / mp.factorial(k) * mp.hermite(k-1, b * mp.sqrt(t / 2)) / (2 * t) ** ((k-1) / 2)\n",
    "\n",
    "normcdf(b * mp.sqrt(t)) + A * S"
   ]
  },
  {
   "cell_type": "code",
   "execution_count": 19,
   "id": "c545150a-e171-43da-83b7-225d291ae020",
   "metadata": {},
   "outputs": [
    {
     "data": {
      "text/plain": [
       "mpf('0.22662735237686826')"
      ]
     },
     "execution_count": 19,
     "metadata": {},
     "output_type": "execute_result"
    }
   ],
   "source": [
    "K = 40\n",
    "S = 0\n",
    "for k in range(K):\n",
    "    S += (-1) ** k * a ** (k + 1) / mp.factorial(k + 1) * mp.hermite(k, b * mp.sqrt(t / 2)) / (2 * t) ** (k / 2)\n",
    "\n",
    "normcdf(b * mp.sqrt(t)) + A * S"
   ]
  },
  {
   "cell_type": "markdown",
   "id": "9685564d-1537-44c6-9781-59dd5882fe8c",
   "metadata": {},
   "source": [
    "### 2. Expansion"
   ]
  },
  {
   "cell_type": "code",
   "execution_count": 256,
   "id": "b53c1183-6138-4620-9fca-dcc90f77cbbd",
   "metadata": {},
   "outputs": [
    {
     "data": {
      "text/plain": [
       "mpf('0.9599775405494657360087526092654300842676567924404618741762742877734998432533542621944042950278597682396')"
      ]
     },
     "execution_count": 256,
     "metadata": {},
     "output_type": "execute_result"
    }
   ],
   "source": [
    "mp_result = quad_phi(x, alpha, beta, mu, delta, digits=100)\n",
    "mp_result"
   ]
  },
  {
   "cell_type": "code",
   "execution_count": 21,
   "id": "e551042b-7fa3-4339-8cde-0100047e41ca",
   "metadata": {},
   "outputs": [
    {
     "data": {
      "text/plain": [
       "mpf('0.10695839610478352')"
      ]
     },
     "execution_count": 21,
     "metadata": {},
     "output_type": "execute_result"
    }
   ],
   "source": [
    "quad_phi(mu, alpha, beta, mu, delta, digits=100)"
   ]
  },
  {
   "cell_type": "code",
   "execution_count": 22,
   "id": "d74b43cb-cb84-4cb7-91e7-e53db8a164db",
   "metadata": {},
   "outputs": [],
   "source": [
    "C = delta * mp.exp(delta * gamma) / (2 * mp.pi)"
   ]
  },
  {
   "cell_type": "code",
   "execution_count": 23,
   "id": "b132b9c7-386d-4fe3-b8d0-adf9e403a92f",
   "metadata": {},
   "outputs": [
    {
     "data": {
      "text/plain": [
       "mpf('0.04347641340394729569951899595427667702656381936911577126182501627550004390562570760561472695291864090097')"
      ]
     },
     "execution_count": 23,
     "metadata": {},
     "output_type": "execute_result"
    }
   ],
   "source": [
    "mp.mp.dps = 100\n",
    "\n",
    "N = 50\n",
    "s = 0\n",
    "for k in range(N):\n",
    "    r = (-1) ** k * xmu ** (k + 1) / mp.factorial(k + 1) / 2 ** (k / 2)\n",
    "    q = mp.quad(lambda t: t ** (-k/2 - 2) * mp.hermite(k, b * mp.sqrt(t / 2)) * mp.exp(-delta ** 2 / 2 / t - alpha ** 2 / 2 * t), [0, mp.inf])\n",
    "    s += r * q\n",
    "\n",
    "C * s"
   ]
  },
  {
   "cell_type": "code",
   "execution_count": 24,
   "id": "fa94eaf7-b820-48bc-8914-a4a98ec7da7a",
   "metadata": {},
   "outputs": [],
   "source": [
    "r1 = quad_phi(mu, alpha, beta, mu, delta, digits=100) + C * s"
   ]
  },
  {
   "cell_type": "code",
   "execution_count": 25,
   "id": "b8e06578-1a66-43a5-81d6-e53c8e16b98e",
   "metadata": {},
   "outputs": [
    {
     "data": {
      "text/plain": [
       "(mpf('0.1504348095087308141162842752414471180429115980940278954755316183925193301234076023129822373200153345192'),\n",
       " mpf('0.1504348095087308052347107896333173618777248414806567845400163882616454210282536197036370400375892072737'))"
      ]
     },
     "execution_count": 25,
     "metadata": {},
     "output_type": "execute_result"
    }
   ],
   "source": [
    "r1, mp_result"
   ]
  },
  {
   "cell_type": "markdown",
   "id": "b9eb3416-c702-42bd-a777-3c8e03bf8bb0",
   "metadata": {
    "jp-MarkdownHeadingCollapsed": true
   },
   "source": [
    "##### Coefficients recursion"
   ]
  },
  {
   "cell_type": "markdown",
   "id": "4396f337-cc96-49bc-949f-81ad4d18ea68",
   "metadata": {},
   "source": [
    "Ik+1"
   ]
  },
  {
   "cell_type": "code",
   "execution_count": null,
   "id": "c83af3b5-011b-4875-8116-2ff111d4d133",
   "metadata": {},
   "outputs": [],
   "source": [
    "k = 1\n",
    "mp.quad(lambda t: t ** (-(k+1)/2 - 2) * mp.hermite(k+1, b * mp.sqrt(t / 2)) * mp.exp(-delta ** 2 / 2 / t - alpha ** 2 / 2 * t), [0, mp.inf])"
   ]
  },
  {
   "cell_type": "code",
   "execution_count": null,
   "id": "6ec841af-8c84-4ad2-84ee-a224c0df94b2",
   "metadata": {},
   "outputs": [],
   "source": [
    "mp.quad(lambda t: t ** (-(k+1)/2 - 2) * (2 * b * mp.sqrt(t / 2) * mp.hermite(k, b * mp.sqrt(t / 2)) -2*k *  mp.hermite(k-1, b * mp.sqrt(t / 2)))  * mp.exp(-delta ** 2 / 2 / t - alpha ** 2 / 2 * t), [0, mp.inf])"
   ]
  },
  {
   "cell_type": "markdown",
   "id": "176d2bfa-c5e7-4aac-b7be-057647a59b60",
   "metadata": {},
   "source": [
    "Ik"
   ]
  },
  {
   "cell_type": "code",
   "execution_count": null,
   "id": "5495d1ea-06ec-4035-abc6-f52b0de37f5e",
   "metadata": {},
   "outputs": [],
   "source": [
    "Ik = mp.quad(lambda t: t ** (-k/2 - 2) * mp.hermite(k, b * mp.sqrt(t / 2)) * mp.exp(-delta ** 2 / 2 / t - alpha ** 2 / 2 * t), [0, mp.inf])\n",
    "Ik, Ik * b * mp.sqrt(2)"
   ]
  },
  {
   "cell_type": "markdown",
   "id": "c479ccb8-d26c-4a29-80fe-05790c751694",
   "metadata": {},
   "source": [
    "Ik-1"
   ]
  },
  {
   "cell_type": "code",
   "execution_count": null,
   "id": "41d9a91f-9767-4ea7-b5b3-806433b978e0",
   "metadata": {},
   "outputs": [],
   "source": [
    "-2*k * mp.quad(lambda t: t ** (-(k+1)/2 - 2) * (mp.hermite(k-1, b * mp.sqrt(t / 2)))  * mp.exp(-delta ** 2 / 2 / t - alpha ** 2 / 2 * t), [0, mp.inf])"
   ]
  },
  {
   "cell_type": "code",
   "execution_count": null,
   "id": "3fa12cc9-be1c-4953-93db-6a8870ec4845",
   "metadata": {},
   "outputs": [],
   "source": [
    "mp.quad(lambda t: t ** (-(k+1)/2 - 2) * (mp.hermite(k-1, b * mp.sqrt(t / 2)))  * mp.exp(-delta ** 2 / 2 / t - alpha ** 2 / 2 * t), [0, mp.inf])"
   ]
  },
  {
   "cell_type": "code",
   "execution_count": null,
   "id": "a3b1053a-bed6-4f03-88fb-8817310804a2",
   "metadata": {},
   "outputs": [],
   "source": [
    "z = alpha ** 2 / 2\n",
    "r = delta / alpha"
   ]
  },
  {
   "cell_type": "code",
   "execution_count": null,
   "id": "8efe9aca-646d-4247-b738-a7a7e5de74f8",
   "metadata": {},
   "outputs": [],
   "source": [
    "I11 = mp.quad(lambda t: t ** (-(k+1)/2 - 2 + 2) * (mp.hermite(k-1, b * mp.sqrt(t / 2)))  * mp.exp(-z * (t + r ** 2 / t)), [0, mp.inf])"
   ]
  },
  {
   "cell_type": "code",
   "execution_count": null,
   "id": "7b67c9cc-ec7d-49d1-919a-15d846b90d7b",
   "metadata": {},
   "outputs": [],
   "source": [
    "I12 = mp.quad(lambda t: t ** (-(k+1)/2 - 2 + 2) * (mp.hermite(k-1, b * mp.sqrt(t / 2))) * 1/z * z * (r**2/t**2 - 1) * mp.exp(-z * (t + r ** 2 / t)), [0, mp.inf])"
   ]
  },
  {
   "cell_type": "code",
   "execution_count": null,
   "id": "52a8e318-8507-462f-a27b-0e8d501980c2",
   "metadata": {},
   "outputs": [],
   "source": [
    "(I11 + I12) / r ** 2"
   ]
  },
  {
   "cell_type": "code",
   "execution_count": null,
   "id": "e78ae1ae-c667-441a-9dbd-6a6896a5ed65",
   "metadata": {},
   "outputs": [],
   "source": [
    "I11, I12"
   ]
  },
  {
   "cell_type": "code",
   "execution_count": null,
   "id": "9f7fd0bd-d02c-401b-81bb-3d0eb6e932ec",
   "metadata": {},
   "outputs": [],
   "source": [
    "mp.quad(lambda t: t ** (-k/2 + 3/2 - 2) * (mp.hermite(k-1, b * mp.sqrt(t / 2)))  * mp.exp(-z * (t + r ** 2 / t)), [0, mp.inf])"
   ]
  },
  {
   "cell_type": "markdown",
   "id": "675f55e7-0ae1-402f-98c1-0b4bf1552f33",
   "metadata": {},
   "source": [
    "##### Coefficient finite series"
   ]
  },
  {
   "cell_type": "code",
   "execution_count": null,
   "id": "50d0eb7d-db79-4d31-916f-3f063c61a25b",
   "metadata": {},
   "outputs": [],
   "source": [
    "k = 3\n",
    "mp.quad(lambda t: t ** (-k/2 - 2) * mp.hermite(k, b * mp.sqrt(t / 2)) * mp.exp(-delta ** 2 / 2 / t - alpha ** 2 / 2 * t), [0, mp.inf])"
   ]
  },
  {
   "cell_type": "code",
   "execution_count": null,
   "id": "2b54b883-91af-47ae-b646-13c85bc11ece",
   "metadata": {},
   "outputs": [],
   "source": [
    "s = 0\n",
    "for j in range(int(mp.floor(k/2)) + 1):\n",
    "    s += (-1) ** j / mp.factorial(j) / mp.factorial(k - 2 * j) * (alpha / delta / beta ** 2 / 2) ** j * mp.besselk(j+1, alpha * delta)\n",
    "\n",
    "2 * mp.factorial(k) * s * (alpha / delta) * (b * mp.sqrt(2)) ** k "
   ]
  },
  {
   "cell_type": "code",
   "execution_count": null,
   "id": "129adace-31ab-4a81-a3e0-4b51927d8740",
   "metadata": {},
   "outputs": [],
   "source": [
    "j = 4\n",
    "mp.quad(lambda t: t ** (-j - 2) * mp.exp(-delta ** 2 / 2 / t - alpha ** 2 / 2 * t), [0, mp.inf])"
   ]
  },
  {
   "cell_type": "code",
   "execution_count": null,
   "id": "ddb05e44-b1a0-4598-aae9-703b7ec0a114",
   "metadata": {},
   "outputs": [],
   "source": [
    "2 * (alpha / delta) ** (j + 1) * mp.besselk(j+1, alpha * delta)"
   ]
  },
  {
   "cell_type": "markdown",
   "id": "67756776-a64a-4524-a17f-306dcc12c8fb",
   "metadata": {},
   "source": [
    "#### Final expansion"
   ]
  },
  {
   "cell_type": "code",
   "execution_count": 282,
   "id": "47d4dcef-d0b7-4103-9546-a4f8c33c3524",
   "metadata": {},
   "outputs": [],
   "source": [
    "N = 66"
   ]
  },
  {
   "cell_type": "code",
   "execution_count": 283,
   "id": "5bb82e00-7ac0-4b99-a808-f3ca6837dd0e",
   "metadata": {},
   "outputs": [],
   "source": [
    "def Ak(k):\n",
    "    s = 0\n",
    "    for j in range(int(mp.floor(k/2)) + 1):\n",
    "        s += (-1) ** j / mp.factorial(j) / mp.factorial(k - 2 * j) * (alpha / 2 / delta / beta ** 2) ** j * mp.besselk(j+1, alpha * delta)\n",
    "    return s"
   ]
  },
  {
   "cell_type": "code",
   "execution_count": 284,
   "id": "00ad24f8-a330-4829-8516-68646f9ce777",
   "metadata": {},
   "outputs": [
    {
     "data": {
      "text/plain": [
       "mpf('0.9599775405494658225921218489771005650012090018135787408930835607933424531844137210166518493466611648064')"
      ]
     },
     "execution_count": 284,
     "metadata": {},
     "output_type": "execute_result"
    }
   ],
   "source": [
    "s = 0\n",
    "for k in range(N):\n",
    "    s += (beta * (x-mu)) ** k / (k + 1) * Ak(k)\n",
    "\n",
    "quad_phi(mu, alpha, beta, mu, delta, digits=100) + mp.exp(delta * gamma) * (x-mu) * alpha / mp.pi * s "
   ]
  },
  {
   "cell_type": "code",
   "execution_count": 285,
   "id": "226102f0-6387-46e2-a73e-fd7ca1ab6cf3",
   "metadata": {},
   "outputs": [],
   "source": [
    "r2 = quad_phi(mu, alpha, beta, mu, delta, digits=100) + mp.exp(delta * gamma) * (x-mu) * alpha / mp.pi * s "
   ]
  },
  {
   "cell_type": "code",
   "execution_count": 286,
   "id": "4c6c454b-3caa-41be-9592-bcf3787ff8c7",
   "metadata": {},
   "outputs": [
    {
     "data": {
      "text/plain": [
       "(mpf('0.9599775405494658225921218489771005650012090018135787408930835607933424531844137210166518493466611648064'),\n",
       " mpf('0.9599775405494657360087526092654300842676567924404618741762742877734998432533542621944042950278597682396'))"
      ]
     },
     "execution_count": 286,
     "metadata": {},
     "output_type": "execute_result"
    }
   ],
   "source": [
    "r2, mp_result"
   ]
  },
  {
   "cell_type": "code",
   "execution_count": 287,
   "id": "0b2faa4e-14d3-4701-ba3b-d5877d9369da",
   "metadata": {},
   "outputs": [
    {
     "data": {
      "text/plain": [
       "9.01931197162734e-17"
      ]
     },
     "execution_count": 287,
     "metadata": {},
     "output_type": "execute_result"
    }
   ],
   "source": [
    "float(abs(r2 / mp_result - 1))"
   ]
  },
  {
   "cell_type": "code",
   "execution_count": null,
   "id": "ade82dd7-042f-45d4-8209-6e1aff957134",
   "metadata": {},
   "outputs": [],
   "source": []
  }
 ],
 "metadata": {
  "kernelspec": {
   "display_name": "Python 3 (ipykernel)",
   "language": "python",
   "name": "python3"
  },
  "language_info": {
   "codemirror_mode": {
    "name": "ipython",
    "version": 3
   },
   "file_extension": ".py",
   "mimetype": "text/x-python",
   "name": "python",
   "nbconvert_exporter": "python",
   "pygments_lexer": "ipython3",
   "version": "3.12.7"
  }
 },
 "nbformat": 4,
 "nbformat_minor": 5
}
