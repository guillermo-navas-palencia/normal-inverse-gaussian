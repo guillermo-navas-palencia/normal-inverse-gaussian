{
 "cells": [
  {
   "cell_type": "code",
   "execution_count": 1,
   "id": "3877f40b-a92c-441a-9510-cd3647e58066",
   "metadata": {},
   "outputs": [],
   "source": [
    "import mpmath as mp\n",
    "\n",
    "from code.python.mpmath_integration import quad_phi"
   ]
  },
  {
   "cell_type": "code",
   "execution_count": 2,
   "id": "59a2d4a5-ff78-4163-83e4-112baa9d1922",
   "metadata": {},
   "outputs": [],
   "source": [
    "x = mp.mpf('1/2')\n",
    "alpha = mp.mpf('4')\n",
    "beta = mp.mpf('3')\n",
    "mu = mp.mpf('1/4')\n",
    "delta = mp.mpf('1')\n",
    "\n",
    "xmu = x - mu\n",
    "\n",
    "gamma = mp.sqrt(alpha ** 2 - beta ** 2)\n",
    "omega = mp.sqrt(xmu ** 2 + delta ** 2)"
   ]
  },
  {
   "cell_type": "markdown",
   "id": "e9c8a300-bab5-4285-8fe1-ac9fddb423b3",
   "metadata": {},
   "source": [
    "### 1. Expansion a -> 0"
   ]
  },
  {
   "cell_type": "code",
   "execution_count": 3,
   "id": "06701725-f732-4df5-9979-b7f97e5fd00b",
   "metadata": {},
   "outputs": [],
   "source": [
    "a = x-mu\n",
    "b = -beta"
   ]
  },
  {
   "cell_type": "code",
   "execution_count": 4,
   "id": "6daf41f8-99c2-4c1d-a977-bdfd6bcadafe",
   "metadata": {},
   "outputs": [],
   "source": [
    "def normcdf(x):\n",
    "    return mp.erfc(-x / mp.sqrt(mp.mpf('2'))) / mp.mpf('2')"
   ]
  },
  {
   "cell_type": "code",
   "execution_count": 5,
   "id": "4a2dbd16-9839-4f1f-bdaf-c97a6ebbe8ef",
   "metadata": {},
   "outputs": [
    {
     "data": {
      "text/plain": [
       "mpf('0.0029797632350545577')"
      ]
     },
     "execution_count": 5,
     "metadata": {},
     "output_type": "execute_result"
    }
   ],
   "source": [
    "t = 1\n",
    "\n",
    "normcdf(a / mp.sqrt(t) + b * mp.sqrt(t))"
   ]
  },
  {
   "cell_type": "code",
   "execution_count": 6,
   "id": "47c0b426-1a09-4ccd-9c35-f9c67efa14e4",
   "metadata": {},
   "outputs": [
    {
     "data": {
      "text/plain": [
       "mpf('0.0013498980316300957')"
      ]
     },
     "execution_count": 6,
     "metadata": {},
     "output_type": "execute_result"
    }
   ],
   "source": [
    "normcdf(b * mp.sqrt(t))"
   ]
  },
  {
   "cell_type": "code",
   "execution_count": 7,
   "id": "b80da3f8-eeec-4733-a673-950f3de4c2c9",
   "metadata": {},
   "outputs": [],
   "source": [
    "A = mp.exp(-b**2/2 * t) / mp.sqrt(2*mp.pi) / mp.sqrt(t)"
   ]
  },
  {
   "cell_type": "code",
   "execution_count": 8,
   "id": "e88220dd-8189-451c-9801-7e352b761368",
   "metadata": {},
   "outputs": [
    {
     "data": {
      "text/plain": [
       "mpf('0.0029797690734740699')"
      ]
     },
     "execution_count": 8,
     "metadata": {},
     "output_type": "execute_result"
    }
   ],
   "source": [
    "s1 =  a\n",
    "s2 = -a**2 * b / 2\n",
    "s3 =  a**3 * (b**2 * t - 1) / t / 6\n",
    "s4 = -a**4 * (b**3 * t - 3 * b) / t / 24\n",
    "s5 =  a**5 * (b**4 * t**2 - 6 * b**2 * t + 3) / t**2 / 120\n",
    "s6 = -a**6 * (b**5 * t**2 - 10 * b**3 * t + 15 * b) / t**2 / 720\n",
    "\n",
    "S = s1 + s2 + s3 + s4 + s5 + s6\n",
    "\n",
    "normcdf(b * mp.sqrt(t)) + A * S"
   ]
  },
  {
   "cell_type": "code",
   "execution_count": 9,
   "id": "9f920a59-d58c-4c69-9717-9efd7f4f3833",
   "metadata": {},
   "outputs": [
    {
     "data": {
      "text/plain": [
       "(mpf('0.25'),\n",
       " mpf('0.09375'),\n",
       " mpf('0.020833333333333332'),\n",
       " mpf('0.0029296875'),\n",
       " mpf('0.000244140625'),\n",
       " mpf('6.1035156250000003e-6'))"
      ]
     },
     "execution_count": 9,
     "metadata": {},
     "output_type": "execute_result"
    }
   ],
   "source": [
    "s1, s2, s3, s4, s5, s6"
   ]
  },
  {
   "cell_type": "code",
   "execution_count": 10,
   "id": "bc6c64ec-2672-4343-9850-b14a8962e8e4",
   "metadata": {},
   "outputs": [
    {
     "name": "stdout",
     "output_type": "stream",
     "text": [
      "1 -3.0 8.0 -18.0 30.0 -18.0\n"
     ]
    }
   ],
   "source": [
    "print(\n",
    "    1,\n",
    "    b,\n",
    "    (b**2 * t - 1) / t,\n",
    "    (b**3 * t - 3 * b) / t,\n",
    "    (b**4 * t**2 - 6 * b**2 * t + 3) / t**2,\n",
    "    (b**5 * t**2 - 10 * b**3 * t + 15 * b) / t**2\n",
    ")"
   ]
  },
  {
   "cell_type": "code",
   "execution_count": 11,
   "id": "00b6f58a-0657-4ab8-b96f-5ecd6a10801f",
   "metadata": {},
   "outputs": [],
   "source": [
    "def P(k, t, b):\n",
    "    s = 0\n",
    "    for m in range(int(mp.floor(k/2)) + 1):\n",
    "        s += (-1) ** m / mp.factorial(m) / mp.factorial(k - 2 * m) * b ** (k - 2*m) / 2 ** m / t ** m\n",
    "\n",
    "    return mp.factorial(k) * s"
   ]
  },
  {
   "cell_type": "code",
   "execution_count": 22,
   "id": "64c368dd-7543-4a38-b3da-a394a19e9219",
   "metadata": {},
   "outputs": [
    {
     "data": {
      "text/plain": [
       "mpf('1.0')"
      ]
     },
     "execution_count": 22,
     "metadata": {},
     "output_type": "execute_result"
    }
   ],
   "source": [
    "k = 0\n",
    "P(k, t, b)"
   ]
  },
  {
   "cell_type": "code",
   "execution_count": 21,
   "id": "799e9ab2-66a9-4a35-85f6-e7d4189a4d41",
   "metadata": {},
   "outputs": [
    {
     "data": {
      "text/plain": [
       "mpf('0.0029797632329101242')"
      ]
     },
     "execution_count": 21,
     "metadata": {},
     "output_type": "execute_result"
    }
   ],
   "source": [
    "K = 10\n",
    "S = 0\n",
    "for k in range(1, K):\n",
    "    S += (-1) ** (k + 1) * a ** k / mp.factorial(k) * P(k-1, t, b)\n",
    "\n",
    "normcdf(b * mp.sqrt(t)) + A * S"
   ]
  },
  {
   "cell_type": "markdown",
   "id": "d00f05f3-bec7-4b05-88e4-4ee7e0469578",
   "metadata": {},
   "source": [
    "Hermite probabilistic"
   ]
  },
  {
   "cell_type": "code",
   "execution_count": 23,
   "id": "5e7da221-de44-481f-b839-0f0688b0e9c9",
   "metadata": {},
   "outputs": [],
   "source": [
    "def hermite_prob(k, z):\n",
    "    s = 0\n",
    "    for m in range(int(mp.floor(k/2)) + 1):\n",
    "        s += (-1) ** m / mp.factorial(m) / mp.factorial(k - 2 * m) * z ** (k - 2*m) / 2 ** m\n",
    "\n",
    "    return mp.factorial(k) * s    "
   ]
  },
  {
   "cell_type": "code",
   "execution_count": 24,
   "id": "0cb93d30-dd66-4908-bfc8-9d2ec39773e4",
   "metadata": {},
   "outputs": [
    {
     "data": {
      "text/plain": [
       "mpf('9503.9999999999927')"
      ]
     },
     "execution_count": 24,
     "metadata": {},
     "output_type": "execute_result"
    }
   ],
   "source": [
    "k = 10\n",
    "\n",
    "P(k, t, b)"
   ]
  },
  {
   "cell_type": "code",
   "execution_count": 25,
   "id": "85496b00-afe0-493f-a04e-70ac3cab2799",
   "metadata": {},
   "outputs": [
    {
     "data": {
      "text/plain": [
       "mpf('9503.9999999999927')"
      ]
     },
     "execution_count": 25,
     "metadata": {},
     "output_type": "execute_result"
    }
   ],
   "source": [
    "hermite_prob(k, b * mp.sqrt(t)) / t ** (k / 2)"
   ]
  },
  {
   "cell_type": "code",
   "execution_count": 26,
   "id": "471edab7-75ea-4038-9254-bfa269a92fe7",
   "metadata": {},
   "outputs": [
    {
     "data": {
      "text/plain": [
       "mpf('9504.0000000000055')"
      ]
     },
     "execution_count": 26,
     "metadata": {},
     "output_type": "execute_result"
    }
   ],
   "source": [
    "mp.hermite(k, b * mp.sqrt(t / 2)) / (2 * t) ** (k / 2)"
   ]
  },
  {
   "cell_type": "code",
   "execution_count": 27,
   "id": "18cb2b7c-163f-49a4-800c-46c395558581",
   "metadata": {},
   "outputs": [
    {
     "data": {
      "text/plain": [
       "mpf('0.0029797632350545581')"
      ]
     },
     "execution_count": 27,
     "metadata": {},
     "output_type": "execute_result"
    }
   ],
   "source": [
    "K = 40\n",
    "S = 0\n",
    "for k in range(1, K):\n",
    "    S += (-1) ** (k + 1) * a ** k / mp.factorial(k) * mp.hermite(k-1, b * mp.sqrt(t / 2)) / (2 * t) ** ((k-1) / 2)\n",
    "\n",
    "normcdf(b * mp.sqrt(t)) + A * S"
   ]
  },
  {
   "cell_type": "code",
   "execution_count": 29,
   "id": "c545150a-e171-43da-83b7-225d291ae020",
   "metadata": {},
   "outputs": [
    {
     "data": {
      "text/plain": [
       "mpf('0.0029797632350545581')"
      ]
     },
     "execution_count": 29,
     "metadata": {},
     "output_type": "execute_result"
    }
   ],
   "source": [
    "K = 40\n",
    "S = 0\n",
    "for k in range(K):\n",
    "    S += (-1) ** k * a ** (k + 1) / mp.factorial(k + 1) * mp.hermite(k, b * mp.sqrt(t / 2)) / (2 * t) ** (k / 2)\n",
    "\n",
    "normcdf(b * mp.sqrt(t)) + A * S"
   ]
  },
  {
   "cell_type": "markdown",
   "id": "9685564d-1537-44c6-9781-59dd5882fe8c",
   "metadata": {},
   "source": [
    "### 2. Expansion"
   ]
  },
  {
   "cell_type": "code",
   "execution_count": 31,
   "id": "b53c1183-6138-4620-9fca-dcc90f77cbbd",
   "metadata": {},
   "outputs": [
    {
     "data": {
      "text/plain": [
       "mpf('0.13323254044801654')"
      ]
     },
     "execution_count": 31,
     "metadata": {},
     "output_type": "execute_result"
    }
   ],
   "source": [
    "mp_result = quad_phi(x, alpha, beta, mu, delta, digits=100)\n",
    "mp_result"
   ]
  },
  {
   "cell_type": "code",
   "execution_count": 32,
   "id": "e551042b-7fa3-4339-8cde-0100047e41ca",
   "metadata": {},
   "outputs": [
    {
     "data": {
      "text/plain": [
       "mpf('0.055220468434900599')"
      ]
     },
     "execution_count": 32,
     "metadata": {},
     "output_type": "execute_result"
    }
   ],
   "source": [
    "quad_phi(mu, alpha, beta, mu, delta, digits=100)"
   ]
  },
  {
   "cell_type": "code",
   "execution_count": 33,
   "id": "d74b43cb-cb84-4cb7-91e7-e53db8a164db",
   "metadata": {},
   "outputs": [],
   "source": [
    "C = delta * mp.exp(delta * gamma) / (2 * mp.pi)"
   ]
  },
  {
   "cell_type": "code",
   "execution_count": 45,
   "id": "b132b9c7-386d-4fe3-b8d0-adf9e403a92f",
   "metadata": {},
   "outputs": [
    {
     "data": {
      "text/plain": [
       "mpf('0.0780120720131159588118227127856339')"
      ]
     },
     "execution_count": 45,
     "metadata": {},
     "output_type": "execute_result"
    }
   ],
   "source": [
    "mp.mp.dps = 30\n",
    "\n",
    "N = 30\n",
    "s = 0\n",
    "for k in range(N):\n",
    "    r = (-1) ** k * xmu ** (k + 1) / mp.factorial(k + 1) / 2 ** (k / 2)\n",
    "    q = mp.quad(lambda t: t ** (-k/2 - 2) * mp.hermite(k, b * mp.sqrt(t / 2)) * mp.exp(-delta ** 2 / 2 / t - alpha ** 2 / 2 * t), [0, mp.inf])\n",
    "    s += r * q\n",
    "\n",
    "C * s"
   ]
  },
  {
   "cell_type": "code",
   "execution_count": 46,
   "id": "fa94eaf7-b820-48bc-8914-a4a98ec7da7a",
   "metadata": {},
   "outputs": [
    {
     "data": {
      "text/plain": [
       "mpf('0.133232540448016558081602114032476')"
      ]
     },
     "execution_count": 46,
     "metadata": {},
     "output_type": "execute_result"
    }
   ],
   "source": [
    "quad_phi(mu, alpha, beta, mu, delta, digits=100) + C * s"
   ]
  },
  {
   "cell_type": "markdown",
   "id": "b9eb3416-c702-42bd-a777-3c8e03bf8bb0",
   "metadata": {},
   "source": [
    "Coefficients"
   ]
  },
  {
   "cell_type": "markdown",
   "id": "4396f337-cc96-49bc-949f-81ad4d18ea68",
   "metadata": {},
   "source": [
    "Ik+1"
   ]
  },
  {
   "cell_type": "code",
   "execution_count": 57,
   "id": "c83af3b5-011b-4875-8116-2ff111d4d133",
   "metadata": {},
   "outputs": [
    {
     "data": {
      "text/plain": [
       "mpf('0.683932605879470771419335615140985')"
      ]
     },
     "execution_count": 57,
     "metadata": {},
     "output_type": "execute_result"
    }
   ],
   "source": [
    "k = 1\n",
    "mp.quad(lambda t: t ** (-(k+1)/2 - 2) * mp.hermite(k+1, b * mp.sqrt(t / 2)) * mp.exp(-delta ** 2 / 2 / t - alpha ** 2 / 2 * t), [0, mp.inf])"
   ]
  },
  {
   "cell_type": "code",
   "execution_count": 52,
   "id": "6ec841af-8c84-4ad2-84ee-a224c0df94b2",
   "metadata": {},
   "outputs": [
    {
     "data": {
      "text/plain": [
       "mpf('0.683932605879470771419335615140985')"
      ]
     },
     "execution_count": 52,
     "metadata": {},
     "output_type": "execute_result"
    }
   ],
   "source": [
    "mp.quad(lambda t: t ** (-(k+1)/2 - 2) * (2 * b * mp.sqrt(t / 2) * mp.hermite(k, b * mp.sqrt(t / 2)) -2*k *  mp.hermite(k-1, b * mp.sqrt(t / 2)))  * mp.exp(-delta ** 2 / 2 / t - alpha ** 2 / 2 * t), [0, mp.inf])"
   ]
  },
  {
   "cell_type": "markdown",
   "id": "176d2bfa-c5e7-4aac-b7be-057647a59b60",
   "metadata": {},
   "source": [
    "Ik"
   ]
  },
  {
   "cell_type": "code",
   "execution_count": 55,
   "id": "5495d1ea-06ec-4035-abc6-f52b0de37f5e",
   "metadata": {},
   "outputs": [
    {
     "data": {
      "text/plain": [
       "(mpf('-0.423704002373866957114707624096963'),\n",
       " mpf('1.79762383976665413173532191723627'))"
      ]
     },
     "execution_count": 55,
     "metadata": {},
     "output_type": "execute_result"
    }
   ],
   "source": [
    "Ik = mp.quad(lambda t: t ** (-k/2 - 2) * mp.hermite(k, b * mp.sqrt(t / 2)) * mp.exp(-delta ** 2 / 2 / t - alpha ** 2 / 2 * t), [0, mp.inf])\n",
    "Ik, Ik * b * mp.sqrt(2)"
   ]
  },
  {
   "cell_type": "markdown",
   "id": "c479ccb8-d26c-4a29-80fe-05790c751694",
   "metadata": {},
   "source": [
    "Ik-1"
   ]
  },
  {
   "cell_type": "code",
   "execution_count": 58,
   "id": "41d9a91f-9767-4ea7-b5b3-806433b978e0",
   "metadata": {},
   "outputs": [
    {
     "data": {
      "text/plain": [
       "mpf('-1.11369123388718336031598630209519')"
      ]
     },
     "execution_count": 58,
     "metadata": {},
     "output_type": "execute_result"
    }
   ],
   "source": [
    "-2*k * mp.quad(lambda t: t ** (-(k+1)/2 - 2) * (mp.hermite(k-1, b * mp.sqrt(t / 2)))  * mp.exp(-delta ** 2 / 2 / t - alpha ** 2 / 2 * t), [0, mp.inf])"
   ]
  },
  {
   "cell_type": "code",
   "execution_count": 61,
   "id": "3fa12cc9-be1c-4953-93db-6a8870ec4845",
   "metadata": {},
   "outputs": [
    {
     "data": {
      "text/plain": [
       "mpf('0.556845616943591680157993151047595')"
      ]
     },
     "execution_count": 61,
     "metadata": {},
     "output_type": "execute_result"
    }
   ],
   "source": [
    "mp.quad(lambda t: t ** (-(k+1)/2 - 2) * (mp.hermite(k-1, b * mp.sqrt(t / 2)))  * mp.exp(-delta ** 2 / 2 / t - alpha ** 2 / 2 * t), [0, mp.inf])"
   ]
  },
  {
   "cell_type": "code",
   "execution_count": null,
   "id": "a3b1053a-bed6-4f03-88fb-8817310804a2",
   "metadata": {},
   "outputs": [],
   "source": [
    "z = alpha ** 2 / 2\n",
    "r = delta / alpha"
   ]
  },
  {
   "cell_type": "code",
   "execution_count": 76,
   "id": "8efe9aca-646d-4247-b738-a7a7e5de74f8",
   "metadata": {},
   "outputs": [],
   "source": [
    "I11 = mp.quad(lambda t: t ** (-(k+1)/2 - 2 + 2) * (mp.hermite(k-1, b * mp.sqrt(t / 2)))  * mp.exp(-z * (t + r ** 2 / t)), [0, mp.inf])"
   ]
  },
  {
   "cell_type": "code",
   "execution_count": 77,
   "id": "7b67c9cc-ec7d-49d1-919a-15d846b90d7b",
   "metadata": {},
   "outputs": [],
   "source": [
    "I12 = mp.quad(lambda t: t ** (-(k+1)/2 - 2 + 2) * (mp.hermite(k-1, b * mp.sqrt(t / 2))) * 1/z * z * (r**2/t**2 - 1) * mp.exp(-z * (t + r ** 2 / t)), [0, mp.inf])"
   ]
  },
  {
   "cell_type": "code",
   "execution_count": 88,
   "id": "52a8e318-8507-462f-a27b-0e8d501980c2",
   "metadata": {},
   "outputs": [
    {
     "data": {
      "text/plain": [
       "mpf('0.556845616943591680157993151047595')"
      ]
     },
     "execution_count": 88,
     "metadata": {},
     "output_type": "execute_result"
    }
   ],
   "source": [
    "(I11 + I12) / r ** 2"
   ]
  },
  {
   "cell_type": "code",
   "execution_count": 89,
   "id": "e78ae1ae-c667-441a-9dbd-6a6896a5ed65",
   "metadata": {},
   "outputs": [
    {
     "data": {
      "text/plain": [
       "(mpf('0.0223193521717060485394903919596669'),\n",
       " mpf('0.0124834988872684314703841799808063'))"
      ]
     },
     "execution_count": 89,
     "metadata": {},
     "output_type": "execute_result"
    }
   ],
   "source": [
    "I11, I12"
   ]
  },
  {
   "cell_type": "code",
   "execution_count": 90,
   "id": "9f7fd0bd-d02c-401b-81bb-3d0eb6e932ec",
   "metadata": {},
   "outputs": [
    {
     "data": {
      "text/plain": [
       "mpf('0.0223193521717060485394903919596669')"
      ]
     },
     "execution_count": 90,
     "metadata": {},
     "output_type": "execute_result"
    }
   ],
   "source": [
    "mp.quad(lambda t: t ** (-k/2 + 3/2 - 2) * (mp.hermite(k-1, b * mp.sqrt(t / 2)))  * mp.exp(-z * (t + r ** 2 / t)), [0, mp.inf])"
   ]
  },
  {
   "cell_type": "code",
   "execution_count": null,
   "id": "38bf800d-cd79-4769-9bb2-576caf521ff9",
   "metadata": {},
   "outputs": [],
   "source": []
  }
 ],
 "metadata": {
  "kernelspec": {
   "display_name": "Python 3 (ipykernel)",
   "language": "python",
   "name": "python3"
  },
  "language_info": {
   "codemirror_mode": {
    "name": "ipython",
    "version": 3
   },
   "file_extension": ".py",
   "mimetype": "text/x-python",
   "name": "python",
   "nbconvert_exporter": "python",
   "pygments_lexer": "ipython3",
   "version": "3.12.7"
  }
 },
 "nbformat": 4,
 "nbformat_minor": 5
}
