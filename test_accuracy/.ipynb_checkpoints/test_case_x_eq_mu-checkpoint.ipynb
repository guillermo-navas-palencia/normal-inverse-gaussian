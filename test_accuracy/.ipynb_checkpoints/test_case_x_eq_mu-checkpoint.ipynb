{
 "cells": [
  {
   "cell_type": "code",
   "execution_count": 1,
   "id": "17cf20cb-cf9e-40d7-bf76-9bb91b939c3e",
   "metadata": {},
   "outputs": [],
   "source": [
    "import matplotlib.pyplot as plt\n",
    "import numpy as np\n",
    "import pandas as pd"
   ]
  },
  {
   "cell_type": "code",
   "execution_count": 2,
   "id": "5bece63f-2732-40ea-ba58-4bd9b52f5139",
   "metadata": {},
   "outputs": [],
   "source": [
    "from mpmath_integration import quad_phi"
   ]
  },
  {
   "cell_type": "code",
   "execution_count": 31,
   "id": "7f87efeb-b3cb-4948-9cc6-bbeb0ab83b71",
   "metadata": {},
   "outputs": [],
   "source": [
    "instance = 'instances/instances_x_eq_mu_small.csv'"
   ]
  },
  {
   "cell_type": "code",
   "execution_count": 32,
   "id": "9d61f7f1-1748-420d-9eb2-f86a3e5ec1ce",
   "metadata": {},
   "outputs": [],
   "source": [
    "df = pd.read_csv(instance)"
   ]
  },
  {
   "cell_type": "code",
   "execution_count": 33,
   "id": "5c0338c8-a966-4b1d-8226-ffc94bbf1da4",
   "metadata": {},
   "outputs": [
    {
     "data": {
      "text/html": [
       "<div>\n",
       "<style scoped>\n",
       "    .dataframe tbody tr th:only-of-type {\n",
       "        vertical-align: middle;\n",
       "    }\n",
       "\n",
       "    .dataframe tbody tr th {\n",
       "        vertical-align: top;\n",
       "    }\n",
       "\n",
       "    .dataframe thead th {\n",
       "        text-align: right;\n",
       "    }\n",
       "</style>\n",
       "<table border=\"1\" class=\"dataframe\">\n",
       "  <thead>\n",
       "    <tr style=\"text-align: right;\">\n",
       "      <th></th>\n",
       "      <th>alpha</th>\n",
       "      <th>beta</th>\n",
       "      <th>delta</th>\n",
       "      <th>mpmath</th>\n",
       "      <th>scipy</th>\n",
       "      <th>gnp</th>\n",
       "    </tr>\n",
       "  </thead>\n",
       "  <tbody>\n",
       "    <tr>\n",
       "      <th>0</th>\n",
       "      <td>5.118265</td>\n",
       "      <td>2.158681</td>\n",
       "      <td>5.423311</td>\n",
       "      <td>1.174085e-02</td>\n",
       "      <td>1.174085e-02</td>\n",
       "      <td>1.174085e-02</td>\n",
       "    </tr>\n",
       "    <tr>\n",
       "      <th>1</th>\n",
       "      <td>9.504642</td>\n",
       "      <td>0.252025</td>\n",
       "      <td>9.678838</td>\n",
       "      <td>3.997468e-01</td>\n",
       "      <td>3.997468e-01</td>\n",
       "      <td>3.997468e-01</td>\n",
       "    </tr>\n",
       "    <tr>\n",
       "      <th>2</th>\n",
       "      <td>1.441682</td>\n",
       "      <td>0.243133</td>\n",
       "      <td>7.047854</td>\n",
       "      <td>2.969529e-01</td>\n",
       "      <td>2.969529e-01</td>\n",
       "      <td>2.969529e-01</td>\n",
       "    </tr>\n",
       "    <tr>\n",
       "      <th>3</th>\n",
       "      <td>9.486500</td>\n",
       "      <td>7.105027</td>\n",
       "      <td>5.452298</td>\n",
       "      <td>1.904392e-09</td>\n",
       "      <td>1.904392e-09</td>\n",
       "      <td>1.904392e-09</td>\n",
       "    </tr>\n",
       "    <tr>\n",
       "      <th>4</th>\n",
       "      <td>3.118383</td>\n",
       "      <td>0.264554</td>\n",
       "      <td>4.636804</td>\n",
       "      <td>3.744105e-01</td>\n",
       "      <td>3.744105e-01</td>\n",
       "      <td>3.744105e-01</td>\n",
       "    </tr>\n",
       "    <tr>\n",
       "      <th>...</th>\n",
       "      <td>...</td>\n",
       "      <td>...</td>\n",
       "      <td>...</td>\n",
       "      <td>...</td>\n",
       "      <td>...</td>\n",
       "      <td>...</td>\n",
       "    </tr>\n",
       "    <tr>\n",
       "      <th>495</th>\n",
       "      <td>9.296089</td>\n",
       "      <td>5.255570</td>\n",
       "      <td>9.086277</td>\n",
       "      <td>2.798839e-08</td>\n",
       "      <td>2.798839e-08</td>\n",
       "      <td>2.798839e-08</td>\n",
       "    </tr>\n",
       "    <tr>\n",
       "      <th>496</th>\n",
       "      <td>8.734815</td>\n",
       "      <td>8.180629</td>\n",
       "      <td>9.129123</td>\n",
       "      <td>1.521561e-24</td>\n",
       "      <td>1.521561e-24</td>\n",
       "      <td>1.521561e-24</td>\n",
       "    </tr>\n",
       "    <tr>\n",
       "      <th>497</th>\n",
       "      <td>1.355296</td>\n",
       "      <td>0.026738</td>\n",
       "      <td>7.711579</td>\n",
       "      <td>4.748602e-01</td>\n",
       "      <td>4.748602e-01</td>\n",
       "      <td>4.748602e-01</td>\n",
       "    </tr>\n",
       "    <tr>\n",
       "      <th>498</th>\n",
       "      <td>7.918022</td>\n",
       "      <td>6.848551</td>\n",
       "      <td>1.185698</td>\n",
       "      <td>1.288046e-03</td>\n",
       "      <td>1.288046e-03</td>\n",
       "      <td>1.288046e-03</td>\n",
       "    </tr>\n",
       "    <tr>\n",
       "      <th>499</th>\n",
       "      <td>6.753495</td>\n",
       "      <td>6.493811</td>\n",
       "      <td>5.617133</td>\n",
       "      <td>7.416740e-14</td>\n",
       "      <td>7.416740e-14</td>\n",
       "      <td>7.416740e-14</td>\n",
       "    </tr>\n",
       "  </tbody>\n",
       "</table>\n",
       "<p>500 rows × 6 columns</p>\n",
       "</div>"
      ],
      "text/plain": [
       "        alpha      beta     delta        mpmath         scipy           gnp\n",
       "0    5.118265  2.158681  5.423311  1.174085e-02  1.174085e-02  1.174085e-02\n",
       "1    9.504642  0.252025  9.678838  3.997468e-01  3.997468e-01  3.997468e-01\n",
       "2    1.441682  0.243133  7.047854  2.969529e-01  2.969529e-01  2.969529e-01\n",
       "3    9.486500  7.105027  5.452298  1.904392e-09  1.904392e-09  1.904392e-09\n",
       "4    3.118383  0.264554  4.636804  3.744105e-01  3.744105e-01  3.744105e-01\n",
       "..        ...       ...       ...           ...           ...           ...\n",
       "495  9.296089  5.255570  9.086277  2.798839e-08  2.798839e-08  2.798839e-08\n",
       "496  8.734815  8.180629  9.129123  1.521561e-24  1.521561e-24  1.521561e-24\n",
       "497  1.355296  0.026738  7.711579  4.748602e-01  4.748602e-01  4.748602e-01\n",
       "498  7.918022  6.848551  1.185698  1.288046e-03  1.288046e-03  1.288046e-03\n",
       "499  6.753495  6.493811  5.617133  7.416740e-14  7.416740e-14  7.416740e-14\n",
       "\n",
       "[500 rows x 6 columns]"
      ]
     },
     "execution_count": 33,
     "metadata": {},
     "output_type": "execute_result"
    }
   ],
   "source": [
    "df"
   ]
  },
  {
   "cell_type": "code",
   "execution_count": 34,
   "id": "41c030c0-6f83-4063-a577-400ed6d3cb78",
   "metadata": {},
   "outputs": [],
   "source": [
    "df.loc[df['scipy'] == 'NAN', 'scipy'] = np.NaN\n",
    "df['scipy'] = df['scipy'].astype(float)"
   ]
  },
  {
   "cell_type": "code",
   "execution_count": 35,
   "id": "72cf4d30-f452-408b-a62f-4fe42bc36dca",
   "metadata": {},
   "outputs": [],
   "source": [
    "df['relerr_gnp'] = np.absolute(df['gnp'] / df['mpmath'] - 1)\n",
    "df['abs_gnp'] = np.absolute(df['gnp'] - df['mpmath'])"
   ]
  },
  {
   "cell_type": "code",
   "execution_count": 36,
   "id": "6f6ecfe8-ca36-4e2c-a675-6850636ead7e",
   "metadata": {},
   "outputs": [],
   "source": [
    "df['relerr_scipy'] = np.absolute(df['scipy'] / df['mpmath'] - 1)\n",
    "df['abs_scipy'] = np.absolute(df['scipy'] - df['mpmath'])"
   ]
  },
  {
   "cell_type": "code",
   "execution_count": 37,
   "id": "4ebd0887-7d9f-4f4b-b313-1e4d6573401c",
   "metadata": {},
   "outputs": [
    {
     "data": {
      "text/html": [
       "<div>\n",
       "<style scoped>\n",
       "    .dataframe tbody tr th:only-of-type {\n",
       "        vertical-align: middle;\n",
       "    }\n",
       "\n",
       "    .dataframe tbody tr th {\n",
       "        vertical-align: top;\n",
       "    }\n",
       "\n",
       "    .dataframe thead th {\n",
       "        text-align: right;\n",
       "    }\n",
       "</style>\n",
       "<table border=\"1\" class=\"dataframe\">\n",
       "  <thead>\n",
       "    <tr style=\"text-align: right;\">\n",
       "      <th></th>\n",
       "      <th>alpha</th>\n",
       "      <th>beta</th>\n",
       "      <th>delta</th>\n",
       "    </tr>\n",
       "  </thead>\n",
       "  <tbody>\n",
       "    <tr>\n",
       "      <th>count</th>\n",
       "      <td>500.000000</td>\n",
       "      <td>500.000000</td>\n",
       "      <td>500.000000</td>\n",
       "    </tr>\n",
       "    <tr>\n",
       "      <th>mean</th>\n",
       "      <td>4.916727</td>\n",
       "      <td>2.527816</td>\n",
       "      <td>5.077218</td>\n",
       "    </tr>\n",
       "    <tr>\n",
       "      <th>std</th>\n",
       "      <td>2.867965</td>\n",
       "      <td>2.140891</td>\n",
       "      <td>2.861392</td>\n",
       "    </tr>\n",
       "    <tr>\n",
       "      <th>min</th>\n",
       "      <td>0.020668</td>\n",
       "      <td>0.004448</td>\n",
       "      <td>0.001060</td>\n",
       "    </tr>\n",
       "    <tr>\n",
       "      <th>25%</th>\n",
       "      <td>2.575766</td>\n",
       "      <td>0.701645</td>\n",
       "      <td>2.504889</td>\n",
       "    </tr>\n",
       "    <tr>\n",
       "      <th>50%</th>\n",
       "      <td>4.781067</td>\n",
       "      <td>1.995258</td>\n",
       "      <td>5.151010</td>\n",
       "    </tr>\n",
       "    <tr>\n",
       "      <th>75%</th>\n",
       "      <td>7.510335</td>\n",
       "      <td>4.021535</td>\n",
       "      <td>7.499014</td>\n",
       "    </tr>\n",
       "    <tr>\n",
       "      <th>max</th>\n",
       "      <td>9.990259</td>\n",
       "      <td>9.429234</td>\n",
       "      <td>9.997911</td>\n",
       "    </tr>\n",
       "  </tbody>\n",
       "</table>\n",
       "</div>"
      ],
      "text/plain": [
       "            alpha        beta       delta\n",
       "count  500.000000  500.000000  500.000000\n",
       "mean     4.916727    2.527816    5.077218\n",
       "std      2.867965    2.140891    2.861392\n",
       "min      0.020668    0.004448    0.001060\n",
       "25%      2.575766    0.701645    2.504889\n",
       "50%      4.781067    1.995258    5.151010\n",
       "75%      7.510335    4.021535    7.499014\n",
       "max      9.990259    9.429234    9.997911"
      ]
     },
     "execution_count": 37,
     "metadata": {},
     "output_type": "execute_result"
    }
   ],
   "source": [
    "df[['alpha', 'beta', 'delta']].describe()"
   ]
  },
  {
   "cell_type": "code",
   "execution_count": 91,
   "id": "ac66ae49-eb2c-4f96-8bdf-1ae901f4325c",
   "metadata": {},
   "outputs": [],
   "source": [
    "mask_inf = df['relerr_gnp'] == np.inf\n",
    "mask_nan = (df['relerr_gnp'].isna() & (df['mpmath'] != df['gnp']) & (df['mpmath'] != 0))\n",
    "\n",
    "mask_err = df['relerr_gnp'] > 1e-14"
   ]
  },
  {
   "cell_type": "code",
   "execution_count": 92,
   "id": "b9001ff1-bed1-40a1-b553-9513c52f5a90",
   "metadata": {},
   "outputs": [
    {
     "data": {
      "text/plain": [
       "(0, 0)"
      ]
     },
     "execution_count": 92,
     "metadata": {},
     "output_type": "execute_result"
    }
   ],
   "source": [
    "mask_inf.sum(), mask_nan.sum()"
   ]
  },
  {
   "cell_type": "code",
   "execution_count": 93,
   "id": "23f319a1-8dba-435b-aa08-3ed826c39a30",
   "metadata": {},
   "outputs": [
    {
     "data": {
      "text/html": [
       "<div>\n",
       "<style scoped>\n",
       "    .dataframe tbody tr th:only-of-type {\n",
       "        vertical-align: middle;\n",
       "    }\n",
       "\n",
       "    .dataframe tbody tr th {\n",
       "        vertical-align: top;\n",
       "    }\n",
       "\n",
       "    .dataframe thead th {\n",
       "        text-align: right;\n",
       "    }\n",
       "</style>\n",
       "<table border=\"1\" class=\"dataframe\">\n",
       "  <thead>\n",
       "    <tr style=\"text-align: right;\">\n",
       "      <th></th>\n",
       "      <th>alpha</th>\n",
       "      <th>beta</th>\n",
       "      <th>delta</th>\n",
       "      <th>mpmath</th>\n",
       "      <th>scipy</th>\n",
       "      <th>gnp</th>\n",
       "      <th>relerr_gnp</th>\n",
       "      <th>abs_gnp</th>\n",
       "      <th>relerr_scipy</th>\n",
       "      <th>abs_scipy</th>\n",
       "    </tr>\n",
       "  </thead>\n",
       "  <tbody>\n",
       "  </tbody>\n",
       "</table>\n",
       "</div>"
      ],
      "text/plain": [
       "Empty DataFrame\n",
       "Columns: [alpha, beta, delta, mpmath, scipy, gnp, relerr_gnp, abs_gnp, relerr_scipy, abs_scipy]\n",
       "Index: []"
      ]
     },
     "execution_count": 93,
     "metadata": {},
     "output_type": "execute_result"
    }
   ],
   "source": [
    "df[mask_inf]"
   ]
  },
  {
   "cell_type": "code",
   "execution_count": 94,
   "id": "2793e534-316e-4590-a341-1f70ddd3841f",
   "metadata": {},
   "outputs": [
    {
     "data": {
      "text/html": [
       "<div>\n",
       "<style scoped>\n",
       "    .dataframe tbody tr th:only-of-type {\n",
       "        vertical-align: middle;\n",
       "    }\n",
       "\n",
       "    .dataframe tbody tr th {\n",
       "        vertical-align: top;\n",
       "    }\n",
       "\n",
       "    .dataframe thead th {\n",
       "        text-align: right;\n",
       "    }\n",
       "</style>\n",
       "<table border=\"1\" class=\"dataframe\">\n",
       "  <thead>\n",
       "    <tr style=\"text-align: right;\">\n",
       "      <th></th>\n",
       "      <th>alpha</th>\n",
       "      <th>beta</th>\n",
       "      <th>delta</th>\n",
       "      <th>mpmath</th>\n",
       "      <th>scipy</th>\n",
       "      <th>gnp</th>\n",
       "      <th>relerr_gnp</th>\n",
       "      <th>abs_gnp</th>\n",
       "      <th>relerr_scipy</th>\n",
       "      <th>abs_scipy</th>\n",
       "    </tr>\n",
       "  </thead>\n",
       "  <tbody>\n",
       "    <tr>\n",
       "      <th>496</th>\n",
       "      <td>8.734815</td>\n",
       "      <td>8.180629</td>\n",
       "      <td>9.129123</td>\n",
       "      <td>1.521561e-24</td>\n",
       "      <td>1.521561e-24</td>\n",
       "      <td>1.521561e-24</td>\n",
       "      <td>1.043610e-14</td>\n",
       "      <td>1.597938e-38</td>\n",
       "      <td>5.811190e-10</td>\n",
       "      <td>8.842080e-34</td>\n",
       "    </tr>\n",
       "  </tbody>\n",
       "</table>\n",
       "</div>"
      ],
      "text/plain": [
       "        alpha      beta     delta        mpmath         scipy           gnp  \\\n",
       "496  8.734815  8.180629  9.129123  1.521561e-24  1.521561e-24  1.521561e-24   \n",
       "\n",
       "       relerr_gnp       abs_gnp  relerr_scipy     abs_scipy  \n",
       "496  1.043610e-14  1.597938e-38  5.811190e-10  8.842080e-34  "
      ]
     },
     "execution_count": 94,
     "metadata": {},
     "output_type": "execute_result"
    }
   ],
   "source": [
    "df[mask_err]"
   ]
  },
  {
   "cell_type": "code",
   "execution_count": 28,
   "id": "b0664d45-4de4-46d1-9832-49059da8adf0",
   "metadata": {},
   "outputs": [
    {
     "data": {
      "text/plain": [
       "(8.628676678948319e-36, 0.0)"
      ]
     },
     "execution_count": 28,
     "metadata": {},
     "output_type": "execute_result"
    }
   ],
   "source": [
    "idx = 5\n",
    "df[mask_err].iloc[idx].mpmath, df[mask_err].iloc[idx].gnp"
   ]
  },
  {
   "cell_type": "code",
   "execution_count": 29,
   "id": "a6c8c59c-a60f-4df0-ae9e-84475773efb1",
   "metadata": {},
   "outputs": [
    {
     "data": {
      "text/plain": [
       "(32.97384191819271, 7.715442910951418, 84.44676248168926)"
      ]
     },
     "execution_count": 29,
     "metadata": {},
     "output_type": "execute_result"
    }
   ],
   "source": [
    "alpha, beta, delta = df[mask_err].iloc[idx][['alpha', 'beta', 'delta']]\n",
    "alpha, beta, delta"
   ]
  },
  {
   "cell_type": "code",
   "execution_count": 30,
   "id": "be321b43-b3d8-4042-8875-5b8f02d7cc8f",
   "metadata": {},
   "outputs": [
    {
     "data": {
      "text/plain": [
       "mpf('0.0000000000000000000000000000000000086286766789483182353768240642949825439811790302279161266429921480892864108579433720159049435993572747040062484158515541502803935619234869347166826001129893115316790427377811802088545485565238671197202717801602694309628412850055080502307416422788598334190996122729116826001947513122350918087505352397317879919002571334751449304243624708779131544008531798485453120104610337073703592501759938821340298359998652075845306457994893713896952756533801805115671239061130905113849356811012024373632800815925731406')"
      ]
     },
     "execution_count": 30,
     "metadata": {},
     "output_type": "execute_result"
    }
   ],
   "source": [
    "mp_result = quad_phi(0, alpha, beta, 0, delta, digits=300)\n",
    "mp_result"
   ]
  },
  {
   "cell_type": "code",
   "execution_count": null,
   "id": "c145f07c-f474-4d1c-9995-353fc4744e21",
   "metadata": {},
   "outputs": [],
   "source": []
  }
 ],
 "metadata": {
  "kernelspec": {
   "display_name": "Python 3 (ipykernel)",
   "language": "python",
   "name": "python3"
  },
  "language_info": {
   "codemirror_mode": {
    "name": "ipython",
    "version": 3
   },
   "file_extension": ".py",
   "mimetype": "text/x-python",
   "name": "python",
   "nbconvert_exporter": "python",
   "pygments_lexer": "ipython3",
   "version": "3.9.12"
  }
 },
 "nbformat": 4,
 "nbformat_minor": 5
}
