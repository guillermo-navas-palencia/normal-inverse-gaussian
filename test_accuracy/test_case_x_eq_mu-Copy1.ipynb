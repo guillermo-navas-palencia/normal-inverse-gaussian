{
 "cells": [
  {
   "cell_type": "code",
   "execution_count": null,
   "id": "17cf20cb-cf9e-40d7-bf76-9bb91b939c3e",
   "metadata": {},
   "outputs": [],
   "source": [
    "import matplotlib.pyplot as plt\n",
    "import numpy as np\n",
    "import pandas as pd"
   ]
  },
  {
   "cell_type": "code",
   "execution_count": null,
   "id": "5bece63f-2732-40ea-ba58-4bd9b52f5139",
   "metadata": {},
   "outputs": [],
   "source": [
    "from mpmath_integration import quad_phi"
   ]
  },
  {
   "cell_type": "code",
   "execution_count": null,
   "id": "7f87efeb-b3cb-4948-9cc6-bbeb0ab83b71",
   "metadata": {},
   "outputs": [],
   "source": [
    "# instance = 'instances/instances_x_eq_mu_small.csv'\n",
    "# instance = 'instances/instances_x_eq_mu_small_series.csv'\n",
    "# instance = 'instances/instances_x_eq_mu_large_series.csv'\n",
    "\n",
    "instance = '../code/tests/results/test_x_eq_mu_small.csv'\n",
    "instance = '../code/tests/results/test_x_eq_mu_small_mpmath_accurate.csv'\n",
    "instance = '../code/tests/results/test_x_eq_mu_small_mpmath_accurate_mpmath_accurate.csv'\n",
    "\n",
    "instance = '../code/tests/results/test_x_eq_mu_large_mpmath_accurate.csv'\n",
    "\n",
    "instance = '../code/tests/results/test_x_eq_mu_large.csv'"
   ]
  },
  {
   "cell_type": "code",
   "execution_count": null,
   "id": "9d61f7f1-1748-420d-9eb2-f86a3e5ec1ce",
   "metadata": {},
   "outputs": [],
   "source": [
    "df = pd.read_csv(instance)"
   ]
  },
  {
   "cell_type": "code",
   "execution_count": null,
   "id": "5c0338c8-a966-4b1d-8226-ffc94bbf1da4",
   "metadata": {},
   "outputs": [],
   "source": [
    "df"
   ]
  },
  {
   "cell_type": "code",
   "execution_count": null,
   "id": "41c030c0-6f83-4063-a577-400ed6d3cb78",
   "metadata": {},
   "outputs": [],
   "source": [
    "df.loc[df['scipy'] == 'NAN', 'scipy'] = np.NaN\n",
    "df['scipy'] = df['scipy'].astype(float)\n",
    "\n",
    "df.loc[df['gnp'] == 'NAN', 'gnp'] = np.NaN\n",
    "df['gnp'] = df['gnp'].astype(float)"
   ]
  },
  {
   "cell_type": "code",
   "execution_count": null,
   "id": "72cf4d30-f452-408b-a62f-4fe42bc36dca",
   "metadata": {},
   "outputs": [],
   "source": [
    "df['relerr_gnp'] = np.absolute(df['gnp'] / df['mpmath'] - 1)\n",
    "df['abs_gnp'] = np.absolute(df['gnp'] - df['mpmath'])"
   ]
  },
  {
   "cell_type": "code",
   "execution_count": null,
   "id": "6f6ecfe8-ca36-4e2c-a675-6850636ead7e",
   "metadata": {},
   "outputs": [],
   "source": [
    "df['relerr_scipy'] = np.absolute(df['scipy'] / df['mpmath'] - 1)\n",
    "df['abs_scipy'] = np.absolute(df['scipy'] - df['mpmath'])"
   ]
  },
  {
   "cell_type": "code",
   "execution_count": null,
   "id": "a42b640f-df62-40ca-b1fa-19557010ea31",
   "metadata": {},
   "outputs": [],
   "source": [
    "df['rab'] = df['beta'] / df['alpha']"
   ]
  },
  {
   "cell_type": "code",
   "execution_count": null,
   "id": "4ebd0887-7d9f-4f4b-b313-1e4d6573401c",
   "metadata": {},
   "outputs": [],
   "source": [
    "df[['alpha', 'beta', 'delta', 'rab']].describe()"
   ]
  },
  {
   "cell_type": "code",
   "execution_count": null,
   "id": "ac66ae49-eb2c-4f96-8bdf-1ae901f4325c",
   "metadata": {},
   "outputs": [],
   "source": [
    "mask_inf = df['relerr_gnp'] == np.inf\n",
    "mask_nan = (df['relerr_gnp'].isna() & (df['mpmath'] != df['gnp']) & (df['mpmath'] != 0))\n",
    "\n",
    "mask_err = df['relerr_gnp'] > 5e-13"
   ]
  },
  {
   "cell_type": "code",
   "execution_count": null,
   "id": "b9001ff1-bed1-40a1-b553-9513c52f5a90",
   "metadata": {},
   "outputs": [],
   "source": [
    "mask_inf.sum(), mask_nan.sum()"
   ]
  },
  {
   "cell_type": "code",
   "execution_count": null,
   "id": "23f319a1-8dba-435b-aa08-3ed826c39a30",
   "metadata": {},
   "outputs": [],
   "source": [
    "df[mask_inf]"
   ]
  },
  {
   "cell_type": "code",
   "execution_count": null,
   "id": "da3b7c60-9bf0-4e70-be86-df1fb64985b9",
   "metadata": {},
   "outputs": [],
   "source": [
    "mask_err.sum(), (df['relerr_gnp'] > 1e-11).sum()"
   ]
  },
  {
   "cell_type": "code",
   "execution_count": null,
   "id": "2793e534-316e-4590-a341-1f70ddd3841f",
   "metadata": {},
   "outputs": [],
   "source": [
    "df[mask_err].sort_values('relerr_gnp', ascending=False).head(20)"
   ]
  },
  {
   "cell_type": "code",
   "execution_count": null,
   "id": "93b0305c-f828-4337-a83b-dd12fc351928",
   "metadata": {},
   "outputs": [],
   "source": [
    "df[~mask_err].sort_values('relerr_gnp', ascending=False).head(20)"
   ]
  },
  {
   "cell_type": "code",
   "execution_count": null,
   "id": "62a98377-02ef-4290-a710-ad7cdc73b2db",
   "metadata": {},
   "outputs": [],
   "source": [
    "df[~mask_inf & (df['relerr_gnp'] < 1)].describe()"
   ]
  },
  {
   "cell_type": "code",
   "execution_count": null,
   "id": "7a709173-f638-4301-b96e-dcd028b66492",
   "metadata": {},
   "outputs": [],
   "source": [
    "df[~mask_err & (df['relerr_scipy'] < 5e-13)]"
   ]
  },
  {
   "cell_type": "code",
   "execution_count": null,
   "id": "f8619d0b-8754-44e0-bb07-1ac77eb1f54a",
   "metadata": {},
   "outputs": [],
   "source": [
    "df[mask_err].describe()"
   ]
  },
  {
   "cell_type": "code",
   "execution_count": null,
   "id": "b0664d45-4de4-46d1-9832-49059da8adf0",
   "metadata": {},
   "outputs": [],
   "source": [
    "idx = 0\n",
    "df[mask_err].iloc[idx].mpmath, df[mask_err].iloc[idx].gnp"
   ]
  },
  {
   "cell_type": "code",
   "execution_count": null,
   "id": "a6c8c59c-a60f-4df0-ae9e-84475773efb1",
   "metadata": {},
   "outputs": [],
   "source": [
    "alpha, beta, delta = df[mask_err].iloc[idx][['alpha', 'beta', 'delta']]\n",
    "alpha, beta, delta"
   ]
  },
  {
   "cell_type": "code",
   "execution_count": null,
   "id": "be321b43-b3d8-4042-8875-5b8f02d7cc8f",
   "metadata": {},
   "outputs": [],
   "source": [
    "# mp_result = quad_phi(0, alpha, beta, 0, delta, digits=300)\n",
    "# mp_result"
   ]
  },
  {
   "cell_type": "markdown",
   "id": "cf803203-1e25-4574-bd1f-ca6ca31ac230",
   "metadata": {},
   "source": [
    "#### 1. Decision tree (test for more complex cases)"
   ]
  },
  {
   "cell_type": "code",
   "execution_count": null,
   "id": "0627fd71-0375-48a9-aba1-df3f96080c4e",
   "metadata": {},
   "outputs": [],
   "source": [
    "from sklearn import tree"
   ]
  },
  {
   "cell_type": "code",
   "execution_count": null,
   "id": "4c5f57b2-1ca5-421f-8ef8-0548d522541d",
   "metadata": {},
   "outputs": [],
   "source": [
    "df['target'] = (~mask_err).astype(int)"
   ]
  },
  {
   "cell_type": "code",
   "execution_count": null,
   "id": "08c46301-77db-4aa7-a0cb-ba7a71d338a2",
   "metadata": {},
   "outputs": [],
   "source": [
    "df.head()"
   ]
  },
  {
   "cell_type": "code",
   "execution_count": null,
   "id": "ed83b5b4-9e04-4318-b978-48431e3ef7e8",
   "metadata": {},
   "outputs": [],
   "source": [
    "X = df[['alpha', 'beta', 'delta', 'rab']]\n",
    "y = df['target']"
   ]
  },
  {
   "cell_type": "code",
   "execution_count": null,
   "id": "dc81fd03-f4e5-40bf-b789-330cdff1f0bb",
   "metadata": {},
   "outputs": [],
   "source": [
    "clf = tree.DecisionTreeClassifier(max_depth=2)\n",
    "clf = clf.fit(X, y)"
   ]
  },
  {
   "cell_type": "code",
   "execution_count": null,
   "id": "2984c12c-cac6-4251-bdd6-1e7348d26274",
   "metadata": {},
   "outputs": [],
   "source": [
    "clf.score(X, y)"
   ]
  },
  {
   "cell_type": "code",
   "execution_count": null,
   "id": "e8656138-eb1b-4bf5-898e-0a85ea45521f",
   "metadata": {},
   "outputs": [],
   "source": [
    "tree.plot_tree(clf, feature_names=X.columns, filled=True)"
   ]
  },
  {
   "cell_type": "code",
   "execution_count": null,
   "id": "70fb6e64-5a78-4243-ad90-2f6d8df7f96d",
   "metadata": {},
   "outputs": [],
   "source": [
    "mask_series = (df['beta'] <= 1.613) & (df['rab'] <= 0.928)"
   ]
  },
  {
   "cell_type": "code",
   "execution_count": null,
   "id": "ce3df7e5-d396-4255-bfb2-7001640a693c",
   "metadata": {},
   "outputs": [],
   "source": [
    "mask_series = (df['delta'] <= 10) & (df['rab'] <= 0.052)"
   ]
  },
  {
   "cell_type": "code",
   "execution_count": null,
   "id": "4bbbad83-24e8-4f3e-a885-1e71d631ab1f",
   "metadata": {},
   "outputs": [],
   "source": [
    "df[mask_series].describe()"
   ]
  },
  {
   "cell_type": "code",
   "execution_count": null,
   "id": "1e605cc4-b994-422a-b902-5e0dd79c3016",
   "metadata": {},
   "outputs": [],
   "source": []
  }
 ],
 "metadata": {
  "kernelspec": {
   "display_name": "Python 3 (ipykernel)",
   "language": "python",
   "name": "python3"
  },
  "language_info": {
   "codemirror_mode": {
    "name": "ipython",
    "version": 3
   },
   "file_extension": ".py",
   "mimetype": "text/x-python",
   "name": "python",
   "nbconvert_exporter": "python",
   "pygments_lexer": "ipython3",
   "version": "3.12.7"
  }
 },
 "nbformat": 4,
 "nbformat_minor": 5
}
