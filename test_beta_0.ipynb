{
 "cells": [
  {
   "cell_type": "code",
   "execution_count": 1,
   "id": "09e243a2",
   "metadata": {},
   "outputs": [],
   "source": [
    "%load_ext autoreload\n",
    "%autoreload 2"
   ]
  },
  {
   "cell_type": "code",
   "execution_count": 2,
   "id": "af9ae096",
   "metadata": {},
   "outputs": [],
   "source": [
    "import matplotlib.pyplot as plt\n",
    "import numpy as np\n",
    "\n",
    "from scipy import special, stats, integrate"
   ]
  },
  {
   "cell_type": "code",
   "execution_count": 3,
   "id": "8689c58d",
   "metadata": {},
   "outputs": [],
   "source": [
    "from code.python.series import series_x_mu_b0\n",
    "from code.python.series import series_x_mu_b0_pos\n",
    "from code.python.series import series_x_mu_b0_pos_robust\n",
    "from code.python.series import asymtotic_x_mu_b0_neg\n",
    "from code.python.series import asymptotic_alpha_b0"
   ]
  },
  {
   "cell_type": "code",
   "execution_count": 223,
   "id": "43049ae5",
   "metadata": {},
   "outputs": [],
   "source": [
    "alpha = 10\n",
    "beta = 0\n",
    "mu = 0.5\n",
    "delta = 10\n",
    "x = 5.5"
   ]
  },
  {
   "cell_type": "code",
   "execution_count": 224,
   "id": "32430799-ef3b-4cc1-9e74-793117bd77e8",
   "metadata": {},
   "outputs": [
    {
     "data": {
      "text/plain": [
       "5.0"
      ]
     },
     "execution_count": 224,
     "metadata": {},
     "output_type": "execute_result"
    }
   ],
   "source": [
    "x - mu"
   ]
  },
  {
   "cell_type": "code",
   "execution_count": 225,
   "id": "6e64adb5",
   "metadata": {},
   "outputs": [
    {
     "data": {
      "text/plain": [
       "100"
      ]
     },
     "execution_count": 225,
     "metadata": {},
     "output_type": "execute_result"
    }
   ],
   "source": [
    "alpha * delta"
   ]
  },
  {
   "cell_type": "code",
   "execution_count": 226,
   "id": "1df93395",
   "metadata": {},
   "outputs": [
    {
     "data": {
      "text/plain": [
       "(5.0, 100, 1.0)"
      ]
     },
     "execution_count": 226,
     "metadata": {},
     "output_type": "execute_result"
    }
   ],
   "source": [
    "x - mu, delta*alpha, alpha / delta"
   ]
  },
  {
   "cell_type": "code",
   "execution_count": 227,
   "id": "74260a2d",
   "metadata": {},
   "outputs": [
    {
     "data": {
      "image/png": "[encoded data removed]",
      "text/plain": [
       "<Figure size 640x480 with 1 Axes>"
      ]
     },
     "metadata": {},
     "output_type": "display_data"
    }
   ],
   "source": [
    "xx = np.linspace(-0.8, 2, 100)\n",
    "plt.plot(xx, stats.norminvgauss.pdf(xx, a=alpha*delta, b=beta*delta, loc=mu, scale=delta))\n",
    "plt.show()"
   ]
  },
  {
   "cell_type": "code",
   "execution_count": 228,
   "id": "80db8e06",
   "metadata": {},
   "outputs": [
    {
     "data": {
      "text/plain": [
       "0.9999994587460721"
      ]
     },
     "execution_count": 228,
     "metadata": {},
     "output_type": "execute_result"
    }
   ],
   "source": [
    "stats.norminvgauss.cdf(x, a=alpha*delta, b=beta*delta, loc=mu, scale=delta)"
   ]
  },
  {
   "cell_type": "code",
   "execution_count": 229,
   "id": "e6ed5a15",
   "metadata": {},
   "outputs": [
    {
     "data": {
      "text/plain": [
       "(0.9999994587447555, 75)"
      ]
     },
     "execution_count": 229,
     "metadata": {},
     "output_type": "execute_result"
    }
   ],
   "source": [
    "series_x_mu_b0(x, alpha, mu, delta, maxiter=200, eps=1e-16)"
   ]
  },
  {
   "cell_type": "code",
   "execution_count": 230,
   "id": "ade95965",
   "metadata": {},
   "outputs": [
    {
     "data": {
      "text/plain": [
       "(0.9999994587460745, 58)"
      ]
     },
     "execution_count": 230,
     "metadata": {},
     "output_type": "execute_result"
    }
   ],
   "source": [
    "# %%timeit\n",
    "series_x_mu_b0_pos(x, alpha, mu, delta, maxiter=300, eps=1e-16)"
   ]
  },
  {
   "cell_type": "code",
   "execution_count": 231,
   "id": "9fd103d5",
   "metadata": {},
   "outputs": [
    {
     "data": {
      "text/plain": [
       "(0.9999994587460737, 54)"
      ]
     },
     "execution_count": 231,
     "metadata": {},
     "output_type": "execute_result"
    }
   ],
   "source": [
    "series_x_mu_b0_pos_robust(x, alpha, mu, delta, maxiter=10000, eps=5e-16)"
   ]
  },
  {
   "cell_type": "code",
   "execution_count": 232,
   "id": "a3687ec5",
   "metadata": {},
   "outputs": [
    {
     "data": {
      "text/plain": [
       "(0.9999994587460737, 56)"
      ]
     },
     "execution_count": 232,
     "metadata": {},
     "output_type": "execute_result"
    }
   ],
   "source": [
    "R = 1\n",
    "series_x_mu_b0_pos_robust(x * R, alpha / R, mu * R, delta * R, maxiter=10000, eps=1e-16)"
   ]
  },
  {
   "cell_type": "code",
   "execution_count": 233,
   "id": "becf6a78",
   "metadata": {},
   "outputs": [
    {
     "data": {
      "text/plain": [
       "0.9999994587460743"
      ]
     },
     "execution_count": 233,
     "metadata": {},
     "output_type": "execute_result"
    }
   ],
   "source": [
    "1.0 - series_x_mu_b0_pos(-x, alpha, -mu, delta, maxiter=300, eps=1e-15)[0]"
   ]
  },
  {
   "cell_type": "code",
   "execution_count": 234,
   "id": "bd459ef3",
   "metadata": {},
   "outputs": [
    {
     "name": "stdout",
     "output_type": "stream",
     "text": [
      "1 1.3187322198550736e-45\n",
      "2 2.6958050459619566e-52\n",
      "3 2.389463563466411e-53\n",
      "4 4.0368148855863664e-53\n",
      "5 2.680771337714054e-54\n",
      "6 6.152609434403111e-55\n",
      "7 2.1707317684231883e-55\n",
      "8 5.203770551253377e-56\n",
      "9 1.6839537324745486e-56\n",
      "10 8.96388483364606e-57\n",
      "11 6.5973305513276245e-59\n",
      "12 1.2790308455783714e-57\n",
      "13 4.739018718833495e-58\n",
      "14 1.6088177454423333e-59\n",
      "15 1.073898983359234e-58\n",
      "16 5.756420655056544e-59\n",
      "17 8.344615074615652e-60\n",
      "18 1.0297187704147306e-59\n",
      "19 1.0019207743155025e-59\n",
      "20 4.3927014833731666e-60\n",
      "21 1.179433583511776e-61\n"
     ]
    },
    {
     "data": {
      "text/plain": [
       "(0.9999994587460735, 21)"
      ]
     },
     "execution_count": 234,
     "metadata": {},
     "output_type": "execute_result"
    }
   ],
   "source": [
    "asymptotic_alpha_b0(x, alpha, mu, delta, eps=1e-15)"
   ]
  },
  {
   "cell_type": "code",
   "execution_count": 235,
   "id": "d6fc4ffc",
   "metadata": {},
   "outputs": [
    {
     "data": {
      "text/plain": [
       "-1"
      ]
     },
     "execution_count": 235,
     "metadata": {},
     "output_type": "execute_result"
    }
   ],
   "source": [
    "asymtotic_x_mu_b0_neg(x, alpha, mu, delta, eps=1e-6)[0]"
   ]
  },
  {
   "cell_type": "code",
   "execution_count": 214,
   "id": "a9544d3d",
   "metadata": {},
   "outputs": [],
   "source": [
    "aa = np.array([\n",
    "4337.65080731929,\n",
    "5810969.79668592,\n",
    "972699524.337313,\n",
    "5529274039889.426,\n",
    "4613705067320761.0,\n",
    "2.486706291478932e+18,\n",
    "8.934409419707112e+21,\n",
    "8.545811798791736e+24,\n",
    "5.983612904201487e+25,\n",
    "1.2588539177779772e+31,\n",
    "2.117723970364492e+34,\n",
    "1.8293037458490087e+37,\n",
    "8.295187152185425e+38,\n",
    "2.717731026352441e+43,\n",
    "5.439001284669284e+46,\n",
    "6.504523811379845e+49,\n",
    "4.447034865831982e+52\n",
    "])"
   ]
  },
  {
   "cell_type": "code",
   "execution_count": 215,
   "id": "271021e5",
   "metadata": {},
   "outputs": [
    {
     "data": {
      "text/plain": [
       "[<matplotlib.lines.Line2D at 0x7f63e1997f10>]"
      ]
     },
     "execution_count": 215,
     "metadata": {},
     "output_type": "execute_result"
    },
    {
     "data": {
      "image/png": "[encoded data removed]",
      "text/plain": [
       "<Figure size 640x480 with 1 Axes>"
      ]
     },
     "metadata": {},
     "output_type": "display_data"
    }
   ],
   "source": [
    "plt.plot(aa[1:] / aa[:-1])"
   ]
  },
  {
   "cell_type": "code",
   "execution_count": null,
   "id": "216758a7",
   "metadata": {},
   "outputs": [],
   "source": []
  },
  {
   "cell_type": "code",
   "execution_count": 216,
   "id": "1a7bcf08",
   "metadata": {},
   "outputs": [
    {
     "data": {
      "text/plain": [
       "array([-1395.85798817,  -930.57199211,  -697.92899408,  -558.34319527,\n",
       "        -465.28599606,  -398.81656805,  -348.96449704,  -310.19066404,\n",
       "        -279.17159763,  -253.79236148,  -232.64299803,  -214.74738279,\n",
       "        -199.40828402,  -186.11439842])"
      ]
     },
     "execution_count": 216,
     "metadata": {},
     "output_type": "execute_result"
    }
   ],
   "source": [
    "2/((delta/alpha) * np.arange(2, 16)) - 1/((delta/alpha)**2 * np.arange(2, 16))"
   ]
  },
  {
   "cell_type": "code",
   "execution_count": 217,
   "id": "449e2f86",
   "metadata": {},
   "outputs": [
    {
     "data": {
      "text/plain": [
       "(3.189441021430949e-150, 7)"
      ]
     },
     "execution_count": 217,
     "metadata": {},
     "output_type": "execute_result"
    }
   ],
   "source": [
    "asymtotic_x_mu_b0_neg(x, alpha, mu, delta, eps=1e-12)"
   ]
  },
  {
   "cell_type": "code",
   "execution_count": 218,
   "id": "1d0137c8",
   "metadata": {},
   "outputs": [],
   "source": [
    "from mpmath import *"
   ]
  },
  {
   "cell_type": "code",
   "execution_count": 220,
   "id": "453a93e8",
   "metadata": {},
   "outputs": [
    {
     "data": {
      "text/plain": [
       "mpf('3.1894410209383309809116868011180564273597608375989897017920555482244785495058732362048833433070356347169195352790126157674793101211050449672631157904453e-150')"
      ]
     },
     "execution_count": 220,
     "metadata": {},
     "output_type": "execute_result"
    }
   ],
   "source": [
    "mp.dps = 150\n",
    "\n",
    "def fun_k0(t):\n",
    "    C = sqrt(2) * delta * exp(delta * alpha) / pi\n",
    "    r = exp(sqrt(2) * (x - mu) * t)\n",
    "    w = sqrt(2 * ((x - mu) ** 2 + delta ** 2)) * sqrt(alpha ** 2 / 2 + t** 2)\n",
    "    q = besselk(0, w)\n",
    "    return C * r * q\n",
    "\n",
    "quad(fun_k0, [0, inf])"
   ]
  },
  {
   "cell_type": "code",
   "execution_count": 222,
   "id": "e558d0b1",
   "metadata": {},
   "outputs": [
    {
     "data": {
      "text/plain": [
       "mpf('3.1894410214307572917354612201716887512551002363608468434104551682031677750282016072911838885165582215246355485627249038017124779699381433612329553861492225254451046308689328479859414075603163475490130875e-150')"
      ]
     },
     "execution_count": 222,
     "metadata": {},
     "output_type": "execute_result"
    }
   ],
   "source": [
    "mp.dps = 200\n",
    "\n",
    "def normcdf(x):\n",
    "    return erfc(-x / sqrt(2)) / 2\n",
    "\n",
    "def fun_phi(t):\n",
    "    C = delta / sqrt(2 * pi)\n",
    "    return C * normcdf((x - mu) / sqrt(t)) * t ** (-3/2) * exp(-(delta - alpha * t) ** 2 / 2 / t)\n",
    "\n",
    "alpha = mpmathify(alpha)\n",
    "mu = mpmathify(mu)\n",
    "delta = mpmathify(delta)\n",
    "x = mpmathify(x)\n",
    "\n",
    "quad(fun_phi, [0, inf])"
   ]
  },
  {
   "cell_type": "code",
   "execution_count": 23,
   "id": "fea26d52",
   "metadata": {},
   "outputs": [
    {
     "data": {
      "text/plain": [
       "mpf('0.8879335711934363213433171235406889063252144861124650444394924489745975903174184807888361715173345493287')"
      ]
     },
     "execution_count": 23,
     "metadata": {},
     "output_type": "execute_result"
    }
   ],
   "source": [
    "quad(fun_phi, [0, 1])"
   ]
  },
  {
   "cell_type": "markdown",
   "id": "7e5ee725",
   "metadata": {},
   "source": [
    "Alternative integral representation"
   ]
  },
  {
   "cell_type": "code",
   "execution_count": null,
   "id": "f661fb84",
   "metadata": {},
   "outputs": [],
   "source": [
    "def fun_phi2(u):\n",
    "    C = delta * exp(delta * alpha) / sqrt(2*pi)\n",
    "    return C * 2 * normcdf((x-mu)*u) * exp(-delta**2/2 * u**2) * exp(-alpha**2/2/u**2)\n",
    "\n",
    "quad(fun_phi2, [0, inf])"
   ]
  },
  {
   "cell_type": "code",
   "execution_count": null,
   "id": "0a25f3cb",
   "metadata": {},
   "outputs": [],
   "source": [
    "mp.dps = 50\n",
    "\n",
    "omega = sqrt(delta**2 + (x-mu)**2)\n",
    "\n",
    "s = 0\n",
    "z = (x-mu)**2 * alpha / omega\n",
    "\n",
    "for k in range(50):\n",
    "    r = z**k / fac2(2*k + 1)\n",
    "    q = besselk(k+1, alpha * omega)\n",
    "    s += r * q\n",
    "    \n",
    "print(s)\n",
    "s *= (x-mu) * alpha / omega"
   ]
  },
  {
   "cell_type": "code",
   "execution_count": null,
   "id": "540a9295",
   "metadata": {},
   "outputs": [],
   "source": [
    "C = delta * exp(delta * alpha) / pi\n",
    "s * C + 1/2"
   ]
  },
  {
   "cell_type": "code",
   "execution_count": null,
   "id": "f581ee81",
   "metadata": {},
   "outputs": [],
   "source": [
    "b = alpha * omega\n",
    "\n",
    "s = 0\n",
    "for k in range(10):\n",
    "    s += z**k * besselk(k+1, alpha * omega) / fac2(2*k + 1)\n",
    "    print(s)\n"
   ]
  },
  {
   "cell_type": "code",
   "execution_count": null,
   "id": "08f56d96",
   "metadata": {},
   "outputs": [],
   "source": [
    "y0 = 0\n",
    "y1 = besselk(1, b)\n",
    "y2 = y1 + z * besselk(2, b) / 3\n",
    "\n",
    "y = [y0, y1, y2]\n",
    "\n",
    "for n in range(20):\n",
    "    num = -(b*z**2*y[n] -z*(-12 -14*n -4*n**2 + b*z) * y[n+1] - (3+2*n) * (5*b + 2*n*b + 4*z + 2*n*z)*y[n+2])\n",
    "    den = ((3+2*n)*(5+2*n)*b)\n",
    "    yn = num / den\n",
    "    # print(num, den)\n",
    "    y.append(yn)\n"
   ]
  },
  {
   "cell_type": "code",
   "execution_count": null,
   "id": "d4529fa3",
   "metadata": {},
   "outputs": [],
   "source": [
    "y[-1]"
   ]
  },
  {
   "cell_type": "code",
   "execution_count": null,
   "id": "ba2f077f",
   "metadata": {},
   "outputs": [],
   "source": [
    "C = delta * exp(delta * alpha) / pi\n",
    "y[-1] * C * (x-mu) * alpha / omega + 1/2"
   ]
  },
  {
   "cell_type": "code",
   "execution_count": null,
   "id": "e65aef19",
   "metadata": {},
   "outputs": [],
   "source": [
    "k = 11\n",
    "\n",
    "(3 + 2*k) * ((5 + 2*k) * alpha * omega + 2*(2+k)) / ((3 + 2*k) * (5 + 2*k) * alpha * omega)"
   ]
  },
  {
   "cell_type": "code",
   "execution_count": null,
   "id": "422a1461",
   "metadata": {},
   "outputs": [],
   "source": [
    "k = 11\n",
    "tp = ((x-mu)**2 * alpha / omega)**k / fac2(2*k + 1) * besselk(k+1, alpha * omega)"
   ]
  },
  {
   "cell_type": "code",
   "execution_count": null,
   "id": "6d4415a0",
   "metadata": {},
   "outputs": [],
   "source": [
    "k = 12\n",
    "tp1 = ((x-mu)**2 * alpha / omega)**k / fac2(2*k + 1) * besselk(k+1, alpha * omega)"
   ]
  },
  {
   "cell_type": "code",
   "execution_count": null,
   "id": "e36a9f0e",
   "metadata": {},
   "outputs": [],
   "source": [
    "C = abs(tp1 / tp)"
   ]
  },
  {
   "cell_type": "code",
   "execution_count": null,
   "id": "06c60e47",
   "metadata": {},
   "outputs": [],
   "source": [
    "C"
   ]
  },
  {
   "cell_type": "code",
   "execution_count": null,
   "id": "a8803dac",
   "metadata": {},
   "outputs": [],
   "source": [
    "k = 7\n",
    "tp = ((x-mu)**2 * alpha / omega)**k / fac2(2*k + 1) * besselk(k+1, alpha * omega)\n",
    "C = (x-mu)**2 * alpha / omega / (2*k + 3) *  besselk(k+2, alpha * omega) /  besselk(k+1, alpha * omega)"
   ]
  },
  {
   "cell_type": "code",
   "execution_count": null,
   "id": "55416b59",
   "metadata": {},
   "outputs": [],
   "source": [
    "besselk(k+2, alpha * omega)"
   ]
  },
  {
   "cell_type": "code",
   "execution_count": null,
   "id": "de40cdb7",
   "metadata": {},
   "outputs": [],
   "source": [
    "mp.gamma(k+2) * 2**(k+1) / (alpha * omega)**(k+2)"
   ]
  },
  {
   "cell_type": "code",
   "execution_count": null,
   "id": "8a5f1227",
   "metadata": {},
   "outputs": [],
   "source": [
    "1 / (alpha * omega * besseli(k+1, alpha * omega))"
   ]
  },
  {
   "cell_type": "code",
   "execution_count": null,
   "id": "5342ef65",
   "metadata": {},
   "outputs": [],
   "source": [
    "besseli(k+1, alpha * omega), (alpha * omega / 2)**(k+1) / mp.gamma(k+2)"
   ]
  },
  {
   "cell_type": "code",
   "execution_count": null,
   "id": "9394cb61",
   "metadata": {},
   "outputs": [],
   "source": [
    "fac2(2*k + 1) , factorial(2*k + 1) / (factorial(k) * 2**k)"
   ]
  },
  {
   "cell_type": "code",
   "execution_count": null,
   "id": "2ff40999",
   "metadata": {},
   "outputs": [],
   "source": [
    "mp.gamma(k + 1)*2**k / fac2(2*k + 1)"
   ]
  },
  {
   "cell_type": "code",
   "execution_count": null,
   "id": "b5a78153",
   "metadata": {},
   "outputs": [],
   "source": [
    "(factorial(k) * 2**k) ** 2 / factorial(2*k + 1) "
   ]
  },
  {
   "cell_type": "code",
   "execution_count": null,
   "id": "3ee833be",
   "metadata": {},
   "outputs": [],
   "source": [
    "sqrt(pi) / 2 * mp.gamma(k+1) / mp.gamma(k + 3/2)"
   ]
  },
  {
   "cell_type": "code",
   "execution_count": null,
   "id": "83748d60",
   "metadata": {},
   "outputs": [],
   "source": [
    "sqrt(pi) / 2 * mp.gamma(k+1) / mp.gamma(k + 1/2) / (k + 1/2)"
   ]
  },
  {
   "cell_type": "code",
   "execution_count": null,
   "id": "1cfea8d6",
   "metadata": {},
   "outputs": [],
   "source": [
    "mp.gamma(k+1) / mp.gamma(k + 3/2), 1 / sqrt(k + 1/2)"
   ]
  },
  {
   "cell_type": "code",
   "execution_count": null,
   "id": "e456ff71",
   "metadata": {},
   "outputs": [],
   "source": [
    "tp, 1/2 * sqrt(pi / (k + 1/2)) * ((x-mu) / omega) ** (2*k) / (alpha * omega)"
   ]
  },
  {
   "cell_type": "code",
   "execution_count": null,
   "id": "b517cdd9",
   "metadata": {},
   "outputs": [],
   "source": [
    "besselk(k+2, alpha * omega) /  besselk(k+1, alpha * omega)"
   ]
  },
  {
   "cell_type": "code",
   "execution_count": null,
   "id": "5fdb5a98",
   "metadata": {},
   "outputs": [],
   "source": [
    "(k+2 - 1/2 + sqrt((k+2-1/2)**2 + (alpha * omega)**2)) / (alpha * omega)"
   ]
  },
  {
   "cell_type": "code",
   "execution_count": null,
   "id": "5fbd6f00",
   "metadata": {},
   "outputs": [],
   "source": [
    "(k+1 + sqrt((k+1)**2 + (alpha * omega)**2)*(k+1)/k) / (alpha * omega)"
   ]
  },
  {
   "cell_type": "code",
   "execution_count": null,
   "id": "8c2f5a5b",
   "metadata": {},
   "outputs": [],
   "source": [
    "2*(k+1)/(alpha * omega) + alpha * omega / (2*(k+1 - 1))"
   ]
  },
  {
   "cell_type": "code",
   "execution_count": null,
   "id": "43622bdd",
   "metadata": {},
   "outputs": [],
   "source": [
    "1 + ((k+1) + 1/2) / (alpha * omega)"
   ]
  },
  {
   "cell_type": "code",
   "execution_count": null,
   "id": "571650a0",
   "metadata": {},
   "outputs": [],
   "source": [
    "float(abs(tp) / (1 - C))"
   ]
  },
  {
   "cell_type": "code",
   "execution_count": null,
   "id": "0f2771b7",
   "metadata": {},
   "outputs": [],
   "source": [
    "C"
   ]
  },
  {
   "cell_type": "code",
   "execution_count": null,
   "id": "b74fa2f5",
   "metadata": {},
   "outputs": [],
   "source": [
    "float(sum(((x-mu)**2 * alpha / omega)**k / fac2(2*k + 1) * besselk(k+1, alpha * omega) for k in range(11, 30)))"
   ]
  },
  {
   "cell_type": "code",
   "execution_count": null,
   "id": "f67ebb80",
   "metadata": {},
   "outputs": [],
   "source": [
    "(x-mu)**2 * alpha / omega * fac2(2*k + 1) / fac2(2*(k-1) + 1) * besselk(k+1, alpha * omega) / besselk(k, alpha * omega)"
   ]
  },
  {
   "cell_type": "code",
   "execution_count": null,
   "id": "fdcb831e",
   "metadata": {},
   "outputs": [],
   "source": []
  },
  {
   "cell_type": "code",
   "execution_count": null,
   "id": "3b03b6ec",
   "metadata": {},
   "outputs": [],
   "source": [
    " besselk(k, alpha * omega) / besselk(k+1, alpha * omega) * fac2(2*(k-1) + 1) / fac2(2*k + 1)"
   ]
  },
  {
   "cell_type": "code",
   "execution_count": null,
   "id": "b0743d84",
   "metadata": {},
   "outputs": [],
   "source": [
    "special.erfc(-(x-mu)/np.sqrt(2)/np.sqrt(delta/alpha))"
   ]
  },
  {
   "cell_type": "code",
   "execution_count": null,
   "id": "0af12e01",
   "metadata": {},
   "outputs": [],
   "source": [
    "mp.dps = 100\n",
    "\n",
    "def fun_k1(t):\n",
    "    C = alpha * delta / pi\n",
    "    r = sqrt(delta ** 2 + (t - mu) ** 2)\n",
    "    return C * besselk(1, alpha * r) / r * exp(delta * alpha)\n",
    "\n",
    "print(quad(fun_k1, [-inf, x]))\n",
    "\n",
    "mp.dps = 50"
   ]
  },
  {
   "cell_type": "markdown",
   "id": "c83e664d",
   "metadata": {},
   "source": [
    "Expansion"
   ]
  },
  {
   "cell_type": "code",
   "execution_count": null,
   "id": "bec85274",
   "metadata": {},
   "outputs": [],
   "source": [
    "mp.dps = 50"
   ]
  },
  {
   "cell_type": "code",
   "execution_count": null,
   "id": "c9778aa7",
   "metadata": {},
   "outputs": [],
   "source": [
    "b = delta / alpha\n",
    "a = (x-mu) / sqrt(2)"
   ]
  },
  {
   "cell_type": "code",
   "execution_count": null,
   "id": "d15abf51",
   "metadata": {},
   "outputs": [],
   "source": [
    "y0 = 1/2 * erfc(-a / sqrt(b))\n",
    "y1 = -1/2 * a * exp(-a**2 / b) / sqrt(pi) / b ** (3/2)\n",
    "\n",
    "yy = [y0, y1]\n",
    "N = 10\n",
    "\n",
    "yy = [1, 1]\n",
    "a=0\n",
    "b=1\n",
    "\n",
    "for n in range(0, N):\n",
    "    yn = ((n + 1) * yy[n+1] * (2*a**2 - 4*b*n - 3*b) - (2*n**2 + n) * yy[n]) / (2*b**2 * (n+1) * (n+2))\n",
    "    yy.append(yn)"
   ]
  },
  {
   "cell_type": "code",
   "execution_count": null,
   "id": "84860ab1",
   "metadata": {},
   "outputs": [],
   "source": [
    "yy"
   ]
  },
  {
   "cell_type": "code",
   "execution_count": null,
   "id": "97f313fe",
   "metadata": {},
   "outputs": [],
   "source": [
    "b"
   ]
  },
  {
   "cell_type": "code",
   "execution_count": null,
   "id": "88d0b942",
   "metadata": {},
   "outputs": [],
   "source": [
    "normcdf((x-mu)/sqrt(b)), normcdf((x-mu)/sqrt(b/2))"
   ]
  },
  {
   "cell_type": "code",
   "execution_count": null,
   "id": "4371dbaf",
   "metadata": {},
   "outputs": [],
   "source": [
    "abs(float(yy[1]*27/24 / b**2)), abs(float(yy[2]))"
   ]
  },
  {
   "cell_type": "code",
   "execution_count": null,
   "id": "fe699ed1",
   "metadata": {},
   "outputs": [],
   "source": [
    "abs(float(yy[1]*65/64 / b**3)), abs(float(yy[3]))"
   ]
  },
  {
   "cell_type": "code",
   "execution_count": null,
   "id": "74634488",
   "metadata": {},
   "outputs": [],
   "source": [
    "for k in range(len(yy)):\n",
    "    bound = yy[1] / b **k\n",
    "    print(k, abs(float(yy[k])), abs(float(bound)), float(yy[k] / bound))"
   ]
  },
  {
   "cell_type": "code",
   "execution_count": null,
   "id": "65a4efc4",
   "metadata": {},
   "outputs": [],
   "source": [
    "z = alpha ** 2 / 2\n",
    "l = -1/2\n",
    "xi = b * z"
   ]
  },
  {
   "cell_type": "code",
   "execution_count": null,
   "id": "b8c4ce33",
   "metadata": {},
   "outputs": [],
   "source": [
    "Q = [2 * xi ** l * besselk(l, 2 * xi), 0, 2 * xi ** (l + 2) * (-besselk(l, 2 * xi) + besselk(l+2, 2 * xi))]\n",
    "\n",
    "for k in range(1, N):\n",
    "    qn = (k + l + 1 - 2 * xi) * Q[k+1] + xi * (2 * k + l + 1) * Q[k] + k * xi ** 2 * Q[k-1]\n",
    "    Q.append(qn)"
   ]
  },
  {
   "cell_type": "code",
   "execution_count": null,
   "id": "847ce740",
   "metadata": {},
   "outputs": [],
   "source": [
    "s = 0\n",
    "for k in range(N):\n",
    "    s += yy[k] * Q[k] / z ** k\n",
    "\n",
    "s * z **(-l) * delta * exp(delta * alpha) / sqrt(2 * pi)"
   ]
  },
  {
   "cell_type": "code",
   "execution_count": null,
   "id": "e453f9b5",
   "metadata": {},
   "outputs": [],
   "source": []
  }
 ],
 "metadata": {
  "kernelspec": {
   "display_name": "Python 3 (ipykernel)",
   "language": "python",
   "name": "python3"
  },
  "language_info": {
   "codemirror_mode": {
    "name": "ipython",
    "version": 3
   },
   "file_extension": ".py",
   "mimetype": "text/x-python",
   "name": "python",
   "nbconvert_exporter": "python",
   "pygments_lexer": "ipython3",
   "version": "3.9.12"
  }
 },
 "nbformat": 4,
 "nbformat_minor": 5
}
