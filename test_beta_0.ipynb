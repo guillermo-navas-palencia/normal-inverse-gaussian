{
 "cells": [
  {
   "cell_type": "code",
   "execution_count": 1,
   "id": "7c5a4917-0a46-4f04-be8f-cae8d2b037d3",
   "metadata": {},
   "outputs": [],
   "source": [
    "%load_ext autoreload\n",
    "%autoreload 2"
   ]
  },
  {
   "cell_type": "code",
   "execution_count": 2,
   "id": "8b5c9050-b473-4817-99ac-11859f44a4e8",
   "metadata": {},
   "outputs": [],
   "source": [
    "import matplotlib.pyplot as plt\n",
    "import numpy as np\n",
    "\n",
    "from scipy import special, stats"
   ]
  },
  {
   "cell_type": "code",
   "execution_count": 83,
   "id": "184eddfa-e60a-41f1-a65a-a733e94bf896",
   "metadata": {},
   "outputs": [],
   "source": [
    "from code.series import series_x_mu_b_zero\n",
    "from code.series import series_x_mu_b_zero_pos"
   ]
  },
  {
   "cell_type": "code",
   "execution_count": 208,
   "id": "20c9c1f5-3aa0-443e-9261-0949a2a3d1e5",
   "metadata": {},
   "outputs": [],
   "source": [
    "alpha = 15\n",
    "beta = 0\n",
    "mu = 1.3\n",
    "delta = 10"
   ]
  },
  {
   "cell_type": "code",
   "execution_count": 209,
   "id": "90304e58-ab07-47f5-8460-11cef7958a4c",
   "metadata": {},
   "outputs": [],
   "source": [
    "x = 0.5"
   ]
  },
  {
   "cell_type": "code",
   "execution_count": 210,
   "id": "f3e91659-5f99-41df-9596-4c30d4790a1a",
   "metadata": {},
   "outputs": [
    {
     "data": {
      "text/plain": [
       "-0.8"
      ]
     },
     "execution_count": 210,
     "metadata": {},
     "output_type": "execute_result"
    }
   ],
   "source": [
    "x - mu"
   ]
  },
  {
   "cell_type": "code",
   "execution_count": 211,
   "id": "bcd46f30-c109-4732-af63-5b69a69dec88",
   "metadata": {},
   "outputs": [
    {
     "data": {
      "image/png": "[encoded data removed]",
      "text/plain": [
       "<Figure size 640x480 with 1 Axes>"
      ]
     },
     "metadata": {},
     "output_type": "display_data"
    }
   ],
   "source": [
    "xx = np.linspace(-5, 5, 100)\n",
    "plt.plot(xx, stats.norminvgauss.pdf(xx, a=alpha*delta, b=beta*delta, loc=mu, scale=delta))\n",
    "plt.show()"
   ]
  },
  {
   "cell_type": "code",
   "execution_count": 212,
   "id": "3c29c672-f1f5-42db-8cf7-b148e2d36c4b",
   "metadata": {},
   "outputs": [
    {
     "data": {
      "text/plain": [
       "0.1631845832769958"
      ]
     },
     "execution_count": 212,
     "metadata": {},
     "output_type": "execute_result"
    }
   ],
   "source": [
    "stats.norminvgauss.cdf(x, a=alpha*delta, b=beta*delta, loc=mu, scale=delta)"
   ]
  },
  {
   "cell_type": "code",
   "execution_count": 213,
   "id": "703f64e3-5542-475c-a522-791b8d6309d3",
   "metadata": {},
   "outputs": [
    {
     "data": {
      "text/plain": [
       "(0.16318458327699636, 13)"
      ]
     },
     "execution_count": 213,
     "metadata": {},
     "output_type": "execute_result"
    }
   ],
   "source": [
    "series_x_mu_b_zero(x, alpha, mu, delta, maxiter=200)"
   ]
  },
  {
   "cell_type": "code",
   "execution_count": 214,
   "id": "76ad7e11-622e-4d55-b479-ec2941d1af82",
   "metadata": {},
   "outputs": [
    {
     "data": {
      "text/plain": [
       "0.16318458327699004"
      ]
     },
     "execution_count": 214,
     "metadata": {},
     "output_type": "execute_result"
    }
   ],
   "source": [
    "1.0 - series_x_mu_b_zero_pos(-x, alpha, -mu, delta, maxiter=100)[0]"
   ]
  },
  {
   "cell_type": "code",
   "execution_count": 204,
   "id": "eef6ea43-6ca0-4804-a04e-1d5538fcc43d",
   "metadata": {},
   "outputs": [
    {
     "data": {
      "text/plain": [
       "(0.16318458327699636, 13)"
      ]
     },
     "execution_count": 204,
     "metadata": {},
     "output_type": "execute_result"
    }
   ],
   "source": [
    "H = 1\n",
    "\n",
    "series_x_mu_b_zero(x*H, alpha/H, mu*H, delta*H)"
   ]
  },
  {
   "cell_type": "code",
   "execution_count": 205,
   "id": "024da400-f70a-4d6e-8f26-4da7eae7b808",
   "metadata": {},
   "outputs": [],
   "source": [
    "from mpmath import *"
   ]
  },
  {
   "cell_type": "code",
   "execution_count": 206,
   "id": "608f6500-1507-49c0-bdd7-604d44b896e1",
   "metadata": {},
   "outputs": [
    {
     "data": {
      "text/plain": [
       "mpf('0.16318458327699647853355366546659974297701474624964833')"
      ]
     },
     "execution_count": 206,
     "metadata": {},
     "output_type": "execute_result"
    }
   ],
   "source": [
    "mp.dps = 50\n",
    "\n",
    "def normcdf(x):\n",
    "    return erfc(-x / sqrt(2)) / 2\n",
    "\n",
    "def fun_phi(t):\n",
    "    C = delta / sqrt(2 * pi)\n",
    "    return C * normcdf((x - mu) / sqrt(t)) * t ** (-3/2) * exp(-(delta - alpha * t) ** 2 / 2 / t)\n",
    "\n",
    "alpha = mpmathify(alpha)\n",
    "mu = mpmathify(mu)\n",
    "delta = mpmathify(delta)\n",
    "x = mpmathify(x)\n",
    "\n",
    "quad(fun_phi, [0, inf])"
   ]
  },
  {
   "cell_type": "code",
   "execution_count": null,
   "id": "0c7de0c6-bce7-4f10-928a-7c9076e0c8b3",
   "metadata": {},
   "outputs": [],
   "source": [
    "C = delta * exp(delta * alpha)\n",
    "\n",
    "s = 0\n",
    "for k in range(40):\n",
    "    r = (-1)**k * (x - mu) ** (2*k + 1) * (alpha / delta) ** (k+1) * besselk(k+1, alpha * delta)\n",
    "    q = 2 ** k * factorial(k) * (2*k + 1)\n",
    "    s += r / q\n",
    "\n",
    "1/2 + C * s * sqrt(2 / pi)"
   ]
  },
  {
   "cell_type": "code",
   "execution_count": null,
   "id": "f677104a-082e-4483-81f7-f41fc15814fe",
   "metadata": {
    "scrolled": true
   },
   "outputs": [],
   "source": [
    "C = delta / sqrt(2 * pi) * exp(delta * alpha)\n",
    "\n",
    "s = 0\n",
    "for k in range(7):\n",
    "    r = (-1) ** k * (x - mu) ** (2 * k + 1) / 2 ** k / factorial(k) / (2*k + 1)\n",
    "    q = besselk(k + 1, alpha * delta) * (alpha / delta) ** (k+1)\n",
    "    t = r * q\n",
    "    s += t\n",
    "    # print(f'bessel{k}', besselk(k + 1, alpha * delta))\n",
    "    print(k, besselk(k + 1, alpha * delta), t)\n",
    "\n",
    "1 / 2 + 2 * C / sqrt(2 * pi) * s"
   ]
  },
  {
   "cell_type": "code",
   "execution_count": 99,
   "id": "d5937e94-3dcb-4544-b10b-2858c88c305c",
   "metadata": {},
   "outputs": [
    {
     "name": "stdout",
     "output_type": "stream",
     "text": [
      "0 -0.0000083894514114805423250902516608999459570255313053795\n",
      "1 -0.0000097650062069961436181515160152318190529539775680679\n",
      "2 -0.0000073976527993632920381978255709151894359476956054093\n",
      "3 -0.0000043371666108359996309805048290096913874969272406625\n",
      "4 -0.0000021394824831256071899906891516319330118557814812931\n",
      "5 -0.00000093233000393422624441941229133739182458842806637102\n",
      "6 -0.00000037038263455503031640593582514653189169994931398684\n",
      "7 -0.0000001370681261954493155600684464241504887268192419449\n",
      "8 -0.000000047989749270818952967050688583624267565173196385499\n",
      "9 -0.000000016078477725292386335689490759505583778949923925307\n"
     ]
    },
    {
     "data": {
      "text/plain": [
       "mpf('0.029789545841584005123713333409591324992959310521357607')"
      ]
     },
     "execution_count": 99,
     "metadata": {},
     "output_type": "execute_result"
    }
   ],
   "source": []
  },
  {
   "cell_type": "code",
   "execution_count": 111,
   "id": "e3b8679d-67dd-4ba1-bfcc-9a70ff8183f7",
   "metadata": {},
   "outputs": [
    {
     "name": "stdout",
     "output_type": "stream",
     "text": [
      "1 1.0\n",
      "3 3.0\n",
      "5 15.0\n",
      "7 105.0\n",
      "9 945.0\n",
      "11 10395.0\n",
      "13 135135.0\n",
      "15 2027025.0\n",
      "17 34459425.0\n",
      "19 654729075.0\n"
     ]
    }
   ],
   "source": [
    "for k in range(10):\n",
    "    print(2*k+1, fac2(2*k + 1))"
   ]
  },
  {
   "cell_type": "code",
   "execution_count": 179,
   "id": "9346218d-be25-4529-9c71-14e1ba388929",
   "metadata": {},
   "outputs": [
    {
     "name": "stdout",
     "output_type": "stream",
     "text": [
      "2 5 15 15\n",
      "3 7 105 105\n",
      "4 9 945 945\n",
      "5 11 10395 10395\n",
      "6 13 135135 135135\n",
      "7 15 2027025 2027025\n",
      "8 17 34459425 34459425\n",
      "9 19 654729075 654729075\n"
     ]
    }
   ],
   "source": [
    "fn = 3\n",
    "fn1 = 3\n",
    "for k in range(2, 10):\n",
    "    fn *= (2*k + 1)\n",
    "    fn2 = (2*k + 1) * fn1\n",
    "    print(k, 2*k+1, fn2, fn)\n",
    "    fn1 = fn2"
   ]
  },
  {
   "cell_type": "code",
   "execution_count": null,
   "id": "fb2f8585-cbbd-49c9-bad0-2e4df49373fe",
   "metadata": {},
   "outputs": [],
   "source": []
  }
 ],
 "metadata": {
  "kernelspec": {
   "display_name": "Python 3 (ipykernel)",
   "language": "python",
   "name": "python3"
  },
  "language_info": {
   "codemirror_mode": {
    "name": "ipython",
    "version": 3
   },
   "file_extension": ".py",
   "mimetype": "text/x-python",
   "name": "python",
   "nbconvert_exporter": "python",
   "pygments_lexer": "ipython3",
   "version": "3.9.12"
  }
 },
 "nbformat": 4,
 "nbformat_minor": 5
}
