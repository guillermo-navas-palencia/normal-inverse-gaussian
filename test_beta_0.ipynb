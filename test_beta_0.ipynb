{
 "cells": [
  {
   "cell_type": "code",
   "execution_count": 1,
   "id": "7c5a4917-0a46-4f04-be8f-cae8d2b037d3",
   "metadata": {},
   "outputs": [],
   "source": [
    "%load_ext autoreload\n",
    "%autoreload 2"
   ]
  },
  {
   "cell_type": "code",
   "execution_count": 2,
   "id": "8b5c9050-b473-4817-99ac-11859f44a4e8",
   "metadata": {},
   "outputs": [],
   "source": [
    "import matplotlib.pyplot as plt\n",
    "import numpy as np\n",
    "\n",
    "from scipy import special, stats, integrate"
   ]
  },
  {
   "cell_type": "code",
   "execution_count": 3,
   "id": "184eddfa-e60a-41f1-a65a-a733e94bf896",
   "metadata": {},
   "outputs": [],
   "source": [
    "from code.series import series_x_mu_b0\n",
    "from code.series import series_x_mu_b0_pos\n",
    "from code.series import series_x_mu_b0_pos_robust\n",
    "from code.series import asymtotic_x_mu_b0_neg\n",
    "from code.series import asymptotic_alpha_b0"
   ]
  },
  {
   "cell_type": "code",
   "execution_count": 282,
   "id": "20c9c1f5-3aa0-443e-9261-0949a2a3d1e5",
   "metadata": {},
   "outputs": [],
   "source": [
    "alpha = 8.8\n",
    "beta = 0\n",
    "mu = 0.00102\n",
    "delta = 15.021\n",
    "x = 0.1"
   ]
  },
  {
   "cell_type": "code",
   "execution_count": 283,
   "id": "66637a2a-d9f6-42ad-a1f1-219a2b84dab1",
   "metadata": {},
   "outputs": [
    {
     "data": {
      "text/plain": [
       "132.18480000000002"
      ]
     },
     "execution_count": 283,
     "metadata": {},
     "output_type": "execute_result"
    }
   ],
   "source": [
    "alpha * delta"
   ]
  },
  {
   "cell_type": "code",
   "execution_count": 284,
   "id": "f3e91659-5f99-41df-9596-4c30d4790a1a",
   "metadata": {},
   "outputs": [
    {
     "data": {
      "text/plain": [
       "(0.09898000000000001, 132.18480000000002, 0.5858464815924372)"
      ]
     },
     "execution_count": 284,
     "metadata": {},
     "output_type": "execute_result"
    }
   ],
   "source": [
    "x - mu, delta*alpha, alpha / delta"
   ]
  },
  {
   "cell_type": "code",
   "execution_count": 285,
   "id": "bcd46f30-c109-4732-af63-5b69a69dec88",
   "metadata": {},
   "outputs": [
    {
     "data": {
      "image/png": "[encoded data removed]",
      "text/plain": [
       "<Figure size 640x480 with 1 Axes>"
      ]
     },
     "metadata": {},
     "output_type": "display_data"
    }
   ],
   "source": [
    "xx = np.linspace(-0.8, 2, 100)\n",
    "plt.plot(xx, stats.norminvgauss.pdf(xx, a=alpha*delta, b=beta*delta, loc=mu, scale=delta))\n",
    "plt.show()"
   ]
  },
  {
   "cell_type": "code",
   "execution_count": 270,
   "id": "3c29c672-f1f5-42db-8cf7-b148e2d36c4b",
   "metadata": {},
   "outputs": [
    {
     "data": {
      "text/plain": [
       "0.5545528870293996"
      ]
     },
     "execution_count": 270,
     "metadata": {},
     "output_type": "execute_result"
    }
   ],
   "source": [
    "stats.norminvgauss.cdf(x, a=alpha*delta, b=beta*delta, loc=mu, scale=delta)"
   ]
  },
  {
   "cell_type": "code",
   "execution_count": 271,
   "id": "427df748-726a-49f2-ac2b-6e64806bac63",
   "metadata": {},
   "outputs": [
    {
     "data": {
      "text/plain": [
       "(0.5545528870294041, 7)"
      ]
     },
     "execution_count": 271,
     "metadata": {},
     "output_type": "execute_result"
    }
   ],
   "source": [
    "series_x_mu_b0(x, alpha, mu, delta, maxiter=200, eps=1e-16)"
   ]
  },
  {
   "cell_type": "code",
   "execution_count": 272,
   "id": "3f122c94-63a9-4e02-9d71-0b0bddceafeb",
   "metadata": {},
   "outputs": [
    {
     "data": {
      "text/plain": [
       "(0.5545528870294021, 7)"
      ]
     },
     "execution_count": 272,
     "metadata": {},
     "output_type": "execute_result"
    }
   ],
   "source": [
    "# %%timeit\n",
    "series_x_mu_b0_pos(x, alpha, mu, delta, maxiter=300, eps=1e-16)"
   ]
  },
  {
   "cell_type": "code",
   "execution_count": 273,
   "id": "17262f76-066e-48f6-8033-1eeabeaae289",
   "metadata": {},
   "outputs": [
    {
     "data": {
      "text/plain": [
       "(0.5545528870294021, 5)"
      ]
     },
     "execution_count": 273,
     "metadata": {},
     "output_type": "execute_result"
    }
   ],
   "source": [
    "# %%timeit\n",
    "series_x_mu_b0_pos_robust(x, alpha, mu, delta, maxiter=10000, eps=1e-16)"
   ]
  },
  {
   "cell_type": "code",
   "execution_count": 83,
   "id": "7d2a4025-cffa-42a6-ae61-07eaea7a1885",
   "metadata": {},
   "outputs": [
    {
     "data": {
      "text/plain": [
       "(0.9962281954937962, 691)"
      ]
     },
     "execution_count": 83,
     "metadata": {},
     "output_type": "execute_result"
    }
   ],
   "source": [
    "R = 1\n",
    "series_x_mu_b0_pos_robust(x * R, alpha / R, mu * R, delta * R, maxiter=10000, eps=1e-16)"
   ]
  },
  {
   "cell_type": "code",
   "execution_count": 84,
   "id": "76ad7e11-622e-4d55-b479-ec2941d1af82",
   "metadata": {},
   "outputs": [
    {
     "data": {
      "text/plain": [
       "2.0"
      ]
     },
     "execution_count": 84,
     "metadata": {},
     "output_type": "execute_result"
    }
   ],
   "source": [
    "1.0 - series_x_mu_b0_pos(-x, alpha, -mu, delta, maxiter=300, eps=1e-15)[0]"
   ]
  },
  {
   "cell_type": "code",
   "execution_count": 93,
   "id": "06b9a3d9-cc6c-4d5c-b7d8-878ee9c4326b",
   "metadata": {},
   "outputs": [
    {
     "name": "stdout",
     "output_type": "stream",
     "text": [
      "1 3.2009452135529144\n",
      "2 0.01220754307856445\n",
      "3 0.05915052119024291\n",
      "4 0.0669058057772695\n",
      "5 3.3581502465627047\n",
      "6 31.3017610524253\n",
      "7 228.1181996898417\n",
      "8 13024.438803455094\n",
      "9 227634.2377705752\n",
      "10 32929.65031190086\n",
      "11 159712151.23116252\n",
      "12 6837941707.773194\n",
      "13 164498363000.56552\n",
      "14 225652796460.27463\n",
      "15 241409257864499.75\n",
      "16 1.6937549931807648e+16\n",
      "17 7.588329351809332e+17\n",
      "18 2.068381934149535e+19\n",
      "19 2.759210069858186e+20\n",
      "20 9.041770391363579e+22\n",
      "21 8.151952297308936e+24\n",
      "22 5.2311832498705064e+26\n",
      "23 2.4402991207633953e+28\n",
      "24 4.499546210186982e+29\n",
      "25 7.027962962358093e+31\n",
      "26 1.1945624506570638e+34\n",
      "27 1.2353588737316213e+36\n",
      "28 1.004350177066278e+38\n",
      "29 6.359109034907756e+39\n",
      "30 2.24507014383254e+41\n",
      "31 1.6539232548142876e+43\n",
      "32 4.8974890689386915e+45\n",
      "33 7.174297836737704e+47\n",
      "34 8.249883165570565e+49\n",
      "35 7.936089055033496e+51\n",
      "36 6.081044377314475e+53\n",
      "37 2.5808098334028966e+55\n",
      "38 2.582916901077279e+57\n",
      "39 9.270748209721241e+59\n",
      "40 1.7066581609062356e+62\n",
      "41 2.5094835860896867e+64\n",
      "42 3.1754918523339933e+66\n",
      "43 3.4357452054757335e+68\n",
      "44 2.8664497318357494e+70\n",
      "45 8.38442965529246e+71\n",
      "46 3.5217441110208614e+74\n",
      "47 1.1320215761574583e+77\n",
      "48 2.3749721439215217e+79\n",
      "49 4.1642932615205255e+81\n",
      "50 6.441280225925021e+83\n",
      "51 8.782473537084959e+85\n",
      "52 9.96687098827789e+87\n",
      "53 7.18815652685339e+89\n",
      "54 5.287918442789133e+91\n",
      "55 3.823272889292807e+94\n",
      "56 1.1037437895101091e+97\n",
      "57 2.514713436293422e+99\n",
      "58 5.028142492124938e+101\n",
      "59 9.071208375935227e+103\n",
      "60 1.4672789809336409e+106\n",
      "61 2.0257422686624467e+108\n",
      "62 1.9587317872865807e+110\n",
      "63 5.333921981587718e+111\n",
      "64 9.961175945088242e+114\n",
      "65 3.664646101815469e+117\n",
      "66 1.0248969955002576e+120\n",
      "67 2.5044814507277348e+122\n",
      "68 5.565722783564906e+124\n",
      "69 1.1337664700231492e+127\n",
      "70 2.0841938360768363e+129\n",
      "71 3.262679446727951e+131\n",
      "72 3.4575664595908044e+133\n",
      "73 2.0547899037518198e+135\n",
      "74 2.818342061509817e+138\n",
      "75 1.1701851060981473e+141\n",
      "76 3.784087026145577e+143\n",
      "77 1.080010704547798e+146\n",
      "78 2.8278577418233113e+148\n",
      "79 6.867920311609992e+150\n",
      "80 1.5375402267993262e+153\n",
      "81 3.081409288433948e+155\n",
      "82 5.049968564572166e+157\n",
      "83 4.2641676005863324e+159\n",
      "84 1.4042522339178167e+162\n",
      "85 1.0453548993466507e+165\n",
      "86 4.4771958206601663e+167\n",
      "87 1.5954675790411963e+170\n",
      "88 5.131233589417307e+172\n",
      "89 1.5321802122085239e+175\n",
      "90 4.284080826567063e+177\n",
      "91 1.1166806582222504e+180\n",
      "92 2.6572065486968226e+182\n",
      "93 5.442372106702162e+184\n",
      "94 7.720294363126108e+186\n",
      "95 4.6996268204121816e+188\n",
      "96 1.0063040079108996e+192\n",
      "97 5.6023829531128676e+194\n",
      "98 2.4191973409460716e+197\n",
      "99 9.254958632933535e+199\n",
      "100 inf\n",
      "101 nan\n",
      "102 nan\n",
      "103 nan\n",
      "104 nan\n",
      "105 nan\n",
      "106 nan\n",
      "107 nan\n",
      "108 nan\n",
      "109 nan\n",
      "110 nan\n",
      "111 nan\n",
      "112 nan\n",
      "113 nan\n",
      "114 nan\n",
      "115 nan\n",
      "116 nan\n",
      "117 nan\n",
      "118 nan\n",
      "119 nan\n",
      "120 nan\n",
      "121 nan\n",
      "122 nan\n",
      "123 nan\n",
      "124 nan\n",
      "125 nan\n",
      "126 nan\n",
      "127 nan\n",
      "128 nan\n",
      "129 nan\n",
      "130 nan\n",
      "131 nan\n",
      "132 nan\n",
      "133 nan\n",
      "134 nan\n",
      "135 nan\n",
      "136 nan\n",
      "137 nan\n",
      "138 nan\n",
      "139 nan\n",
      "140 nan\n",
      "141 nan\n",
      "142 nan\n",
      "143 nan\n",
      "144 nan\n",
      "145 nan\n",
      "146 nan\n",
      "147 nan\n",
      "148 nan\n",
      "149 nan\n",
      "150 nan\n",
      "151 nan\n",
      "152 nan\n",
      "153 nan\n",
      "154 nan\n",
      "155 nan\n",
      "156 nan\n",
      "157 nan\n",
      "158 nan\n",
      "159 nan\n",
      "160 nan\n",
      "161 nan\n",
      "162 nan\n",
      "163 nan\n",
      "164 nan\n",
      "165 nan\n",
      "166 nan\n",
      "167 nan\n",
      "168 nan\n",
      "169 nan\n",
      "170 nan\n",
      "171 nan\n",
      "172 nan\n",
      "173 nan\n",
      "174 nan\n",
      "175 nan\n",
      "176 nan\n",
      "177 nan\n",
      "178 nan\n",
      "179 nan\n",
      "180 nan\n",
      "181 nan\n",
      "182 nan\n",
      "183 nan\n",
      "184 nan\n",
      "185 nan\n",
      "186 nan\n",
      "187 nan\n",
      "188 nan\n",
      "189 nan\n",
      "190 nan\n",
      "191 nan\n",
      "192 nan\n",
      "193 nan\n",
      "194 nan\n",
      "195 nan\n",
      "196 nan\n",
      "197 nan\n",
      "198 nan\n",
      "199 nan\n"
     ]
    },
    {
     "name": "stderr",
     "output_type": "stream",
     "text": [
      "/home/gui/projects/nig/normal-inverse-gaussian/code/series.py:280: RuntimeWarning: overflow encountered in scalar multiply\n",
      "  # ck2 = ((k - 1) * c1 * (xmu**2 - 4*b*(k - 2) - 3*b) - (2*(k - 2)**2 + k - 2) * c0) / (2*b**2 * (k - 1) * (k))\n",
      "/home/gui/projects/nig/normal-inverse-gaussian/code/series.py:280: RuntimeWarning: invalid value encountered in scalar subtract\n",
      "  # ck2 = ((k - 1) * c1 * (xmu**2 - 4*b*(k - 2) - 3*b) - (2*(k - 2)**2 + k - 2) * c0) / (2*b**2 * (k - 1) * (k))\n",
      "/home/gui/projects/nig/normal-inverse-gaussian/code/series.py:289: RuntimeWarning: overflow encountered in scalar multiply\n",
      "  else:\n"
     ]
    },
    {
     "data": {
      "text/plain": [
       "(nan, 199)"
      ]
     },
     "execution_count": 93,
     "metadata": {},
     "output_type": "execute_result"
    }
   ],
   "source": [
    "asymptotic_alpha_b0(x, alpha, mu, delta, eps=1e-3)"
   ]
  },
  {
   "cell_type": "code",
   "execution_count": 86,
   "id": "8a601226-ce8b-47f3-9536-13d074d5378f",
   "metadata": {},
   "outputs": [],
   "source": [
    "aa = np.array([\n",
    "4337.65080731929,\n",
    "5810969.79668592,\n",
    "972699524.337313,\n",
    "5529274039889.426,\n",
    "4613705067320761.0,\n",
    "2.486706291478932e+18,\n",
    "8.934409419707112e+21,\n",
    "8.545811798791736e+24,\n",
    "5.983612904201487e+25,\n",
    "1.2588539177779772e+31,\n",
    "2.117723970364492e+34,\n",
    "1.8293037458490087e+37,\n",
    "8.295187152185425e+38,\n",
    "2.717731026352441e+43,\n",
    "5.439001284669284e+46,\n",
    "6.504523811379845e+49,\n",
    "4.447034865831982e+52\n",
    "])"
   ]
  },
  {
   "cell_type": "code",
   "execution_count": 87,
   "id": "bf778e0e-6732-44f6-83cb-b3ca88fbc186",
   "metadata": {},
   "outputs": [
    {
     "data": {
      "text/plain": [
       "[<matplotlib.lines.Line2D at 0x7fecaf6b79a0>]"
      ]
     },
     "execution_count": 87,
     "metadata": {},
     "output_type": "execute_result"
    },
    {
     "data": {
      "image/png": "[encoded data removed]",
      "text/plain": [
       "<Figure size 640x480 with 1 Axes>"
      ]
     },
     "metadata": {},
     "output_type": "display_data"
    }
   ],
   "source": [
    "plt.plot(aa[1:] / aa[:-1])"
   ]
  },
  {
   "cell_type": "code",
   "execution_count": null,
   "id": "2e6a0dae-1052-425a-8c39-ae67dd0341eb",
   "metadata": {},
   "outputs": [],
   "source": []
  },
  {
   "cell_type": "code",
   "execution_count": 387,
   "id": "bf076ad1-45ff-44f5-87d4-029e8516e8bb",
   "metadata": {},
   "outputs": [
    {
     "data": {
      "text/plain": [
       "array([-1094.44582475,  -729.63054983,  -547.22291238,  -437.7783299 ,\n",
       "        -364.81527492,  -312.69880707,  -273.61145619,  -243.21018328,\n",
       "        -218.88916495,  -198.99014995,  -182.40763746,  -168.37628073,\n",
       "        -156.34940354,  -145.92610997])"
      ]
     },
     "execution_count": 387,
     "metadata": {},
     "output_type": "execute_result"
    }
   ],
   "source": [
    "2/((delta/alpha) * np.arange(2, 16)) - 1/((delta/alpha)**2 * np.arange(2, 16))"
   ]
  },
  {
   "cell_type": "code",
   "execution_count": 388,
   "id": "b55ffe20-a812-4bbf-9759-8dacf370e0fd",
   "metadata": {},
   "outputs": [
    {
     "name": "stderr",
     "output_type": "stream",
     "text": [
      "/home/gui/projects/nig/normal-inverse-gaussian/code/series.py:216: RuntimeWarning: overflow encountered in scalar multiply\n",
      "  s += num * knn\n",
      "/home/gui/projects/nig/normal-inverse-gaussian/code/series.py:216: RuntimeWarning: invalid value encountered in scalar add\n",
      "  s += num * knn\n",
      "/home/gui/projects/nig/normal-inverse-gaussian/code/series.py:215: RuntimeWarning: overflow encountered in scalar multiply\n",
      "  num *= -woa * oxmu2 * (2 * k - 1)\n"
     ]
    },
    {
     "data": {
      "text/plain": [
       "(-1, 200)"
      ]
     },
     "execution_count": 388,
     "metadata": {},
     "output_type": "execute_result"
    }
   ],
   "source": [
    "asymtotic_x_mu_b0_neg(-x, alpha, -mu, delta, eps=1e-8)"
   ]
  },
  {
   "cell_type": "code",
   "execution_count": 95,
   "id": "024da400-f70a-4d6e-8f26-4da7eae7b808",
   "metadata": {},
   "outputs": [],
   "source": [
    "from mpmath import *"
   ]
  },
  {
   "cell_type": "code",
   "execution_count": 390,
   "id": "0ae174bf-e7fd-424c-92a3-cc0c711fd20a",
   "metadata": {},
   "outputs": [
    {
     "data": {
      "text/plain": [
       "mpf('0.75446211444966825111447929805119243581973944313213231')"
      ]
     },
     "execution_count": 390,
     "metadata": {},
     "output_type": "execute_result"
    }
   ],
   "source": [
    "mp.dps = 50\n",
    "\n",
    "def fun_k0(t):\n",
    "    C = sqrt(2) * delta * exp(delta * alpha) / pi\n",
    "    r = exp(sqrt(2) * (x - mu) * t)\n",
    "    w = sqrt(2 * ((x - mu) ** 2 + delta ** 2)) * sqrt(alpha ** 2 / 2 + t** 2)\n",
    "    q = besselk(0, w)\n",
    "    return C * r * q\n",
    "\n",
    "quad(fun_k0, [0, inf])"
   ]
  },
  {
   "cell_type": "code",
   "execution_count": 100,
   "id": "608f6500-1507-49c0-bdd7-604d44b896e1",
   "metadata": {},
   "outputs": [
    {
     "data": {
      "text/plain": [
       "mpf('0.996228195493847729055627164450953363535865333080443190706989629383794177692787447785743882684575060883')"
      ]
     },
     "execution_count": 100,
     "metadata": {},
     "output_type": "execute_result"
    }
   ],
   "source": [
    "mp.dps = 100\n",
    "\n",
    "def normcdf(x):\n",
    "    return erfc(-x / sqrt(2)) / 2\n",
    "\n",
    "def fun_phi(t):\n",
    "    C = delta / sqrt(2 * pi)\n",
    "    return C * normcdf((x - mu) / sqrt(t)) * t ** (-3/2) * exp(-(delta - alpha * t) ** 2 / 2 / t)\n",
    "\n",
    "alpha = mpmathify(alpha)\n",
    "mu = mpmathify(mu)\n",
    "delta = mpmathify(delta)\n",
    "x = mpmathify(x)\n",
    "\n",
    "quad(fun_phi, [0, inf])"
   ]
  },
  {
   "cell_type": "code",
   "execution_count": 392,
   "id": "84522f79-324f-42a6-8f00-72243ba3605a",
   "metadata": {},
   "outputs": [
    {
     "data": {
      "text/plain": [
       "mpf('0.7544621144496695879632801922077685901884189736740918450042253966516245885921370383133683165869921209949')"
      ]
     },
     "execution_count": 392,
     "metadata": {},
     "output_type": "execute_result"
    }
   ],
   "source": [
    "quad(fun_phi, [0, 1])"
   ]
  },
  {
   "cell_type": "markdown",
   "id": "e21fead8-2eff-45cc-b69e-a919992d4c25",
   "metadata": {},
   "source": [
    "Alternative integral representation"
   ]
  },
  {
   "cell_type": "code",
   "execution_count": 393,
   "id": "855e98a6-8b22-4586-b614-ed37de71fc54",
   "metadata": {},
   "outputs": [
    {
     "data": {
      "text/plain": [
       "mpf('0.7544621144496695879632801922077685901884189736740918450042253966516245885921370383133683165869921209949')"
      ]
     },
     "execution_count": 393,
     "metadata": {},
     "output_type": "execute_result"
    }
   ],
   "source": [
    "def fun_phi2(u):\n",
    "    C = delta * exp(delta * alpha) / sqrt(2*pi)\n",
    "    return C * 2 * normcdf((x-mu)*u) * exp(-delta**2/2 * u**2) * exp(-alpha**2/2/u**2)\n",
    "\n",
    "quad(fun_phi2, [0, inf])"
   ]
  },
  {
   "cell_type": "code",
   "execution_count": 394,
   "id": "75b9e468-7162-43e5-b1c0-45bfd8cf4dd5",
   "metadata": {},
   "outputs": [
    {
     "name": "stdout",
     "output_type": "stream",
     "text": [
      "3.8212133642941114641654442422751893024066923154884e-23\n"
     ]
    }
   ],
   "source": [
    "mp.dps = 50\n",
    "\n",
    "omega = sqrt(delta**2 + (x-mu)**2)\n",
    "\n",
    "s = 0\n",
    "z = (x-mu)**2 * alpha / omega\n",
    "\n",
    "for k in range(50):\n",
    "    r = z**k / fac2(2*k + 1)\n",
    "    q = besselk(k+1, alpha * omega)\n",
    "    s += r * q\n",
    "    \n",
    "print(s)\n",
    "s *= (x-mu) * alpha / omega"
   ]
  },
  {
   "cell_type": "code",
   "execution_count": 395,
   "id": "63ebcd28-83c6-4e27-8251-ca34da1847e1",
   "metadata": {},
   "outputs": [
    {
     "data": {
      "text/plain": [
       "mpf('0.75446211444966958796328019220776859018841897367409426')"
      ]
     },
     "execution_count": 395,
     "metadata": {},
     "output_type": "execute_result"
    }
   ],
   "source": [
    "C = delta * exp(delta * alpha) / pi\n",
    "s * C + 1/2"
   ]
  },
  {
   "cell_type": "code",
   "execution_count": 396,
   "id": "f3de4b2d-fcc5-4af3-b64d-15e6efbfaee3",
   "metadata": {},
   "outputs": [
    {
     "name": "stdout",
     "output_type": "stream",
     "text": [
      "3.2468577885928652919450145918262849301744574489863e-23\n",
      "3.7664756534467878550160509749312873665926397921791e-23\n",
      "3.8173665681118535044307321452644783140333263557571e-23\n",
      "3.8209977198326537379489849423384705281705410818037e-23\n",
      "3.8212032467501164704835387396799015752866498346902e-23\n",
      "3.8212129539274506299938190335176801629897518197633e-23\n",
      "3.8212133495663748150052658760654442013095279312817e-23\n",
      "3.8212133638181474707629851776505556864310772382647e-23\n",
      "3.8212133642800699453111868011157294260829312814384e-23\n",
      "3.8212133642937291668779621441086874771298458837436e-23\n"
     ]
    }
   ],
   "source": [
    "b = alpha * omega\n",
    "\n",
    "s = 0\n",
    "for k in range(10):\n",
    "    s += z**k * besselk(k+1, alpha * omega) / fac2(2*k + 1)\n",
    "    print(s)\n"
   ]
  },
  {
   "cell_type": "code",
   "execution_count": 397,
   "id": "4cf1276c-84cf-40ae-939c-3a8afdf068d1",
   "metadata": {},
   "outputs": [],
   "source": [
    "y0 = 0\n",
    "y1 = besselk(1, b)\n",
    "y2 = y1 + z * besselk(2, b) / 3\n",
    "\n",
    "y = [y0, y1, y2]\n",
    "\n",
    "for n in range(20):\n",
    "    num = -(b*z**2*y[n] -z*(-12 -14*n -4*n**2 + b*z) * y[n+1] - (3+2*n) * (5*b + 2*n*b + 4*z + 2*n*z)*y[n+2])\n",
    "    den = ((3+2*n)*(5+2*n)*b)\n",
    "    yn = num / den\n",
    "    # print(num, den)\n",
    "    y.append(yn)\n"
   ]
  },
  {
   "cell_type": "code",
   "execution_count": 398,
   "id": "496581b1-215f-4bcd-b4db-e79270724d6d",
   "metadata": {},
   "outputs": [
    {
     "data": {
      "text/plain": [
       "mpf('3.8212133642941114641654442422751881753495096003816664e-23')"
      ]
     },
     "execution_count": 398,
     "metadata": {},
     "output_type": "execute_result"
    }
   ],
   "source": [
    "y[-1]"
   ]
  },
  {
   "cell_type": "code",
   "execution_count": 399,
   "id": "244496de-c2b9-41be-9fea-32b789397c43",
   "metadata": {},
   "outputs": [
    {
     "data": {
      "text/plain": [
       "mpf('0.75446211444966958796328019220776851513546419778900785')"
      ]
     },
     "execution_count": 399,
     "metadata": {},
     "output_type": "execute_result"
    }
   ],
   "source": [
    "C = delta * exp(delta * alpha) / pi\n",
    "y[-1] * C * (x-mu) * alpha / omega + 1/2"
   ]
  },
  {
   "cell_type": "code",
   "execution_count": 400,
   "id": "f9d5c8eb-5b9b-4f51-948e-9e8960adadbf",
   "metadata": {},
   "outputs": [
    {
     "data": {
      "text/plain": [
       "mpf('1.0192367970273326248700851043728070337545476305903615')"
      ]
     },
     "execution_count": 400,
     "metadata": {},
     "output_type": "execute_result"
    }
   ],
   "source": [
    "k = 11\n",
    "\n",
    "(3 + 2*k) * ((5 + 2*k) * alpha * omega + 2*(2+k)) / ((3 + 2*k) * (5 + 2*k) * alpha * omega)"
   ]
  },
  {
   "cell_type": "code",
   "execution_count": 401,
   "id": "8c115886-fc05-4f7e-84e7-26170ef6262a",
   "metadata": {},
   "outputs": [],
   "source": [
    "k = 11\n",
    "tp = ((x-mu)**2 * alpha / omega)**k / fac2(2*k + 1) * besselk(k+1, alpha * omega)"
   ]
  },
  {
   "cell_type": "code",
   "execution_count": 402,
   "id": "f665ca63-7842-46df-83e1-545abca8f840",
   "metadata": {},
   "outputs": [],
   "source": [
    "k = 12\n",
    "tp1 = ((x-mu)**2 * alpha / omega)**k / fac2(2*k + 1) * besselk(k+1, alpha * omega)"
   ]
  },
  {
   "cell_type": "code",
   "execution_count": 403,
   "id": "4fda8fc5-0b7c-4639-95da-b6a633b964d0",
   "metadata": {},
   "outputs": [],
   "source": [
    "C = abs(tp1 / tp)"
   ]
  },
  {
   "cell_type": "code",
   "execution_count": 404,
   "id": "0b71d869-c6e5-44b1-ae73-b0d92adce36c",
   "metadata": {},
   "outputs": [
    {
     "data": {
      "text/plain": [
       "mpf('0.023815867970023516857080501659353911052230006095316676')"
      ]
     },
     "execution_count": 404,
     "metadata": {},
     "output_type": "execute_result"
    }
   ],
   "source": [
    "C"
   ]
  },
  {
   "cell_type": "code",
   "execution_count": 405,
   "id": "b0c1b609-d1a1-47ab-9da4-7725018c5d4e",
   "metadata": {},
   "outputs": [],
   "source": [
    "k = 7\n",
    "tp = ((x-mu)**2 * alpha / omega)**k / fac2(2*k + 1) * besselk(k+1, alpha * omega)\n",
    "C = (x-mu)**2 * alpha / omega / (2*k + 3) *  besselk(k+2, alpha * omega) /  besselk(k+1, alpha * omega)"
   ]
  },
  {
   "cell_type": "code",
   "execution_count": 406,
   "id": "f2244476-cfe5-41c0-b0e8-eaaa9228f465",
   "metadata": {},
   "outputs": [
    {
     "data": {
      "text/plain": [
       "mpf('7.1485069726954936880812278881552154783980404882824824e-23')"
      ]
     },
     "execution_count": 406,
     "metadata": {},
     "output_type": "execute_result"
    }
   ],
   "source": [
    "besselk(k+2, alpha * omega)"
   ]
  },
  {
   "cell_type": "code",
   "execution_count": 407,
   "id": "d1ac8ff0-8976-478b-a116-865499fbf8fd",
   "metadata": {},
   "outputs": [
    {
     "data": {
      "text/plain": [
       "mpf('0.0000000052296075423202436198462382573143408964706757668023874')"
      ]
     },
     "execution_count": 407,
     "metadata": {},
     "output_type": "execute_result"
    }
   ],
   "source": [
    "mp.gamma(k+2) * 2**(k+1) / (alpha * omega)**(k+2)"
   ]
  },
  {
   "cell_type": "code",
   "execution_count": 408,
   "id": "949a1728-fd94-489b-b352-4dffb3326111",
   "metadata": {},
   "outputs": [
    {
     "data": {
      "text/plain": [
       "mpf('1.2246507802454180153826523804101496679960203078713227e-22')"
      ]
     },
     "execution_count": 408,
     "metadata": {},
     "output_type": "execute_result"
    }
   ],
   "source": [
    "1 / (alpha * omega * besseli(k+1, alpha * omega))"
   ]
  },
  {
   "cell_type": "code",
   "execution_count": 409,
   "id": "58687580-bce5-470e-b16d-0c3c50f3fbfd",
   "metadata": {},
   "outputs": [
    {
     "data": {
      "text/plain": [
       "(mpf('163121390671656572729.89081418112815867783859348561007'),\n",
       " mpf('3819918.3541817071373322841382600604418757940040450421'))"
      ]
     },
     "execution_count": 409,
     "metadata": {},
     "output_type": "execute_result"
    }
   ],
   "source": [
    "besseli(k+1, alpha * omega), (alpha * omega / 2)**(k+1) / mp.gamma(k+2)"
   ]
  },
  {
   "cell_type": "code",
   "execution_count": 410,
   "id": "97482217-c017-4ace-b213-df20c56a5872",
   "metadata": {},
   "outputs": [
    {
     "data": {
      "text/plain": [
       "(mpf('2027025.0'), mpf('2027025.0'))"
      ]
     },
     "execution_count": 410,
     "metadata": {},
     "output_type": "execute_result"
    }
   ],
   "source": [
    "fac2(2*k + 1) , factorial(2*k + 1) / (factorial(k) * 2**k)"
   ]
  },
  {
   "cell_type": "code",
   "execution_count": 411,
   "id": "271ac2aa-bbb9-4f6d-a903-a09bbd98e615",
   "metadata": {},
   "outputs": [
    {
     "data": {
      "text/plain": [
       "mpf('0.31825951825951825951825951825951825951825951825951826')"
      ]
     },
     "execution_count": 411,
     "metadata": {},
     "output_type": "execute_result"
    }
   ],
   "source": [
    "mp.gamma(k + 1)*2**k / fac2(2*k + 1)"
   ]
  },
  {
   "cell_type": "code",
   "execution_count": 412,
   "id": "9422d07f-cda4-4833-ba93-d12a4b94cedf",
   "metadata": {},
   "outputs": [
    {
     "data": {
      "text/plain": [
       "mpf('0.31825951825951825951825951825951825951825951825951826')"
      ]
     },
     "execution_count": 412,
     "metadata": {},
     "output_type": "execute_result"
    }
   ],
   "source": [
    "(factorial(k) * 2**k) ** 2 / factorial(2*k + 1) "
   ]
  },
  {
   "cell_type": "code",
   "execution_count": 413,
   "id": "15c46c5c-2188-45d7-8983-1ed1e7130c96",
   "metadata": {},
   "outputs": [
    {
     "data": {
      "text/plain": [
       "mpf('0.31825951825951825951825951825951825951825951825951759')"
      ]
     },
     "execution_count": 413,
     "metadata": {},
     "output_type": "execute_result"
    }
   ],
   "source": [
    "sqrt(pi) / 2 * mp.gamma(k+1) / mp.gamma(k + 3/2)"
   ]
  },
  {
   "cell_type": "code",
   "execution_count": 414,
   "id": "ba437e6e-c5a8-4855-a5f1-440f3ad4753e",
   "metadata": {},
   "outputs": [
    {
     "data": {
      "text/plain": [
       "mpf('0.31825951825951825951825951825951825951825951825951826')"
      ]
     },
     "execution_count": 414,
     "metadata": {},
     "output_type": "execute_result"
    }
   ],
   "source": [
    "sqrt(pi) / 2 * mp.gamma(k+1) / mp.gamma(k + 1/2) / (k + 1/2)"
   ]
  },
  {
   "cell_type": "code",
   "execution_count": 415,
   "id": "637b67c2-9a8f-48c5-83aa-79392332b7a3",
   "metadata": {},
   "outputs": [
    {
     "data": {
      "text/plain": [
       "(mpf('0.35911741013389428925242166800200847111378886988835732'),\n",
       " mpf('0.36514837167011074230464652186720142263516312999865576'))"
      ]
     },
     "execution_count": 415,
     "metadata": {},
     "output_type": "execute_result"
    }
   ],
   "source": [
    "mp.gamma(k+1) / mp.gamma(k + 3/2), 1 / sqrt(k + 1/2)"
   ]
  },
  {
   "cell_type": "code",
   "execution_count": 416,
   "id": "313b2ae0-425b-4b38-a821-c33dc96f119c",
   "metadata": {},
   "outputs": [
    {
     "data": {
      "text/plain": [
       "(mpf('1.4251772655757719301585111485121549306982978020874877e-31'),\n",
       " mpf('3.9210627479769157542765850122825062703317345297424862e-17'))"
      ]
     },
     "execution_count": 416,
     "metadata": {},
     "output_type": "execute_result"
    }
   ],
   "source": [
    "tp, 1/2 * sqrt(pi / (k + 1/2)) * ((x-mu) / omega) ** (2*k) / (alpha * omega)"
   ]
  },
  {
   "cell_type": "code",
   "execution_count": 417,
   "id": "29bd7c13-b454-45ce-8aa8-d58e8320e910",
   "metadata": {},
   "outputs": [
    {
     "data": {
      "text/plain": [
       "mpf('1.1822012298139087722248822522818195917229312388166876')"
      ]
     },
     "execution_count": 417,
     "metadata": {},
     "output_type": "execute_result"
    }
   ],
   "source": [
    "besselk(k+2, alpha * omega) /  besselk(k+1, alpha * omega)"
   ]
  },
  {
   "cell_type": "code",
   "execution_count": 418,
   "id": "ae501493-64ca-41db-93ab-113475da9dd5",
   "metadata": {},
   "outputs": [
    {
     "data": {
      "text/plain": [
       "mpf('1.1841155975198032941857053331022994933855106611459221')"
      ]
     },
     "execution_count": 418,
     "metadata": {},
     "output_type": "execute_result"
    }
   ],
   "source": [
    "(k+2 - 1/2 + sqrt((k+2-1/2)**2 + (alpha * omega)**2)) / (alpha * omega)"
   ]
  },
  {
   "cell_type": "code",
   "execution_count": 419,
   "id": "bae18498-aa0b-4672-b847-b93f60658deb",
   "metadata": {},
   "outputs": [
    {
     "data": {
      "text/plain": [
       "mpf('1.3171729865278467640660062804765700463346415260804779')"
      ]
     },
     "execution_count": 419,
     "metadata": {},
     "output_type": "execute_result"
    }
   ],
   "source": [
    "(k+1 + sqrt((k+1)**2 + (alpha * omega)**2)*(k+1)/k) / (alpha * omega)"
   ]
  },
  {
   "cell_type": "code",
   "execution_count": 420,
   "id": "17d34632-73df-48bd-96f7-2b4940e53de4",
   "metadata": {},
   "outputs": [
    {
     "data": {
      "text/plain": [
       "mpf('3.8952256030177593534403134929887320998074993161510062')"
      ]
     },
     "execution_count": 420,
     "metadata": {},
     "output_type": "execute_result"
    }
   ],
   "source": [
    "2*(k+1)/(alpha * omega) + alpha * omega / (2*(k+1 - 1))"
   ]
  },
  {
   "cell_type": "code",
   "execution_count": 421,
   "id": "42f189a5-c5cc-4fa3-9268-3ee66ca00c65",
   "metadata": {},
   "outputs": [
    {
     "data": {
      "text/plain": [
       "mpf('1.1698017276066475926032512097522774710257185084803049')"
      ]
     },
     "execution_count": 421,
     "metadata": {},
     "output_type": "execute_result"
    }
   ],
   "source": [
    "1 + ((k+1) + 1/2) / (alpha * omega)"
   ]
  },
  {
   "cell_type": "code",
   "execution_count": 422,
   "id": "f0e4aa7a-e546-45a0-873b-70c4f67e3bfe",
   "metadata": {},
   "outputs": [
    {
     "data": {
      "text/plain": [
       "1.4729168276836801e-31"
      ]
     },
     "execution_count": 422,
     "metadata": {},
     "output_type": "execute_result"
    }
   ],
   "source": [
    "float(abs(tp) / (1 - C))"
   ]
  },
  {
   "cell_type": "code",
   "execution_count": 268,
   "id": "93c27b16-282d-4b44-a458-60a11ebcda95",
   "metadata": {},
   "outputs": [
    {
     "data": {
      "text/plain": [
       "mpf('0.95668775572332147965669762451194698258815932964914538')"
      ]
     },
     "execution_count": 268,
     "metadata": {},
     "output_type": "execute_result"
    }
   ],
   "source": [
    "C"
   ]
  },
  {
   "cell_type": "code",
   "execution_count": 158,
   "id": "a4628ddb-4354-4375-84ac-f494b8f1c739",
   "metadata": {},
   "outputs": [
    {
     "data": {
      "text/plain": [
       "9.692074280496372e-38"
      ]
     },
     "execution_count": 158,
     "metadata": {},
     "output_type": "execute_result"
    }
   ],
   "source": [
    "float(sum(((x-mu)**2 * alpha / omega)**k / fac2(2*k + 1) * besselk(k+1, alpha * omega) for k in range(11, 30)))"
   ]
  },
  {
   "cell_type": "code",
   "execution_count": 104,
   "id": "c78fc0a5-f303-498c-85d9-c32188ad287e",
   "metadata": {},
   "outputs": [
    {
     "data": {
      "text/plain": [
       "mpf('1866230.6829720216341880144726420436427690051333801994')"
      ]
     },
     "execution_count": 104,
     "metadata": {},
     "output_type": "execute_result"
    }
   ],
   "source": [
    "(x-mu)**2 * alpha / omega * fac2(2*k + 1) / fac2(2*(k-1) + 1) * besselk(k+1, alpha * omega) / besselk(k, alpha * omega)"
   ]
  },
  {
   "cell_type": "code",
   "execution_count": 110,
   "id": "b5ed1af9-3153-4735-a476-8b8b44c54d49",
   "metadata": {},
   "outputs": [
    {
     "data": {
      "text/plain": [
       "mpf('0.00071581961345740873299928418038654259126700071581961321')"
      ]
     },
     "execution_count": 110,
     "metadata": {},
     "output_type": "execute_result"
    }
   ],
   "source": []
  },
  {
   "cell_type": "code",
   "execution_count": 111,
   "id": "ba44f103-61ea-4421-84f7-4b05aa3368e9",
   "metadata": {},
   "outputs": [
    {
     "data": {
      "text/plain": [
       "mpf('0.0000025318675114938183790976010935617672171091893051784088')"
      ]
     },
     "execution_count": 111,
     "metadata": {},
     "output_type": "execute_result"
    }
   ],
   "source": [
    " besselk(k, alpha * omega) / besselk(k+1, alpha * omega) * fac2(2*(k-1) + 1) / fac2(2*k + 1)"
   ]
  },
  {
   "cell_type": "code",
   "execution_count": 261,
   "id": "e7fff39e-f058-4c31-9f11-44dd2a318db4",
   "metadata": {},
   "outputs": [
    {
     "data": {
      "text/plain": [
       "1.0414323707533917"
      ]
     },
     "execution_count": 261,
     "metadata": {},
     "output_type": "execute_result"
    }
   ],
   "source": [
    "special.erfc(-(x-mu)/np.sqrt(2)/np.sqrt(delta/alpha))"
   ]
  },
  {
   "cell_type": "code",
   "execution_count": 18,
   "id": "d4d114f8-a442-424c-9fb1-5df46e26819c",
   "metadata": {},
   "outputs": [
    {
     "name": "stdout",
     "output_type": "stream",
     "text": [
      "0.000000000002671296348822753608404042605394311922554930937587186352434722231076156654363482158410658748064487048\n"
     ]
    }
   ],
   "source": [
    "mp.dps = 100\n",
    "\n",
    "def fun_k1(t):\n",
    "    C = alpha * delta / pi\n",
    "    r = sqrt(delta ** 2 + (t - mu) ** 2)\n",
    "    return C * besselk(1, alpha * r) / r * exp(delta * alpha)\n",
    "\n",
    "print(quad(fun_k1, [-inf, x]))\n",
    "\n",
    "mp.dps = 50"
   ]
  },
  {
   "cell_type": "markdown",
   "id": "f331a8de-f4da-4359-9fd7-4be1ae4d59fc",
   "metadata": {},
   "source": [
    "Expansion"
   ]
  },
  {
   "cell_type": "code",
   "execution_count": 96,
   "id": "8f802b22-89be-475a-a8a7-9d67629dcf93",
   "metadata": {},
   "outputs": [],
   "source": [
    "mp.dps = 50"
   ]
  },
  {
   "cell_type": "code",
   "execution_count": 374,
   "id": "052753e2-9fa4-48e7-b540-d0e9dca0c165",
   "metadata": {},
   "outputs": [],
   "source": [
    "b = delta / alpha\n",
    "a = (x-mu) / sqrt(2)"
   ]
  },
  {
   "cell_type": "code",
   "execution_count": 383,
   "id": "df2b4c94-783c-4f1d-a4b5-5f995ad76076",
   "metadata": {},
   "outputs": [],
   "source": [
    "y0 = 1/2 * erfc(-a / sqrt(b))\n",
    "y1 = -1/2 * a * exp(-a**2 / b) / sqrt(pi) / b ** (3/2)\n",
    "\n",
    "yy = [y0, y1]\n",
    "N = 10\n",
    "\n",
    "yy = [1, 1]\n",
    "a=0\n",
    "b=1\n",
    "\n",
    "for n in range(0, N):\n",
    "    yn = ((n + 1) * yy[n+1] * (2*a**2 - 4*b*n - 3*b) - (2*n**2 + n) * yy[n]) / (2*b**2 * (n+1) * (n+2))\n",
    "    yy.append(yn)"
   ]
  },
  {
   "cell_type": "code",
   "execution_count": 384,
   "id": "6edc667f-2b9c-4d06-9299-ad2aff7cdb2e",
   "metadata": {},
   "outputs": [
    {
     "data": {
      "text/plain": [
       "[1,\n",
       " 1,\n",
       " -0.75,\n",
       " 0.625,\n",
       " -0.546875,\n",
       " 0.4921875,\n",
       " -0.451171875,\n",
       " 0.4189453125,\n",
       " -0.39276123046875,\n",
       " 0.370941162109375,\n",
       " -0.35239410400390625,\n",
       " 0.3363761901855469]"
      ]
     },
     "execution_count": 384,
     "metadata": {},
     "output_type": "execute_result"
    }
   ],
   "source": [
    "yy"
   ]
  },
  {
   "cell_type": "code",
   "execution_count": 377,
   "id": "6eb73820-189a-4bbb-ad42-a59b02006a3c",
   "metadata": {},
   "outputs": [
    {
     "data": {
      "text/plain": [
       "1.706931818181818"
      ]
     },
     "execution_count": 377,
     "metadata": {},
     "output_type": "execute_result"
    }
   ],
   "source": [
    "b"
   ]
  },
  {
   "cell_type": "code",
   "execution_count": 378,
   "id": "4444765e-fb50-42ec-bbd8-c882dde04c84",
   "metadata": {},
   "outputs": [
    {
     "data": {
      "text/plain": [
       "(mpf('0.5301949381198521271530769081056641972364539107611333381556312140143987366146371305600370881090772683083'),\n",
       " mpf('0.54266130881412137671351061033121577265606303352622579134329545772202009055329199055828965123071240433'))"
      ]
     },
     "execution_count": 378,
     "metadata": {},
     "output_type": "execute_result"
    }
   ],
   "source": [
    "normcdf((x-mu)/sqrt(b)), normcdf((x-mu)/sqrt(b/2))"
   ]
  },
  {
   "cell_type": "code",
   "execution_count": 379,
   "id": "d271c1aa-7427-4a48-bd6f-2475eb280485",
   "metadata": {},
   "outputs": [
    {
     "data": {
      "text/plain": [
       "(0.003408608347402952, 0.0038714204128932096)"
      ]
     },
     "execution_count": 379,
     "metadata": {},
     "output_type": "execute_result"
    }
   ],
   "source": [
    "abs(float(yy[1]*27/24 / b**2)), abs(float(yy[2]))"
   ]
  },
  {
   "cell_type": "code",
   "execution_count": 380,
   "id": "f17970c7-0a34-48a9-b21f-6e1eae6bb9f6",
   "metadata": {},
   "outputs": [
    {
     "data": {
      "text/plain": [
       "(0.0018027760900614037, 0.0018864295674779984)"
      ]
     },
     "execution_count": 380,
     "metadata": {},
     "output_type": "execute_result"
    }
   ],
   "source": [
    "abs(float(yy[1]*65/64 / b**3)), abs(float(yy[3]))"
   ]
  },
  {
   "cell_type": "code",
   "execution_count": 381,
   "id": "fa5bedf9-4ca3-4918-9cd5-a5006b93dd6b",
   "metadata": {},
   "outputs": [
    {
     "name": "stdout",
     "output_type": "stream",
     "text": [
      "0 0.5301949381198521 0.008827890319338947 -60.05907628444055\n",
      "1 0.008827890319338947 0.00517178848346866 1.706931818181818\n",
      "2 0.0038714204128932096 0.003029874086580402 -1.2777496035363636\n",
      "3 0.0018864295674779984 0.0017750410732912283 1.0627526291435256\n",
      "4 0.0009651604414968735 0.0010399015674697296 -0.9281267301532059\n",
      "5 0.0005079164133350706 0.0006092226745046017 0.8337122608709373\n",
      "6 0.0002722408351286176 0.0003569109603648555 -0.7627696130438721\n",
      "7 0.00014781466483291647 0.00020909503037152844 0.7069257675338981\n",
      "8 8.102836803380921e-05 0.00012249758786162375 -0.6614690905207115\n",
      "9 4.47467146172712e-05 7.176478085229274e-05 0.6235191424797842\n",
      "10 2.485602958148129e-05 4.204314436456801e-05 -0.5912029168405584\n",
      "11 1.3873138405394646e-05 2.4630828201065077e-05 0.563242871581344\n"
     ]
    }
   ],
   "source": [
    "for k in range(len(yy)):\n",
    "    bound = yy[1] / b **k\n",
    "    print(k, abs(float(yy[k])), abs(float(bound)), float(yy[k] / bound))"
   ]
  },
  {
   "cell_type": "code",
   "execution_count": null,
   "id": "aec0d298-4cec-4fc1-9d1a-1c50aae4f8dc",
   "metadata": {},
   "outputs": [],
   "source": [
    "z = alpha ** 2 / 2\n",
    "l = -1/2\n",
    "xi = b * z"
   ]
  },
  {
   "cell_type": "code",
   "execution_count": null,
   "id": "89aafde0-f352-4c76-9dd0-0692a1cf4e9e",
   "metadata": {},
   "outputs": [],
   "source": [
    "Q = [2 * xi ** l * besselk(l, 2 * xi), 0, 2 * xi ** (l + 2) * (-besselk(l, 2 * xi) + besselk(l+2, 2 * xi))]\n",
    "\n",
    "for k in range(1, N):\n",
    "    qn = (k + l + 1 - 2 * xi) * Q[k+1] + xi * (2 * k + l + 1) * Q[k] + k * xi ** 2 * Q[k-1]\n",
    "    Q.append(qn)"
   ]
  },
  {
   "cell_type": "code",
   "execution_count": null,
   "id": "fcd819fc-b1c6-4c0d-89b1-3e6d9763d755",
   "metadata": {},
   "outputs": [],
   "source": [
    "s = 0\n",
    "for k in range(N):\n",
    "    s += yy[k] * Q[k] / z ** k\n",
    "\n",
    "s * z **(-l) * delta * exp(delta * alpha) / sqrt(2 * pi)"
   ]
  },
  {
   "cell_type": "code",
   "execution_count": null,
   "id": "d912e74d-d4a6-44d5-a433-ef793d9aaace",
   "metadata": {},
   "outputs": [],
   "source": []
  }
 ],
 "metadata": {
  "kernelspec": {
   "display_name": "Python 3 (ipykernel)",
   "language": "python",
   "name": "python3"
  },
  "language_info": {
   "codemirror_mode": {
    "name": "ipython",
    "version": 3
   },
   "file_extension": ".py",
   "mimetype": "text/x-python",
   "name": "python",
   "nbconvert_exporter": "python",
   "pygments_lexer": "ipython3",
   "version": "3.9.12"
  }
 },
 "nbformat": 4,
 "nbformat_minor": 5
}
