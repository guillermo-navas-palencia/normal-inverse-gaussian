{
 "cells": [
  {
   "cell_type": "code",
   "execution_count": 1,
   "id": "7c5a4917-0a46-4f04-be8f-cae8d2b037d3",
   "metadata": {},
   "outputs": [],
   "source": [
    "%load_ext autoreload\n",
    "%autoreload 2"
   ]
  },
  {
   "cell_type": "code",
   "execution_count": 2,
   "id": "8b5c9050-b473-4817-99ac-11859f44a4e8",
   "metadata": {},
   "outputs": [],
   "source": [
    "import matplotlib.pyplot as plt\n",
    "import numpy as np\n",
    "\n",
    "from scipy import special, stats, integrate"
   ]
  },
  {
   "cell_type": "code",
   "execution_count": 3,
   "id": "184eddfa-e60a-41f1-a65a-a733e94bf896",
   "metadata": {},
   "outputs": [],
   "source": [
    "from code.series import series_x_mu_b0\n",
    "from code.series import series_x_mu_b0_pos\n",
    "from code.series import asymtotic_x_mu_b0_neg\n",
    "from code.series import asymptotic_alpha_b0"
   ]
  },
  {
   "cell_type": "code",
   "execution_count": 251,
   "id": "20c9c1f5-3aa0-443e-9261-0949a2a3d1e5",
   "metadata": {},
   "outputs": [],
   "source": [
    "alpha = 0.8\n",
    "beta = 0\n",
    "mu = 1.00102\n",
    "delta = 1.09\n",
    "x = 0.05"
   ]
  },
  {
   "cell_type": "code",
   "execution_count": 252,
   "id": "f3e91659-5f99-41df-9596-4c30d4790a1a",
   "metadata": {},
   "outputs": [
    {
     "data": {
      "text/plain": [
       "-0.95102"
      ]
     },
     "execution_count": 252,
     "metadata": {},
     "output_type": "execute_result"
    }
   ],
   "source": [
    "x - mu"
   ]
  },
  {
   "cell_type": "code",
   "execution_count": 254,
   "id": "bcd46f30-c109-4732-af63-5b69a69dec88",
   "metadata": {},
   "outputs": [
    {
     "data": {
      "image/png": "[encoded data removed]",
      "text/plain": [
       "<Figure size 640x480 with 1 Axes>"
      ]
     },
     "metadata": {},
     "output_type": "display_data"
    }
   ],
   "source": [
    "xx = np.linspace(-0.8, 2, 100)\n",
    "plt.plot(xx, stats.norminvgauss.pdf(xx, a=alpha*delta, b=beta*delta, loc=mu, scale=delta))\n",
    "plt.show()"
   ]
  },
  {
   "cell_type": "code",
   "execution_count": 241,
   "id": "3c29c672-f1f5-42db-8cf7-b148e2d36c4b",
   "metadata": {},
   "outputs": [
    {
     "data": {
      "text/plain": [
       "0.1612277927484906"
      ]
     },
     "execution_count": 241,
     "metadata": {},
     "output_type": "execute_result"
    }
   ],
   "source": [
    "stats.norminvgauss.cdf(x, a=alpha*delta, b=beta*delta, loc=mu, scale=delta)"
   ]
  },
  {
   "cell_type": "code",
   "execution_count": 242,
   "id": "427df748-726a-49f2-ac2b-6e64806bac63",
   "metadata": {},
   "outputs": [
    {
     "data": {
      "text/plain": [
       "(0.1612277927484913, 102)"
      ]
     },
     "execution_count": 242,
     "metadata": {},
     "output_type": "execute_result"
    }
   ],
   "source": [
    "series_x_mu_b0(x, alpha, mu, delta, maxiter=200, eps=1e-14)"
   ]
  },
  {
   "cell_type": "code",
   "execution_count": 243,
   "id": "3f122c94-63a9-4e02-9d71-0b0bddceafeb",
   "metadata": {},
   "outputs": [
    {
     "data": {
      "text/plain": [
       "(0.16122779274849386, 37)"
      ]
     },
     "execution_count": 243,
     "metadata": {},
     "output_type": "execute_result"
    }
   ],
   "source": [
    "series_x_mu_b0_pos(x, alpha, mu, delta, maxiter=700, eps=1e-14)"
   ]
  },
  {
   "cell_type": "code",
   "execution_count": 244,
   "id": "76ad7e11-622e-4d55-b479-ec2941d1af82",
   "metadata": {},
   "outputs": [
    {
     "data": {
      "text/plain": [
       "0.16122779274849386"
      ]
     },
     "execution_count": 244,
     "metadata": {},
     "output_type": "execute_result"
    }
   ],
   "source": [
    "1.0 - series_x_mu_b0_pos(-x, alpha, -mu, delta, maxiter=300, eps=1e-14)[0]"
   ]
  },
  {
   "cell_type": "code",
   "execution_count": 245,
   "id": "06b9a3d9-cc6c-4d5c-b7d8-878ee9c4326b",
   "metadata": {},
   "outputs": [],
   "source": [
    "# asymptotic_alpha_b0(x, alpha, mu, delta, eps=1e-5)"
   ]
  },
  {
   "cell_type": "code",
   "execution_count": 246,
   "id": "b55ffe20-a812-4bbf-9759-8dacf370e0fd",
   "metadata": {},
   "outputs": [
    {
     "data": {
      "text/plain": [
       "(-1, 200)"
      ]
     },
     "execution_count": 246,
     "metadata": {},
     "output_type": "execute_result"
    }
   ],
   "source": [
    "asymtotic_x_mu_b0_neg(x, alpha, mu, delta, eps=1e-15)"
   ]
  },
  {
   "cell_type": "code",
   "execution_count": 247,
   "id": "024da400-f70a-4d6e-8f26-4da7eae7b808",
   "metadata": {},
   "outputs": [],
   "source": [
    "from mpmath import *"
   ]
  },
  {
   "cell_type": "code",
   "execution_count": 248,
   "id": "0ae174bf-e7fd-424c-92a3-cc0c711fd20a",
   "metadata": {},
   "outputs": [
    {
     "data": {
      "text/plain": [
       "mpf('0.16122779274849252546591527704155454781470414548553755')"
      ]
     },
     "execution_count": 248,
     "metadata": {},
     "output_type": "execute_result"
    }
   ],
   "source": [
    "mp.dps = 50\n",
    "\n",
    "def fun_k0(t):\n",
    "    C = sqrt(2) * delta * exp(delta * alpha) / pi\n",
    "    r = exp(sqrt(2) * (x - mu) * t)\n",
    "    w = sqrt(2 * ((x - mu) ** 2 + delta ** 2)) * sqrt(alpha ** 2 / 2 + t** 2)\n",
    "    q = besselk(0, w)\n",
    "    return C * r * q\n",
    "\n",
    "quad(fun_k0, [0, inf])"
   ]
  },
  {
   "cell_type": "code",
   "execution_count": 249,
   "id": "608f6500-1507-49c0-bdd7-604d44b896e1",
   "metadata": {},
   "outputs": [
    {
     "data": {
      "text/plain": [
       "mpf('0.1612277927484925283506798003472249747739502818248743254475337297038245217053015632901415493343072304025')"
      ]
     },
     "execution_count": 249,
     "metadata": {},
     "output_type": "execute_result"
    }
   ],
   "source": [
    "mp.dps = 100\n",
    "\n",
    "def normcdf(x):\n",
    "    return erfc(-x / sqrt(2)) / 2\n",
    "\n",
    "def fun_phi(t):\n",
    "    C = delta / sqrt(2 * pi)\n",
    "    return C * normcdf((x - mu) / sqrt(t)) * t ** (-3/2) * exp(-(delta - alpha * t) ** 2 / 2 / t)\n",
    "\n",
    "alpha = mpmathify(alpha)\n",
    "mu = mpmathify(mu)\n",
    "delta = mpmathify(delta)\n",
    "x = mpmathify(x)\n",
    "\n",
    "quad(fun_phi, [0, inf])"
   ]
  },
  {
   "cell_type": "code",
   "execution_count": 18,
   "id": "d4d114f8-a442-424c-9fb1-5df46e26819c",
   "metadata": {},
   "outputs": [
    {
     "name": "stdout",
     "output_type": "stream",
     "text": [
      "0.000000000002671296348822753608404042605394311922554930937587186352434722231076156654363482158410658748064487048\n"
     ]
    }
   ],
   "source": [
    "mp.dps = 100\n",
    "\n",
    "def fun_k1(t):\n",
    "    C = alpha * delta / pi\n",
    "    r = sqrt(delta ** 2 + (t - mu) ** 2)\n",
    "    return C * besselk(1, alpha * r) / r * exp(delta * alpha)\n",
    "\n",
    "print(quad(fun_k1, [-inf, x]))\n",
    "\n",
    "mp.dps = 50"
   ]
  },
  {
   "cell_type": "markdown",
   "id": "f331a8de-f4da-4359-9fd7-4be1ae4d59fc",
   "metadata": {},
   "source": [
    "Expansion"
   ]
  },
  {
   "cell_type": "code",
   "execution_count": null,
   "id": "8f802b22-89be-475a-a8a7-9d67629dcf93",
   "metadata": {},
   "outputs": [],
   "source": [
    "mp.dps = 50"
   ]
  },
  {
   "cell_type": "code",
   "execution_count": null,
   "id": "052753e2-9fa4-48e7-b540-d0e9dca0c165",
   "metadata": {},
   "outputs": [],
   "source": [
    "b = delta / alpha\n",
    "a = (x-mu) / sqrt(2)"
   ]
  },
  {
   "cell_type": "code",
   "execution_count": null,
   "id": "df2b4c94-783c-4f1d-a4b5-5f995ad76076",
   "metadata": {},
   "outputs": [],
   "source": [
    "y0 = 1/2 * erfc(-a / sqrt(b))\n",
    "y1 = -1/2 * a * exp(-a**2 / b) / sqrt(pi) / b ** (3/2)\n",
    "\n",
    "yy = [y0, y1]\n",
    "N = 10\n",
    "\n",
    "for n in range(0, N):\n",
    "    yn = ((n + 1) * yy[n+1] * (2*a**2 - 4*b*n - 3*b) - (2*n**2 + n) * yy[n]) / (2*b**2 * (n+1) * (n+2))\n",
    "    yy.append(yn)"
   ]
  },
  {
   "cell_type": "code",
   "execution_count": null,
   "id": "aec0d298-4cec-4fc1-9d1a-1c50aae4f8dc",
   "metadata": {},
   "outputs": [],
   "source": [
    "z = alpha ** 2 / 2\n",
    "l = -1/2\n",
    "xi = b * z"
   ]
  },
  {
   "cell_type": "code",
   "execution_count": null,
   "id": "89aafde0-f352-4c76-9dd0-0692a1cf4e9e",
   "metadata": {},
   "outputs": [],
   "source": [
    "Q = [2 * xi ** l * besselk(l, 2 * xi), 0, 2 * xi ** (l + 2) * (-besselk(l, 2 * xi) + besselk(l+2, 2 * xi))]\n",
    "\n",
    "for k in range(1, N):\n",
    "    qn = (k + l + 1 - 2 * xi) * Q[k+1] + xi * (2 * k + l + 1) * Q[k] + k * xi ** 2 * Q[k-1]\n",
    "    Q.append(qn)"
   ]
  },
  {
   "cell_type": "code",
   "execution_count": null,
   "id": "fcd819fc-b1c6-4c0d-89b1-3e6d9763d755",
   "metadata": {},
   "outputs": [],
   "source": [
    "s = 0\n",
    "for k in range(N):\n",
    "    s += yy[k] * Q[k] / z ** k\n",
    "\n",
    "s * z **(-l) * delta * exp(delta * alpha) / sqrt(2 * pi)"
   ]
  },
  {
   "cell_type": "code",
   "execution_count": null,
   "id": "d912e74d-d4a6-44d5-a433-ef793d9aaace",
   "metadata": {},
   "outputs": [],
   "source": []
  }
 ],
 "metadata": {
  "kernelspec": {
   "display_name": "Python 3 (ipykernel)",
   "language": "python",
   "name": "python3"
  },
  "language_info": {
   "codemirror_mode": {
    "name": "ipython",
    "version": 3
   },
   "file_extension": ".py",
   "mimetype": "text/x-python",
   "name": "python",
   "nbconvert_exporter": "python",
   "pygments_lexer": "ipython3",
   "version": "3.9.12"
  }
 },
 "nbformat": 4,
 "nbformat_minor": 5
}
