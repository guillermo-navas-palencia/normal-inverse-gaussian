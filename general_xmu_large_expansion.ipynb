{
 "cells": [
  {
   "cell_type": "code",
   "execution_count": 1,
   "id": "2e416e2c-30c3-4b90-9f57-251612da43c8",
   "metadata": {},
   "outputs": [],
   "source": [
    "import itertools\n",
    "\n",
    "import matplotlib.pyplot as plt\n",
    "import numpy as np\n",
    "import pandas as pd\n",
    "\n",
    "from scipy import stats\n",
    "from code.python.mpmath_integration import quad_phi\n",
    "from mpmath import mp\n",
    "\n",
    "from scipy import stats"
   ]
  },
  {
   "cell_type": "code",
   "execution_count": 120,
   "id": "78502da1-c1cd-417a-8872-6239c4bb7ccb",
   "metadata": {},
   "outputs": [],
   "source": [
    "x = mp.mpf('0.001')\n",
    "alpha = mp.mpf('0.1')\n",
    "beta = mp.mpf('0.01')\n",
    "mu = mp.mpf('0')\n",
    "delta = mp.mpf('1')\n",
    "\n",
    "\n",
    "xmu = x - mu\n",
    "gamma = mp.sqrt(alpha ** 2 - beta ** 2)\n",
    "omega = mp.sqrt(xmu ** 2 + delta ** 2)"
   ]
  },
  {
   "cell_type": "markdown",
   "id": "b290260a-e2ee-4ae3-9ff2-b831913684e9",
   "metadata": {},
   "source": [
    "### 1. Expansion Phi"
   ]
  },
  {
   "cell_type": "code",
   "execution_count": 101,
   "id": "afd4dad3-539a-44a9-b8f9-dfbc321c00f8",
   "metadata": {},
   "outputs": [],
   "source": [
    "mp.dps = 100"
   ]
  },
  {
   "cell_type": "code",
   "execution_count": 91,
   "id": "8aec3665-5e3b-41ac-9518-87dda56e34e4",
   "metadata": {},
   "outputs": [],
   "source": [
    "a = xmu\n",
    "b = -beta"
   ]
  },
  {
   "cell_type": "code",
   "execution_count": 92,
   "id": "3862e8d8-baad-44cc-bd78-192ffb9cb4f7",
   "metadata": {},
   "outputs": [],
   "source": [
    "def normcdf(x):\n",
    "    return mp.erfc(-x / mp.sqrt(2)) / 2"
   ]
  },
  {
   "cell_type": "code",
   "execution_count": 93,
   "id": "4fc84640-a364-4784-9691-2689c45eecbd",
   "metadata": {},
   "outputs": [
    {
     "data": {
      "text/plain": [
       "mpf('0.9991279150062640223499260424132051641244775651490209495161703173045599120863914053546440630812454029394')"
      ]
     },
     "execution_count": 93,
     "metadata": {},
     "output_type": "execute_result"
    }
   ],
   "source": [
    "t = 1/10\n",
    "\n",
    "normcdf(a / mp.sqrt(t) + b * mp.sqrt(t))"
   ]
  },
  {
   "cell_type": "markdown",
   "id": "c8fbce94-796d-405d-9be6-b776ac8d7997",
   "metadata": {},
   "source": [
    "Expansion in terms of modified Bessel functions"
   ]
  },
  {
   "cell_type": "code",
   "execution_count": 83,
   "id": "df5d78ee-b9a9-4447-8395-5af028ca0b9d",
   "metadata": {},
   "outputs": [
    {
     "data": {
      "text/plain": [
       "mpc(real='1.548920819218252750919458960967515184906152621058019384639234987242424908450365957203423427104579076031', imag='0.0')"
      ]
     },
     "execution_count": 83,
     "metadata": {},
     "output_type": "execute_result"
    }
   ],
   "source": [
    "N = 20\n",
    "\n",
    "s = 0\n",
    "for k in range(N):\n",
    "    r = (-1) ** (k+1) * (b/a) ** k * mp.besselk(k + 1/2, a*b)\n",
    "    s += r * t ** (1/2 + k)\n",
    "\n",
    "1 + s * mp.exp(-a**2/(2*t) - b**2/2*t) / mp.pi * mp.sqrt(b / a)"
   ]
  },
  {
   "cell_type": "markdown",
   "id": "176c8db8-1d75-4fb7-8645-f81cf0311062",
   "metadata": {},
   "source": [
    "Expansion in terms of incomplete gamma function"
   ]
  },
  {
   "cell_type": "code",
   "execution_count": 84,
   "id": "908a121a-16cb-4ddf-91cc-80bbf29407f0",
   "metadata": {},
   "outputs": [
    {
     "data": {
      "text/plain": [
       "mpf('0.5492692573537457611549574841954635175387391138185419098252932568023088277733111874610617537846795537958')"
      ]
     },
     "execution_count": 84,
     "metadata": {},
     "output_type": "execute_result"
    }
   ],
   "source": [
    "N = 20\n",
    "\n",
    "s = 0\n",
    "for k in range(N):\n",
    "    r = (-1) ** (k+1) / mp.factorial(k) * mp.gammainc(2*k + 1, a*b) / (a) ** (2*k + 1) * t**k / 2 ** (k + 1/2)\n",
    "    s += r\n",
    "\n",
    "mp.sqrt(t / mp.pi) * mp.exp(-a**2 / 2 / t) * s"
   ]
  },
  {
   "cell_type": "markdown",
   "id": "213dc00a-ac02-4e3b-8d90-0891d4dd5379",
   "metadata": {},
   "source": [
    "### 2. Expansion asymptotic $|x - \\mu|$"
   ]
  },
  {
   "cell_type": "code",
   "execution_count": 121,
   "id": "28b3c456-356c-4150-87de-70618ade321d",
   "metadata": {},
   "outputs": [
    {
     "data": {
      "text/plain": [
       "mpf('0.4918010466404691878489474923651672095276372189793093115002681717244902164560314258176381599885937580824')"
      ]
     },
     "execution_count": 121,
     "metadata": {},
     "output_type": "execute_result"
    }
   ],
   "source": [
    "mp_result = quad_phi(x, alpha, beta, mu, delta, digits=100)\n",
    "mp_result"
   ]
  },
  {
   "cell_type": "code",
   "execution_count": 122,
   "id": "80fa1308-c772-4bd1-b5a6-5d2a6c9409a6",
   "metadata": {},
   "outputs": [
    {
     "data": {
      "text/plain": [
       "(mpf('0.001000000000000000000000000000000000000000000000000000000000000000000000000000000000000000000000000000002'),\n",
       " mpf('0.1000000000000000000000000000000000000000000000000000000000000000000000000000000000000000000000000000002'))"
      ]
     },
     "execution_count": 122,
     "metadata": {},
     "output_type": "execute_result"
    }
   ],
   "source": [
    "xmu, alpha"
   ]
  },
  {
   "cell_type": "code",
   "execution_count": 58,
   "id": "2ad55301-bf88-4730-a1dc-f9c5d7c678d0",
   "metadata": {},
   "outputs": [
    {
     "name": "stdout",
     "output_type": "stream",
     "text": [
      "0 2.147602025963213e-46\n",
      "1 5.4027622682643735e-48\n",
      "2 1.7845853759916656e-49\n",
      "3 9.19214984212436e-51\n",
      "4 6.671426918424911e-52\n",
      "5 6.286987250100285e-53\n",
      "6 7.313531838269578e-54\n",
      "7 1.0154794283889663e-54\n",
      "8 1.6431190471911143e-55\n",
      "9 3.043178922476854e-56\n",
      "10 6.361946094829941e-57\n",
      "11 1.484614158442137e-57\n",
      "12 3.832099987882878e-58\n",
      "13 1.0858218554155037e-58\n",
      "14 3.355716674719651e-59\n",
      "15 1.1249206951290638e-59\n",
      "16 4.0709146017296005e-60\n",
      "17 1.5837178095184224e-60\n",
      "18 6.598945218758981e-61\n",
      "19 2.9353148843618054e-61\n",
      "20 1.3897610065176596e-61\n",
      "21 6.985208992933019e-62\n"
     ]
    }
   ],
   "source": [
    "mp.dps = 30\n",
    "N = 22\n",
    "C = delta * mp.exp(delta * gamma) / mp.sqrt(2 * mp.pi)\n",
    "\n",
    "s = 0\n",
    "for k in range(N):\n",
    "    r = (-1) ** (k+1) / mp.factorial(k) / 2 ** (k + 1/2) * mp.gammainc(2*k + 1, -xmu * beta) / xmu ** (2*k + 1)\n",
    "    # q = mp.quad(lambda t: t **(k-1) * mp.exp(-omega ** 2 / 2 / t - gamma ** 2 / 2 * t), [0, mp.inf])\n",
    "    q = 2 * (omega / gamma) ** k * mp.besselk(k, gamma * omega)\n",
    "    tk = r * q\n",
    "    s += tk\n",
    "    print(k, float(abs(tk)))\n",
    "\n",
    "r1 = C * s / mp.sqrt(mp.pi)"
   ]
  },
  {
   "cell_type": "code",
   "execution_count": 59,
   "id": "c8db7a89-d058-4d05-bcd4-fb061f917fe7",
   "metadata": {},
   "outputs": [
    {
     "data": {
      "text/plain": [
       "1.8271528409914106e-16"
      ]
     },
     "execution_count": 59,
     "metadata": {},
     "output_type": "execute_result"
    }
   ],
   "source": [
    "float(abs(r1 / mp_result - 1))"
   ]
  },
  {
   "cell_type": "code",
   "execution_count": 60,
   "id": "b11dabf3-b7e0-4dc2-be94-044d2bced939",
   "metadata": {},
   "outputs": [],
   "source": [
    "mp.dps = 30\n",
    "N = 22\n",
    "C = delta * mp.exp(delta * gamma) / mp.sqrt(2 * mp.pi)\n",
    "\n",
    "s = 0\n",
    "for k in range(N):\n",
    "    r = (-1) ** k / mp.factorial(k) * mp.gammainc(2*k + 1, -xmu * beta) * (omega / gamma / 2 / xmu ** 2) ** k * mp.besselk(k, gamma * omega)\n",
    "    s += r\n",
    "\n",
    "r2 = -delta * mp.exp(delta * gamma) / xmu / mp.pi * s"
   ]
  },
  {
   "cell_type": "code",
   "execution_count": 61,
   "id": "3a819de7-ec4c-4a0e-98d6-cb6aaba6b0b7",
   "metadata": {},
   "outputs": [
    {
     "data": {
      "text/plain": [
       "(mpf('3.49872348143932978837229854239407e-45'),\n",
       " mpf('3.49872348143933002753834119427445e-45'))"
      ]
     },
     "execution_count": 61,
     "metadata": {},
     "output_type": "execute_result"
    }
   ],
   "source": [
    "r1, r2"
   ]
  },
  {
   "cell_type": "code",
   "execution_count": 62,
   "id": "3b5c642f-8e9b-4370-9952-5d11c3326b61",
   "metadata": {},
   "outputs": [
    {
     "data": {
      "text/plain": [
       "1.1435719752252184e-16"
      ]
     },
     "execution_count": 62,
     "metadata": {},
     "output_type": "execute_result"
    }
   ],
   "source": [
    "float(abs(r2 / mp_result - 1))"
   ]
  },
  {
   "cell_type": "code",
   "execution_count": 77,
   "id": "8bc91590-98f4-4709-8ee5-20d41114a4df",
   "metadata": {},
   "outputs": [
    {
     "name": "stdout",
     "output_type": "stream",
     "text": [
      "1 4.904664472972071e-47 1.8393972058572117 3.495886844203024e-45\n",
      "2 1.2461990677542869e-49 23.912163676143752 3.498866775811144e-45\n",
      "3 2.1320123616508263e-52 719.9400663725127 3.498713283699029e-45\n",
      "4 2.7629158966794643e-55 40319.95463183125 3.498724423763389e-45\n",
      "5 2.893000562484297e-58 3628799.9635386653 3.4987233739513554e-45\n",
      "6 2.5495243213234596e-61 479001599.96953654 3.4987234960739785e-45\n",
      "7 1.945054366246795e-64 87178291199.97385 3.498723479117327e-45\n",
      "8 1.3113493438232842e-67 20922789887999.977 3.498723481861036e-45\n",
      "9 7.9369827058441e-71 6402373705728000.0 3.49872348135288e-45\n",
      "10 4.366508753242522e-74 2.43290200817664e+18 3.498723481459113e-45\n",
      "11 2.2055452508672957e-77 1.1240007277776077e+21 3.498723481434323e-45\n",
      "12 1.0313358848281418e-80 6.204484017332394e+23 3.498723481440722e-45\n",
      "13 4.4958159015508505e-84 4.0329146112660565e+26 3.498723481438909e-45\n",
      "14 1.8378642527508927e-87 3.0488834461171387e+29 3.498723481439469e-45\n",
      "15 7.081590320295633e-91 2.6525285981219107e+32 3.498723481439281e-45\n",
      "16 2.583385465848019e-94 2.631308369336935e+35 3.498723481439349e-45\n",
      "17 8.95740402452446e-98 2.9523279903960416e+38 3.498723481439323e-45\n",
      "18 2.96215882597056e-101 3.7199332678990125e+41 3.498723481439334e-45\n",
      "19 9.371372351448315e-105 5.230226174666011e+44 3.498723481439329e-45\n",
      "20 2.8442254689841505e-108 8.159152832478977e+47 3.4987234814393315e-45\n",
      "21 8.301759659716911e-112 1.40500611775288e+51 3.49872348143933e-45\n"
     ]
    },
    {
     "data": {
      "text/plain": [
       "3.49872348143933e-45"
      ]
     },
     "execution_count": 77,
     "metadata": {},
     "output_type": "execute_result"
    }
   ],
   "source": [
    "N = 22\n",
    "\n",
    "gamma = mp.sqrt(alpha**2 - beta**2)\n",
    "omega = mp.sqrt(xmu**2 + delta**2)\n",
    "\n",
    "gw = gamma * omega\n",
    "\n",
    "C = -delta * mp.exp(delta * gamma - gw) / mp.pi / xmu\n",
    "z = -omega / gamma / xmu ** 2 / 2\n",
    "\n",
    "k0 = mp.besselk(0, gw) * mp.exp(gw)\n",
    "k1 = mp.besselk(1, gw) * mp.exp(gw)\n",
    "rp = k0 / k1\n",
    "\n",
    "u = -xmu * beta\n",
    "y = mp.exp(-u)\n",
    "u2 = u * u\n",
    "v = 1\n",
    "qp = y\n",
    "\n",
    "t = C*k0\n",
    "\n",
    "s = t * y\n",
    "sp = s\n",
    "\n",
    "for k in range(1, N):\n",
    "    # Bessel ratio recursion\n",
    "    r = 1.0 / rp + 2 * (k - 1) / gw;\n",
    "\n",
    "    # Incomplete gamma recursion\n",
    "    v *= u2\n",
    "    m = 2*k * (2*k-1)\n",
    "    q = m * qp + y * (v * (2*k / u + 1))\n",
    "    \n",
    "    t *= z * r / k\n",
    "    s += t * q\n",
    "\n",
    "    print(k, float(abs(t)), float(q), float(s))\n",
    "    \n",
    "    rp = r\n",
    "    qp = q\n",
    "\n",
    "float(s)"
   ]
  },
  {
   "cell_type": "code",
   "execution_count": 74,
   "id": "c2ae165c-a839-4848-85ee-a0f322f45cac",
   "metadata": {},
   "outputs": [
    {
     "data": {
      "text/plain": [
       "3.49872348143933e-45"
      ]
     },
     "execution_count": 74,
     "metadata": {},
     "output_type": "execute_result"
    }
   ],
   "source": [
    "float(mp_result)"
   ]
  },
  {
   "cell_type": "code",
   "execution_count": null,
   "id": "a0391f60-dac8-4437-b66a-d04c00b4ecf6",
   "metadata": {},
   "outputs": [],
   "source": []
  }
 ],
 "metadata": {
  "kernelspec": {
   "display_name": "Python 3 (ipykernel)",
   "language": "python",
   "name": "python3"
  },
  "language_info": {
   "codemirror_mode": {
    "name": "ipython",
    "version": 3
   },
   "file_extension": ".py",
   "mimetype": "text/x-python",
   "name": "python",
   "nbconvert_exporter": "python",
   "pygments_lexer": "ipython3",
   "version": "3.12.7"
  }
 },
 "nbformat": 4,
 "nbformat_minor": 5
}
