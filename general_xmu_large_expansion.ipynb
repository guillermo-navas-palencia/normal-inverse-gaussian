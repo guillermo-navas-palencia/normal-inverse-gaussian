{
 "cells": [
  {
   "cell_type": "code",
   "execution_count": 1,
   "id": "2e416e2c-30c3-4b90-9f57-251612da43c8",
   "metadata": {},
   "outputs": [],
   "source": [
    "import itertools\n",
    "\n",
    "import matplotlib.pyplot as plt\n",
    "import numpy as np\n",
    "import pandas as pd\n",
    "\n",
    "from scipy import stats\n",
    "from code.python.mpmath_integration import quad_phi\n",
    "from mpmath import mp\n",
    "\n",
    "from scipy import stats"
   ]
  },
  {
   "cell_type": "code",
   "execution_count": 78,
   "id": "78502da1-c1cd-417a-8872-6239c4bb7ccb",
   "metadata": {},
   "outputs": [],
   "source": [
    "x = mp.mpf('-10.001')\n",
    "alpha = mp.mpf('10.1')\n",
    "beta = mp.mpf('0.01')\n",
    "mu = mp.mpf('0')\n",
    "delta = mp.mpf('1/10')\n",
    "\n",
    "\n",
    "xmu = x - mu\n",
    "gamma = mp.sqrt(alpha ** 2 - beta ** 2)\n",
    "omega = mp.sqrt(xmu ** 2 + delta ** 2)"
   ]
  },
  {
   "cell_type": "markdown",
   "id": "b290260a-e2ee-4ae3-9ff2-b831913684e9",
   "metadata": {},
   "source": [
    "### 1. Expansion Phi"
   ]
  },
  {
   "cell_type": "code",
   "execution_count": 79,
   "id": "afd4dad3-539a-44a9-b8f9-dfbc321c00f8",
   "metadata": {},
   "outputs": [],
   "source": [
    "mp.dps = 100"
   ]
  },
  {
   "cell_type": "code",
   "execution_count": 80,
   "id": "8aec3665-5e3b-41ac-9518-87dda56e34e4",
   "metadata": {},
   "outputs": [],
   "source": [
    "a = xmu\n",
    "b = -beta"
   ]
  },
  {
   "cell_type": "code",
   "execution_count": 81,
   "id": "3862e8d8-baad-44cc-bd78-192ffb9cb4f7",
   "metadata": {},
   "outputs": [],
   "source": [
    "def normcdf(x):\n",
    "    return mp.erfc(-x / mp.sqrt(2)) / 2"
   ]
  },
  {
   "cell_type": "code",
   "execution_count": 82,
   "id": "4fc84640-a364-4784-9691-2689c45eecbd",
   "metadata": {},
   "outputs": [
    {
     "data": {
      "text/plain": [
       "mpf('7.34990355699561196009918341258378802628448349233313555917097341525786167464429123880984336856184289679e-220')"
      ]
     },
     "execution_count": 82,
     "metadata": {},
     "output_type": "execute_result"
    }
   ],
   "source": [
    "t = 1/10\n",
    "\n",
    "normcdf(a / mp.sqrt(t) + b * mp.sqrt(t))"
   ]
  },
  {
   "cell_type": "markdown",
   "id": "c8fbce94-796d-405d-9be6-b776ac8d7997",
   "metadata": {},
   "source": [
    "Expansion in terms of modified Bessel functions"
   ]
  },
  {
   "cell_type": "code",
   "execution_count": 83,
   "id": "df5d78ee-b9a9-4447-8395-5af028ca0b9d",
   "metadata": {},
   "outputs": [
    {
     "data": {
      "text/plain": [
       "mpf('1.0')"
      ]
     },
     "execution_count": 83,
     "metadata": {},
     "output_type": "execute_result"
    }
   ],
   "source": [
    "N = 20\n",
    "\n",
    "s = 0\n",
    "for k in range(N):\n",
    "    r = (-1) ** (k+1) * (b/a) ** k * mp.besselk(k + 1/2, a*b)\n",
    "    s += r * t ** (1/2 + k)\n",
    "\n",
    "1 + s * mp.exp(-a**2/(2*t) - b**2/2*t) / mp.pi * mp.sqrt(b / a)"
   ]
  },
  {
   "cell_type": "markdown",
   "id": "176c8db8-1d75-4fb7-8645-f81cf0311062",
   "metadata": {},
   "source": [
    "Expansion in terms of incomplete gamma function"
   ]
  },
  {
   "cell_type": "code",
   "execution_count": 84,
   "id": "908a121a-16cb-4ddf-91cc-80bbf29407f0",
   "metadata": {},
   "outputs": [
    {
     "data": {
      "text/plain": [
       "mpf('7.34990355699561145767586157768063129666226572420333496124151744054086250102943349766767432183261077704e-220')"
      ]
     },
     "execution_count": 84,
     "metadata": {},
     "output_type": "execute_result"
    }
   ],
   "source": [
    "N = 20\n",
    "\n",
    "s = 0\n",
    "for k in range(N):\n",
    "    r = (-1) ** (k+1) / mp.factorial(k) * mp.gammainc(2*k + 1, a*b) / (a) ** (2*k + 1) * t**k / 2 ** (k + 1/2)\n",
    "    s += r\n",
    "\n",
    "mp.sqrt(t / mp.pi) * mp.exp(-a**2 / 2 / t) * s"
   ]
  },
  {
   "cell_type": "markdown",
   "id": "213dc00a-ac02-4e3b-8d90-0891d4dd5379",
   "metadata": {},
   "source": [
    "### 2. Expansion asymptotic $|x - \\mu|$"
   ]
  },
  {
   "cell_type": "code",
   "execution_count": 85,
   "id": "28b3c456-356c-4150-87de-70618ade321d",
   "metadata": {},
   "outputs": [
    {
     "data": {
      "text/plain": [
       "mpf('1.313345981655877474338356709982537862629066556765727735707863813938883013692898576114877895629219347467e-47')"
      ]
     },
     "execution_count": 85,
     "metadata": {},
     "output_type": "execute_result"
    }
   ],
   "source": [
    "mp_result = quad_phi(x, alpha, beta, mu, delta, digits=100)\n",
    "mp_result"
   ]
  },
  {
   "cell_type": "code",
   "execution_count": 86,
   "id": "80fa1308-c772-4bd1-b5a6-5d2a6c9409a6",
   "metadata": {},
   "outputs": [
    {
     "data": {
      "text/plain": [
       "(mpf('-10.001000000000000000000000000000492249204857911366576918624736458607316080815508030354976654052734375'),\n",
       " mpf('10.100000000000000000000000000000315544362088404722164691426113114491869282574043609201908111572265625'))"
      ]
     },
     "execution_count": 86,
     "metadata": {},
     "output_type": "execute_result"
    }
   ],
   "source": [
    "xmu, alpha"
   ]
  },
  {
   "cell_type": "code",
   "execution_count": 87,
   "id": "2ad55301-bf88-4730-a1dc-f9c5d7c678d0",
   "metadata": {},
   "outputs": [
    {
     "name": "stdout",
     "output_type": "stream",
     "text": [
      "0 2.148173391426823e-46\n",
      "1 2.361740415683373e-48\n",
      "2 7.120242882789801e-50\n",
      "3 3.612571706024805e-51\n",
      "4 2.5914481215424526e-52\n",
      "5 2.4137260340112943e-53\n",
      "6 2.774959911788741e-54\n",
      "7 3.807562022698372e-55\n",
      "8 6.087702064086068e-56\n",
      "9 1.1139934430519608e-56\n",
      "10 2.3007969678158317e-57\n",
      "11 5.303927166378361e-58\n",
      "12 1.352318591412625e-58\n",
      "13 3.784615037688791e-59\n",
      "14 1.1551335764429601e-59\n",
      "15 3.8239799353310654e-60\n",
      "16 1.3664558508161963e-60\n",
      "17 5.248734748166803e-61\n",
      "18 2.159175923267416e-61\n",
      "19 9.48131400127947e-62\n",
      "20 4.431166982853484e-62\n",
      "21 2.198293059939818e-62\n"
     ]
    }
   ],
   "source": [
    "mp.dps = 30\n",
    "N = 22\n",
    "C = delta * mp.exp(delta * gamma) / mp.sqrt(2 * mp.pi)\n",
    "\n",
    "s = 0\n",
    "for k in range(N):\n",
    "    r = (-1) ** (k+1) / mp.factorial(k) / 2 ** (k + 1/2) * mp.gammainc(2*k + 1, -xmu * beta) / xmu ** (2*k + 1)\n",
    "    # q = mp.quad(lambda t: t **(k-1) * mp.exp(-omega ** 2 / 2 / t - gamma ** 2 / 2 * t), [0, mp.inf])\n",
    "    q = 2 * (omega / gamma) ** k * mp.besselk(k, gamma * omega)\n",
    "    tk = r * q\n",
    "    s += tk\n",
    "    print(k, float(abs(tk)))\n",
    "\n",
    "r1 = C * s / mp.sqrt(mp.pi)"
   ]
  },
  {
   "cell_type": "code",
   "execution_count": 88,
   "id": "c8db7a89-d058-4d05-bcd4-fb061f917fe7",
   "metadata": {},
   "outputs": [
    {
     "data": {
      "text/plain": [
       "1.0353844490032928e-16"
      ]
     },
     "execution_count": 88,
     "metadata": {},
     "output_type": "execute_result"
    }
   ],
   "source": [
    "float(abs(r1 / mp_result - 1))"
   ]
  },
  {
   "cell_type": "code",
   "execution_count": 89,
   "id": "b11dabf3-b7e0-4dc2-be94-044d2bced939",
   "metadata": {},
   "outputs": [],
   "source": [
    "mp.dps = 30\n",
    "N = 22\n",
    "C = delta * mp.exp(delta * gamma) / mp.sqrt(2 * mp.pi)\n",
    "\n",
    "s = 0\n",
    "for k in range(N):\n",
    "    r = (-1) ** k / mp.factorial(k) * mp.gammainc(2*k + 1, -xmu * beta) * (omega / gamma / 2 / xmu ** 2) ** k * mp.besselk(k, gamma * omega)\n",
    "    s += r\n",
    "\n",
    "r2 = -delta * mp.exp(delta * gamma) / xmu / mp.pi * s"
   ]
  },
  {
   "cell_type": "code",
   "execution_count": 90,
   "id": "3a819de7-ec4c-4a0e-98d6-cb6aaba6b0b7",
   "metadata": {},
   "outputs": [
    {
     "data": {
      "text/plain": [
       "(mpf('1.31334598165587733835655615323653e-47'),\n",
       " mpf('1.31334598165587742813437447232347e-47'))"
      ]
     },
     "execution_count": 90,
     "metadata": {},
     "output_type": "execute_result"
    }
   ],
   "source": [
    "r1, r2"
   ]
  },
  {
   "cell_type": "code",
   "execution_count": 91,
   "id": "3b5c642f-8e9b-4370-9952-5d11c3326b61",
   "metadata": {},
   "outputs": [
    {
     "data": {
      "text/plain": [
       "3.518035832371046e-17"
      ]
     },
     "execution_count": 91,
     "metadata": {},
     "output_type": "execute_result"
    }
   ],
   "source": [
    "float(abs(r2 / mp_result - 1))"
   ]
  },
  {
   "cell_type": "code",
   "execution_count": 92,
   "id": "8bc91590-98f4-4709-8ee5-20d41114a4df",
   "metadata": {},
   "outputs": [
    {
     "name": "stdout",
     "output_type": "stream",
     "text": [
      "1 7.298635866250741e-50 1.9996906033671327 1.312926824448878e-47\n",
      "2 1.833394571733649e-52 23.99999815882258 1.313366839112338e-47\n",
      "3 3.1006755232301587e-55 719.9999999869013 1.313344514248571e-47\n",
      "4 3.9718637016160704e-58 40319.9999999999 1.3133461157040156e-47\n",
      "5 4.110524896802528e-61 3628800.0 1.313345966541288e-47\n",
      "6 3.5800747174729644e-64 479001600.0 1.3133459836899032e-47\n",
      "7 2.6990502835067734e-67 87178291200.0 1.3133459813369174e-47\n",
      "8 1.798068103686881e-70 20922789888000.0 1.3133459817131232e-47\n",
      "9 1.075261152065866e-73 6402373705728000.0 1.313345981644281e-47\n",
      "10 5.844212794007272e-77 2.43290200817664e+18 1.3133459816584995e-47\n",
      "11 2.916105959667901e-80 1.1240007277776077e+21 1.3133459816552217e-47\n",
      "12 1.3469320584064564e-83 6.204484017332394e+23 1.3133459816560574e-47\n",
      "13 5.799292648891658e-87 4.0329146112660565e+26 1.3133459816558236e-47\n",
      "14 2.341335912741505e-90 3.0488834461171387e+29 1.313345981655895e-47\n",
      "15 8.9089776847146e-94 2.6525285981219107e+32 1.3133459816558712e-47\n",
      "16 3.209195677972533e-97 2.631308369336935e+35 1.3133459816558798e-47\n",
      "17 1.0986575963615532e-100 2.9523279903960416e+38 1.3133459816558766e-47\n",
      "18 3.586949157403382e-104 3.7199332678990125e+41 1.3133459816558778e-47\n",
      "19 1.1202640544676816e-107 5.230226174666011e+44 1.3133459816558773e-47\n",
      "20 3.356181114177874e-111 8.159152832478977e+47 1.3133459816558776e-47\n",
      "21 9.668958912943521e-115 1.40500611775288e+51 1.3133459816558773e-47\n"
     ]
    },
    {
     "data": {
      "text/plain": [
       "1.3133459816558773e-47"
      ]
     },
     "execution_count": 92,
     "metadata": {},
     "output_type": "execute_result"
    }
   ],
   "source": [
    "N = 22\n",
    "\n",
    "gamma = mp.sqrt(alpha**2 - beta**2)\n",
    "omega = mp.sqrt(xmu**2 + delta**2)\n",
    "\n",
    "gw = gamma * omega\n",
    "\n",
    "C = -delta * mp.exp(delta * gamma - gw) / mp.pi / xmu\n",
    "z = -omega / gamma / xmu ** 2 / 2\n",
    "\n",
    "k0 = mp.besselk(0, gw) * mp.exp(gw)\n",
    "k1 = mp.besselk(1, gw) * mp.exp(gw)\n",
    "rp = k0 / k1\n",
    "\n",
    "u = -xmu * beta\n",
    "y = mp.exp(-u)\n",
    "u2 = u * u\n",
    "v = 1\n",
    "qp = y\n",
    "\n",
    "t = C*k0\n",
    "\n",
    "s = t * y\n",
    "sp = s\n",
    "\n",
    "for k in range(1, N):\n",
    "    # Bessel ratio recursion\n",
    "    r = 1.0 / rp + 2 * (k - 1) / gw;\n",
    "\n",
    "    # Incomplete gamma recursion\n",
    "    v *= u2\n",
    "    m = 2*k * (2*k-1)\n",
    "    q = m * qp + y * (v * (2*k / u + 1))\n",
    "    \n",
    "    t *= z * r / k\n",
    "    s += t * q\n",
    "\n",
    "    print(k, float(abs(t)), float(q), float(s))\n",
    "    \n",
    "    rp = r\n",
    "    qp = q\n",
    "\n",
    "float(s)"
   ]
  },
  {
   "cell_type": "code",
   "execution_count": 93,
   "id": "c2ae165c-a839-4848-85ee-a0f322f45cac",
   "metadata": {},
   "outputs": [
    {
     "data": {
      "text/plain": [
       "1.3133459816558776e-47"
      ]
     },
     "execution_count": 93,
     "metadata": {},
     "output_type": "execute_result"
    }
   ],
   "source": [
    "float(mp_result)"
   ]
  },
  {
   "cell_type": "code",
   "execution_count": null,
   "id": "a0391f60-dac8-4437-b66a-d04c00b4ecf6",
   "metadata": {},
   "outputs": [],
   "source": []
  },
  {
   "cell_type": "code",
   "execution_count": null,
   "id": "bcc466e4-c3a6-4bee-9ce7-bec43a0fe4fa",
   "metadata": {},
   "outputs": [],
   "source": []
  }
 ],
 "metadata": {
  "kernelspec": {
   "display_name": "Python 3 (ipykernel)",
   "language": "python",
   "name": "python3"
  },
  "language_info": {
   "codemirror_mode": {
    "name": "ipython",
    "version": 3
   },
   "file_extension": ".py",
   "mimetype": "text/x-python",
   "name": "python",
   "nbconvert_exporter": "python",
   "pygments_lexer": "ipython3",
   "version": "3.12.7"
  }
 },
 "nbformat": 4,
 "nbformat_minor": 5
}
