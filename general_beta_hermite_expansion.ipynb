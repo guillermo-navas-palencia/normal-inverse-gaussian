{
 "cells": [
  {
   "cell_type": "code",
   "execution_count": 1,
   "id": "38ce52a7-be62-41dd-ae67-c3ddfdd97b09",
   "metadata": {},
   "outputs": [],
   "source": [
    "import mpmath as mp\n",
    "\n",
    "from code.python.mpmath_integration import quad_phi"
   ]
  },
  {
   "cell_type": "code",
   "execution_count": 2,
   "id": "6dba97bc-4ff1-4f3b-aeb0-f518856830fc",
   "metadata": {},
   "outputs": [],
   "source": [
    "x = mp.mpf('3')\n",
    "alpha = mp.mpf('5')\n",
    "beta = mp.mpf('1/2')\n",
    "mu = mp.mpf('1')\n",
    "delta = mp.mpf('4')\n",
    "\n",
    "xmu = x - mu\n",
    "\n",
    "gamma = mp.sqrt(alpha ** 2 - beta ** 2)\n",
    "omega = mp.sqrt(xmu ** 2 + delta ** 2)"
   ]
  },
  {
   "cell_type": "markdown",
   "id": "6fc2eac9-03b0-48ba-80a3-c23a0f54b4e6",
   "metadata": {},
   "source": [
    "### 1. Expansion b -> 0"
   ]
  },
  {
   "cell_type": "code",
   "execution_count": 4,
   "id": "39d0c3c9-f110-4c61-8400-e9edc8afc1f6",
   "metadata": {},
   "outputs": [],
   "source": [
    "a = x-mu\n",
    "b = -beta"
   ]
  },
  {
   "cell_type": "code",
   "execution_count": 5,
   "id": "a1df2aaf-09f9-48ef-bcb3-46f7442e01e2",
   "metadata": {},
   "outputs": [],
   "source": [
    "def normcdf(x):\n",
    "    return mp.erfc(-x / mp.sqrt(mp.mpf('2'))) / mp.mpf('2')"
   ]
  },
  {
   "cell_type": "code",
   "execution_count": 6,
   "id": "f17edc40-7bde-4927-a916-3d8c200c7904",
   "metadata": {},
   "outputs": [
    {
     "data": {
      "text/plain": [
       "mpf('0.93319279873114191')"
      ]
     },
     "execution_count": 6,
     "metadata": {},
     "output_type": "execute_result"
    }
   ],
   "source": [
    "t = 1\n",
    "\n",
    "normcdf(a / mp.sqrt(t) + b * mp.sqrt(t))"
   ]
  },
  {
   "cell_type": "code",
   "execution_count": 9,
   "id": "71f1364c-ee0f-4a92-a434-0357419d9b46",
   "metadata": {},
   "outputs": [
    {
     "data": {
      "text/plain": [
       "mpf('0.93319279873114191')"
      ]
     },
     "execution_count": 9,
     "metadata": {},
     "output_type": "execute_result"
    }
   ],
   "source": [
    "A = mp.exp(-a**2/2 * t) / mp.sqrt(2*mp.pi) * mp.sqrt(t)\n",
    "\n",
    "K = 40\n",
    "S = 0\n",
    "for k in range(K):\n",
    "    S += (-1) ** k * b ** (k + 1) / mp.factorial(k + 1) * mp.hermite(k, a / mp.sqrt(2*t)) * (t / 2) ** (k / 2)\n",
    "\n",
    "normcdf(a / mp.sqrt(t)) + A * S"
   ]
  },
  {
   "cell_type": "markdown",
   "id": "44251774-9bfb-4be1-8298-c4fa2bb1e168",
   "metadata": {},
   "source": [
    "### 2. Expansion"
   ]
  },
  {
   "cell_type": "code",
   "execution_count": 10,
   "id": "f7ec1afb-d1e4-4a54-8d53-944ba2b2385b",
   "metadata": {},
   "outputs": [
    {
     "data": {
      "text/plain": [
       "mpf('0.95997754054946574')"
      ]
     },
     "execution_count": 10,
     "metadata": {},
     "output_type": "execute_result"
    }
   ],
   "source": [
    "mp_result = quad_phi(x, alpha, beta, mu, delta, digits=100)\n",
    "mp_result"
   ]
  },
  {
   "cell_type": "code",
   "execution_count": 11,
   "id": "69d4f483-9500-4bba-a9ca-8a9c2114a6ed",
   "metadata": {},
   "outputs": [
    {
     "data": {
      "text/plain": [
       "mpf('0.98630189280527029')"
      ]
     },
     "execution_count": 11,
     "metadata": {},
     "output_type": "execute_result"
    }
   ],
   "source": [
    "quad_phi(x, gamma, 0, mu, delta, digits=100)"
   ]
  },
  {
   "cell_type": "code",
   "execution_count": 12,
   "id": "894576ac-c072-4767-a334-ce56f8fbb7e5",
   "metadata": {},
   "outputs": [],
   "source": [
    "C = delta * mp.exp(delta * gamma) / (2 * mp.pi)"
   ]
  },
  {
   "cell_type": "code",
   "execution_count": 13,
   "id": "6de4003b-eeed-4b9e-b88d-2a07b028c955",
   "metadata": {},
   "outputs": [
    {
     "data": {
      "text/plain": [
       "mpf('-0.02632435225580452909447606912714988231711442630495450207934465163741921938323271904959628967233365243257')"
      ]
     },
     "execution_count": 13,
     "metadata": {},
     "output_type": "execute_result"
    }
   ],
   "source": [
    "mp.mp.dps = 100\n",
    "\n",
    "N = 20\n",
    "s = 0\n",
    "for k in range(N):\n",
    "    r = (-1) ** k * (-beta) ** (k + 1) / mp.factorial(k + 1) / 2 ** (k/2)\n",
    "    q = mp.quad(lambda t: t ** (k/2 - 1) * mp.hermite(k, xmu / mp.sqrt(2 * t)) * mp.exp(-omega ** 2 / 2 / t - gamma ** 2 / 2 * t), [0, mp.inf])\n",
    "    s += r * q\n",
    "\n",
    "C * s"
   ]
  },
  {
   "cell_type": "code",
   "execution_count": 14,
   "id": "71820207-3c40-4b23-aa41-1923d2852944",
   "metadata": {},
   "outputs": [],
   "source": [
    "r1 = quad_phi(x, gamma, 0, mu, delta, digits=100) + C * s"
   ]
  },
  {
   "cell_type": "code",
   "execution_count": 16,
   "id": "55b61579-983a-4030-b800-ece72755bc39",
   "metadata": {},
   "outputs": [
    {
     "data": {
      "text/plain": [
       "2.8102413509359047e-17"
      ]
     },
     "execution_count": 16,
     "metadata": {},
     "output_type": "execute_result"
    }
   ],
   "source": [
    "float(abs(r1 / mp_result - 1))"
   ]
  },
  {
   "cell_type": "code",
   "execution_count": 41,
   "id": "7daaacb9-7d87-4f98-adef-88f603f91258",
   "metadata": {},
   "outputs": [
    {
     "data": {
      "text/plain": [
       "mpf('0.0000000001066502480955874235763167453152610739522494459182923638751868470308621807431170453416998408301908371817')"
      ]
     },
     "execution_count": 41,
     "metadata": {},
     "output_type": "execute_result"
    }
   ],
   "source": [
    "j = 4\n",
    "mp.quad(lambda t: t ** (j - 1) * mp.exp(-omega ** 2 / 2 / t - gamma ** 2 / 2 * t), [0, mp.inf])"
   ]
  },
  {
   "cell_type": "code",
   "execution_count": 44,
   "id": "2ab0a22f-758c-496e-bd63-9929b4bf69c9",
   "metadata": {},
   "outputs": [
    {
     "data": {
      "text/plain": [
       "mpf('0.0000000001066502480955874235763167453152610739522494459182923638751868470308621807431170453416998408301908371826')"
      ]
     },
     "execution_count": 44,
     "metadata": {},
     "output_type": "execute_result"
    }
   ],
   "source": [
    "2 * (omega / gamma) ** j * mp.besselk(j, gamma * omega)"
   ]
  },
  {
   "cell_type": "code",
   "execution_count": 50,
   "id": "ce522b4d-69e0-4e51-b850-6a7940105bad",
   "metadata": {},
   "outputs": [
    {
     "data": {
      "text/plain": [
       "mpf('-0.000000009784244885156514763525857922935277896236834477751819148067887126750944833870598658603585196859960924589')"
      ]
     },
     "execution_count": 50,
     "metadata": {},
     "output_type": "execute_result"
    }
   ],
   "source": [
    "k = 5\n",
    "mp.quad(lambda t: t ** (k/2 - 1) * mp.hermite(k, xmu / mp.sqrt(2 * t)) * mp.exp(-omega ** 2 / 2 / t - gamma ** 2 / 2 * t), [0, mp.inf])"
   ]
  },
  {
   "cell_type": "code",
   "execution_count": 51,
   "id": "195acf0f-096b-43d7-96f3-76846db654e6",
   "metadata": {},
   "outputs": [
    {
     "data": {
      "text/plain": [
       "mpf('-0.000000009784244885156514763525857922935277896236834477751819148067887126750944833870598658603585196859960924483')"
      ]
     },
     "execution_count": 51,
     "metadata": {},
     "output_type": "execute_result"
    }
   ],
   "source": [
    "s = 0\n",
    "for j in range(int(mp.floor(k/2)) + 1):\n",
    "    s += (-1) ** j / mp.factorial(j) / mp.factorial(k - 2 * j) * mp.besselk(j, gamma * omega) * (omega / gamma /2 / xmu ** 2) ** j\n",
    "\n",
    "2 * mp.factorial(k) * s * (mp.sqrt(2) * xmu) ** k"
   ]
  },
  {
   "cell_type": "markdown",
   "id": "3b982fed-f542-4aa4-a32e-3fb0faefcd03",
   "metadata": {},
   "source": [
    "#### Final expansion"
   ]
  },
  {
   "cell_type": "code",
   "execution_count": 52,
   "id": "251d7c92-67cf-46e8-881b-d769d6eb34d3",
   "metadata": {},
   "outputs": [],
   "source": [
    "N = 20"
   ]
  },
  {
   "cell_type": "code",
   "execution_count": 53,
   "id": "7ff34c6c-29e9-490e-9532-39992f50c8c6",
   "metadata": {},
   "outputs": [],
   "source": [
    "def Ak(k):\n",
    "    s = 0\n",
    "    for j in range(int(mp.floor(k/2)) + 1):\n",
    "        s += (-1) ** j / mp.factorial(j) / mp.factorial(k - 2 * j) * (omega / gamma /2 / xmu ** 2) ** j * mp.besselk(j, gamma * omega)\n",
    "    return s"
   ]
  },
  {
   "cell_type": "code",
   "execution_count": 54,
   "id": "7814d01f-4d1d-426b-9919-b563b13c9de3",
   "metadata": {},
   "outputs": [],
   "source": [
    "s = 0\n",
    "for k in range(N):\n",
    "    s += (beta * (x-mu)) ** k / (k + 1) * Ak(k)"
   ]
  },
  {
   "cell_type": "code",
   "execution_count": 58,
   "id": "479029f9-7788-49cb-86b1-ce48af20e09e",
   "metadata": {},
   "outputs": [],
   "source": [
    "r2 = quad_phi(x, gamma, 0, mu, delta, digits=100) - beta * delta * mp.exp(delta * gamma) / mp.pi * s"
   ]
  },
  {
   "cell_type": "code",
   "execution_count": 59,
   "id": "4d4b6fdd-075b-4391-ae16-19717c26483a",
   "metadata": {},
   "outputs": [
    {
     "data": {
      "text/plain": [
       "2.9168251091814864e-17"
      ]
     },
     "execution_count": 59,
     "metadata": {},
     "output_type": "execute_result"
    }
   ],
   "source": [
    "float(abs(r2 / mp_result - 1))"
   ]
  },
  {
   "cell_type": "code",
   "execution_count": null,
   "id": "40c891fa-da36-4a39-a035-d6a2a4307fea",
   "metadata": {},
   "outputs": [],
   "source": []
  }
 ],
 "metadata": {
  "kernelspec": {
   "display_name": "Python 3 (ipykernel)",
   "language": "python",
   "name": "python3"
  },
  "language_info": {
   "codemirror_mode": {
    "name": "ipython",
    "version": 3
   },
   "file_extension": ".py",
   "mimetype": "text/x-python",
   "name": "python",
   "nbconvert_exporter": "python",
   "pygments_lexer": "ipython3",
   "version": "3.12.7"
  }
 },
 "nbformat": 4,
 "nbformat_minor": 5
}
