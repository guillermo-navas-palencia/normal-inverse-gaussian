{
 "cells": [
  {
   "cell_type": "code",
   "execution_count": 1,
   "id": "d0779f10-59d6-4e20-a299-7b586673b1b2",
   "metadata": {},
   "outputs": [],
   "source": [
    "from mpmath import *"
   ]
  },
  {
   "cell_type": "code",
   "execution_count": 2,
   "id": "e9212685-ff02-4f5f-a57a-c625ad5d9435",
   "metadata": {},
   "outputs": [],
   "source": [
    "mp.dps = 30"
   ]
  },
  {
   "cell_type": "code",
   "execution_count": 24,
   "id": "bb79d25a-b45a-462a-8a8d-0908326669c0",
   "metadata": {},
   "outputs": [
    {
     "data": {
      "text/plain": [
       "mpf('501.838723875452208689635069855062')"
      ]
     },
     "execution_count": 24,
     "metadata": {},
     "output_type": "execute_result"
    }
   ],
   "source": [
    "lmbda = mpf('5')\n",
    "z = mpf('1/2')\n",
    "beta = mpf('1/3')\n",
    "tp = mpf('2')\n",
    "\n",
    "k = 2\n",
    "\n",
    "def phik(k, z, lmbda, beta):\n",
    "    C = z ** (lmbda + k)   \n",
    "    return C * quad(lambda t: t ** (lmbda - 1) * (t - tp) ** k * exp(-z * (t + beta**2 / t)), [0, inf])\n",
    "\n",
    "phik(k, z, lmbda, beta)"
   ]
  },
  {
   "cell_type": "markdown",
   "id": "57fb20bd-5465-45ab-905a-4cc2cbaac9d5",
   "metadata": {},
   "source": [
    "Integrals"
   ]
  },
  {
   "cell_type": "code",
   "execution_count": 25,
   "id": "46d04bd6-9fa9-4b9f-b34e-1b1b0deb19c2",
   "metadata": {},
   "outputs": [],
   "source": [
    "def Ik1(k, z, lmbda, beta):\n",
    "    return quad(lambda t: t ** (lmbda + 1) * (t - tp) ** k * exp(-z * (t + beta**2 / t)), [0, inf])\n",
    "\n",
    "def Ik2(k, z, lmbda, beta):\n",
    "    return quad(lambda t: t ** (lmbda + 1) * (t - tp) ** k * (beta ** 2 / t ** 2 - 1) * exp(-z * (t + beta**2 / t)), [0, inf])"
   ]
  },
  {
   "cell_type": "code",
   "execution_count": 26,
   "id": "9b79a1b7-0ac4-4804-aeae-928358429cb6",
   "metadata": {},
   "outputs": [
    {
     "data": {
      "text/plain": [
       "mpf('501.838723875452208689635069797254')"
      ]
     },
     "execution_count": 26,
     "metadata": {},
     "output_type": "execute_result"
    }
   ],
   "source": [
    "z ** (lmbda + k) / beta ** 2 * (Ik1(k, z, lmbda, beta) + Ik2(k, z, lmbda, beta))"
   ]
  },
  {
   "cell_type": "markdown",
   "id": "7d20e21c-5b7d-4920-87bf-c3d63749ec60",
   "metadata": {},
   "source": [
    "Integral Ik1"
   ]
  },
  {
   "cell_type": "code",
   "execution_count": 27,
   "id": "c3f8d609-c065-474b-819a-03ff7840dc15",
   "metadata": {},
   "outputs": [
    {
     "data": {
      "text/plain": [
       "mpf('15798712.7464053162454593601078273')"
      ]
     },
     "execution_count": 27,
     "metadata": {},
     "output_type": "execute_result"
    }
   ],
   "source": [
    "Ik1(k, z, lmbda, beta)"
   ]
  },
  {
   "cell_type": "code",
   "execution_count": 39,
   "id": "13215ade-12cc-4e6c-b8ea-5ce81d2f63c0",
   "metadata": {},
   "outputs": [
    {
     "data": {
      "text/plain": [
       "mpf('15798712.7464053162454593601078273')"
      ]
     },
     "execution_count": 39,
     "metadata": {},
     "output_type": "execute_result"
    }
   ],
   "source": [
    "-quad(lambda t: t ** (lmbda - 1) * (t - tp) ** (k + 1) * (beta ** 2 * z + (lmbda + 1) * t - z* t** 2) / (k + 1) * exp(-z * (t + beta**2 / t)), [0, inf])"
   ]
  },
  {
   "cell_type": "code",
   "execution_count": 40,
   "id": "a58e90bc-4fef-4661-8414-26ed797526f2",
   "metadata": {},
   "outputs": [],
   "source": [
    "int11 = beta ** 2 * z * quad(lambda t: t ** (lmbda - 1) * (t - tp) ** (k + 1) * exp(-z * (t + beta**2 / t)), [0, inf])"
   ]
  },
  {
   "cell_type": "code",
   "execution_count": 44,
   "id": "8dc5f3a9-21ca-4ecd-9f3f-3c2594924ff4",
   "metadata": {},
   "outputs": [],
   "source": [
    "int12 = (1 + lmbda) * quad(lambda t: t ** (lmbda - 1) * (t - tp + tp) * (t - tp) ** (k + 1) * exp(-z * (t + beta**2 / t)), [0, inf])"
   ]
  },
  {
   "cell_type": "code",
   "execution_count": 47,
   "id": "15328827-454a-4e5d-a6e4-e3db75ed24fd",
   "metadata": {},
   "outputs": [],
   "source": [
    "int13 = z * quad(lambda t: t ** (lmbda - 1) * (tp ** 2 + 2 * tp * (t - tp) + (t - tp) ** 2) * (t - tp) ** (k + 1) * exp(-z * (t + beta**2 / t)), [0, inf])"
   ]
  },
  {
   "cell_type": "code",
   "execution_count": 48,
   "id": "c4249569-5234-4bcf-8687-58d073582e62",
   "metadata": {},
   "outputs": [
    {
     "data": {
      "text/plain": [
       "mpf('15798712.7464053162454593601078256')"
      ]
     },
     "execution_count": 48,
     "metadata": {},
     "output_type": "execute_result"
    }
   ],
   "source": [
    "-(int11 + int12 - int13) / (k + 1)"
   ]
  },
  {
   "cell_type": "code",
   "execution_count": 52,
   "id": "ca2caafd-037d-45d8-9623-0e1056e56863",
   "metadata": {},
   "outputs": [
    {
     "data": {
      "text/plain": [
       "mpf('15190.2403260681276088809910250096')"
      ]
     },
     "execution_count": 52,
     "metadata": {},
     "output_type": "execute_result"
    }
   ],
   "source": [
    "int11 / (k + 1)"
   ]
  },
  {
   "cell_type": "code",
   "execution_count": 49,
   "id": "04579f12-a2b2-43af-9921-9ba0868b6993",
   "metadata": {},
   "outputs": [
    {
     "data": {
      "text/plain": [
       "mpf('15190.2403260681276088809910250096')"
      ]
     },
     "execution_count": 49,
     "metadata": {},
     "output_type": "execute_result"
    }
   ],
   "source": [
    "phik(k + 1, z, lmbda, beta) / z ** (k + 1 + lmbda) * beta ** 2 * z / (k+1)"
   ]
  },
  {
   "cell_type": "code",
   "execution_count": 53,
   "id": "7538a1c9-790f-4064-b76c-43d99e494cf6",
   "metadata": {},
   "outputs": [
    {
     "data": {
      "text/plain": [
       "mpf('27802450.7291314538657022398427221')"
      ]
     },
     "execution_count": 53,
     "metadata": {},
     "output_type": "execute_result"
    }
   ],
   "source": [
    "int12 / (k + 1)"
   ]
  },
  {
   "cell_type": "code",
   "execution_count": 57,
   "id": "8fd6b36a-6d7f-4de0-84bd-069e587c8966",
   "metadata": {},
   "outputs": [
    {
     "data": {
      "text/plain": [
       "mpf('27802450.7291314538657022398427221')"
      ]
     },
     "execution_count": 57,
     "metadata": {},
     "output_type": "execute_result"
    }
   ],
   "source": [
    "(1 + lmbda) / (k + 1) / z ** (k + lmbda + 1)  * (tp * phik(k + 1, z, lmbda, beta) + phik(k + 2, z, lmbda, beta) / z)"
   ]
  },
  {
   "cell_type": "code",
   "execution_count": 58,
   "id": "f02b2bd6-61b4-4a58-82e5-d333586ed634",
   "metadata": {},
   "outputs": [
    {
     "data": {
      "text/plain": [
       "mpf('43616353.7158628382387704809415736')"
      ]
     },
     "execution_count": 58,
     "metadata": {},
     "output_type": "execute_result"
    }
   ],
   "source": [
    "int13 / (k + 1)"
   ]
  },
  {
   "cell_type": "code",
   "execution_count": 60,
   "id": "3d8d85fb-8a81-4a52-9512-c3b1bacc0fa4",
   "metadata": {},
   "outputs": [
    {
     "data": {
      "text/plain": [
       "mpf('43616353.7158628382387704809415736')"
      ]
     },
     "execution_count": 60,
     "metadata": {},
     "output_type": "execute_result"
    }
   ],
   "source": [
    "z / (k + 1) / z ** (lmbda + k + 1) * (tp ** 2 * phik(k + 1, z, lmbda, beta) + 2 * tp / z * phik(k + 2, z, lmbda, beta) + phik(k + 3, z, lmbda, beta) / z ** 2)"
   ]
  },
  {
   "cell_type": "markdown",
   "id": "e54e3f34-8350-45a0-afe6-7bd3514e45fc",
   "metadata": {},
   "source": [
    "Test Ik(1)"
   ]
  },
  {
   "cell_type": "code",
   "execution_count": 94,
   "id": "5f5b42a7-7e1d-4242-8170-743e7fed9f57",
   "metadata": {},
   "outputs": [],
   "source": [
    "k = 3"
   ]
  },
  {
   "cell_type": "code",
   "execution_count": 95,
   "id": "1e6ebac4-2441-4c54-b317-aa170ffaf805",
   "metadata": {},
   "outputs": [
    {
     "data": {
      "text/plain": [
       "mpf('1046792489.18070811773049154259766')"
      ]
     },
     "execution_count": 95,
     "metadata": {},
     "output_type": "execute_result"
    }
   ],
   "source": [
    "A = (-beta ** 2 * z - tp * (1 + lmbda) + z * tp ** 2) / z ** (lmbda + k + 1)\n",
    "B = (-1 - lmbda + 2 * z * tp) / z ** (lmbda + k + 2)\n",
    "C = z / z ** (lmbda + k + 3)\n",
    "\n",
    "A * phik(k + 1, z, lmbda, beta) + B * phik(k + 2, z, lmbda, beta) + C * phik(k + 3, z, lmbda, beta)"
   ]
  },
  {
   "cell_type": "code",
   "execution_count": 96,
   "id": "7fda0a65-a68f-4667-9d90-de9070d2b139",
   "metadata": {},
   "outputs": [
    {
     "data": {
      "text/plain": [
       "mpf('1046792489.18070811773049154259777')"
      ]
     },
     "execution_count": 96,
     "metadata": {},
     "output_type": "execute_result"
    }
   ],
   "source": [
    "Ik1(k, z, lmbda, beta) * (k + 1)"
   ]
  },
  {
   "cell_type": "markdown",
   "id": "4b08bdf8-af9e-4791-8aae-cdc9f02ac907",
   "metadata": {},
   "source": [
    "Ik2"
   ]
  },
  {
   "cell_type": "code",
   "execution_count": 97,
   "id": "40b4ba65-7bb1-4ed3-aef1-8a73a34a0df5",
   "metadata": {},
   "outputs": [
    {
     "data": {
      "text/plain": [
       "mpf('-261606980.853220620666969599703283')"
      ]
     },
     "execution_count": 97,
     "metadata": {},
     "output_type": "execute_result"
    }
   ],
   "source": [
    "Ik2(k, z, lmbda, beta) "
   ]
  },
  {
   "cell_type": "code",
   "execution_count": 98,
   "id": "17097065-7176-4a51-b932-475ca31b9559",
   "metadata": {},
   "outputs": [
    {
     "data": {
      "text/plain": [
       "mpf('-261606980.853220620666969599703283')"
      ]
     },
     "execution_count": 98,
     "metadata": {},
     "output_type": "execute_result"
    }
   ],
   "source": [
    "-1 / z * quad(lambda t: ((lmbda + 1) * t ** lmbda * (t - tp) ** k + k * t ** (lmbda + 1) * (t - tp) ** (k-1)) * exp(-z * (t + beta**2 / t)), [0, inf])"
   ]
  },
  {
   "cell_type": "code",
   "execution_count": 99,
   "id": "dc8e1348-0723-412e-9f7c-a358ab4c1cd0",
   "metadata": {},
   "outputs": [
    {
     "data": {
      "text/plain": [
       "mpf('-166814704.374788723194213439056326')"
      ]
     },
     "execution_count": 99,
     "metadata": {},
     "output_type": "execute_result"
    }
   ],
   "source": [
    "-1 / z * quad(lambda t: ((lmbda + 1) * t ** lmbda * (t - tp) ** k) * exp(-z * (t + beta**2 / t)), [0, inf])"
   ]
  },
  {
   "cell_type": "code",
   "execution_count": 100,
   "id": "4902b4d2-7e45-4e33-841c-a9a38035c6d0",
   "metadata": {},
   "outputs": [
    {
     "data": {
      "text/plain": [
       "mpf('-166814704.374788723194213439056326')"
      ]
     },
     "execution_count": 100,
     "metadata": {},
     "output_type": "execute_result"
    }
   ],
   "source": [
    "-(lmbda + 1) / z ** (lmbda + k + 1) * (tp * phik(k, z, lmbda, beta) + phik(k + 1, z, lmbda, beta) / z)"
   ]
  },
  {
   "cell_type": "code",
   "execution_count": 101,
   "id": "f8d7828e-7ed7-43a8-9193-ea3e68b4477b",
   "metadata": {},
   "outputs": [
    {
     "data": {
      "text/plain": [
       "mpf('-94792276.4784318974727561606469702')"
      ]
     },
     "execution_count": 101,
     "metadata": {},
     "output_type": "execute_result"
    }
   ],
   "source": [
    "-1 / z * quad(lambda t: (k * t ** (lmbda + 1) * (t - tp) ** (k-1)) * exp(-z * (t + beta**2 / t)), [0, inf])"
   ]
  },
  {
   "cell_type": "code",
   "execution_count": 102,
   "id": "1b2ecf7e-3dca-460f-984c-1e6cadb46924",
   "metadata": {},
   "outputs": [
    {
     "data": {
      "text/plain": [
       "mpf('-94792276.478431897472756160646957')"
      ]
     },
     "execution_count": 102,
     "metadata": {},
     "output_type": "execute_result"
    }
   ],
   "source": [
    "-k / z ** (k + lmbda + 1) * (tp ** 2 * z * phik(k - 1, z, lmbda, beta) + 2 * tp * phik(k, z, lmbda, beta) + phik(k+1, z, lmbda, beta) / z)"
   ]
  },
  {
   "cell_type": "code",
   "execution_count": 103,
   "id": "7e6c1613-fa79-4e11-b8a5-464e978a993d",
   "metadata": {},
   "outputs": [
    {
     "data": {
      "text/plain": [
       "mpf('261606980.853220620666969599703309')"
      ]
     },
     "execution_count": 103,
     "metadata": {},
     "output_type": "execute_result"
    }
   ],
   "source": [
    "(k * tp ** 2 * z * phik(k - 1, z, lmbda, beta) + \n",
    " (lmbda + 1 + 2 * k) * tp * phik(k, z, lmbda, beta) +\n",
    " (lmbda + 1 + k) / z * phik(k + 1, z, lmbda, beta)\n",
    ") / z ** (lmbda + k + 1)"
   ]
  },
  {
   "cell_type": "markdown",
   "id": "4f2160e3-756d-4762-abe1-47c30f799279",
   "metadata": {},
   "source": [
    "blocks"
   ]
  },
  {
   "cell_type": "code",
   "execution_count": 107,
   "id": "ce6e5ac6-01ef-4254-8086-f1134b221dac",
   "metadata": {},
   "outputs": [
    {
     "data": {
      "text/plain": [
       "mpf('261698122.295177029432622885649441')"
      ]
     },
     "execution_count": 107,
     "metadata": {},
     "output_type": "execute_result"
    }
   ],
   "source": [
    "Ik1(k, z, lmbda, beta)"
   ]
  },
  {
   "cell_type": "code",
   "execution_count": 110,
   "id": "79db7fe8-bb71-4b98-96c2-441a0b094417",
   "metadata": {},
   "outputs": [
    {
     "data": {
      "text/plain": [
       "mpf('261698122.295177029432622885649415')"
      ]
     },
     "execution_count": 110,
     "metadata": {},
     "output_type": "execute_result"
    }
   ],
   "source": [
    "A = (-beta ** 2 * z - tp * (1 + lmbda) + z * tp ** 2) / z ** (lmbda + k + 1) / (k + 1)\n",
    "B = (-1 - lmbda + 2 * z * tp) / z ** (lmbda + k + 2) / (k + 1)\n",
    "C = z / z ** (lmbda + k + 3) / (k + 1)\n",
    "\n",
    "A * phik(k + 1, z, lmbda, beta) + B * phik(k + 2, z, lmbda, beta) + C * phik(k + 3, z, lmbda, beta)"
   ]
  },
  {
   "cell_type": "code",
   "execution_count": 122,
   "id": "ec896b2d-f0b9-4a4c-9ccf-3d4292efe8bf",
   "metadata": {},
   "outputs": [
    {
     "data": {
      "text/plain": [
       "mpf('95.50153963814998517198323049036')"
      ]
     },
     "execution_count": 122,
     "metadata": {},
     "output_type": "execute_result"
    }
   ],
   "source": [
    "A = phik(k - 1, z, lmbda, beta) * (-z * tp ** 2 * k)\n",
    "B = phik(k, z, lmbda, beta) * -(lmbda + 1 + 2*k) * tp\n",
    "C = phik(k + 1, z, lmbda, beta) * ((z * tp ** 2 - tp * (1 + lmbda) - beta ** 2 * z) / (k + 1) - (lmbda + 1 + k) / z)\n",
    "D = phik(k + 2, z, lmbda, beta) * ((2 * z * tp - lmbda - 1) / z) / (k + 1)\n",
    "E = phik(k + 3, z, lmbda, beta) * z / z**2 / (k + 1)\n",
    "\n",
    "(A + B + C + D + E) / (beta ** 2 * z)"
   ]
  },
  {
   "cell_type": "code",
   "execution_count": 123,
   "id": "9c6dfd7f-eddf-4dd5-a5b5-3becec2e312b",
   "metadata": {},
   "outputs": [
    {
     "data": {
      "text/plain": [
       "mpf('95.5015396381499851719832304784955')"
      ]
     },
     "execution_count": 123,
     "metadata": {},
     "output_type": "execute_result"
    }
   ],
   "source": [
    "phik(k, z, lmbda, beta)"
   ]
  },
  {
   "cell_type": "markdown",
   "id": "9014fe19-6b8b-436a-aeb1-d206f4403584",
   "metadata": {},
   "source": [
    "FINAL RESULT"
   ]
  },
  {
   "cell_type": "code",
   "execution_count": 141,
   "id": "9be6d051-2458-49d2-a48e-cbd1738271fb",
   "metadata": {},
   "outputs": [
    {
     "data": {
      "text/plain": [
       "mpf('4868.29068263195338316554623131477')"
      ]
     },
     "execution_count": 141,
     "metadata": {},
     "output_type": "execute_result"
    }
   ],
   "source": [
    "k = 0\n",
    "\n",
    "lmbda = mpf('5')\n",
    "z = mpf('1/2')\n",
    "beta = mpf('1/3')\n",
    "tp = mpf('1/7')\n",
    "\n",
    "phik(k + 3, z, lmbda, beta)"
   ]
  },
  {
   "cell_type": "code",
   "execution_count": 142,
   "id": "872c6231-e5ab-4fd5-84d0-01ac91d4d2df",
   "metadata": {},
   "outputs": [
    {
     "data": {
      "text/plain": [
       "mpf('4868.29068263195338316554623131557')"
      ]
     },
     "execution_count": 142,
     "metadata": {},
     "output_type": "execute_result"
    }
   ],
   "source": [
    "A = (k + 1) * k * z ** 2 * tp ** 2\n",
    "B = (k + 1) * z * (z * beta ** 2 + (lmbda + 1 + 2*k) * tp)\n",
    "C = (k + 1) * (lmbda + 1 + k) - z**2 * (tp ** 2 - beta ** 2) + z * tp * (1 + lmbda)\n",
    "D = lmbda + 1 - 2 * z * tp\n",
    "\n",
    "A * phik(k - 1, z, lmbda, beta) + B * phik(k, z, lmbda, beta) + C * phik(k + 1, z, lmbda, beta) + D * phik(k + 2, z, lmbda, beta)"
   ]
  },
  {
   "cell_type": "code",
   "execution_count": 143,
   "id": "bc040885-f252-4066-bd5b-7077b770c0cd",
   "metadata": {},
   "outputs": [
    {
     "data": {
      "text/plain": [
       "mpf('6.09085363559794984682995561695975')"
      ]
     },
     "execution_count": 143,
     "metadata": {},
     "output_type": "execute_result"
    }
   ],
   "source": [
    "phik(k - 1, z, lmbda, beta)"
   ]
  },
  {
   "cell_type": "code",
   "execution_count": null,
   "id": "46751f43-1df1-4ee0-943b-09efd0b67a4b",
   "metadata": {},
   "outputs": [],
   "source": []
  }
 ],
 "metadata": {
  "kernelspec": {
   "display_name": "Python 3 (ipykernel)",
   "language": "python",
   "name": "python3"
  },
  "language_info": {
   "codemirror_mode": {
    "name": "ipython",
    "version": 3
   },
   "file_extension": ".py",
   "mimetype": "text/x-python",
   "name": "python",
   "nbconvert_exporter": "python",
   "pygments_lexer": "ipython3",
   "version": "3.9.12"
  }
 },
 "nbformat": 4,
 "nbformat_minor": 5
}
