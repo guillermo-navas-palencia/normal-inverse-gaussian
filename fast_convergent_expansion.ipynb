{
 "cells": [
  {
   "cell_type": "code",
   "execution_count": 1,
   "id": "87a80918-183a-4a7d-a8fd-18f1c7a9bae8",
   "metadata": {},
   "outputs": [],
   "source": [
    "%load_ext autoreload\n",
    "%autoreload 2"
   ]
  },
  {
   "cell_type": "code",
   "execution_count": 2,
   "id": "6a6ea37e-688d-4751-b569-bb1be7deaf00",
   "metadata": {},
   "outputs": [],
   "source": [
    "from code.mpmath_series import quad_phi\n",
    "from code.mpmath_series import series_x_mu_b0_pos, bound_series_x_mu_b0_pos, estimate_N_series_x_mu_b0_pos\n",
    "from code.mpmath_series import series_x_mu_b0_alternating, bound_series_x_mu_b0_alternating, estimate_N_series_x_mu_b0_alternating\n",
    "\n",
    "from code.mpmath_series import estimate_N_series_x_mu_b0_pos_fast, estimate_Tk_series_x_mu_b0_pos_fast"
   ]
  },
  {
   "cell_type": "code",
   "execution_count": 3,
   "id": "f012ac5d-c844-402f-85e5-0445ba0a206a",
   "metadata": {},
   "outputs": [],
   "source": [
    "from mpmath import *"
   ]
  },
  {
   "cell_type": "code",
   "execution_count": 243,
   "id": "bcfaeca0-bbfc-4120-b84e-aef1dbe520af",
   "metadata": {},
   "outputs": [
    {
     "data": {
      "text/plain": [
       "(0.19800002525252364, 0.19799997474747957, 392.0401)"
      ]
     },
     "execution_count": 243,
     "metadata": {},
     "output_type": "execute_result"
    }
   ],
   "source": [
    "mp.dps = 50\n",
    "\n",
    "alpha = mpf('1/100')\n",
    "mu = mpf('1/5')\n",
    "delta = mpf('1/100')\n",
    "x = mpf('20')\n",
    "\n",
    "(x - mu) / delta\n",
    "\n",
    "omega = sqrt((x-mu)**2 + delta**2)\n",
    "float(alpha * omega), float(((x-mu)**2  / omega * alpha)), float(omega**2)"
   ]
  },
  {
   "cell_type": "markdown",
   "id": "5e878986-7885-4d1a-89f3-571f8e565233",
   "metadata": {},
   "source": [
    "### 1. Integral"
   ]
  },
  {
   "cell_type": "code",
   "execution_count": 244,
   "id": "1929e608-cf47-4bc4-824d-f518249461d5",
   "metadata": {},
   "outputs": [
    {
     "data": {
      "text/plain": [
       "mpf('0.99987901257027552272415620085010655116346186377510146')"
      ]
     },
     "execution_count": 244,
     "metadata": {},
     "output_type": "execute_result"
    }
   ],
   "source": [
    "ref = quad_phi(x, alpha, mu, delta, digits=100)\n",
    "ref"
   ]
  },
  {
   "cell_type": "markdown",
   "id": "a34c60ce-6fbf-42fb-8a34-af3e42b26bd5",
   "metadata": {},
   "source": [
    "### 2. Series"
   ]
  },
  {
   "cell_type": "code",
   "execution_count": 245,
   "id": "efafdf71-5f86-491c-bfc7-3c56994e56e3",
   "metadata": {},
   "outputs": [
    {
     "name": "stdout",
     "output_type": "stream",
     "text": [
      "0.999999872462018 8.038930241482221e-05 4.925537242961908e-25 1.0357288255129176e+18 74010078.13672733\n"
     ]
    },
    {
     "data": {
      "text/plain": [
       "mpf('84914922.865642436614692979600042362158984603952325332')"
      ]
     },
     "execution_count": 245,
     "metadata": {},
     "output_type": "execute_result"
    }
   ],
   "source": [
    "estimate_N_series_x_mu_b0_pos(x, alpha, mu, delta)"
   ]
  },
  {
   "cell_type": "code",
   "execution_count": 103,
   "id": "a10ef530-5c73-4542-beb6-1cc5b7ae1e06",
   "metadata": {},
   "outputs": [
    {
     "data": {
      "text/plain": [
       "2.1723187395685342e-16"
      ]
     },
     "execution_count": 103,
     "metadata": {},
     "output_type": "execute_result"
    }
   ],
   "source": [
    "bound_series_x_mu_b0_pos(x, alpha, mu, delta, 1494)"
   ]
  },
  {
   "cell_type": "code",
   "execution_count": 104,
   "id": "06a84dda-9667-40c4-89d7-865e511d167f",
   "metadata": {},
   "outputs": [
    {
     "data": {
      "text/plain": [
       "2.140548912670144e-16"
      ]
     },
     "execution_count": 104,
     "metadata": {},
     "output_type": "execute_result"
    }
   ],
   "source": [
    "float(ref - series_x_mu_b0_pos(x, alpha, mu, delta, 1494))"
   ]
  },
  {
   "cell_type": "markdown",
   "id": "6933f029-692f-431b-bd0c-0c57ceafa0a5",
   "metadata": {},
   "source": [
    "Series"
   ]
  },
  {
   "cell_type": "code",
   "execution_count": 105,
   "id": "55204be4-bd75-45c2-bc53-bf1e8243ec93",
   "metadata": {},
   "outputs": [
    {
     "name": "stdout",
     "output_type": "stream",
     "text": [
      "5.301265214351715494021704346621584674595469818635 1.0642227718258776694697124025818633803761076268033\n"
     ]
    }
   ],
   "source": [
    "omega = sqrt(delta**2 + (x-mu)**2)\n",
    "z = (x-mu)**2 * alpha / omega\n",
    "\n",
    "N = 50\n",
    "\n",
    "s = mp.zero\n",
    "for k in range(N):\n",
    "    r = z**k / fac2(2*k + 1)\n",
    "    q = besselk(k + 1, alpha * omega)\n",
    "    s += r * q\n",
    "\n",
    "remainder = mp.zero\n",
    "for k in range(N, 1494):\n",
    "    r = z**k / fac2(2*k + 1)\n",
    "    q = besselk(k + 1, alpha * omega)\n",
    "    remainder += r * q\n",
    "\n",
    "print(s, remainder)"
   ]
  },
  {
   "cell_type": "markdown",
   "id": "c9ab2e0f-bcba-4b84-aa0c-d715ab358f58",
   "metadata": {},
   "source": [
    "Remainder integral representation"
   ]
  },
  {
   "cell_type": "code",
   "execution_count": 106,
   "id": "01ffc1af-6e98-4313-af0b-e6977b5b2c2b",
   "metadata": {},
   "outputs": [
    {
     "data": {
      "text/plain": [
       "mpf('1.0617314391410902894462675697808911643647083789664338')"
      ]
     },
     "execution_count": 106,
     "metadata": {},
     "output_type": "execute_result"
    }
   ],
   "source": [
    "M = gamma(N + 3 / 2) * 2 / fac2(2*N + 1) * (2*alpha / omega) / sqrt(pi) * (2*z*alpha / omega)**N\n",
    "M * quad(lambda t: cos(omega*t) / (t**2 + alpha**2)**(N + 3/2) / (2 - 2*z*alpha / omega / (t**2 + alpha**2)), [0, inf])"
   ]
  },
  {
   "cell_type": "code",
   "execution_count": 248,
   "id": "1086e966-ac41-4f53-bdba-466d0786d351",
   "metadata": {},
   "outputs": [],
   "source": [
    "N = 14\n",
    "\n",
    "omega = sqrt(delta**2 + (x-mu)**2)\n",
    "z = (x-mu)**2 * alpha / omega\n",
    "aw = alpha * omega\n",
    "\n",
    "s = mp.zero\n",
    "for k in range(N):\n",
    "    r = z**k / fac2(2*k + 1)\n",
    "    q = besselk(k + 1, alpha * omega)\n",
    "    s += r * q\n",
    "\n",
    "sN = s"
   ]
  },
  {
   "cell_type": "code",
   "execution_count": 249,
   "id": "740a96e2-b2fe-4080-b7fa-5673f704c694",
   "metadata": {},
   "outputs": [
    {
     "name": "stdout",
     "output_type": "stream",
     "text": [
      "0 -309039784191.03900701510932284097160392881132757348\n",
      "1 -216350971.73237263971273770898005881119430338582779\n",
      "2 27184.964198907226786738890725470390596034681590877\n",
      "3 -4.440685423727143403416717725350898344843600594358\n",
      "4 0.0007065455991140312140082898757955915321842018532278\n",
      "5 -0.00000010772001191032342860570457038107976631093735417851\n",
      "6 0.000000000015996429346384906754581084837838257457085567331371\n",
      "7 -0.0000000000000023689446759768654485781454433474730408217753847347\n",
      "8 3.5932673102897461686426032093121948317943461190166e-19\n",
      "9 -5.7545137874123767181319700285861899849009236846401e-23\n",
      "10 1.0092632842891938980301964116538677779643624305429e-26\n",
      "11 -2.0340265745864905282110791568050834878275893421829e-30\n",
      "12 5.0561051309982294442617550729751070066491929949059e-34\n",
      "13 -1.7534810925762908090497565712998678633532474391377e-37\n"
     ]
    },
    {
     "data": {
      "text/plain": [
       "mpf('0.99987901257027552272415620085010655116346186444698896')"
      ]
     },
     "execution_count": 249,
     "metadata": {},
     "output_type": "execute_result"
    }
   ],
   "source": [
    "m = 2*z*alpha/omega\n",
    "\n",
    "S1 = gamma(N + 3 / 2) / fac2(2*N + 1) * (alpha / omega) * sqrt(pi) * 2**(N+1) / sqrt(2*alpha**2*m - m*m) * cosh(sqrt(omega**2 * (2*alpha**2 - m)) / sqrt(2))\n",
    "\n",
    "S2 = 0\n",
    "for k in range(N):\n",
    "    P = alpha**(2*k) * gamma(N + 1 - k) * gamma(k - 1/2) * hyp2f1(1, N + 1 - k, 3/2 - k, 1 - m/(2*alpha**2))\n",
    "    tk = (-1)**k * omega**(2*k) / factorial(2*k) * P\n",
    "    S2 += tk\n",
    "    print(k, tk)\n",
    "\n",
    "S2 *= (m * 2)**N * alpha**(-2*N -1) / pi / fac2(2*N - 1) * gamma(N + 3 / 2) / fac2(2*N + 1) / omega\n",
    "\n",
    "S = sN + S1 + S2\n",
    "\n",
    "S * delta * exp(delta * alpha) / pi  * (x-mu)*alpha / omega  + 1/2"
   ]
  },
  {
   "cell_type": "code",
   "execution_count": 250,
   "id": "7e05f64e-13bd-4583-9470-9483338f5755",
   "metadata": {},
   "outputs": [
    {
     "data": {
      "text/plain": [
       "mpf('0.99987901257027552272415620085010655116346186377510146')"
      ]
     },
     "execution_count": 250,
     "metadata": {},
     "output_type": "execute_result"
    }
   ],
   "source": [
    "ref"
   ]
  },
  {
   "cell_type": "markdown",
   "id": "4d1553b4-71a1-4c35-9eaf-ddadba0cfe38",
   "metadata": {},
   "source": [
    "Find $N$"
   ]
  },
  {
   "cell_type": "markdown",
   "id": "37560678-7d5e-497f-ab84-9011e5521fd3",
   "metadata": {},
   "source": [
    "minimum value"
   ]
  },
  {
   "cell_type": "code",
   "execution_count": 92,
   "id": "78e6985a-8910-4184-8867-1913927ef9a7",
   "metadata": {},
   "outputs": [
    {
     "data": {
      "text/plain": [
       "mpf('4.3614613310291277381292558823510364548369601571451268e-51')"
      ]
     },
     "execution_count": 92,
     "metadata": {},
     "output_type": "execute_result"
    }
   ],
   "source": [
    "(alpha*omega)**(2*N) * gamma(N - 1/2) / factorial(2*N)"
   ]
  },
  {
   "cell_type": "code",
   "execution_count": 93,
   "id": "45f49371-5d19-454e-a6bf-f25bfe376e99",
   "metadata": {},
   "outputs": [
    {
     "data": {
      "text/plain": [
       "mpf('3.8193639553596949103299692830615390665248245158608532e-49')"
      ]
     },
     "execution_count": 93,
     "metadata": {},
     "output_type": "execute_result"
    }
   ],
   "source": [
    "(alpha*omega)**(2*N) * 2**(-2*N - 1/2) * (e / N)**N"
   ]
  },
  {
   "cell_type": "code",
   "execution_count": 246,
   "id": "910ac04d-eba8-46d3-9ae8-dcdc9174e4e4",
   "metadata": {},
   "outputs": [],
   "source": [
    "epsilon = 1e-16\n",
    "# (alpha * omega / 2)**(2*N) * (e / N)**N = epsilon * sqrt(2)"
   ]
  },
  {
   "cell_type": "code",
   "execution_count": 247,
   "id": "37e2592e-62ae-4404-b301-689a2947a86b",
   "metadata": {},
   "outputs": [
    {
     "data": {
      "text/plain": [
       "mpf('14.263139206139716885692917547746032635929929646695991')"
      ]
     },
     "execution_count": 247,
     "metadata": {},
     "output_type": "execute_result"
    }
   ],
   "source": [
    "-log(epsilon * sqrt(2)) / lambertw(-log(epsilon * sqrt(2)) / e ** (alpha* omega / 2))"
   ]
  },
  {
   "cell_type": "code",
   "execution_count": 190,
   "id": "b0c81279-85e9-422c-a42c-75b2e683c80c",
   "metadata": {},
   "outputs": [
    {
     "data": {
      "text/plain": [
       "mpf('0.0000062499609377441390991306304335597902513109293085216299')"
      ]
     },
     "execution_count": 190,
     "metadata": {},
     "output_type": "execute_result"
    }
   ],
   "source": [
    "1 - m/(2*alpha**2)"
   ]
  },
  {
   "cell_type": "code",
   "execution_count": null,
   "id": "1879210b-9ea0-4a89-aa5f-ec81698d37eb",
   "metadata": {},
   "outputs": [],
   "source": []
  }
 ],
 "metadata": {
  "kernelspec": {
   "display_name": "Python 3 (ipykernel)",
   "language": "python",
   "name": "python3"
  },
  "language_info": {
   "codemirror_mode": {
    "name": "ipython",
    "version": 3
   },
   "file_extension": ".py",
   "mimetype": "text/x-python",
   "name": "python",
   "nbconvert_exporter": "python",
   "pygments_lexer": "ipython3",
   "version": "3.9.12"
  }
 },
 "nbformat": 4,
 "nbformat_minor": 5
}
