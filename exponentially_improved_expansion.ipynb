{
 "cells": [
  {
   "cell_type": "code",
   "execution_count": 1,
   "id": "c52f9813-8061-4220-a3ff-0a4fdb5c76f9",
   "metadata": {},
   "outputs": [],
   "source": [
    "%load_ext autoreload\n",
    "%autoreload 2"
   ]
  },
  {
   "cell_type": "code",
   "execution_count": 2,
   "id": "f8bd23aa-e74d-4206-8607-ae38b46567d9",
   "metadata": {},
   "outputs": [],
   "source": [
    "import numpy as np\n",
    "from scipy import special"
   ]
  },
  {
   "cell_type": "code",
   "execution_count": 3,
   "id": "f6e13a74-b1d4-415d-8a15-b1924f92a9be",
   "metadata": {},
   "outputs": [],
   "source": [
    "from code.mpmath_series import quad_phi\n",
    "from code.mpmath_series import series_x_mu_b0_pos, bound_series_x_mu_b0_pos, estimate_N_series_x_mu_b0_pos\n",
    "from code.mpmath_series import series_x_mu_b0_alternating, bound_series_x_mu_b0_alternating, estimate_N_series_x_mu_b0_alternating\n",
    "\n",
    "from code.mpmath_series import estimate_N_series_x_mu_b0_pos_fast, estimate_Tk_series_x_mu_b0_pos_fast"
   ]
  },
  {
   "cell_type": "code",
   "execution_count": 4,
   "id": "116f58a1-a72c-414e-b4df-735bc5185651",
   "metadata": {},
   "outputs": [],
   "source": [
    "from mpmath import *"
   ]
  },
  {
   "cell_type": "code",
   "execution_count": 6,
   "id": "3bbf2b98-ada6-4e8e-b06d-d1949149f6d9",
   "metadata": {},
   "outputs": [
    {
     "data": {
      "text/plain": [
       "(1.3482498944104453, 1.3185818038243964, 0.018177777777777772)"
      ]
     },
     "execution_count": 6,
     "metadata": {},
     "output_type": "execute_result"
    }
   ],
   "source": [
    "alpha = 10\n",
    "mu = 1/5\n",
    "delta = 1/50\n",
    "x = 1/3\n",
    "\n",
    "(x - mu) / delta\n",
    "\n",
    "omega = np.sqrt((x-mu)**2 + delta**2)\n",
    "alpha * omega, ((x-mu)**2  / omega * alpha), omega**2"
   ]
  },
  {
   "cell_type": "markdown",
   "id": "b54e7ff9-0205-498d-9f83-740f6abe2943",
   "metadata": {},
   "source": [
    "### 1. Integral"
   ]
  },
  {
   "cell_type": "code",
   "execution_count": 7,
   "id": "686ef29f-12d7-4f3a-bda3-7e8af054845f",
   "metadata": {},
   "outputs": [
    {
     "data": {
      "text/plain": [
       "mpf('0.98948463505387288')"
      ]
     },
     "execution_count": 7,
     "metadata": {},
     "output_type": "execute_result"
    }
   ],
   "source": [
    "ref = quad_phi(x, alpha, mu, delta, digits=100)\n",
    "ref"
   ]
  },
  {
   "cell_type": "markdown",
   "id": "a80962c4-348e-48bf-9bbc-8b74361b67fd",
   "metadata": {},
   "source": [
    "### 2. Series"
   ]
  },
  {
   "cell_type": "markdown",
   "id": "628c5a82-4965-450d-8242-be3c8b719da2",
   "metadata": {},
   "source": [
    "#### 2.1. Series $|x-\\mu| \\to 0$ with positive terms"
   ]
  },
  {
   "cell_type": "markdown",
   "id": "dbbb8478-8fe3-421b-aed4-0f1796f2ed2f",
   "metadata": {},
   "source": [
    "Calculate approximated number of terms to obtain a result with absolute error below epsilon."
   ]
  },
  {
   "cell_type": "code",
   "execution_count": 8,
   "id": "729a5aba-370a-4da5-b481-c5c842bcdacc",
   "metadata": {},
   "outputs": [
    {
     "name": "stdout",
     "output_type": "stream",
     "text": [
      "0.9889363528682975 0.028517205838718713 3.9141384783947195e-30 1.1625162349996398e+28 1358.988652904079\n"
     ]
    },
    {
     "data": {
      "text/plain": [
       "mpf('1493.9612955740629')"
      ]
     },
     "execution_count": 8,
     "metadata": {},
     "output_type": "execute_result"
    }
   ],
   "source": [
    "estimate_N_series_x_mu_b0_pos(x, alpha, mu, delta)"
   ]
  },
  {
   "cell_type": "code",
   "execution_count": 9,
   "id": "77bb16cc-c731-4bf8-81c1-8fc80fcf16d7",
   "metadata": {},
   "outputs": [
    {
     "data": {
      "text/plain": [
       "2.1723187395684038e-16"
      ]
     },
     "execution_count": 9,
     "metadata": {},
     "output_type": "execute_result"
    }
   ],
   "source": [
    "bound_series_x_mu_b0_pos(x, alpha, mu, delta, 1494)"
   ]
  },
  {
   "cell_type": "code",
   "execution_count": 10,
   "id": "bc62b185-2437-45f6-8ef7-d4f3374eb273",
   "metadata": {},
   "outputs": [
    {
     "data": {
      "text/plain": [
       "mpf('2.1405489126701095e-16')"
      ]
     },
     "execution_count": 10,
     "metadata": {},
     "output_type": "execute_result"
    }
   ],
   "source": [
    "ref - series_x_mu_b0_pos(x, alpha, mu, delta, 1494)"
   ]
  },
  {
   "cell_type": "markdown",
   "id": "df236bb5-7000-45df-b04f-94ce14dac4a8",
   "metadata": {},
   "source": [
    "Exponentially improved expansion"
   ]
  },
  {
   "cell_type": "code",
   "execution_count": 11,
   "id": "21c95222-6ee4-4108-adfa-54a6842fc789",
   "metadata": {},
   "outputs": [],
   "source": [
    "from code.mpmath_series import arg_mpmathify"
   ]
  },
  {
   "cell_type": "code",
   "execution_count": 22,
   "id": "b085073b-edd5-4729-a125-8adf76f4b5b6",
   "metadata": {},
   "outputs": [],
   "source": [
    "mp.dps = 50"
   ]
  },
  {
   "cell_type": "code",
   "execution_count": 23,
   "id": "f7a73fc5-9cb9-45a7-a6f3-fe48edc391f4",
   "metadata": {},
   "outputs": [],
   "source": [
    "x, alpha, mu, delta = arg_mpmathify(x, alpha, mu, delta)\n",
    "\n",
    "omega = sqrt(delta**2 + (x-mu)**2)\n",
    "z = (x-mu)**2 * alpha / omega"
   ]
  },
  {
   "cell_type": "code",
   "execution_count": 24,
   "id": "3c0cd39a-a0a2-4f73-84c0-638fd454dd3a",
   "metadata": {},
   "outputs": [
    {
     "data": {
      "text/plain": [
       "mpf('5.3012652143517160428038122853880067383864620562662141')"
      ]
     },
     "execution_count": 24,
     "metadata": {},
     "output_type": "execute_result"
    }
   ],
   "source": [
    "N = 50\n",
    "\n",
    "s = mp.zero\n",
    "for k in range(N):\n",
    "    r = z**k / fac2(2*k + 1)\n",
    "    q = besselk(k + 1, alpha * omega)\n",
    "    s += r * q\n",
    "\n",
    "s"
   ]
  },
  {
   "cell_type": "code",
   "execution_count": 25,
   "id": "4600d4e2-8bdd-4391-b101-8a49477d1863",
   "metadata": {},
   "outputs": [
    {
     "data": {
      "text/plain": [
       "mpf('1.0642227718258769154772702868360347438988816770564311')"
      ]
     },
     "execution_count": 25,
     "metadata": {},
     "output_type": "execute_result"
    }
   ],
   "source": [
    "s = mp.zero\n",
    "for k in range(N, 1494):\n",
    "    r = z**k / fac2(2*k + 1)\n",
    "    q = besselk(k + 1, alpha * omega)\n",
    "    s += r * q\n",
    "\n",
    "s"
   ]
  },
  {
   "cell_type": "code",
   "execution_count": 16,
   "id": "ff07a6f8-fee9-437f-ad3d-f09592ee65ee",
   "metadata": {},
   "outputs": [],
   "source": [
    "aw = alpha * omega"
   ]
  },
  {
   "cell_type": "code",
   "execution_count": 319,
   "id": "a908c690-277a-4120-9360-28576df580ab",
   "metadata": {},
   "outputs": [
    {
     "data": {
      "text/plain": [
       "mpf('8.2460324747166454177175410007302e+123')"
      ]
     },
     "execution_count": 319,
     "metadata": {},
     "output_type": "execute_result"
    }
   ],
   "source": [
    "k = 50\n",
    "besselk(k + 1, aw)"
   ]
  },
  {
   "cell_type": "code",
   "execution_count": 320,
   "id": "7272cc60-dac5-4b81-9356-20e93a09205f",
   "metadata": {},
   "outputs": [
    {
     "data": {
      "text/plain": [
       "mpf('8.24603247471664541780413374920712e+123')"
      ]
     },
     "execution_count": 320,
     "metadata": {},
     "output_type": "execute_result"
    }
   ],
   "source": [
    "quad(lambda t: exp(-t - aw**2 / 4 / t) / t**(k+2), [0, inf]) * 1/2 * (aw/2)**(k+1)"
   ]
  },
  {
   "cell_type": "code",
   "execution_count": 321,
   "id": "9c4056ea-2e63-480a-abf0-7fa3daa23bf1",
   "metadata": {},
   "outputs": [
    {
     "data": {
      "text/plain": [
       "mpf('1.00614595588498974457352780918697e-183')"
      ]
     },
     "execution_count": 321,
     "metadata": {},
     "output_type": "execute_result"
    }
   ],
   "source": [
    "t = 1\n",
    "nsum(lambda k: (z*aw/2/t)**k / fac2(2*k + 1), [N, inf])"
   ]
  },
  {
   "cell_type": "code",
   "execution_count": 322,
   "id": "3967e29b-687a-4a02-b5b5-1f31fe9c39b2",
   "metadata": {},
   "outputs": [
    {
     "data": {
      "text/plain": [
       "mpf('1.00614595588498986183887631659806e-183')"
      ]
     },
     "execution_count": 322,
     "metadata": {},
     "output_type": "execute_result"
    }
   ],
   "source": [
    "2**(N-1/2) * (2*N + 1) / fac2(2*N + 1) * exp(z*aw/4/t) * gammainc(N + 1/2, 0, z*aw/4/t) / sqrt(z*aw/2/t)"
   ]
  },
  {
   "cell_type": "markdown",
   "id": "4a1dd11b-316c-4692-bff6-61c60c9653d7",
   "metadata": {
    "jp-MarkdownHeadingCollapsed": true
   },
   "source": [
    "#### Remainder: Integral 1"
   ]
  },
  {
   "cell_type": "markdown",
   "id": "e3ba368e-e581-40a3-96f4-fcc9761bd5ed",
   "metadata": {},
   "source": [
    "Remainder integral"
   ]
  },
  {
   "cell_type": "code",
   "execution_count": 323,
   "id": "49a59cda-e665-4ba5-a10f-f25b9dea8308",
   "metadata": {},
   "outputs": [
    {
     "data": {
      "text/plain": [
       "mpf('10.7056754938148087950394221146896')"
      ]
     },
     "execution_count": 323,
     "metadata": {},
     "output_type": "execute_result"
    }
   ],
   "source": [
    "M = 2**(N-1/2) * (2*N + 1) / fac2(2*N + 1) * aw / 4 / sqrt(z*aw/2)\n",
    "A = aw ** 2 / 4 - z*aw / 4\n",
    "\n",
    "M * quad(lambda t: exp(-t - A / t) / t**(3/2) * gammainc(N + 1/2, 0, z*aw/4/t), [0, inf])"
   ]
  },
  {
   "cell_type": "markdown",
   "id": "9d3e5fc1-04a6-4dcc-baa5-944a15bcb5e3",
   "metadata": {},
   "source": [
    "Expand remainder for large $N$"
   ]
  },
  {
   "cell_type": "code",
   "execution_count": 324,
   "id": "4040df14-9e61-4710-95ad-cc3ee8e2331c",
   "metadata": {},
   "outputs": [
    {
     "data": {
      "text/plain": [
       "(mpf('0.00444444444444444247071462288861081'),\n",
       " mpf('3.23294815913624708484532164790815e-121'))"
      ]
     },
     "execution_count": 324,
     "metadata": {},
     "output_type": "execute_result"
    }
   ],
   "source": [
    "t = 1\n",
    "r = z*aw/4/t\n",
    "\n",
    "r, gammainc(N + 1/2, 0, r)"
   ]
  },
  {
   "cell_type": "code",
   "execution_count": 325,
   "id": "876bd5c2-4c8c-4212-bb10-561fb2f738e5",
   "metadata": {},
   "outputs": [
    {
     "data": {
      "text/plain": [
       "mpf('3.23294815913428495018887983589497e-121')"
      ]
     },
     "execution_count": 325,
     "metadata": {},
     "output_type": "execute_result"
    }
   ],
   "source": [
    "nsum(lambda k: r**k/rf(N+1/2, k+1), [0, 2]) * r**(N+1/2) * exp(-r)"
   ]
  },
  {
   "cell_type": "code",
   "execution_count": 326,
   "id": "2da44da9-b8c9-4100-b389-484df3650f63",
   "metadata": {},
   "outputs": [
    {
     "data": {
      "text/plain": [
       "mpf('3.23294820393404934592642817498735e-121')"
      ]
     },
     "execution_count": 326,
     "metadata": {},
     "output_type": "execute_result"
    }
   ],
   "source": [
    "nsum(lambda k: (-r)**k/(N + 1/2 + k) / factorial(k), [0, 2]) * r**(N+1/2)"
   ]
  },
  {
   "cell_type": "markdown",
   "id": "a06974a8-77d8-4ded-9d48-16213cdd9a38",
   "metadata": {},
   "source": [
    "expansion 1"
   ]
  },
  {
   "cell_type": "code",
   "execution_count": 327,
   "id": "8c81fa98-6637-4921-b7a3-35a05d94c89f",
   "metadata": {},
   "outputs": [
    {
     "data": {
      "text/plain": [
       "mpf('0.00444444444444444247071462288861081')"
      ]
     },
     "execution_count": 327,
     "metadata": {},
     "output_type": "execute_result"
    }
   ],
   "source": [
    "z*aw/4"
   ]
  },
  {
   "cell_type": "code",
   "execution_count": 328,
   "id": "3c3a1bc2-a0d1-42d7-9555-278fe457efd6",
   "metadata": {},
   "outputs": [
    {
     "data": {
      "text/plain": [
       "mpf('9.93410773779543633312100060460717')"
      ]
     },
     "execution_count": 328,
     "metadata": {},
     "output_type": "execute_result"
    }
   ],
   "source": [
    "s = 0\n",
    "for k in range(100):\n",
    "    # s += (z*aw/4)**k/rf(N+1/2, k+1) * quad(lambda t: exp(-t - aw ** 2 / 4 / t) / t**(2 + k + N), [0, inf])\n",
    "    s += (z/2)**k/rf(N+1/2, k+1) * besselk(N + k + 1, aw)\n",
    "\n",
    "M * s * (z*aw/4)**(N + 1/2) * (2/ aw)**(N+1)*2"
   ]
  },
  {
   "cell_type": "markdown",
   "id": "ca2df1b0-2995-4f85-a6dc-bcac77d70941",
   "metadata": {},
   "source": [
    "expasion 2"
   ]
  },
  {
   "cell_type": "markdown",
   "id": "c881c752-e034-489c-b617-6af296ca0e74",
   "metadata": {},
   "source": [
    "#### Remainder: Integral 2"
   ]
  },
  {
   "cell_type": "code",
   "execution_count": 17,
   "id": "17a7b133-554d-41b8-9f8c-d30ba4169946",
   "metadata": {},
   "outputs": [
    {
     "data": {
      "text/plain": [
       "mpf('584.343111317633297157891404739087')"
      ]
     },
     "execution_count": 17,
     "metadata": {},
     "output_type": "execute_result"
    }
   ],
   "source": [
    "k = 5\n",
    "besselk(k + 1, aw)"
   ]
  },
  {
   "cell_type": "code",
   "execution_count": 18,
   "id": "8f5f35da-e4b9-4c31-ba50-3309e268dada",
   "metadata": {},
   "outputs": [
    {
     "data": {
      "text/plain": [
       "mpf('584.343111317633295265369072104294')"
      ]
     },
     "execution_count": 18,
     "metadata": {},
     "output_type": "execute_result"
    }
   ],
   "source": [
    "gamma(k+3/2) * (2*alpha / omega)**(k+1) / sqrt(pi) * quad(lambda t: cos(omega*t) / (t**2 + alpha**2)**(k+3/2), [0, inf])"
   ]
  },
  {
   "cell_type": "code",
   "execution_count": 19,
   "id": "7c1f8667-7729-4fe4-8f90-38349bd6e258",
   "metadata": {},
   "outputs": [
    {
     "data": {
      "text/plain": [
       "(mpf('5.59004691579523709337754068758911'),\n",
       " mpf('1.93662398024643538078719546147381'))"
      ]
     },
     "execution_count": 19,
     "metadata": {},
     "output_type": "execute_result"
    }
   ],
   "source": [
    "t = 1\n",
    "r = 2*z*alpha / omega / (t**2 + alpha**2)\n",
    "\n",
    "nsum(lambda k: r**k * gamma(k+3/2) / fac2(2*k + 1), [N, inf]), r"
   ]
  },
  {
   "cell_type": "code",
   "execution_count": 20,
   "id": "f5a3d14c-8395-49bb-8ead-05bda6807088",
   "metadata": {},
   "outputs": [
    {
     "data": {
      "text/plain": [
       "mpf('5.59004691579523709337754068758832')"
      ]
     },
     "execution_count": 20,
     "metadata": {},
     "output_type": "execute_result"
    }
   ],
   "source": [
    "gamma(N + 3 / 2) * 2 * r**N / (2 - r) / fac2(2*N + 1)"
   ]
  },
  {
   "cell_type": "code",
   "execution_count": 26,
   "id": "d831bafb-ccbb-4365-a1c8-d9d3bc6ea585",
   "metadata": {},
   "outputs": [
    {
     "data": {
      "text/plain": [
       "mpf('1.061731439141089536174502076619380817149893346189428')"
      ]
     },
     "execution_count": 26,
     "metadata": {},
     "output_type": "execute_result"
    }
   ],
   "source": [
    "M = gamma(N + 3 / 2) * 2 / fac2(2*N + 1) * (2*alpha / omega) / sqrt(pi) * (2*z*alpha / omega)**N\n",
    "\n",
    "M * quad(lambda t: cos(omega*t) / (t**2 + alpha**2)**(N + 3/2) / (2 - 2*z*alpha / omega / (t**2 + alpha**2)), [0, inf])"
   ]
  },
  {
   "cell_type": "code",
   "execution_count": 29,
   "id": "d55a5722-83c0-4dc0-998b-fd3ba00d7cae",
   "metadata": {},
   "outputs": [
    {
     "data": {
      "text/plain": [
       "mpf('0.98948463505387288294106554208546797858441455182765626')"
      ]
     },
     "execution_count": 29,
     "metadata": {},
     "output_type": "execute_result"
    }
   ],
   "source": [
    "mp.dps = 50\n",
    "\n",
    "N = 50\n",
    "\n",
    "x, alpha, mu, delta = arg_mpmathify(x, alpha, mu, delta)\n",
    "omega = sqrt(delta**2 + (x-mu)**2)\n",
    "z = (x-mu)**2 * alpha / omega\n",
    "aw = alpha * omega\n",
    "\n",
    "s = mp.zero\n",
    "for k in range(N):\n",
    "    r = z**k / fac2(2*k + 1)\n",
    "    q = besselk(k + 1, alpha * omega)\n",
    "    s += r * q\n",
    "\n",
    "s1 = s\n",
    "\n",
    "M = gamma(N + 3 / 2) * 2 / fac2(2*N + 1) * (2*alpha / omega) / sqrt(pi) * (2*z*alpha / omega)**N\n",
    "m = 2*z*alpha/omega\n",
    "\n",
    "s = 0\n",
    "for k in range(N//2):\n",
    "    # s += (-1)**k * omega**(2*k) / factorial(2*k) * quad(lambda t: t**(2*k) / (t**2 + alpha**2)**(N + 3/2) / (2 - 2*z*alpha / omega / (t**2 + alpha**2)), [0, inf])\n",
    "    P = 2**(N-2) * alpha**(2*(k - N - 1)) / sqrt(pi) / fac2(2*N - 1) * gamma(N + 1 - k) * gamma(k - 1/2) * hyp2f1(1, N + 1 - k, 3/2 - k, 1 - m/(2*alpha**2))\n",
    "    Q = 2 **(N - 1 - k) * (2 * alpha**2 - m)**(k - 1/2) * pi * sec(k * pi) / (m **(N + 1/2))\n",
    "    s += (-1)**k * omega**(2*k) / factorial(2*k) * (P + Q)\n",
    "s2 = M * s\n",
    "\n",
    "S = s1 + s2\n",
    "\n",
    "S * delta * exp(delta * alpha) / pi  * (x-mu)*alpha / omega  + 1/2"
   ]
  },
  {
   "cell_type": "code",
   "execution_count": 28,
   "id": "c6c0bfdb-1c73-4dd3-9ff3-b29f849994b2",
   "metadata": {},
   "outputs": [
    {
     "data": {
      "text/plain": [
       "mpf('0.9894846350538728829410655420854679785844145518276833')"
      ]
     },
     "execution_count": 28,
     "metadata": {},
     "output_type": "execute_result"
    }
   ],
   "source": [
    "ref"
   ]
  },
  {
   "cell_type": "code",
   "execution_count": 30,
   "id": "69e0bbdb-54ad-45b5-b68b-9d72fe439716",
   "metadata": {},
   "outputs": [
    {
     "data": {
      "text/plain": [
       "mpf('0.022004889975550132702466291955584513955245880034890743')"
      ]
     },
     "execution_count": 30,
     "metadata": {},
     "output_type": "execute_result"
    }
   ],
   "source": [
    "1 - m/(2*alpha**2)"
   ]
  },
  {
   "cell_type": "code",
   "execution_count": 370,
   "id": "16fb0e44-28d0-4e1b-8066-233bf1822bad",
   "metadata": {},
   "outputs": [
    {
     "data": {
      "text/plain": [
       "mpf('0.000321769096303465513573118498506636')"
      ]
     },
     "execution_count": 370,
     "metadata": {},
     "output_type": "execute_result"
    }
   ],
   "source": [
    "N = 50\n",
    "k = 2\n",
    "quad(lambda t: t**(2*k) / (t**2 + alpha**2)**(N + 3/2) / (2 - 2*z*alpha / omega / (t**2 + alpha**2)), [0, inf])"
   ]
  },
  {
   "cell_type": "code",
   "execution_count": 371,
   "id": "6bd0183c-22f2-4c90-957e-5be7b6fba3f7",
   "metadata": {},
   "outputs": [
    {
     "data": {
      "text/plain": [
       "(mpf('1.9559902200488997345950674160888'), mpf('2.0'))"
      ]
     },
     "execution_count": 371,
     "metadata": {},
     "output_type": "execute_result"
    }
   ],
   "source": [
    "m = 2*z*alpha/omega\n",
    "m, 2*alpha**2"
   ]
  },
  {
   "cell_type": "code",
   "execution_count": 372,
   "id": "0e69dcd2-72c7-4e3e-9d2b-41a34ed72004",
   "metadata": {},
   "outputs": [
    {
     "data": {
      "text/plain": [
       "mpf('0.0220048899755501327024662919556017')"
      ]
     },
     "execution_count": 372,
     "metadata": {},
     "output_type": "execute_result"
    }
   ],
   "source": [
    "1 - m/(2*alpha**2)"
   ]
  },
  {
   "cell_type": "code",
   "execution_count": 373,
   "id": "1d33a056-75de-4a9b-a41b-34e84c44f249",
   "metadata": {},
   "outputs": [
    {
     "data": {
      "text/plain": [
       "mpf('0.00032176909630346551357311849850755')"
      ]
     },
     "execution_count": 373,
     "metadata": {},
     "output_type": "execute_result"
    }
   ],
   "source": [
    "P = 2**(N-2) * alpha**(2*(k - N - 1)) / sqrt(pi) / fac2(2*N - 1) * gamma(N + 1 - k) * gamma(k - 1/2) * hyp2f1(1, N + 1 - k, 3/2 - k, 1 - m/(2*alpha**2))\n",
    "Q = 2 **(N - 1 - k) * (2 * alpha**2 - m)**(k - 1/2) * pi * sec(k * pi) / (m **(N + 1/2))\n",
    "\n",
    "P + Q"
   ]
  },
  {
   "cell_type": "code",
   "execution_count": null,
   "id": "ba0fa3a9-edeb-4ac8-855e-5aa458b50f8c",
   "metadata": {},
   "outputs": [],
   "source": []
  }
 ],
 "metadata": {
  "kernelspec": {
   "display_name": "Python 3 (ipykernel)",
   "language": "python",
   "name": "python3"
  },
  "language_info": {
   "codemirror_mode": {
    "name": "ipython",
    "version": 3
   },
   "file_extension": ".py",
   "mimetype": "text/x-python",
   "name": "python",
   "nbconvert_exporter": "python",
   "pygments_lexer": "ipython3",
   "version": "3.9.12"
  }
 },
 "nbformat": 4,
 "nbformat_minor": 5
}
