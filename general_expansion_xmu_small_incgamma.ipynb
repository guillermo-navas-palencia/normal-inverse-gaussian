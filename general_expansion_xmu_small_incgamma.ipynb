{
 "cells": [
  {
   "cell_type": "code",
   "execution_count": 45,
   "id": "a2aae9ba",
   "metadata": {},
   "outputs": [],
   "source": [
    "import matplotlib.pyplot as plt\n",
    "import numpy as np\n",
    "\n",
    "from scipy import special, stats\n",
    "\n",
    "from code.python.mpmath_integration import quad_phi\n",
    "\n",
    "import mpmath as mp"
   ]
  },
  {
   "cell_type": "code",
   "execution_count": 135,
   "id": "d59701eb",
   "metadata": {},
   "outputs": [],
   "source": [
    "x = mp.mpf('3')\n",
    "alpha = mp.mpf('5')\n",
    "beta = mp.mpf('1/2')\n",
    "mu = mp.mpf('1')\n",
    "delta = mp.mpf('4')\n",
    "\n",
    "gamma = mp.sqrt(alpha ** 2 - beta ** 2)\n",
    "omega = mp.sqrt(delta ** 2 + (x-mu)** 2)\n",
    "\n",
    "xmu = x-mu"
   ]
  },
  {
   "cell_type": "code",
   "execution_count": 136,
   "id": "3e1f9677",
   "metadata": {},
   "outputs": [
    {
     "data": {
      "text/plain": [
       "0.9599775405494657"
      ]
     },
     "execution_count": 136,
     "metadata": {},
     "output_type": "execute_result"
    }
   ],
   "source": [
    "mp_result = quad_phi(x, alpha, beta, mu, delta, digits=100)\n",
    "float(mp_result)"
   ]
  },
  {
   "cell_type": "code",
   "execution_count": 154,
   "id": "a5b9d43d-2ca5-4e3f-bac7-712dd7c27958",
   "metadata": {},
   "outputs": [],
   "source": [
    "mp.mp.dps = 100\n",
    "\n",
    "N = 63\n",
    "\n",
    "s1 = 0\n",
    "for k in range(N):\n",
    "    s1 += 2 ** (k / 2) * xmu ** k / mp.factorial(k) * mp.gamma((k + 1) / 2) * mp.besselk((k + 1)/2, omega * gamma) * (gamma / omega) ** ((k+1)/2)\n",
    "\n",
    "s2 = 0\n",
    "for k in range(N):\n",
    "    # s2 += (-1) ** k / mp.factorial(k) * mp.gammainc(2*k + 1, 0, -xmu * beta) / xmu ** (2*k + 1) * mp.besselk(k, omega * gamma) * (omega / 2 / gamma) ** k\n",
    "    s2 += (-1) ** k / mp.factorial(k) * quad(lambda t: t **(2*k) * exp(-t), [0, -xmu * beta]) / xmu ** (2*k + 1) * mp.besselk(k, omega * gamma) * (omega / 2 / gamma) ** k\n",
    "\n",
    "\n",
    "r1 = delta * mp.exp(delta * gamma) / mp.pi / mp.sqrt(2) * (s1 + s2 * mp.sqrt(2))"
   ]
  },
  {
   "cell_type": "code",
   "execution_count": 155,
   "id": "9898092a-2837-477a-83b0-a75ac6ff10b0",
   "metadata": {},
   "outputs": [
    {
     "data": {
      "text/plain": [
       "5.091197765894871e-17"
      ]
     },
     "execution_count": 155,
     "metadata": {},
     "output_type": "execute_result"
    }
   ],
   "source": [
    "float(abs(r1 / mp_result - 1))"
   ]
  },
  {
   "cell_type": "code",
   "execution_count": null,
   "id": "ea6a2bbc-8157-4ae5-aa13-6f66362b86fd",
   "metadata": {},
   "outputs": [],
   "source": []
  },
  {
   "cell_type": "code",
   "execution_count": 4,
   "id": "784d4330",
   "metadata": {},
   "outputs": [
    {
     "data": {
      "text/plain": [
       "mpf('0.15043480950873056')"
      ]
     },
     "execution_count": 4,
     "metadata": {},
     "output_type": "execute_result"
    }
   ],
   "source": [
    "C = delta / sqrt(2 * pi) * exp(delta * gamma)\n",
    "\n",
    "mp.dps = 50\n",
    "\n",
    "s = 0\n",
    "for k in range(35):\n",
    "    r = (-1) ** k  / 2 ** k / factorial(k) / (2*k + 1)\n",
    "    q = quad(lambda t: ((x - (mu + beta * t))) ** (2*k + 1) * t ** (-2-k) * exp(-delta ** 2 / 2 / t - gamma ** 2 / 2 * t), [0, inf])\n",
    "    s += r * q\n",
    "\n",
    "mp.dps = 15\n",
    "\n",
    "1 / 2 + C / sqrt(2 * pi) * s"
   ]
  },
  {
   "cell_type": "code",
   "execution_count": 5,
   "id": "3b98d023",
   "metadata": {},
   "outputs": [
    {
     "data": {
      "text/plain": [
       "mpf('0.15043480950873089')"
      ]
     },
     "execution_count": 5,
     "metadata": {},
     "output_type": "execute_result"
    }
   ],
   "source": [
    "Q = []\n",
    "\n",
    "N = 30\n",
    "\n",
    "for k in range(N):\n",
    "    n = 2 * k + 1\n",
    "    bs = 0\n",
    "    for j in range(n + 1):\n",
    "        bt = binomial(n, j) * (x-mu) ** (n - j) * (-beta) ** j * 2 * (gamma / delta) ** (k + 1 - j) * besselk(k + 1 - j, gamma * delta)\n",
    "        bs += bt\n",
    "        # print(bt)\n",
    "\n",
    "    Q.append(bs)\n",
    "\n",
    "C = delta / sqrt(2 * pi) * exp(delta * gamma)\n",
    "\n",
    "s = 0\n",
    "for k in range(N):\n",
    "    r = (-1) ** k  / 2 ** k / factorial(k) / (2*k + 1)\n",
    "    q = Q[k]\n",
    "    s += r * q\n",
    "\n",
    "1 / 2 + C / sqrt(2 * pi) * s"
   ]
  },
  {
   "cell_type": "code",
   "execution_count": 6,
   "id": "7453afd1",
   "metadata": {},
   "outputs": [
    {
     "data": {
      "text/plain": [
       "(mpf('0.15043480950873056'), 0.1504348095087308)"
      ]
     },
     "execution_count": 6,
     "metadata": {},
     "output_type": "execute_result"
    }
   ],
   "source": [
    "C = delta / sqrt(2 * pi) * exp(delta * gamma)\n",
    "\n",
    "mp.dps = 50\n",
    "\n",
    "s = 0\n",
    "for k in range(30):\n",
    "    r = 1 / fac2(2*k + 1)\n",
    "    q = quad(lambda t: ((x - (mu + beta * t))) ** (2*k + 1) * t ** (-2-k) * exp(-delta ** 2 / 2 / t - gamma ** 2 / 2 * t -((x - (mu + beta * t)))**2/2/t), [0, inf])\n",
    "    s += r * q\n",
    "\n",
    "mp.dps = 15\n",
    "\n",
    "1 / 2 + C / sqrt(2 * pi) * s, float(mp_result)"
   ]
  },
  {
   "cell_type": "code",
   "execution_count": 7,
   "id": "c13e209d",
   "metadata": {},
   "outputs": [
    {
     "data": {
      "text/plain": [
       "(mpf('0.15043480950873078'), 0.1504348095087308)"
      ]
     },
     "execution_count": 7,
     "metadata": {},
     "output_type": "execute_result"
    }
   ],
   "source": [
    "C = delta / sqrt(2 * pi) * exp(delta * gamma + (x-mu) * beta)\n",
    "omega = sqrt(delta ** 2 + (x-mu) ** 2)\n",
    "\n",
    "mp.dps = 50\n",
    "\n",
    "s = 0\n",
    "for k in range(30):\n",
    "    r = 1 / fac2(2*k + 1)\n",
    "    q = quad(lambda t: ((x - (mu + beta * t))) ** (2*k + 1) * t ** (-2-k) * exp(-omega ** 2 / 2 / t - alpha ** 2 / 2 * t), [0, inf])\n",
    "    s += r * q\n",
    "\n",
    "mp.dps = 15\n",
    "\n",
    "1 / 2 + C / sqrt(2 * pi) * s, float(mp_result)"
   ]
  },
  {
   "cell_type": "code",
   "execution_count": 8,
   "id": "3c72862e",
   "metadata": {},
   "outputs": [
    {
     "data": {
      "text/plain": [
       "(mpf('0.15043480950873078'), 0.1504348095087308)"
      ]
     },
     "execution_count": 8,
     "metadata": {},
     "output_type": "execute_result"
    }
   ],
   "source": [
    "C = delta / sqrt(2 * pi) * exp(delta * gamma + (x-mu) * beta)\n",
    "omega = sqrt(delta ** 2 + (x-mu) ** 2)\n",
    "tp = (x-mu) / beta\n",
    "\n",
    "mp.dps = 50\n",
    "\n",
    "s = 0\n",
    "for k in range(30):\n",
    "    r = (-beta) ** (2*k + 1) / fac2(2*k + 1)\n",
    "    q = quad(lambda t: (t - tp) ** (2*k + 1) * t ** (-2-k) * exp(-omega ** 2 / 2 / t - alpha ** 2 / 2 * t), [0, inf])\n",
    "    s += r * q\n",
    "\n",
    "mp.dps = 15\n",
    "\n",
    "1 / 2 + C / sqrt(2 * pi) * s, float(mp_result)"
   ]
  },
  {
   "cell_type": "code",
   "execution_count": 42,
   "id": "3d5f1cf7",
   "metadata": {},
   "outputs": [
    {
     "data": {
      "text/plain": [
       "(mpf('0.2616975247010748538263011152826893105415707306488189632745843339771604960150170774631969163328882233625'),\n",
       " mpf('0.02793032094863756080815780096008293931925901922914109287223260564058440055183017014735601307820993257027'),\n",
       " mpf('0.01059648334377911585344284796604901586108659085572054451656581116186645146424599301839942926171886548908'))"
      ]
     },
     "execution_count": 42,
     "metadata": {},
     "output_type": "execute_result"
    }
   ],
   "source": [
    "mp.dps = 100\n",
    "\n",
    "a = (x-mu)\n",
    "b = -beta\n",
    "\n",
    "w = sqrt(delta ** 2 + (x-mu) ** 2)\n",
    "\n",
    "C = delta * exp(delta * gamma) / sqrt(2 * pi)\n",
    "\n",
    "z = gamma**2/2\n",
    "beta = w / gamma\n",
    "# lam = -k/2 - 1/2\n",
    "\n",
    "if b > 0:\n",
    "    aa = -a\n",
    "    bb = -b\n",
    "else:\n",
    "    aa = a\n",
    "    bb = b\n",
    "\n",
    "s1 = 0\n",
    "N = 80\n",
    "for k in range(N):\n",
    "    r = (sqrt(2)*aa)**k / factorial(k)\n",
    "\n",
    "    # coefficient closed-form\n",
    "    lam = -k/2 - 1/2\n",
    "    c1 = mp.gamma((k+1)/2) * 2 * besselk(k/2 + 1/2, 2 * beta * z) * beta ** lam\n",
    "\n",
    "    tk = r * c1\n",
    "    # print(k, s1, float(tk))\n",
    "    s1 += tk\n",
    "\n",
    "s2 = mp.zero\n",
    "for j in range(N):\n",
    "    rc = (-1)**j / factorial(j) * 2 * besselk(j, 2 * beta * z) * (bb**2/2 * beta)**j\n",
    "    qc = quad(lambda t: t **(2*j) * exp(-t), [0, aa*bb]) * -sqrt(2) * (aa*bb)**(-2*j) / aa\n",
    "    tc = rc * qc\n",
    "    # print(j, s2, float(tc))\n",
    "    s2 += tc\n",
    "\n",
    "C * (s1 - s2) / (2 * sqrt(pi)), s1, s2"
   ]
  },
  {
   "cell_type": "code",
   "execution_count": 43,
   "id": "f50e94ac",
   "metadata": {},
   "outputs": [],
   "source": [
    "r1 = C * (s1 - s2) / (2 * sqrt(pi))"
   ]
  },
  {
   "cell_type": "code",
   "execution_count": 44,
   "id": "8328914c",
   "metadata": {},
   "outputs": [
    {
     "data": {
      "text/plain": [
       "0.6455415856555021"
      ]
     },
     "execution_count": 44,
     "metadata": {},
     "output_type": "execute_result"
    }
   ],
   "source": [
    "float(abs(r1 / mp_result - 1))"
   ]
  },
  {
   "cell_type": "code",
   "execution_count": 8,
   "id": "52bfd819",
   "metadata": {},
   "outputs": [
    {
     "data": {
      "text/plain": [
       "(mpf('0.062347278796294026563147234089880810387177473494677344'),\n",
       " mpf('0.0095190836720931878321340534808978301712331709615621434'),\n",
       " mpf('0.0084964248005237735654820910334989385849874129388384687'))"
      ]
     },
     "execution_count": 8,
     "metadata": {},
     "output_type": "execute_result"
    }
   ],
   "source": [
    "w = sqrt(delta ** 2 + (x-mu) ** 2)\n",
    "\n",
    "C = delta * exp(delta * gamma) / sqrt(2 * pi)\n",
    "\n",
    "z = gamma**2/2\n",
    "beta = w / gamma\n",
    "lam = -k/2 - 1/2\n",
    "\n",
    "if b > 0:\n",
    "    aa = -a\n",
    "    bb = -b\n",
    "else:\n",
    "    aa = a\n",
    "    bb = b\n",
    "\n",
    "s = 0\n",
    "s1 = 0\n",
    "s2 = 0\n",
    "for k in range(40):\n",
    "    r = (sqrt(2)*aa)**k / factorial(k)\n",
    "\n",
    "    # coefficient closed-form\n",
    "    lam = -k/2 - 1/2\n",
    "    c1 = mp.gamma((k+1)/2) * 2 * besselk(k/2 + 1/2, 2 * beta * z) * beta ** lam\n",
    "    # print('first term coeff', c1, t1)\n",
    "\n",
    "    # coefficient series\n",
    "    c2 = mp.zero\n",
    "    for j in range(50):\n",
    "        rc = (-1)**j / factorial(j) / ((k+1)/2 + j) * (b**2/2)**j \n",
    "        qc = besselk(j, 2 * beta * z) * beta ** j\n",
    "        tc = rc * qc\n",
    "        # print(f'   j={j}: {tc}')\n",
    "        c2 += tc\n",
    "    \n",
    "    c2 *= 2 * (b**2/2)**(k/2+1/2)\n",
    "    q = c1 - c2\n",
    "\n",
    "    tk = r * q\n",
    "    s1 += r * c1\n",
    "    s2 += r * c2\n",
    "    # print(k, tk)\n",
    "    s += tk\n",
    "\n",
    "C * s / (2 * sqrt(pi)), s1, s2"
   ]
  },
  {
   "cell_type": "code",
   "execution_count": 9,
   "id": "3bdbf376",
   "metadata": {},
   "outputs": [
    {
     "data": {
      "text/plain": [
       "0.1504348095087308"
      ]
     },
     "execution_count": 9,
     "metadata": {},
     "output_type": "execute_result"
    }
   ],
   "source": [
    "float(mp_result)"
   ]
  },
  {
   "cell_type": "code",
   "execution_count": null,
   "id": "78ab13a4",
   "metadata": {},
   "outputs": [],
   "source": []
  }
 ],
 "metadata": {
  "kernelspec": {
   "display_name": "Python 3 (ipykernel)",
   "language": "python",
   "name": "python3"
  },
  "language_info": {
   "codemirror_mode": {
    "name": "ipython",
    "version": 3
   },
   "file_extension": ".py",
   "mimetype": "text/x-python",
   "name": "python",
   "nbconvert_exporter": "python",
   "pygments_lexer": "ipython3",
   "version": "3.12.7"
  }
 },
 "nbformat": 4,
 "nbformat_minor": 5
}
