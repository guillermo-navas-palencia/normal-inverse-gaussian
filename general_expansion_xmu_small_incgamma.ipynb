{
 "cells": [
  {
   "cell_type": "code",
   "execution_count": 1,
   "id": "a2aae9ba",
   "metadata": {},
   "outputs": [],
   "source": [
    "import matplotlib.pyplot as plt\n",
    "import numpy as np\n",
    "\n",
    "from scipy import special, stats\n",
    "\n",
    "from code.python.mpmath_integration import quad_phi\n",
    "\n",
    "import mpmath as mp"
   ]
  },
  {
   "cell_type": "code",
   "execution_count": 26,
   "id": "d59701eb",
   "metadata": {},
   "outputs": [],
   "source": [
    "x = mp.mpf('3')\n",
    "alpha = mp.mpf('5')\n",
    "beta = mp.mpf('1/2')\n",
    "mu = mp.mpf('1')\n",
    "delta = mp.mpf('4')\n",
    "\n",
    "gamma = mp.sqrt(alpha ** 2 - beta ** 2)\n",
    "omega = mp.sqrt(delta ** 2 + (x-mu)** 2)\n",
    "\n",
    "xmu = x-mu"
   ]
  },
  {
   "cell_type": "code",
   "execution_count": 3,
   "id": "3e1f9677",
   "metadata": {},
   "outputs": [
    {
     "data": {
      "text/plain": [
       "0.9599775405494657"
      ]
     },
     "execution_count": 3,
     "metadata": {},
     "output_type": "execute_result"
    }
   ],
   "source": [
    "mp_result = quad_phi(x, alpha, beta, mu, delta, digits=100)\n",
    "float(mp_result)"
   ]
  },
  {
   "cell_type": "code",
   "execution_count": 6,
   "id": "a5b9d43d-2ca5-4e3f-bac7-712dd7c27958",
   "metadata": {},
   "outputs": [],
   "source": [
    "mp.mp.dps = 100\n",
    "\n",
    "N = 63\n",
    "\n",
    "s1 = 0\n",
    "for k in range(N):\n",
    "    s1 += 2 ** (k / 2) * xmu ** k / mp.factorial(k) * mp.gamma((k + 1) / 2) * mp.besselk((k + 1)/2, omega * gamma) * (gamma / omega) ** ((k+1)/2)\n",
    "\n",
    "s2 = 0\n",
    "for k in range(N):\n",
    "    # s2 += (-1) ** k / mp.factorial(k) * mp.gammainc(2*k + 1, 0, -xmu * beta) / xmu ** (2*k + 1) * mp.besselk(k, omega * gamma) * (omega / 2 / gamma) ** k\n",
    "    s2 += (-1) ** k / mp.factorial(k) * mp.quad(lambda t: t **(2*k) * mp.exp(-t), [0, -xmu * beta]) / xmu ** (2*k + 1) * mp.besselk(k, omega * gamma) * (omega / 2 / gamma) ** k\n",
    "\n",
    "\n",
    "r1 = delta * mp.exp(delta * gamma) / mp.pi / mp.sqrt(2) * (s1 + s2 * mp.sqrt(2))"
   ]
  },
  {
   "cell_type": "code",
   "execution_count": 7,
   "id": "9898092a-2837-477a-83b0-a75ac6ff10b0",
   "metadata": {},
   "outputs": [
    {
     "data": {
      "text/plain": [
       "1.3282841105041776e-15"
      ]
     },
     "execution_count": 7,
     "metadata": {},
     "output_type": "execute_result"
    }
   ],
   "source": [
    "float(abs(r1 / mp_result - 1))"
   ]
  },
  {
   "cell_type": "code",
   "execution_count": 13,
   "id": "784d4330",
   "metadata": {},
   "outputs": [
    {
     "data": {
      "text/plain": [
       "mpf('0.9599775405494657357811423812282510908666516092906057952445782692139032320186209630998345713619125485384')"
      ]
     },
     "execution_count": 13,
     "metadata": {},
     "output_type": "execute_result"
    }
   ],
   "source": [
    "C = delta / mp.sqrt(2 * mp.pi) * mp.exp(delta * gamma)\n",
    "\n",
    "mp.dps = 50\n",
    "\n",
    "s = 0\n",
    "for k in range(35):\n",
    "    r = (-1) ** k  / 2 ** k / mp.factorial(k) / (2*k + 1)\n",
    "    q = mp.quad(lambda t: ((x - (mu + beta * t))) ** (2*k + 1) * t ** (-2-k) * mp.exp(-delta ** 2 / 2 / t - gamma ** 2 / 2 * t), [0, mp.inf])\n",
    "    s += r * q\n",
    "\n",
    "mp.dps = 15\n",
    "\n",
    "1 / 2 + C / mp.sqrt(2 * mp.pi) * s"
   ]
  },
  {
   "cell_type": "code",
   "execution_count": 16,
   "id": "3b98d023",
   "metadata": {},
   "outputs": [
    {
     "data": {
      "text/plain": [
       "mpf('0.9599775405494648148019705621815453978762669455825659425464915329725296746280554498734883991988398938835')"
      ]
     },
     "execution_count": 16,
     "metadata": {},
     "output_type": "execute_result"
    }
   ],
   "source": [
    "Q = []\n",
    "\n",
    "N = 30\n",
    "\n",
    "for k in range(N):\n",
    "    n = 2 * k + 1\n",
    "    bs = 0\n",
    "    for j in range(n + 1):\n",
    "        bt = mp.binomial(n, j) * (x-mu) ** (n - j) * (-beta) ** j * 2 * (gamma / delta) ** (k + 1 - j) * mp.besselk(k + 1 - j, gamma * delta)\n",
    "        bs += bt\n",
    "        # print(bt)\n",
    "\n",
    "    Q.append(bs)\n",
    "\n",
    "C = delta / mp.sqrt(2 * mp.pi) * mp.exp(delta * gamma)\n",
    "\n",
    "s = 0\n",
    "for k in range(N):\n",
    "    r = (-1) ** k  / 2 ** k / mp.factorial(k) / (2*k + 1)\n",
    "    q = Q[k]\n",
    "    s += r * q\n",
    "\n",
    "1 / 2 + C / mp.sqrt(2 * mp.pi) * s"
   ]
  },
  {
   "cell_type": "code",
   "execution_count": 6,
   "id": "7453afd1",
   "metadata": {},
   "outputs": [
    {
     "data": {
      "text/plain": [
       "(mpf('0.15043480950873056'), 0.1504348095087308)"
      ]
     },
     "execution_count": 6,
     "metadata": {},
     "output_type": "execute_result"
    }
   ],
   "source": [
    "C = delta / sqrt(2 * pi) * exp(delta * gamma)\n",
    "\n",
    "mp.dps = 50\n",
    "\n",
    "s = 0\n",
    "for k in range(30):\n",
    "    r = 1 / fac2(2*k + 1)\n",
    "    q = quad(lambda t: ((x - (mu + beta * t))) ** (2*k + 1) * t ** (-2-k) * exp(-delta ** 2 / 2 / t - gamma ** 2 / 2 * t -((x - (mu + beta * t)))**2/2/t), [0, inf])\n",
    "    s += r * q\n",
    "\n",
    "mp.dps = 15\n",
    "\n",
    "1 / 2 + C / sqrt(2 * pi) * s, float(mp_result)"
   ]
  },
  {
   "cell_type": "code",
   "execution_count": 7,
   "id": "c13e209d",
   "metadata": {},
   "outputs": [
    {
     "data": {
      "text/plain": [
       "(mpf('0.15043480950873078'), 0.1504348095087308)"
      ]
     },
     "execution_count": 7,
     "metadata": {},
     "output_type": "execute_result"
    }
   ],
   "source": [
    "C = delta / sqrt(2 * pi) * exp(delta * gamma + (x-mu) * beta)\n",
    "omega = sqrt(delta ** 2 + (x-mu) ** 2)\n",
    "\n",
    "mp.dps = 50\n",
    "\n",
    "s = 0\n",
    "for k in range(30):\n",
    "    r = 1 / fac2(2*k + 1)\n",
    "    q = quad(lambda t: ((x - (mu + beta * t))) ** (2*k + 1) * t ** (-2-k) * exp(-omega ** 2 / 2 / t - alpha ** 2 / 2 * t), [0, inf])\n",
    "    s += r * q\n",
    "\n",
    "mp.dps = 15\n",
    "\n",
    "1 / 2 + C / sqrt(2 * pi) * s, float(mp_result)"
   ]
  },
  {
   "cell_type": "code",
   "execution_count": 8,
   "id": "3c72862e",
   "metadata": {},
   "outputs": [
    {
     "data": {
      "text/plain": [
       "(mpf('0.15043480950873078'), 0.1504348095087308)"
      ]
     },
     "execution_count": 8,
     "metadata": {},
     "output_type": "execute_result"
    }
   ],
   "source": [
    "C = delta / sqrt(2 * pi) * exp(delta * gamma + (x-mu) * beta)\n",
    "omega = sqrt(delta ** 2 + (x-mu) ** 2)\n",
    "tp = (x-mu) / beta\n",
    "\n",
    "mp.dps = 50\n",
    "\n",
    "s = 0\n",
    "for k in range(30):\n",
    "    r = (-beta) ** (2*k + 1) / fac2(2*k + 1)\n",
    "    q = quad(lambda t: (t - tp) ** (2*k + 1) * t ** (-2-k) * exp(-omega ** 2 / 2 / t - alpha ** 2 / 2 * t), [0, inf])\n",
    "    s += r * q\n",
    "\n",
    "mp.dps = 15\n",
    "\n",
    "1 / 2 + C / sqrt(2 * pi) * s, float(mp_result)"
   ]
  },
  {
   "cell_type": "markdown",
   "id": "4ab1ccd0-ffa3-4ede-9df3-1fb91b16aed3",
   "metadata": {},
   "source": [
    "Double series"
   ]
  },
  {
   "cell_type": "code",
   "execution_count": 27,
   "id": "3d5f1cf7",
   "metadata": {},
   "outputs": [
    {
     "data": {
      "text/plain": [
       "(mpf('0.9599775405494657360085787530875706069525172739216412088129997172846124739586303143942831392767436966622'),\n",
       " mpf('0.00000000499221949003195379705287420092310311176065173150148725758387233082664749899489686735908258323915702174'),\n",
       " mpf('0.0000000001332421090870200049258888519108106498589860680675623138491120739408798736466559070337213404403317920289'))"
      ]
     },
     "execution_count": 27,
     "metadata": {},
     "output_type": "execute_result"
    }
   ],
   "source": [
    "mp.dps = 100\n",
    "\n",
    "a = (x-mu)\n",
    "b = -beta\n",
    "\n",
    "w = mp.sqrt(delta ** 2 + (x-mu) ** 2)\n",
    "\n",
    "C = delta * mp.exp(delta * gamma) / mp.sqrt(2 * mp.pi)\n",
    "\n",
    "z = gamma**2/2\n",
    "beta = w / gamma\n",
    "# lam = -k/2 - 1/2\n",
    "\n",
    "if b > 0:\n",
    "    aa = -a\n",
    "    bb = -b\n",
    "else:\n",
    "    aa = a\n",
    "    bb = b\n",
    "\n",
    "s1 = 0\n",
    "N = 80\n",
    "for k in range(N):\n",
    "    r = (mp.sqrt(2)*aa)**k / mp.factorial(k)\n",
    "\n",
    "    # coefficient closed-form\n",
    "    lam = -k/2 - 1/2\n",
    "    c1 = mp.gamma((k+1)/2) * 2 * mp.besselk(k/2 + 1/2, 2 * beta * z) * beta ** lam\n",
    "\n",
    "    tk = r * c1\n",
    "    # print(k, s1, float(tk))\n",
    "    s1 += tk\n",
    "\n",
    "s2 = mp.mp.zero\n",
    "for j in range(N):\n",
    "    rc = (-1)**j / mp.factorial(j) * 2 * mp.besselk(j, 2 * beta * z) * (bb**2/2 * beta)**j\n",
    "    qc = mp.quad(lambda t: t **(2*j) * mp.exp(-t), [0, aa*bb]) * -mp.sqrt(2) * (aa*bb)**(-2*j) / aa\n",
    "    tc = rc * qc\n",
    "    # print(j, s2, float(tc))\n",
    "    s2 += tc\n",
    "\n",
    "C * (s1 - s2) / (2 * mp.sqrt(mp.pi)), s1, s2"
   ]
  },
  {
   "cell_type": "code",
   "execution_count": 28,
   "id": "f50e94ac",
   "metadata": {},
   "outputs": [],
   "source": [
    "r1 = C * (s1 - s2) / (2 * mp.sqrt(mp.pi))"
   ]
  },
  {
   "cell_type": "code",
   "execution_count": 29,
   "id": "8328914c",
   "metadata": {},
   "outputs": [
    {
     "data": {
      "text/plain": [
       "1.8110442225551093e-22"
      ]
     },
     "execution_count": 29,
     "metadata": {},
     "output_type": "execute_result"
    }
   ],
   "source": [
    "float(abs(r1 / mp_result - 1))"
   ]
  },
  {
   "cell_type": "code",
   "execution_count": 25,
   "id": "52bfd819",
   "metadata": {},
   "outputs": [
    {
     "data": {
      "text/plain": [
       "(mpf('0.9182032647902940852225830885823889404904502591065540448807236015948380292698106369480152009580396685981'),\n",
       " mpf('0.000000004992219480311091716289771413022797649241118893267040945795760880678198161582558882109796453158395243836'),\n",
       " mpf('0.000000000344684818018710698406366985233770278934287172531658393350300984594134866142559952991969353638796735912'))"
      ]
     },
     "execution_count": 25,
     "metadata": {},
     "output_type": "execute_result"
    }
   ],
   "source": [
    "w = mp.sqrt(delta ** 2 + (x-mu) ** 2)\n",
    "\n",
    "C = delta * mp.exp(delta * gamma) / mp.sqrt(2 * mp.pi)\n",
    "\n",
    "z = gamma**2/2\n",
    "beta = w / gamma\n",
    "lam = -k/2 - 1/2\n",
    "\n",
    "if b > 0:\n",
    "    aa = -a\n",
    "    bb = -b\n",
    "else:\n",
    "    aa = a\n",
    "    bb = b\n",
    "\n",
    "s = 0\n",
    "s1 = 0\n",
    "s2 = 0\n",
    "for k in range(40):\n",
    "    r = (mp.sqrt(2)*aa)**k / mp.factorial(k)\n",
    "\n",
    "    # coefficient closed-form\n",
    "    lam = -k/2 - 1/2\n",
    "    c1 = mp.gamma((k+1)/2) * 2 * mp.besselk(k/2 + 1/2, 2 * beta * z) * beta ** lam\n",
    "    # print('first term coeff', c1, t1)\n",
    "\n",
    "    # coefficient series\n",
    "    c2 = mp.mp.zero\n",
    "    for j in range(50):\n",
    "        rc = (-1)**j / mp.factorial(j) / ((k+1)/2 + j) * (b**2/2)**j \n",
    "        qc = mp.besselk(j, 2 * beta * z) * beta ** j\n",
    "        tc = rc * qc\n",
    "        # print(f'   j={j}: {tc}')\n",
    "        c2 += tc\n",
    "    \n",
    "    c2 *= 2 * (b**2/2)**(k/2+1/2)\n",
    "    q = c1 - c2\n",
    "\n",
    "    tk = r * q\n",
    "    s1 += r * c1\n",
    "    s2 += r * c2\n",
    "    # print(k, tk)\n",
    "    s += tk\n",
    "\n",
    "C * s / (2 * mp.sqrt(mp.pi)), s1, s2"
   ]
  },
  {
   "cell_type": "code",
   "execution_count": 24,
   "id": "3bdbf376",
   "metadata": {},
   "outputs": [
    {
     "data": {
      "text/plain": [
       "0.9599775405494657"
      ]
     },
     "execution_count": 24,
     "metadata": {},
     "output_type": "execute_result"
    }
   ],
   "source": [
    "float(mp_result)"
   ]
  },
  {
   "cell_type": "code",
   "execution_count": null,
   "id": "78ab13a4",
   "metadata": {},
   "outputs": [],
   "source": []
  }
 ],
 "metadata": {
  "kernelspec": {
   "display_name": "Python 3 (ipykernel)",
   "language": "python",
   "name": "python3"
  },
  "language_info": {
   "codemirror_mode": {
    "name": "ipython",
    "version": 3
   },
   "file_extension": ".py",
   "mimetype": "text/x-python",
   "name": "python",
   "nbconvert_exporter": "python",
   "pygments_lexer": "ipython3",
   "version": "3.12.7"
  }
 },
 "nbformat": 4,
 "nbformat_minor": 5
}
