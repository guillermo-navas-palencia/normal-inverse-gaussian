{
 "cells": [
  {
   "cell_type": "code",
   "execution_count": 1,
   "metadata": {},
   "outputs": [],
   "source": [
    "import matplotlib.pyplot as plt\n",
    "import numpy as np\n",
    "\n",
    "from scipy import special, stats\n",
    "\n",
    "from code.python.mpmath_integration import quad_phi\n",
    "\n",
    "from mpmath import *"
   ]
  },
  {
   "cell_type": "code",
   "execution_count": 2,
   "metadata": {},
   "outputs": [
    {
     "data": {
      "text/plain": [
       "mpf('0.25')"
      ]
     },
     "execution_count": 2,
     "metadata": {},
     "output_type": "execute_result"
    }
   ],
   "source": [
    "x = mpf('1/2')\n",
    "alpha = mpf('2')\n",
    "beta = mpf('1')\n",
    "mu = mpf('1/4')\n",
    "delta = mpf('3')\n",
    "\n",
    "gamma = sqrt(alpha ** 2 - beta ** 2)\n",
    "omega = sqrt(delta ** 2 + (x-mu)** 2)\n",
    "\n",
    "x-mu"
   ]
  },
  {
   "cell_type": "code",
   "execution_count": 3,
   "metadata": {},
   "outputs": [
    {
     "data": {
      "text/plain": [
       "0.1504348095087308"
      ]
     },
     "execution_count": 3,
     "metadata": {},
     "output_type": "execute_result"
    }
   ],
   "source": [
    "mp_result = quad_phi(x, alpha, beta, mu, delta, digits=100)\n",
    "float(mp_result)"
   ]
  },
  {
   "cell_type": "code",
   "execution_count": 4,
   "metadata": {},
   "outputs": [
    {
     "data": {
      "text/plain": [
       "mpf('0.15043480950873056')"
      ]
     },
     "execution_count": 4,
     "metadata": {},
     "output_type": "execute_result"
    }
   ],
   "source": [
    "C = delta / sqrt(2 * pi) * exp(delta * gamma)\n",
    "\n",
    "mp.dps = 50\n",
    "\n",
    "s = 0\n",
    "for k in range(35):\n",
    "    r = (-1) ** k  / 2 ** k / factorial(k) / (2*k + 1)\n",
    "    q = quad(lambda t: ((x - (mu + beta * t))) ** (2*k + 1) * t ** (-2-k) * exp(-delta ** 2 / 2 / t - gamma ** 2 / 2 * t), [0, inf])\n",
    "    s += r * q\n",
    "\n",
    "mp.dps = 15\n",
    "\n",
    "1 / 2 + C / sqrt(2 * pi) * s"
   ]
  },
  {
   "cell_type": "code",
   "execution_count": 5,
   "metadata": {},
   "outputs": [
    {
     "data": {
      "text/plain": [
       "mpf('0.15043480950873089')"
      ]
     },
     "execution_count": 5,
     "metadata": {},
     "output_type": "execute_result"
    }
   ],
   "source": [
    "Q = []\n",
    "\n",
    "N = 30\n",
    "\n",
    "for k in range(N):\n",
    "    n = 2 * k + 1\n",
    "    bs = 0\n",
    "    for j in range(n + 1):\n",
    "        bt = binomial(n, j) * (x-mu) ** (n - j) * (-beta) ** j * 2 * (gamma / delta) ** (k + 1 - j) * besselk(k + 1 - j, gamma * delta)\n",
    "        bs += bt\n",
    "        # print(bt)\n",
    "\n",
    "    Q.append(bs)\n",
    "\n",
    "C = delta / sqrt(2 * pi) * exp(delta * gamma)\n",
    "\n",
    "s = 0\n",
    "for k in range(N):\n",
    "    r = (-1) ** k  / 2 ** k / factorial(k) / (2*k + 1)\n",
    "    q = Q[k]\n",
    "    s += r * q\n",
    "\n",
    "1 / 2 + C / sqrt(2 * pi) * s"
   ]
  },
  {
   "cell_type": "code",
   "execution_count": 6,
   "metadata": {},
   "outputs": [
    {
     "data": {
      "text/plain": [
       "(mpf('0.15043480950873056'), 0.1504348095087308)"
      ]
     },
     "execution_count": 6,
     "metadata": {},
     "output_type": "execute_result"
    }
   ],
   "source": [
    "C = delta / sqrt(2 * pi) * exp(delta * gamma)\n",
    "\n",
    "mp.dps = 50\n",
    "\n",
    "s = 0\n",
    "for k in range(30):\n",
    "    r = 1 / fac2(2*k + 1)\n",
    "    q = quad(lambda t: ((x - (mu + beta * t))) ** (2*k + 1) * t ** (-2-k) * exp(-delta ** 2 / 2 / t - gamma ** 2 / 2 * t -((x - (mu + beta * t)))**2/2/t), [0, inf])\n",
    "    s += r * q\n",
    "\n",
    "mp.dps = 15\n",
    "\n",
    "1 / 2 + C / sqrt(2 * pi) * s, float(mp_result)"
   ]
  },
  {
   "cell_type": "code",
   "execution_count": 7,
   "metadata": {},
   "outputs": [
    {
     "data": {
      "text/plain": [
       "(mpf('0.15043480950873078'), 0.1504348095087308)"
      ]
     },
     "execution_count": 7,
     "metadata": {},
     "output_type": "execute_result"
    }
   ],
   "source": [
    "C = delta / sqrt(2 * pi) * exp(delta * gamma + (x-mu) * beta)\n",
    "omega = sqrt(delta ** 2 + (x-mu) ** 2)\n",
    "\n",
    "mp.dps = 50\n",
    "\n",
    "s = 0\n",
    "for k in range(30):\n",
    "    r = 1 / fac2(2*k + 1)\n",
    "    q = quad(lambda t: ((x - (mu + beta * t))) ** (2*k + 1) * t ** (-2-k) * exp(-omega ** 2 / 2 / t - alpha ** 2 / 2 * t), [0, inf])\n",
    "    s += r * q\n",
    "\n",
    "mp.dps = 15\n",
    "\n",
    "1 / 2 + C / sqrt(2 * pi) * s, float(mp_result)"
   ]
  },
  {
   "cell_type": "code",
   "execution_count": 8,
   "metadata": {},
   "outputs": [
    {
     "data": {
      "text/plain": [
       "(mpf('0.15043480950873078'), 0.1504348095087308)"
      ]
     },
     "execution_count": 8,
     "metadata": {},
     "output_type": "execute_result"
    }
   ],
   "source": [
    "C = delta / sqrt(2 * pi) * exp(delta * gamma + (x-mu) * beta)\n",
    "omega = sqrt(delta ** 2 + (x-mu) ** 2)\n",
    "tp = (x-mu) / beta\n",
    "\n",
    "mp.dps = 50\n",
    "\n",
    "s = 0\n",
    "for k in range(30):\n",
    "    r = (-beta) ** (2*k + 1) / fac2(2*k + 1)\n",
    "    q = quad(lambda t: (t - tp) ** (2*k + 1) * t ** (-2-k) * exp(-omega ** 2 / 2 / t - alpha ** 2 / 2 * t), [0, inf])\n",
    "    s += r * q\n",
    "\n",
    "mp.dps = 15\n",
    "\n",
    "1 / 2 + C / sqrt(2 * pi) * s, float(mp_result)"
   ]
  },
  {
   "cell_type": "code",
   "execution_count": 13,
   "metadata": {},
   "outputs": [
    {
     "data": {
      "text/plain": [
       "(mpf('0.090605871582071171519504317269524972943876284550477708'),\n",
       " mpf('0.0095190836720931878321340534808978263428270241958347207'),\n",
       " mpf('0.0080329097735911110258654341754729294622922683724476544'))"
      ]
     },
     "execution_count": 13,
     "metadata": {},
     "output_type": "execute_result"
    }
   ],
   "source": [
    "mp.dps = 50\n",
    "\n",
    "a = (x-mu)\n",
    "b = -beta\n",
    "\n",
    "w = sqrt(delta ** 2 + (x-mu) ** 2)\n",
    "\n",
    "C = delta * exp(delta * gamma) / sqrt(2 * pi)\n",
    "\n",
    "z = gamma**2/2\n",
    "beta = w / gamma\n",
    "lam = -k/2 - 1/2\n",
    "\n",
    "if b > 0:\n",
    "    aa = -a\n",
    "    bb = -b\n",
    "else:\n",
    "    aa = a\n",
    "    bb = b\n",
    "\n",
    "s1 = 0\n",
    "N = 32\n",
    "for k in range(N):\n",
    "    r = (sqrt(2)*aa)**k / factorial(k)\n",
    "\n",
    "    # coefficient closed-form\n",
    "    lam = -k/2 - 1/2\n",
    "    c1 = mp.gamma((k+1)/2) * 2 * besselk(k/2 + 1/2, 2 * beta * z) * beta ** lam\n",
    "\n",
    "    tk = r * c1\n",
    "    # print(k, s1, float(tk))\n",
    "    s1 += tk\n",
    "\n",
    "s2 = mp.zero\n",
    "for j in range(N):\n",
    "    rc = (-1)**j / factorial(j) * 2 * besselk(j, 2 * beta * z) * (bb**2/2 * beta)**j\n",
    "    qc = quad(lambda t: t **(2*j) * exp(-t), [0, aa*bb]) * -sqrt(2) * (aa*bb)**(-2*j) / aa\n",
    "    tc = rc * qc\n",
    "    # print(j, s2, float(tc))\n",
    "    s2 += tc\n",
    "\n",
    "C * (s1 - s2) / (2 * sqrt(pi)), s1, s2"
   ]
  },
  {
   "cell_type": "code",
   "execution_count": 14,
   "metadata": {},
   "outputs": [],
   "source": [
    "r1 = C * (s1 - s2) / (2 * sqrt(pi))"
   ]
  },
  {
   "cell_type": "code",
   "execution_count": 15,
   "metadata": {},
   "outputs": [
    {
     "data": {
      "text/plain": [
       "0.3977067416912396"
      ]
     },
     "execution_count": 15,
     "metadata": {},
     "output_type": "execute_result"
    }
   ],
   "source": [
    "float(abs(r1 / mp_result - 1))"
   ]
  },
  {
   "cell_type": "code",
   "execution_count": 20,
   "metadata": {},
   "outputs": [
    {
     "data": {
      "text/plain": [
       "(mpf('1.7798337366693057035231134756783923501792257709384987'),\n",
       " mpf('4.21999114231405605159625226007589457167101641993479'),\n",
       " mpf('-8.4659113170732708292201598380785399166456558843550511'))"
      ]
     },
     "execution_count": 20,
     "metadata": {},
     "output_type": "execute_result"
    }
   ],
   "source": [
    "w = sqrt(delta ** 2 + (x-mu) ** 2)\n",
    "\n",
    "C = delta * exp(delta * gamma) / sqrt(2 * pi)\n",
    "\n",
    "z = gamma**2/2\n",
    "beta = w / gamma\n",
    "lam = -k/2 - 1/2\n",
    "\n",
    "if b > 0:\n",
    "    aa = -a\n",
    "    bb = -b\n",
    "else:\n",
    "    aa = a\n",
    "    bb = b\n",
    "\n",
    "s = 0\n",
    "s1 = 0\n",
    "s2 = 0\n",
    "for k in range(40):\n",
    "    r = (sqrt(2)*aa)**k / factorial(k)\n",
    "\n",
    "    # coefficient closed-form\n",
    "    lam = -k/2 - 1/2\n",
    "    c1 = mp.gamma((k+1)/2) * 2 * besselk(k/2 + 1/2, 2 * beta * z) * beta ** lam\n",
    "    # print('first term coeff', c1, t1)\n",
    "\n",
    "    # coefficient series\n",
    "    c2 = mp.zero\n",
    "    for j in range(50):\n",
    "        rc = (-1)**j / factorial(j) / ((k+1)/2 + j) * (b**2/2)**j \n",
    "        qc = besselk(j, 2 * beta * z) * beta ** j\n",
    "        tc = rc * qc\n",
    "        # print(f'   j={j}: {tc}')\n",
    "        c2 += tc\n",
    "    \n",
    "    c2 *= 2 * (b**2/2)**(k/2+1/2)\n",
    "    q = c1 - c2\n",
    "\n",
    "    tk = r * q\n",
    "    s1 += r * c1\n",
    "    s2 += r * c2\n",
    "    # print(k, tk)\n",
    "    s += tk\n",
    "\n",
    "C * s / (2 * sqrt(pi)), s1, s2"
   ]
  },
  {
   "cell_type": "code",
   "execution_count": 24,
   "metadata": {},
   "outputs": [
    {
     "data": {
      "text/plain": [
       "0.615156675134034"
      ]
     },
     "execution_count": 24,
     "metadata": {},
     "output_type": "execute_result"
    }
   ],
   "source": [
    "float(mp_result)"
   ]
  },
  {
   "cell_type": "code",
   "execution_count": null,
   "metadata": {},
   "outputs": [],
   "source": []
  }
 ],
 "metadata": {
  "kernelspec": {
   "display_name": "Python 3",
   "language": "python",
   "name": "python3"
  },
  "language_info": {
   "codemirror_mode": {
    "name": "ipython",
    "version": 3
   },
   "file_extension": ".py",
   "mimetype": "text/x-python",
   "name": "python",
   "nbconvert_exporter": "python",
   "pygments_lexer": "ipython3",
   "version": "3.7.4"
  }
 },
 "nbformat": 4,
 "nbformat_minor": 5
}
